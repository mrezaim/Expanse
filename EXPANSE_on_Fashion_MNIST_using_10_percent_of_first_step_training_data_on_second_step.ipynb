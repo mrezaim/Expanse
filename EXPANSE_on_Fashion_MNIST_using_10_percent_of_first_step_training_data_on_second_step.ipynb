{
  "cells": [
    {
      "cell_type": "markdown",
      "metadata": {
        "id": "view-in-github",
        "colab_type": "text"
      },
      "source": [
        "<a href=\"https://colab.research.google.com/github/mrezaim/Expanse/blob/main/EXPANSE_on_Fashion_MNIST_using_10_percent_of_first_step_training_data_on_second_step.ipynb\" target=\"_parent\"><img src=\"https://colab.research.google.com/assets/colab-badge.svg\" alt=\"Open In Colab\"/></a>"
      ]
    },
    {
      "cell_type": "markdown",
      "metadata": {
        "id": "PXu3tX-abR6t"
      },
      "source": [
        "This is the implimentation of verifying the effectiveness of EXPANSE on Fashion MNIST.\n",
        "\n",
        "The details of idea is available in the paper of: Iman, Mohammadreza, Khaled Rasheed, and Hamid Reza Arabnia. “EXPANSE, A Continual Deep Learning System; Research Proposal”, International Conference on Computational Science and Computational Intelligence, IEEE CPS/IEEE Xplore (to appear in April 2022)\n",
        "\n",
        "\n",
        "Some parts of the following codes are imported (with and without adjustments) from \"https://machinelearningmastery.com/how-to-develop-a-convolutional-neural-network-from-scratch-for-mnist-handwritten-digit-classification/\"\n",
        "\n",
        "\n",
        "---\n",
        "\n"
      ]
    },
    {
      "cell_type": "markdown",
      "metadata": {
        "id": "UtJjMtHB8M8D"
      },
      "source": [
        "Fashion MNIST datasets:\n",
        "@article{DBLP:journals/corr/abs-1708-07747,\n",
        "  author    = {Han Xiao and\n",
        "               Kashif Rasul and\n",
        "               Roland Vollgraf},\n",
        "  title     = {Fashion-MNIST: a Novel Image Dataset for Benchmarking Machine Learning\n",
        "               Algorithms},\n",
        "  journal   = {CoRR},\n",
        "  volume    = {abs/1708.07747},\n",
        "  year      = {2017},\n",
        "  url       = {http://arxiv.org/abs/1708.07747},\n",
        "  archivePrefix = {arXiv},\n",
        "  eprint    = {1708.07747},\n",
        "  timestamp = {Mon, 13 Aug 2018 16:47:27 +0200},\n",
        "  biburl    = {https://dblp.org/rec/bib/journals/corr/abs-1708-07747},\n",
        "  bibsource = {dblp computer science bibliography, https://dblp.org}\n",
        "}"
      ]
    },
    {
      "cell_type": "markdown",
      "metadata": {
        "id": "B0x0hWj4fV-V"
      },
      "source": [
        "First we import all the necessary libraries:\n",
        "\n",
        "---\n",
        "\n"
      ]
    },
    {
      "cell_type": "code",
      "execution_count": 1,
      "metadata": {
        "id": "HdcMY8dSffDI"
      },
      "outputs": [],
      "source": [
        "from google.colab import files\n",
        "import tensorflow as tf\n",
        "from tensorflow import keras\n",
        "from tensorflow.keras.datasets import mnist\n",
        "from matplotlib import pyplot as plt\n",
        "import gdown\n",
        "import cv2\n",
        "import numpy as np\n",
        "from tensorflow.keras.layers import Dense\n",
        "from tensorflow.keras.layers import Flatten\n",
        "from tensorflow.keras.optimizers import Adam\n",
        "from sklearn.model_selection import KFold\n",
        "from tensorflow.keras.utils import to_categorical\n",
        "from tensorflow.keras.models import Sequential\n",
        "from numpy import mean\n",
        "from numpy import std\n",
        "# to make the results of different run similar:\n",
        "from numpy.random import seed\n",
        "seed(1)\n",
        "from tensorflow.keras.utils import set_random_seed\n",
        "set_random_seed(2)"
      ]
    },
    {
      "cell_type": "markdown",
      "metadata": {
        "id": "wC8K9CozaadT"
      },
      "source": [
        "Download and import Train and Test data from MNIST:\n",
        "\n",
        "---\n",
        "\n"
      ]
    },
    {
      "cell_type": "code",
      "execution_count": 2,
      "metadata": {
        "id": "6W9JKfJll6rH",
        "colab": {
          "base_uri": "https://localhost:8080/"
        },
        "outputId": "9100ef92-3696-4091-8c48-7c35307b8d97"
      },
      "outputs": [
        {
          "output_type": "stream",
          "name": "stdout",
          "text": [
            "Downloading data from https://storage.googleapis.com/tensorflow/tf-keras-datasets/train-labels-idx1-ubyte.gz\n",
            "32768/29515 [=================================] - 0s 0us/step\n",
            "40960/29515 [=========================================] - 0s 0us/step\n",
            "Downloading data from https://storage.googleapis.com/tensorflow/tf-keras-datasets/train-images-idx3-ubyte.gz\n",
            "26427392/26421880 [==============================] - 0s 0us/step\n",
            "26435584/26421880 [==============================] - 0s 0us/step\n",
            "Downloading data from https://storage.googleapis.com/tensorflow/tf-keras-datasets/t10k-labels-idx1-ubyte.gz\n",
            "16384/5148 [===============================================================================================] - 0s 0us/step\n",
            "Downloading data from https://storage.googleapis.com/tensorflow/tf-keras-datasets/t10k-images-idx3-ubyte.gz\n",
            "4423680/4422102 [==============================] - 0s 0us/step\n",
            "4431872/4422102 [==============================] - 0s 0us/step\n"
          ]
        }
      ],
      "source": [
        "(trainX, trainy), (testX, testy) = tf.keras.datasets.fashion_mnist.load_data()\n",
        "assert trainX.shape == (60000, 28, 28)\n",
        "assert testX.shape == (10000, 28, 28)\n",
        "assert trainy.shape == (60000,)\n",
        "assert testy.shape == (10000,)"
      ]
    },
    {
      "cell_type": "markdown",
      "metadata": {
        "id": "OmV_aAILamrg"
      },
      "source": [
        "Visualize 9 samples of data from MNIST Train dataset:\n",
        "\n",
        "---\n",
        "\n"
      ]
    },
    {
      "cell_type": "markdown",
      "metadata": {
        "id": "TT1LTqOt-hSk"
      },
      "source": [
        "Label\tDescription\n",
        "0\tT-shirt/top\n",
        "1\tTrouser\n",
        "2\tPullover\n",
        "3\tDress\n",
        "4\tCoat\n",
        "5\tSandal\n",
        "6\tShirt\n",
        "7\tSneaker\n",
        "8\tBag\n",
        "9\tAnkle boot"
      ]
    },
    {
      "cell_type": "code",
      "execution_count": null,
      "metadata": {
        "colab": {
          "base_uri": "https://localhost:8080/",
          "height": 285
        },
        "id": "ST2DRm1omUwc",
        "outputId": "6d0b19db-c0e8-4e1e-f5c4-5da55754bbe7"
      },
      "outputs": [
        {
          "output_type": "stream",
          "name": "stdout",
          "text": [
            "6 3 1 5 4 6 7 5 5 "
          ]
        },
        {
          "output_type": "display_data",
          "data": {
            "text/plain": [
              "<Figure size 432x288 with 9 Axes>"
            ],
            "image/png": "[encoded data removed]"
          },
          "metadata": {
            "needs_background": "light"
          }
        }
      ],
      "source": [
        "j=0\n",
        "for i in range(113,122):\n",
        "  plt.subplot(330 + 1 + j)\n",
        "  j += 1\n",
        "  plt.imshow(trainX[i], cmap=plt.get_cmap('gray'))\n",
        "  print (trainy[i], end =\" \")\n",
        "plt.show()"
      ]
    },
    {
      "cell_type": "markdown",
      "metadata": {
        "id": "OnNB0vONVayE"
      },
      "source": [
        "Manually selectng exemplary data:"
      ]
    },
    {
      "cell_type": "code",
      "execution_count": null,
      "metadata": {
        "id": "ymQph8nEGwkD"
      },
      "outputs": [],
      "source": [
        "i = 10000\n",
        "j = 0\n",
        "while j < 100 :\n",
        "  if trainy[i] == 9:\n",
        "    plt.imshow(trainX[i], cmap=plt.get_cmap('gray'))\n",
        "    print (i,end =\" \")\n",
        "    plt.show()\n",
        "    j += 1\n",
        "  i += 1\n"
      ]
    },
    {
      "cell_type": "code",
      "execution_count": 3,
      "metadata": {
        "id": "Zs4B0RZGOSkk"
      },
      "outputs": [],
      "source": [
        "g1 = [10027,\t10079,\t10075,\t10159,\t10193,\t10363,\t10368,\t10292,\t10314,\t10351,\t10363,\t10396,\t10458,\t10561,\t10574,\t10629,\t10699,\t10844,\t10012,\t10026,\t10063,\t10109,\t10148,\t10185,\t10246,\t10264,\t10311,\t10335,\t10380,\t10386,\t10395,\t10410,\t10501,\t10512,\t10513,\t10530,\t10029,\t10034,\t10035,\t10118,\t10141,\t10211,\t10261,\t10286,\t10347,\t10408,\t10449,\t10450,\t10481,\t10523,\t10570,\t10618,\t10713,\t10762,\t10009,\t10013,\t10018,\t10028,\t10067,\t10089,\t10136,\t10170,\t10186,\t10283,\t10371,\t10403,\t10431,\t10459,\t10483,\t10500,\t10506,\t10534,\t10024,\t10091,\t10115,\t10188,\t10219,\t10236,\t10267,\t10329,\t10358,\t10478,\t10484,\t10515,\t10549,\t10600,\t10774,\t10967,\t11005,\t11042,\t10027,\t10079,\t10075,\t10159,\t10193,\t10363,\t10368,\t10292,\t10314,\t10351,\t10363,\t10396,\t10458,\t10561,\t10574,\t10629,\t10699,\t10844,\t10012,\t10026,\t10063,\t10109,\t10148,\t10185,\t10246,\t10264,\t10311,\t10335,\t10380,\t10386,\t10395,\t10410,\t10501,\t10512,\t10513,\t10530,\t10029,\t10034,\t10035,\t10118,\t10141,\t10211,\t10261,\t10286,\t10347,\t10408,\t10449,\t10450,\t10481,\t10523,\t10570,\t10618,\t10713,\t10762,\t10009,\t10013,\t10018,\t10028,\t10067,\t10089,\t10136,\t10170,\t10186,\t10283,\t10371,\t10403,\t10431,\t10459,\t10483,\t10500,\t10506,\t10534,\t10024,\t10091,\t10115,\t10188,\t10219,\t10236,\t10267,\t10329,\t10358,\t10478,\t10484,\t10515,\t10549,\t10600,\t10774,\t10967,\t11005,\t11042]\n",
        "\n",
        "g2 = [10010,\t10025,\t10058,\t10073,\t10083,\t10123,\t10128,\t10164,\t10165,\t10278,\t10288,\t10295,\t10350,\t10382,\t10442,\t10469,\t10488,\t10626,\t10047,\t10090,\t10106,\t10131,\t10150,\t10163,\t10166,\t10198,\t10221,\t10276,\t10471,\t10619,\t10621,\t10622,\t10694,\t10751,\t10869,\t10888,\t10005,\t10049,\t10051,\t10102,\t10114,\t10213,\t10232,\t10342,\t10405,\t10441,\t10532,\t10543,\t10572,\t10589,\t10603,\t10657,\t10680,\t10710,\t10060,\t10071,\t10081,\t10095,\t10152,\t10162,\t10174,\t10197,\t10271,\t10362,\t10369,\t10384,\t10476,\t10487,\t10509,\t10658,\t10860,\t10871,\t10040,\t10054,\t10059,\t10130,\t10144,\t10171,\t10182,\t10203,\t10212,\t10254,\t10263,\t10285,\t10313,\t10522,\t10616,\t10679,\t10606,\t10525,\t10010,\t10025,\t10058,\t10073,\t10083,\t10123,\t10128,\t10164,\t10165,\t10278,\t10288,\t10295,\t10350,\t10382,\t10442,\t10469,\t10488,\t10626,\t10047,\t10090,\t10106,\t10131,\t10150,\t10163,\t10166,\t10198,\t10221,\t10276,\t10471,\t10619,\t10621,\t10622,\t10694,\t10751,\t10869,\t10888,\t10005,\t10049,\t10051,\t10102,\t10114,\t10213,\t10232,\t10342,\t10405,\t10441,\t10532,\t10543,\t10572,\t10589,\t10603,\t10657,\t10680,\t10710,\t10060,\t10071,\t10081,\t10095,\t10152,\t10162,\t10174,\t10197,\t10271,\t10362,\t10369,\t10384,\t10476,\t10487,\t10509,\t10658,\t10860,\t10871,\t10040,\t10054,\t10059,\t10130,\t10144,\t10171,\t10182,\t10203,\t10212,\t10254,\t10263,\t10285,\t10313,\t10522,\t10616,\t10679,\t10606,\t10525]\n"
      ]
    },
    {
      "cell_type": "code",
      "execution_count": 4,
      "metadata": {
        "id": "yKgywmeSl1au"
      },
      "outputs": [],
      "source": [
        "from numpy.core.multiarray import concatenate\n",
        "train_per_x_b1 = np.zeros(shape = ( 180, 28, 28 ), dtype=np.uint8)\n",
        "train_per_y_b1 = np.zeros(shape = ( 180), dtype=np.uint8)\n",
        "train_per_x_b2 = np.zeros(shape = ( 180, 28, 28 ), dtype=np.uint8)\n",
        "train_per_y_b2 = np.zeros(shape = ( 180), dtype=np.uint8)\n",
        "i = 0\n",
        "for a in g1:\n",
        "  train_per_x_b1[i] = trainX[a]\n",
        "  train_per_y_b1[i] = trainy[a]\n",
        "  i += 1\n",
        "i = 0\n",
        "for a in g2:\n",
        "  train_per_x_b2[i] = trainX[a]\n",
        "  train_per_y_b2[i] = trainy[a]\n",
        "  i += 1\n",
        "train_per_x = np. concatenate((train_per_x_b1, train_per_x_b2), axis=0)\n",
        "train_per_y = np. concatenate((train_per_y_b1, train_per_y_b2), axis=0)"
      ]
    },
    {
      "cell_type": "markdown",
      "metadata": {
        "id": "1yWKdFELnY3i"
      },
      "source": [
        "Dividing the train set to two batches"
      ]
    },
    {
      "cell_type": "code",
      "execution_count": 5,
      "metadata": {
        "colab": {
          "base_uri": "https://localhost:8080/"
        },
        "id": "m46UpH4inAYf",
        "outputId": "95e0ec90-f868-4df8-855b-c68194f7959e"
      },
      "outputs": [
        {
          "output_type": "stream",
          "name": "stdout",
          "text": [
            "30000\n",
            "30000\n"
          ]
        }
      ],
      "source": [
        "train_x_b1 = np.zeros(shape = ( 30000, 28, 28 ), dtype=np.uint8)\n",
        "train_y_b1 = np.zeros(shape = ( 30000 ), dtype=np.uint8)\n",
        "train_x_b2 = np.zeros(shape = ( 30000, 28, 28 ), dtype=np.uint8)\n",
        "train_y_b2 = np.zeros(shape = ( 30000 ), dtype=np.uint8)\n",
        "i=0\n",
        "j=0\n",
        "k=0\n",
        "for i in (range(len(trainy))):\n",
        "  if (trainy[i] == 0 or trainy[i] == 1 or trainy[i] == 2 or trainy[i] == 3 or trainy[i] == 4) :\n",
        "    train_x_b1[j] = trainX[i]\n",
        "    train_y_b1[j] = trainy[i]\n",
        "    j += 1\n",
        "  else:\n",
        "    train_x_b2[k] = trainX[i]\n",
        "    train_y_b2[k] = trainy[i]\n",
        "    k += 1\n",
        "\n",
        "print (len(train_y_b1))\n",
        "print (len(train_y_b2))"
      ]
    },
    {
      "cell_type": "markdown",
      "metadata": {
        "id": "JUnk4V7cdsRg"
      },
      "source": [
        "Reshape datasets to prepare for the model\n",
        "\n",
        "---\n",
        "\n"
      ]
    },
    {
      "cell_type": "code",
      "execution_count": 6,
      "metadata": {
        "id": "WsDJ6KGr8453"
      },
      "outputs": [],
      "source": [
        "trainX = trainX.reshape((trainX.shape[0], 28, 28, 1))\n",
        "train_x_b1 = train_x_b1.reshape((train_x_b1.shape[0], 28, 28, 1))\n",
        "train_x_b2 = train_x_b2.reshape((train_x_b2.shape[0], 28, 28, 1))\n",
        "testX = testX.reshape((testX.shape[0], 28, 28, 1))\n",
        "\n",
        "train_per_x_b1 = train_per_x_b1.reshape((train_per_x_b1.shape[0], 28, 28, 1))\n",
        "train_per_x_b2 = train_per_x_b2.reshape((train_per_x_b2.shape[0], 28, 28, 1))\n",
        "train_per_x = train_per_x.reshape((train_per_x.shape[0], 28, 28, 1))"
      ]
    },
    {
      "cell_type": "code",
      "execution_count": 7,
      "metadata": {
        "id": "0O5m-18ioqY5"
      },
      "outputs": [],
      "source": [
        "train_mixX_b3 = np. concatenate((train_per_x,train_x_b1[:3000],train_x_b2), axis=0)\n",
        "train_mixy_b3 = np. concatenate((train_per_y,train_y_b1[:3000],train_y_b2), axis=0)"
      ]
    },
    {
      "cell_type": "markdown",
      "metadata": {
        "id": "tPdgdNxqd-7Q"
      },
      "source": [
        "Convert the label datasets to categorical since there are 10 possible target categories of digits:\n",
        "\n",
        "---\n",
        "\n"
      ]
    },
    {
      "cell_type": "code",
      "execution_count": 8,
      "metadata": {
        "id": "txYheBmY_LWy"
      },
      "outputs": [],
      "source": [
        "# one hot encode target values\n",
        "trainy = tf.keras.utils.to_categorical(trainy)\n",
        "train_y_b1 = tf.keras.utils.to_categorical(train_y_b1)\n",
        "train_y_b2 = tf.keras.utils.to_categorical(train_y_b2)\n",
        "train_per_y_b1 = tf.keras.utils.to_categorical(train_per_y_b1)\n",
        "train_per_y_b2 = tf.keras.utils.to_categorical(train_per_y_b2)\n",
        "testy = tf.keras.utils.to_categorical(testy)\n",
        "\n",
        "train_per_y = tf.keras.utils.to_categorical(train_per_y)\n",
        "train_mixy_b3 = tf.keras.utils.to_categorical(train_mixy_b3)"
      ]
    },
    {
      "cell_type": "markdown",
      "metadata": {
        "id": "RB8x54creRp9"
      },
      "source": [
        "Convert the datasets of images from 8-bit grayscale pixels values to float values and normalize the values to range of 0 and 1:\n",
        "\n",
        "---\n",
        "\n"
      ]
    },
    {
      "cell_type": "code",
      "execution_count": 9,
      "metadata": {
        "id": "vrV94g5cE9kW"
      },
      "outputs": [],
      "source": [
        "# convert from integers to floats\n",
        "trainX = trainX.astype('float32')\n",
        "train_x_b1 = train_x_b1.astype('float32')\n",
        "train_x_b2 = train_x_b2.astype('float32')\n",
        "test_X = testX.astype('float32')\n",
        "train_mixX_b3 = train_mixX_b3.astype('float32')\n",
        "# normalize to range 0-1\n",
        "trainX = trainX / 255.0\n",
        "train_x_b1 = train_x_b1 / 255.0\n",
        "train_x_b2 = train_x_b2 / 255.0\n",
        "testX = testX / 255.0\n",
        "train_mixX_b3 = train_mixX_b3 / 255.0\n",
        "\n",
        "# convert from integers to floats\n",
        "train_per_x = train_per_x.astype('float32')\n",
        "train_per_x_b1 = train_per_x_b1.astype('float32')\n",
        "train_per_x_b2 = train_per_x_b2.astype('float32')\n",
        "# normalize to range 0-1\n",
        "train_per_x = train_per_x / 255.0\n",
        "train_per_x_b1 = train_per_x_b1 / 255.0\n",
        "train_per_x_b2 = train_per_x_b2 / 255.0"
      ]
    },
    {
      "cell_type": "markdown",
      "metadata": {
        "id": "aFHkLGH9i6wE"
      },
      "source": [
        "Defining the small and final model. Here we are using a dense relu based model with Adam optimizer. We have tried larger networks (e.g., 1200,600,10) but the result did not improve. So we are using a smaller netwrok for less running time.\n",
        "\n",
        "---\n",
        "\n"
      ]
    },
    {
      "cell_type": "code",
      "execution_count": 10,
      "metadata": {
        "id": "P11lGRmMU7tR"
      },
      "outputs": [],
      "source": [
        "model_small = Sequential()\n",
        "model_small.add(Flatten())\n",
        "model_small.add(Dense(300, activation='relu', kernel_initializer='random_normal', bias_initializer='zeros'))\n",
        "model_small.add(Dense(200, activation='relu', kernel_initializer='random_normal', bias_initializer='zeros'))\n",
        "model_small.add(Dense(5, activation='softmax'))\n",
        "# compile model\n",
        "opt = Adam(0.01)\n",
        "model_small.compile(optimizer=opt, loss='categorical_crossentropy', metrics=['accuracy'])\n",
        "\n",
        "model_final = Sequential()\n",
        "model_final.add(Flatten())\n",
        "model_final.add(Dense(500, activation='relu', kernel_initializer='random_normal', bias_initializer='zeros'))\n",
        "model_final.add(Dense(300, activation='relu', kernel_initializer='random_normal', bias_initializer='zeros'))\n",
        "model_final.add(Dense(10, activation='softmax'))\n",
        "# compile model\n",
        "opt = Adam(0.002)\n",
        "model_final.compile(optimizer=opt, loss='categorical_crossentropy', metrics=['accuracy'])\n"
      ]
    },
    {
      "cell_type": "markdown",
      "metadata": {
        "id": "HWKS-dKsjXcE"
      },
      "source": [
        "The function to run the model on given dataset and parameters using k-fold cross-validation:\n",
        "\n",
        "---\n",
        "\n"
      ]
    },
    {
      "cell_type": "code",
      "execution_count": 11,
      "metadata": {
        "id": "nRa7NJVrIxEM"
      },
      "outputs": [],
      "source": [
        "# evaluate a model using k-fold cross-validation\n",
        "def evaluate_model(model, dataX, dataY, n_folds, n_epochs, n_batch_size):\n",
        "\tscores, histories = list(), list()\n",
        "\t# prepare cross validation\n",
        "\tkfold = KFold(n_folds, shuffle=True, random_state=1)\n",
        "\t# enumerate splits\n",
        "\tfor train_ix, test_ix in kfold.split(dataX):\n",
        "\t\t# select rows for train and test\n",
        "\t\ttrainX, trainY, testX, testY = dataX[train_ix], dataY[train_ix], dataX[test_ix], dataY[test_ix]\n",
        "\t\t# fit model\n",
        "\t\thistory = model.fit(trainX, trainY, epochs=n_epochs, batch_size=n_batch_size, validation_data=(testX, testY))\n",
        "\t\t# evaluate model\n",
        "\t\t_, acc = model.evaluate(testX, testY)\n",
        "\t\tprint('> %.3f' % (acc * 100.0))\n",
        "\t\t# stores scores\n",
        "\t\tscores.append(acc)\n",
        "\t\thistories.append(history)\n",
        "\treturn scores, histories, model"
      ]
    },
    {
      "cell_type": "code",
      "execution_count": 12,
      "metadata": {
        "id": "0qGiMLjmJPIV"
      },
      "outputs": [],
      "source": [
        "# plot diagnostic learning curves\n",
        "def summarize_diagnostics(histories):\n",
        "  for i in range(len(histories)):\n",
        "      # plot loss\n",
        "      plt.subplot(2, 2, 1)\n",
        "      plt.title('Cross Entropy Loss')\n",
        "      plt.plot(histories[i].history['loss'], color='blue', label='train')\n",
        "      plt.plot(histories[i].history['val_loss'], color='orange', label='test')\n",
        "      # plot accuracy\n",
        "      plt.subplot(2, 2, 2)\n",
        "      plt.title('Classification Accuracy')\n",
        "      plt.plot(histories[i].history['accuracy'], color='blue', label='train')\n",
        "      plt.plot(histories[i].history['val_accuracy'], color='orange', label='test')\n",
        "  plt.show()\n",
        " \n",
        "# summarize model performance\n",
        "def summarize_performance(scores):\n",
        "\t# print summary\n",
        "\tprint('Accuracy: mean=%.3f std=%.3f, n=%d' % (mean(scores)*100, std(scores)*100, len(scores)))\n",
        "\t# box and whisker plots of results\n",
        "\tplt.boxplot(scores)\n",
        "\tplt.show()"
      ]
    },
    {
      "cell_type": "markdown",
      "metadata": {
        "id": "boDLm206jnlk"
      },
      "source": [
        "Creating the base random intitialized model and save it to reuse for the baseline. We want to use same random weights for comparing different methods fairly:\n",
        "\n",
        "---\n",
        "\n"
      ]
    },
    {
      "cell_type": "code",
      "execution_count": 13,
      "metadata": {
        "colab": {
          "base_uri": "https://localhost:8080/"
        },
        "id": "X74LURKGIRBI",
        "outputId": "1f88fb50-783a-411e-83c3-a11c498e4327"
      },
      "outputs": [
        {
          "output_type": "stream",
          "name": "stdout",
          "text": [
            "INFO:tensorflow:Assets written to: random_init_small/assets\n",
            "INFO:tensorflow:Assets written to: random_init_final/assets\n"
          ]
        }
      ],
      "source": [
        "model_small.build((None, 28, 28, 1))\n",
        "model_small.save(\"random_init_small\")\n",
        "model_final.build((None, 28, 28, 1))\n",
        "model_final.save(\"random_init_final\")"
      ]
    },
    {
      "cell_type": "markdown",
      "metadata": {
        "id": "aYK1WqLQpQUq"
      },
      "source": [
        "Creating a list to save each run performance \n",
        "\n",
        "---\n",
        "\n"
      ]
    },
    {
      "cell_type": "code",
      "execution_count": 14,
      "metadata": {
        "id": "Gt_1k528olg2"
      },
      "outputs": [],
      "source": [
        "results = ([])"
      ]
    },
    {
      "cell_type": "code",
      "execution_count": null,
      "metadata": {
        "colab": {
          "base_uri": "https://localhost:8080/"
        },
        "id": "GKCco2NU0XPy",
        "outputId": "1adc1b93-87f3-477b-b479-57bad39da2f0"
      },
      "outputs": [
        {
          "output_type": "stream",
          "name": "stdout",
          "text": [
            "Model: \"sequential\"\n",
            "_________________________________________________________________\n",
            " Layer (type)                Output Shape              Param #   \n",
            "=================================================================\n",
            " flatten (Flatten)           (None, 784)               0         \n",
            "                                                                 \n",
            " dense (Dense)               (None, 300)               235500    \n",
            "                                                                 \n",
            " dense_1 (Dense)             (None, 200)               60200     \n",
            "                                                                 \n",
            " dense_2 (Dense)             (None, 5)                 1005      \n",
            "                                                                 \n",
            "=================================================================\n",
            "Total params: 296,705\n",
            "Trainable params: 296,705\n",
            "Non-trainable params: 0\n",
            "_________________________________________________________________\n"
          ]
        }
      ],
      "source": [
        "model_small.summary()"
      ]
    },
    {
      "cell_type": "code",
      "source": [
        "model = tf.keras.models.load_model(\"random_init_final\")\n",
        "from keras import backend as K\n",
        "K.set_value(model.optimizer.learning_rate, 0.0001)\n",
        "scores, histories, model = evaluate_model(model, trainX, trainy,10,6,144)\n",
        "\n",
        "\n",
        "\n",
        "# learning curves\n",
        "summarize_diagnostics(histories)\n",
        "# summarize estimated performance\n",
        "summarize_performance(scores)\n",
        "desc = \"Random initialized on F-MNIST with LR=0.0001 & epoch=6\"\n",
        "results.append([desc,round(model.evaluate(train_per_x, train_per_y, verbose=0)[1]*100,3),round(model.evaluate(trainX, trainy, verbose=0)[1]*100,3),round(model.evaluate(testX, testy, verbose=0)[1]*100,3)])\n",
        "print (results[len(results)-1])"
      ],
      "metadata": {
        "id": "jh8CcC6ypW5-"
      },
      "execution_count": null,
      "outputs": []
    },
    {
      "cell_type": "code",
      "source": [
        "model = tf.keras.models.load_model(\"random_init_final\")\n",
        "from keras import backend as K\n",
        "K.set_value(model.optimizer.learning_rate, 0.0001)\n",
        "scores, histories, model = evaluate_model(model, trainX, trainy,10,7,144)\n",
        "\n",
        "\n",
        "\n",
        "# learning curves\n",
        "summarize_diagnostics(histories)\n",
        "# summarize estimated performance\n",
        "summarize_performance(scores)\n",
        "desc = \"Random initialized on F-MNIST with LR=0.0001 & epoch=7\"\n",
        "results.append([desc,round(model.evaluate(train_per_x, train_per_y, verbose=0)[1]*100,3),round(model.evaluate(trainX, trainy, verbose=0)[1]*100,3),round(model.evaluate(testX, testy, verbose=0)[1]*100,3)])\n",
        "print (results[len(results)-1])"
      ],
      "metadata": {
        "id": "wPFjfUKtpZmu"
      },
      "execution_count": null,
      "outputs": []
    },
    {
      "cell_type": "code",
      "source": [
        "model = tf.keras.models.load_model(\"random_init_final\")\n",
        "from keras import backend as K\n",
        "K.set_value(model.optimizer.learning_rate, 0.0001)\n",
        "scores, histories, model = evaluate_model(model, trainX, trainy,10,8,144)\n",
        "\n",
        "\n",
        "\n",
        "# learning curves\n",
        "summarize_diagnostics(histories)\n",
        "# summarize estimated performance\n",
        "summarize_performance(scores)\n",
        "desc = \"Random initialized on F-MNIST with LR=0.0001 & epoch=8\"\n",
        "results.append([desc,round(model.evaluate(train_per_x, train_per_y, verbose=0)[1]*100,3),round(model.evaluate(trainX, trainy, verbose=0)[1]*100,3),round(model.evaluate(testX, testy, verbose=0)[1]*100,3)])\n",
        "print (results[len(results)-1])"
      ],
      "metadata": {
        "id": "aNXnl3sSpdOx"
      },
      "execution_count": null,
      "outputs": []
    },
    {
      "cell_type": "markdown",
      "metadata": {
        "id": "bWFjubb8MDrs"
      },
      "source": [
        "EXPANSE:"
      ]
    },
    {
      "cell_type": "code",
      "execution_count": 15,
      "metadata": {
        "colab": {
          "base_uri": "https://localhost:8080/",
          "height": 1000
        },
        "id": "E8ZEbS3lb3gs",
        "outputId": "614b54c4-b429-4cb4-ef73-e1d62bd9f49c"
      },
      "outputs": [
        {
          "output_type": "stream",
          "name": "stdout",
          "text": [
            "Epoch 1/12\n",
            "2/2 [==============================] - 1s 205ms/step - loss: 1.6039 - accuracy: 0.3519 - val_loss: 1.3916 - val_accuracy: 0.3889\n",
            "Epoch 2/12\n",
            "2/2 [==============================] - 0s 30ms/step - loss: 1.0290 - accuracy: 0.7346 - val_loss: 0.8757 - val_accuracy: 0.8333\n",
            "Epoch 3/12\n",
            "2/2 [==============================] - 0s 29ms/step - loss: 0.6758 - accuracy: 0.8951 - val_loss: 0.4878 - val_accuracy: 1.0000\n",
            "Epoch 4/12\n",
            "2/2 [==============================] - 0s 30ms/step - loss: 0.4214 - accuracy: 0.9383 - val_loss: 0.3689 - val_accuracy: 1.0000\n",
            "Epoch 5/12\n",
            "2/2 [==============================] - 0s 35ms/step - loss: 0.2898 - accuracy: 0.9444 - val_loss: 0.2422 - val_accuracy: 1.0000\n",
            "Epoch 6/12\n",
            "2/2 [==============================] - 0s 28ms/step - loss: 0.1940 - accuracy: 0.9568 - val_loss: 0.1352 - val_accuracy: 1.0000\n",
            "Epoch 7/12\n",
            "2/2 [==============================] - 0s 29ms/step - loss: 0.1490 - accuracy: 0.9383 - val_loss: 0.1164 - val_accuracy: 1.0000\n",
            "Epoch 8/12\n",
            "2/2 [==============================] - 0s 32ms/step - loss: 0.1173 - accuracy: 0.9691 - val_loss: 0.1330 - val_accuracy: 1.0000\n",
            "Epoch 9/12\n",
            "2/2 [==============================] - 0s 32ms/step - loss: 0.1033 - accuracy: 0.9691 - val_loss: 0.0920 - val_accuracy: 1.0000\n",
            "Epoch 10/12\n",
            "2/2 [==============================] - 0s 30ms/step - loss: 0.0708 - accuracy: 0.9753 - val_loss: 0.0989 - val_accuracy: 1.0000\n",
            "Epoch 11/12\n",
            "2/2 [==============================] - 0s 29ms/step - loss: 0.0632 - accuracy: 0.9753 - val_loss: 0.0618 - val_accuracy: 1.0000\n",
            "Epoch 12/12\n",
            "2/2 [==============================] - 0s 35ms/step - loss: 0.0465 - accuracy: 1.0000 - val_loss: 0.0322 - val_accuracy: 1.0000\n",
            "1/1 [==============================] - 0s 24ms/step - loss: 0.0322 - accuracy: 1.0000\n",
            "> 100.000\n",
            "Epoch 1/12\n",
            "2/2 [==============================] - 0s 68ms/step - loss: 0.0536 - accuracy: 0.9877 - val_loss: 0.0071 - val_accuracy: 1.0000\n",
            "Epoch 2/12\n",
            "2/2 [==============================] - 0s 38ms/step - loss: 0.0350 - accuracy: 1.0000 - val_loss: 0.0099 - val_accuracy: 1.0000\n",
            "Epoch 3/12\n",
            "2/2 [==============================] - 0s 38ms/step - loss: 0.0318 - accuracy: 1.0000 - val_loss: 0.0041 - val_accuracy: 1.0000\n",
            "Epoch 4/12\n",
            "2/2 [==============================] - 0s 33ms/step - loss: 0.0245 - accuracy: 1.0000 - val_loss: 0.0031 - val_accuracy: 1.0000\n",
            "Epoch 5/12\n",
            "2/2 [==============================] - 0s 37ms/step - loss: 0.0216 - accuracy: 1.0000 - val_loss: 0.0038 - val_accuracy: 1.0000\n",
            "Epoch 6/12\n",
            "2/2 [==============================] - 0s 33ms/step - loss: 0.0168 - accuracy: 1.0000 - val_loss: 0.0038 - val_accuracy: 1.0000\n",
            "Epoch 7/12\n",
            "2/2 [==============================] - 0s 34ms/step - loss: 0.0142 - accuracy: 1.0000 - val_loss: 0.0033 - val_accuracy: 1.0000\n",
            "Epoch 8/12\n",
            "2/2 [==============================] - 0s 34ms/step - loss: 0.0127 - accuracy: 1.0000 - val_loss: 0.0028 - val_accuracy: 1.0000\n",
            "Epoch 9/12\n",
            "2/2 [==============================] - 0s 53ms/step - loss: 0.0109 - accuracy: 1.0000 - val_loss: 0.0024 - val_accuracy: 1.0000\n",
            "Epoch 10/12\n",
            "2/2 [==============================] - 0s 35ms/step - loss: 0.0095 - accuracy: 1.0000 - val_loss: 0.0024 - val_accuracy: 1.0000\n",
            "Epoch 11/12\n",
            "2/2 [==============================] - 0s 46ms/step - loss: 0.0084 - accuracy: 1.0000 - val_loss: 0.0025 - val_accuracy: 1.0000\n",
            "Epoch 12/12\n",
            "2/2 [==============================] - 0s 36ms/step - loss: 0.0076 - accuracy: 1.0000 - val_loss: 0.0023 - val_accuracy: 1.0000\n",
            "1/1 [==============================] - 0s 22ms/step - loss: 0.0023 - accuracy: 1.0000\n",
            "> 100.000\n",
            "Epoch 1/12\n",
            "2/2 [==============================] - 0s 64ms/step - loss: 0.0065 - accuracy: 1.0000 - val_loss: 0.0063 - val_accuracy: 1.0000\n",
            "Epoch 2/12\n",
            "2/2 [==============================] - 0s 31ms/step - loss: 0.0057 - accuracy: 1.0000 - val_loss: 0.0065 - val_accuracy: 1.0000\n",
            "Epoch 3/12\n",
            "2/2 [==============================] - 0s 31ms/step - loss: 0.0053 - accuracy: 1.0000 - val_loss: 0.0069 - val_accuracy: 1.0000\n",
            "Epoch 4/12\n",
            "2/2 [==============================] - 0s 34ms/step - loss: 0.0051 - accuracy: 1.0000 - val_loss: 0.0066 - val_accuracy: 1.0000\n",
            "Epoch 5/12\n",
            "2/2 [==============================] - 0s 32ms/step - loss: 0.0045 - accuracy: 1.0000 - val_loss: 0.0046 - val_accuracy: 1.0000\n",
            "Epoch 6/12\n",
            "2/2 [==============================] - 0s 30ms/step - loss: 0.0043 - accuracy: 1.0000 - val_loss: 0.0028 - val_accuracy: 1.0000\n",
            "Epoch 7/12\n",
            "2/2 [==============================] - 0s 33ms/step - loss: 0.0042 - accuracy: 1.0000 - val_loss: 0.0026 - val_accuracy: 1.0000\n",
            "Epoch 8/12\n",
            "2/2 [==============================] - 0s 30ms/step - loss: 0.0038 - accuracy: 1.0000 - val_loss: 0.0034 - val_accuracy: 1.0000\n",
            "Epoch 9/12\n",
            "2/2 [==============================] - 0s 29ms/step - loss: 0.0036 - accuracy: 1.0000 - val_loss: 0.0050 - val_accuracy: 1.0000\n",
            "Epoch 10/12\n",
            "2/2 [==============================] - 0s 34ms/step - loss: 0.0034 - accuracy: 1.0000 - val_loss: 0.0045 - val_accuracy: 1.0000\n",
            "Epoch 11/12\n",
            "2/2 [==============================] - 0s 37ms/step - loss: 0.0032 - accuracy: 1.0000 - val_loss: 0.0032 - val_accuracy: 1.0000\n",
            "Epoch 12/12\n",
            "2/2 [==============================] - 0s 30ms/step - loss: 0.0029 - accuracy: 1.0000 - val_loss: 0.0025 - val_accuracy: 1.0000\n",
            "1/1 [==============================] - 0s 21ms/step - loss: 0.0025 - accuracy: 1.0000\n",
            "> 100.000\n",
            "Epoch 1/12\n",
            "2/2 [==============================] - 0s 64ms/step - loss: 0.0025 - accuracy: 1.0000 - val_loss: 0.0050 - val_accuracy: 1.0000\n",
            "Epoch 2/12\n",
            "2/2 [==============================] - 0s 28ms/step - loss: 0.0024 - accuracy: 1.0000 - val_loss: 0.0049 - val_accuracy: 1.0000\n",
            "Epoch 3/12\n",
            "2/2 [==============================] - 0s 31ms/step - loss: 0.0023 - accuracy: 1.0000 - val_loss: 0.0049 - val_accuracy: 1.0000\n",
            "Epoch 4/12\n",
            "2/2 [==============================] - 0s 42ms/step - loss: 0.0022 - accuracy: 1.0000 - val_loss: 0.0050 - val_accuracy: 1.0000\n",
            "Epoch 5/12\n",
            "2/2 [==============================] - 0s 35ms/step - loss: 0.0021 - accuracy: 1.0000 - val_loss: 0.0050 - val_accuracy: 1.0000\n",
            "Epoch 6/12\n",
            "2/2 [==============================] - 0s 59ms/step - loss: 0.0020 - accuracy: 1.0000 - val_loss: 0.0046 - val_accuracy: 1.0000\n",
            "Epoch 7/12\n",
            "2/2 [==============================] - 0s 34ms/step - loss: 0.0019 - accuracy: 1.0000 - val_loss: 0.0044 - val_accuracy: 1.0000\n",
            "Epoch 8/12\n",
            "2/2 [==============================] - 0s 35ms/step - loss: 0.0019 - accuracy: 1.0000 - val_loss: 0.0043 - val_accuracy: 1.0000\n",
            "Epoch 9/12\n",
            "2/2 [==============================] - 0s 38ms/step - loss: 0.0018 - accuracy: 1.0000 - val_loss: 0.0042 - val_accuracy: 1.0000\n",
            "Epoch 10/12\n",
            "2/2 [==============================] - 0s 34ms/step - loss: 0.0017 - accuracy: 1.0000 - val_loss: 0.0042 - val_accuracy: 1.0000\n",
            "Epoch 11/12\n",
            "2/2 [==============================] - 0s 34ms/step - loss: 0.0017 - accuracy: 1.0000 - val_loss: 0.0041 - val_accuracy: 1.0000\n",
            "Epoch 12/12\n",
            "2/2 [==============================] - 0s 34ms/step - loss: 0.0016 - accuracy: 1.0000 - val_loss: 0.0041 - val_accuracy: 1.0000\n",
            "1/1 [==============================] - 0s 57ms/step - loss: 0.0041 - accuracy: 1.0000\n",
            "> 100.000\n",
            "Epoch 1/12\n",
            "2/2 [==============================] - 0s 142ms/step - loss: 0.0017 - accuracy: 1.0000 - val_loss: 0.0028 - val_accuracy: 1.0000\n",
            "Epoch 2/12\n",
            "2/2 [==============================] - 0s 62ms/step - loss: 0.0017 - accuracy: 1.0000 - val_loss: 0.0029 - val_accuracy: 1.0000\n",
            "Epoch 3/12\n",
            "2/2 [==============================] - 0s 60ms/step - loss: 0.0016 - accuracy: 1.0000 - val_loss: 0.0028 - val_accuracy: 1.0000\n",
            "Epoch 4/12\n",
            "2/2 [==============================] - 0s 48ms/step - loss: 0.0016 - accuracy: 1.0000 - val_loss: 0.0028 - val_accuracy: 1.0000\n",
            "Epoch 5/12\n",
            "2/2 [==============================] - 0s 64ms/step - loss: 0.0015 - accuracy: 1.0000 - val_loss: 0.0027 - val_accuracy: 1.0000\n",
            "Epoch 6/12\n",
            "2/2 [==============================] - 0s 52ms/step - loss: 0.0015 - accuracy: 1.0000 - val_loss: 0.0027 - val_accuracy: 1.0000\n",
            "Epoch 7/12\n",
            "2/2 [==============================] - 0s 75ms/step - loss: 0.0014 - accuracy: 1.0000 - val_loss: 0.0026 - val_accuracy: 1.0000\n",
            "Epoch 8/12\n",
            "2/2 [==============================] - 0s 70ms/step - loss: 0.0014 - accuracy: 1.0000 - val_loss: 0.0025 - val_accuracy: 1.0000\n",
            "Epoch 9/12\n",
            "2/2 [==============================] - 0s 76ms/step - loss: 0.0013 - accuracy: 1.0000 - val_loss: 0.0024 - val_accuracy: 1.0000\n",
            "Epoch 10/12\n",
            "2/2 [==============================] - 0s 56ms/step - loss: 0.0013 - accuracy: 1.0000 - val_loss: 0.0024 - val_accuracy: 1.0000\n",
            "Epoch 11/12\n",
            "2/2 [==============================] - 0s 59ms/step - loss: 0.0013 - accuracy: 1.0000 - val_loss: 0.0024 - val_accuracy: 1.0000\n",
            "Epoch 12/12\n",
            "2/2 [==============================] - 0s 54ms/step - loss: 0.0012 - accuracy: 1.0000 - val_loss: 0.0024 - val_accuracy: 1.0000\n",
            "1/1 [==============================] - 0s 33ms/step - loss: 0.0024 - accuracy: 1.0000\n",
            "> 100.000\n",
            "Epoch 1/12\n",
            "2/2 [==============================] - 0s 101ms/step - loss: 0.0013 - accuracy: 1.0000 - val_loss: 0.0012 - val_accuracy: 1.0000\n",
            "Epoch 2/12\n",
            "2/2 [==============================] - 0s 59ms/step - loss: 0.0013 - accuracy: 1.0000 - val_loss: 0.0012 - val_accuracy: 1.0000\n",
            "Epoch 3/12\n",
            "2/2 [==============================] - 0s 54ms/step - loss: 0.0012 - accuracy: 1.0000 - val_loss: 0.0013 - val_accuracy: 1.0000\n",
            "Epoch 4/12\n",
            "2/2 [==============================] - 0s 50ms/step - loss: 0.0012 - accuracy: 1.0000 - val_loss: 0.0013 - val_accuracy: 1.0000\n",
            "Epoch 5/12\n",
            "2/2 [==============================] - 0s 48ms/step - loss: 0.0012 - accuracy: 1.0000 - val_loss: 0.0013 - val_accuracy: 1.0000\n",
            "Epoch 6/12\n",
            "2/2 [==============================] - 0s 42ms/step - loss: 0.0012 - accuracy: 1.0000 - val_loss: 0.0013 - val_accuracy: 1.0000\n",
            "Epoch 7/12\n",
            "2/2 [==============================] - 0s 43ms/step - loss: 0.0011 - accuracy: 1.0000 - val_loss: 0.0012 - val_accuracy: 1.0000\n",
            "Epoch 8/12\n",
            "2/2 [==============================] - 0s 42ms/step - loss: 0.0011 - accuracy: 1.0000 - val_loss: 0.0011 - val_accuracy: 1.0000\n",
            "Epoch 9/12\n",
            "2/2 [==============================] - 0s 48ms/step - loss: 0.0011 - accuracy: 1.0000 - val_loss: 0.0010 - val_accuracy: 1.0000\n",
            "Epoch 10/12\n",
            "2/2 [==============================] - 0s 40ms/step - loss: 0.0010 - accuracy: 1.0000 - val_loss: 0.0010 - val_accuracy: 1.0000\n",
            "Epoch 11/12\n",
            "2/2 [==============================] - 0s 41ms/step - loss: 0.0010 - accuracy: 1.0000 - val_loss: 0.0011 - val_accuracy: 1.0000\n",
            "Epoch 12/12\n",
            "2/2 [==============================] - 0s 42ms/step - loss: 9.9316e-04 - accuracy: 1.0000 - val_loss: 0.0011 - val_accuracy: 1.0000\n",
            "1/1 [==============================] - 0s 33ms/step - loss: 0.0011 - accuracy: 1.0000\n",
            "> 100.000\n",
            "Epoch 1/12\n",
            "2/2 [==============================] - 0s 84ms/step - loss: 0.0010 - accuracy: 1.0000 - val_loss: 4.8716e-04 - val_accuracy: 1.0000\n",
            "Epoch 2/12\n",
            "2/2 [==============================] - 0s 46ms/step - loss: 0.0010 - accuracy: 1.0000 - val_loss: 5.1589e-04 - val_accuracy: 1.0000\n",
            "Epoch 3/12\n",
            "2/2 [==============================] - 0s 48ms/step - loss: 9.7711e-04 - accuracy: 1.0000 - val_loss: 5.3340e-04 - val_accuracy: 1.0000\n",
            "Epoch 4/12\n",
            "2/2 [==============================] - 0s 41ms/step - loss: 9.5494e-04 - accuracy: 1.0000 - val_loss: 5.2697e-04 - val_accuracy: 1.0000\n",
            "Epoch 5/12\n",
            "2/2 [==============================] - 0s 69ms/step - loss: 9.3109e-04 - accuracy: 1.0000 - val_loss: 5.1341e-04 - val_accuracy: 1.0000\n",
            "Epoch 6/12\n",
            "2/2 [==============================] - 0s 31ms/step - loss: 9.0804e-04 - accuracy: 1.0000 - val_loss: 5.0315e-04 - val_accuracy: 1.0000\n",
            "Epoch 7/12\n",
            "2/2 [==============================] - 0s 34ms/step - loss: 8.8580e-04 - accuracy: 1.0000 - val_loss: 4.8901e-04 - val_accuracy: 1.0000\n",
            "Epoch 8/12\n",
            "2/2 [==============================] - 0s 30ms/step - loss: 8.6749e-04 - accuracy: 1.0000 - val_loss: 4.7775e-04 - val_accuracy: 1.0000\n",
            "Epoch 9/12\n",
            "2/2 [==============================] - 0s 31ms/step - loss: 8.4698e-04 - accuracy: 1.0000 - val_loss: 4.7508e-04 - val_accuracy: 1.0000\n",
            "Epoch 10/12\n",
            "2/2 [==============================] - 0s 35ms/step - loss: 8.2654e-04 - accuracy: 1.0000 - val_loss: 4.6785e-04 - val_accuracy: 1.0000\n",
            "Epoch 11/12\n",
            "2/2 [==============================] - 0s 31ms/step - loss: 8.0857e-04 - accuracy: 1.0000 - val_loss: 4.5471e-04 - val_accuracy: 1.0000\n",
            "Epoch 12/12\n",
            "2/2 [==============================] - 0s 30ms/step - loss: 7.9178e-04 - accuracy: 1.0000 - val_loss: 4.5660e-04 - val_accuracy: 1.0000\n",
            "1/1 [==============================] - 0s 21ms/step - loss: 4.5660e-04 - accuracy: 1.0000\n",
            "> 100.000\n",
            "Epoch 1/12\n",
            "2/2 [==============================] - 0s 60ms/step - loss: 7.3517e-04 - accuracy: 1.0000 - val_loss: 8.1463e-04 - val_accuracy: 1.0000\n",
            "Epoch 2/12\n",
            "2/2 [==============================] - 0s 29ms/step - loss: 7.1475e-04 - accuracy: 1.0000 - val_loss: 8.3109e-04 - val_accuracy: 1.0000\n",
            "Epoch 3/12\n",
            "2/2 [==============================] - 0s 32ms/step - loss: 7.0027e-04 - accuracy: 1.0000 - val_loss: 8.5371e-04 - val_accuracy: 1.0000\n",
            "Epoch 4/12\n",
            "2/2 [==============================] - 0s 29ms/step - loss: 6.8227e-04 - accuracy: 1.0000 - val_loss: 8.6699e-04 - val_accuracy: 1.0000\n",
            "Epoch 5/12\n",
            "2/2 [==============================] - 0s 29ms/step - loss: 6.6925e-04 - accuracy: 1.0000 - val_loss: 8.7273e-04 - val_accuracy: 1.0000\n",
            "Epoch 6/12\n",
            "2/2 [==============================] - 0s 31ms/step - loss: 6.5613e-04 - accuracy: 1.0000 - val_loss: 8.6787e-04 - val_accuracy: 1.0000\n",
            "Epoch 7/12\n",
            "2/2 [==============================] - 0s 33ms/step - loss: 6.4422e-04 - accuracy: 1.0000 - val_loss: 8.5443e-04 - val_accuracy: 1.0000\n",
            "Epoch 8/12\n",
            "2/2 [==============================] - 0s 30ms/step - loss: 6.3173e-04 - accuracy: 1.0000 - val_loss: 8.3331e-04 - val_accuracy: 1.0000\n",
            "Epoch 9/12\n",
            "2/2 [==============================] - 0s 31ms/step - loss: 6.1840e-04 - accuracy: 1.0000 - val_loss: 8.2038e-04 - val_accuracy: 1.0000\n",
            "Epoch 10/12\n",
            "2/2 [==============================] - 0s 34ms/step - loss: 6.0600e-04 - accuracy: 1.0000 - val_loss: 8.1701e-04 - val_accuracy: 1.0000\n",
            "Epoch 11/12\n",
            "2/2 [==============================] - 0s 36ms/step - loss: 5.9559e-04 - accuracy: 1.0000 - val_loss: 8.1765e-04 - val_accuracy: 1.0000\n",
            "Epoch 12/12\n",
            "2/2 [==============================] - 0s 35ms/step - loss: 5.8370e-04 - accuracy: 1.0000 - val_loss: 7.9397e-04 - val_accuracy: 1.0000\n",
            "1/1 [==============================] - 0s 21ms/step - loss: 7.9397e-04 - accuracy: 1.0000\n",
            "> 100.000\n",
            "Epoch 1/12\n",
            "2/2 [==============================] - 0s 69ms/step - loss: 5.9524e-04 - accuracy: 1.0000 - val_loss: 5.9162e-04 - val_accuracy: 1.0000\n",
            "Epoch 2/12\n",
            "2/2 [==============================] - 0s 41ms/step - loss: 5.7667e-04 - accuracy: 1.0000 - val_loss: 6.2232e-04 - val_accuracy: 1.0000\n",
            "Epoch 3/12\n",
            "2/2 [==============================] - 0s 36ms/step - loss: 5.5926e-04 - accuracy: 1.0000 - val_loss: 6.7382e-04 - val_accuracy: 1.0000\n",
            "Epoch 4/12\n",
            "2/2 [==============================] - 0s 33ms/step - loss: 5.4458e-04 - accuracy: 1.0000 - val_loss: 7.4084e-04 - val_accuracy: 1.0000\n",
            "Epoch 5/12\n",
            "2/2 [==============================] - 0s 39ms/step - loss: 5.3309e-04 - accuracy: 1.0000 - val_loss: 7.9470e-04 - val_accuracy: 1.0000\n",
            "Epoch 6/12\n",
            "2/2 [==============================] - 0s 41ms/step - loss: 5.2115e-04 - accuracy: 1.0000 - val_loss: 8.4388e-04 - val_accuracy: 1.0000\n",
            "Epoch 7/12\n",
            "2/2 [==============================] - 0s 35ms/step - loss: 5.1253e-04 - accuracy: 1.0000 - val_loss: 8.7016e-04 - val_accuracy: 1.0000\n",
            "Epoch 8/12\n",
            "2/2 [==============================] - 0s 33ms/step - loss: 5.0251e-04 - accuracy: 1.0000 - val_loss: 8.8673e-04 - val_accuracy: 1.0000\n",
            "Epoch 9/12\n",
            "2/2 [==============================] - 0s 38ms/step - loss: 4.9365e-04 - accuracy: 1.0000 - val_loss: 8.8362e-04 - val_accuracy: 1.0000\n",
            "Epoch 10/12\n",
            "2/2 [==============================] - 0s 38ms/step - loss: 4.8333e-04 - accuracy: 1.0000 - val_loss: 8.7358e-04 - val_accuracy: 1.0000\n",
            "Epoch 11/12\n",
            "2/2 [==============================] - 0s 35ms/step - loss: 4.7543e-04 - accuracy: 1.0000 - val_loss: 8.3153e-04 - val_accuracy: 1.0000\n",
            "Epoch 12/12\n",
            "2/2 [==============================] - 0s 38ms/step - loss: 4.6517e-04 - accuracy: 1.0000 - val_loss: 8.1385e-04 - val_accuracy: 1.0000\n",
            "1/1 [==============================] - 0s 22ms/step - loss: 8.1385e-04 - accuracy: 1.0000\n",
            "> 100.000\n",
            "Epoch 1/12\n",
            "2/2 [==============================] - 0s 70ms/step - loss: 5.0142e-04 - accuracy: 1.0000 - val_loss: 3.9589e-04 - val_accuracy: 1.0000\n",
            "Epoch 2/12\n",
            "2/2 [==============================] - 0s 35ms/step - loss: 4.8641e-04 - accuracy: 1.0000 - val_loss: 4.0836e-04 - val_accuracy: 1.0000\n",
            "Epoch 3/12\n",
            "2/2 [==============================] - 0s 36ms/step - loss: 4.7025e-04 - accuracy: 1.0000 - val_loss: 4.2735e-04 - val_accuracy: 1.0000\n",
            "Epoch 4/12\n",
            "2/2 [==============================] - 0s 34ms/step - loss: 4.6245e-04 - accuracy: 1.0000 - val_loss: 4.4214e-04 - val_accuracy: 1.0000\n",
            "Epoch 5/12\n",
            "2/2 [==============================] - 0s 36ms/step - loss: 4.5779e-04 - accuracy: 1.0000 - val_loss: 4.4563e-04 - val_accuracy: 1.0000\n",
            "Epoch 6/12\n",
            "2/2 [==============================] - 0s 38ms/step - loss: 4.5139e-04 - accuracy: 1.0000 - val_loss: 4.4347e-04 - val_accuracy: 1.0000\n",
            "Epoch 7/12\n",
            "2/2 [==============================] - 0s 35ms/step - loss: 4.4388e-04 - accuracy: 1.0000 - val_loss: 4.2709e-04 - val_accuracy: 1.0000\n",
            "Epoch 8/12\n",
            "2/2 [==============================] - 0s 36ms/step - loss: 4.3438e-04 - accuracy: 1.0000 - val_loss: 4.0245e-04 - val_accuracy: 1.0000\n",
            "Epoch 9/12\n",
            "2/2 [==============================] - 0s 38ms/step - loss: 4.2735e-04 - accuracy: 1.0000 - val_loss: 3.8081e-04 - val_accuracy: 1.0000\n",
            "Epoch 10/12\n",
            "2/2 [==============================] - 0s 37ms/step - loss: 4.1789e-04 - accuracy: 1.0000 - val_loss: 3.6927e-04 - val_accuracy: 1.0000\n",
            "Epoch 11/12\n",
            "2/2 [==============================] - 0s 36ms/step - loss: 4.1117e-04 - accuracy: 1.0000 - val_loss: 3.6519e-04 - val_accuracy: 1.0000\n",
            "Epoch 12/12\n",
            "2/2 [==============================] - 0s 35ms/step - loss: 4.0479e-04 - accuracy: 1.0000 - val_loss: 3.6563e-04 - val_accuracy: 1.0000\n",
            "1/1 [==============================] - 0s 29ms/step - loss: 3.6563e-04 - accuracy: 1.0000\n",
            "> 100.000\n",
            "INFO:tensorflow:Assets written to: trained_perfect_b1/assets\n"
          ]
        },
        {
          "output_type": "stream",
          "name": "stderr",
          "text": [
            "/usr/local/lib/python3.7/dist-packages/ipykernel_launcher.py:5: MatplotlibDeprecationWarning: Adding an axes using the same arguments as a previous axes currently reuses the earlier instance.  In a future version, a new instance will always be created and returned.  Meanwhile, this warning can be suppressed, and the future behavior ensured, by passing a unique label to each axes instance.\n",
            "  \"\"\"\n",
            "/usr/local/lib/python3.7/dist-packages/ipykernel_launcher.py:10: MatplotlibDeprecationWarning: Adding an axes using the same arguments as a previous axes currently reuses the earlier instance.  In a future version, a new instance will always be created and returned.  Meanwhile, this warning can be suppressed, and the future behavior ensured, by passing a unique label to each axes instance.\n",
            "  # Remove the CWD from sys.path while we load stuff.\n"
          ]
        },
        {
          "output_type": "display_data",
          "data": {
            "text/plain": [
              "<Figure size 432x288 with 2 Axes>"
            ],
            "image/png": "[encoded data removed]"
          },
          "metadata": {
            "needs_background": "light"
          }
        },
        {
          "output_type": "stream",
          "name": "stdout",
          "text": [
            "Accuracy: mean=100.000 std=0.000, n=10\n"
          ]
        },
        {
          "output_type": "display_data",
          "data": {
            "text/plain": [
              "<Figure size 432x288 with 1 Axes>"
            ],
            "image/png": "[encoded data removed]"
          },
          "metadata": {
            "needs_background": "light"
          }
        },
        {
          "output_type": "stream",
          "name": "stdout",
          "text": [
            "['Random initialized on per_b1 (categories of 0 to 4) with LR=0.001 & epoch=12', 100.0, 80.177]\n"
          ]
        }
      ],
      "source": [
        "model = tf.keras.models.load_model(\"random_init_small\")\n",
        "from keras import backend as K\n",
        "K.set_value(model.optimizer.learning_rate, 0.001)\n",
        "scores, histories, model = evaluate_model(model, train_per_x_b1, train_per_y_b1,10,12,81)\n",
        "\n",
        "model.save(\"trained_perfect_b1\")\n",
        "\n",
        "# learning curves\n",
        "summarize_diagnostics(histories)\n",
        "# summarize estimated performance\n",
        "summarize_performance(scores)\n",
        "desc = \"Random initialized on per_b1 (categories of 0 to 4) with LR=0.001 & epoch=12\"\n",
        "results.append([desc,round(model.evaluate(train_per_x_b1, train_per_y_b1, verbose=0)[1]*100,3),round(model.evaluate(train_x_b1, train_y_b1, verbose=0)[1]*100,3)])\n",
        "print (results[len(results)-1])"
      ]
    },
    {
      "cell_type": "code",
      "execution_count": 16,
      "metadata": {
        "colab": {
          "base_uri": "https://localhost:8080/"
        },
        "id": "52Nr1kkrMynP",
        "outputId": "b5d3ac32-ed9e-4fb6-ecaf-26958de60c0a"
      },
      "outputs": [
        {
          "output_type": "stream",
          "name": "stdout",
          "text": [
            "(30180, 28, 28, 1)\n",
            "(30180, 5)\n"
          ]
        }
      ],
      "source": [
        "trainmixX_b1 = np. concatenate((train_x_b1, train_per_x_b1), axis=0)\n",
        "trainmixy_b1 = np. concatenate((train_y_b1, train_per_y_b1), axis=0)\n",
        "print(trainmixX_b1.shape)\n",
        "print(trainmixy_b1.shape)\n"
      ]
    },
    {
      "cell_type": "code",
      "execution_count": 17,
      "metadata": {
        "colab": {
          "base_uri": "https://localhost:8080/",
          "height": 1000
        },
        "id": "VAwDfYovNIIL",
        "outputId": "bd26381a-ad98-4928-c5ce-1383c60cb3a9"
      },
      "outputs": [
        {
          "output_type": "stream",
          "name": "stdout",
          "text": [
            "Epoch 1/8\n",
            "336/336 [==============================] - 3s 7ms/step - loss: 0.4017 - accuracy: 0.8593 - val_loss: 0.3644 - val_accuracy: 0.8685\n",
            "Epoch 2/8\n",
            "336/336 [==============================] - 3s 8ms/step - loss: 0.3043 - accuracy: 0.8913 - val_loss: 0.3121 - val_accuracy: 0.8926\n",
            "Epoch 3/8\n",
            "336/336 [==============================] - 3s 7ms/step - loss: 0.2759 - accuracy: 0.9016 - val_loss: 0.3095 - val_accuracy: 0.8887\n",
            "Epoch 4/8\n",
            "336/336 [==============================] - 3s 9ms/step - loss: 0.2514 - accuracy: 0.9082 - val_loss: 0.2739 - val_accuracy: 0.9036\n",
            "Epoch 5/8\n",
            "336/336 [==============================] - 4s 11ms/step - loss: 0.2348 - accuracy: 0.9148 - val_loss: 0.2628 - val_accuracy: 0.9062\n",
            "Epoch 6/8\n",
            "336/336 [==============================] - 4s 11ms/step - loss: 0.2235 - accuracy: 0.9194 - val_loss: 0.2615 - val_accuracy: 0.9079\n",
            "Epoch 7/8\n",
            "336/336 [==============================] - 2s 6ms/step - loss: 0.2083 - accuracy: 0.9240 - val_loss: 0.2807 - val_accuracy: 0.9039\n",
            "Epoch 8/8\n",
            "336/336 [==============================] - 2s 6ms/step - loss: 0.2024 - accuracy: 0.9256 - val_loss: 0.2670 - val_accuracy: 0.9029\n",
            "95/95 [==============================] - 0s 2ms/step - loss: 0.2670 - accuracy: 0.9029\n",
            "> 90.292\n",
            "Epoch 1/8\n",
            "336/336 [==============================] - 2s 7ms/step - loss: 0.1998 - accuracy: 0.9279 - val_loss: 0.1905 - val_accuracy: 0.9284\n",
            "Epoch 2/8\n",
            "336/336 [==============================] - 2s 7ms/step - loss: 0.1859 - accuracy: 0.9317 - val_loss: 0.1940 - val_accuracy: 0.9294\n",
            "Epoch 3/8\n",
            "336/336 [==============================] - 2s 6ms/step - loss: 0.1757 - accuracy: 0.9355 - val_loss: 0.1988 - val_accuracy: 0.9274\n",
            "Epoch 4/8\n",
            "336/336 [==============================] - 2s 6ms/step - loss: 0.1702 - accuracy: 0.9369 - val_loss: 0.2050 - val_accuracy: 0.9254\n",
            "Epoch 5/8\n",
            "336/336 [==============================] - 2s 6ms/step - loss: 0.1638 - accuracy: 0.9395 - val_loss: 0.1918 - val_accuracy: 0.9281\n",
            "Epoch 6/8\n",
            "336/336 [==============================] - 2s 6ms/step - loss: 0.1564 - accuracy: 0.9416 - val_loss: 0.2042 - val_accuracy: 0.9288\n",
            "Epoch 7/8\n",
            "336/336 [==============================] - 2s 6ms/step - loss: 0.1477 - accuracy: 0.9450 - val_loss: 0.2140 - val_accuracy: 0.9278\n",
            "Epoch 8/8\n",
            "336/336 [==============================] - 2s 6ms/step - loss: 0.1423 - accuracy: 0.9468 - val_loss: 0.2185 - val_accuracy: 0.9228\n",
            "95/95 [==============================] - 0s 2ms/step - loss: 0.2185 - accuracy: 0.9228\n",
            "> 92.280\n",
            "Epoch 1/8\n",
            "336/336 [==============================] - 2s 6ms/step - loss: 0.1459 - accuracy: 0.9459 - val_loss: 0.1507 - val_accuracy: 0.9447\n",
            "Epoch 2/8\n",
            "336/336 [==============================] - 2s 6ms/step - loss: 0.1417 - accuracy: 0.9467 - val_loss: 0.1325 - val_accuracy: 0.9476\n",
            "Epoch 3/8\n",
            "336/336 [==============================] - 2s 6ms/step - loss: 0.1328 - accuracy: 0.9509 - val_loss: 0.1422 - val_accuracy: 0.9460\n",
            "Epoch 4/8\n",
            "336/336 [==============================] - 2s 6ms/step - loss: 0.1253 - accuracy: 0.9534 - val_loss: 0.1992 - val_accuracy: 0.9284\n",
            "Epoch 5/8\n",
            "336/336 [==============================] - 2s 6ms/step - loss: 0.1262 - accuracy: 0.9527 - val_loss: 0.1522 - val_accuracy: 0.9394\n",
            "Epoch 6/8\n",
            "336/336 [==============================] - 2s 6ms/step - loss: 0.1176 - accuracy: 0.9564 - val_loss: 0.1637 - val_accuracy: 0.9367\n",
            "Epoch 7/8\n",
            "336/336 [==============================] - 2s 7ms/step - loss: 0.1139 - accuracy: 0.9570 - val_loss: 0.1491 - val_accuracy: 0.9404\n",
            "Epoch 8/8\n",
            "336/336 [==============================] - 2s 7ms/step - loss: 0.1062 - accuracy: 0.9600 - val_loss: 0.1669 - val_accuracy: 0.9334\n",
            "95/95 [==============================] - 0s 2ms/step - loss: 0.1669 - accuracy: 0.9334\n",
            "> 93.340\n",
            "Epoch 1/8\n",
            "336/336 [==============================] - 2s 6ms/step - loss: 0.1105 - accuracy: 0.9569 - val_loss: 0.1157 - val_accuracy: 0.9536\n",
            "Epoch 2/8\n",
            "336/336 [==============================] - 2s 6ms/step - loss: 0.1038 - accuracy: 0.9600 - val_loss: 0.1243 - val_accuracy: 0.9523\n",
            "Epoch 3/8\n",
            "336/336 [==============================] - 2s 6ms/step - loss: 0.1014 - accuracy: 0.9608 - val_loss: 0.1201 - val_accuracy: 0.9493\n",
            "Epoch 4/8\n",
            "336/336 [==============================] - 2s 6ms/step - loss: 0.0940 - accuracy: 0.9645 - val_loss: 0.1082 - val_accuracy: 0.9622\n",
            "Epoch 5/8\n",
            "336/336 [==============================] - 2s 6ms/step - loss: 0.0937 - accuracy: 0.9645 - val_loss: 0.1398 - val_accuracy: 0.9500\n",
            "Epoch 6/8\n",
            "336/336 [==============================] - 2s 6ms/step - loss: 0.0905 - accuracy: 0.9646 - val_loss: 0.1114 - val_accuracy: 0.9579\n",
            "Epoch 7/8\n",
            "336/336 [==============================] - 2s 6ms/step - loss: 0.0863 - accuracy: 0.9669 - val_loss: 0.1492 - val_accuracy: 0.9473\n",
            "Epoch 8/8\n",
            "336/336 [==============================] - 2s 6ms/step - loss: 0.0794 - accuracy: 0.9696 - val_loss: 0.1231 - val_accuracy: 0.9553\n",
            "95/95 [==============================] - 0s 2ms/step - loss: 0.1231 - accuracy: 0.9553\n",
            "> 95.527\n",
            "Epoch 1/8\n",
            "336/336 [==============================] - 2s 7ms/step - loss: 0.0842 - accuracy: 0.9682 - val_loss: 0.0864 - val_accuracy: 0.9649\n",
            "Epoch 2/8\n",
            "336/336 [==============================] - 2s 7ms/step - loss: 0.0813 - accuracy: 0.9680 - val_loss: 0.0967 - val_accuracy: 0.9612\n",
            "Epoch 3/8\n",
            "336/336 [==============================] - 2s 7ms/step - loss: 0.0807 - accuracy: 0.9684 - val_loss: 0.0905 - val_accuracy: 0.9622\n",
            "Epoch 4/8\n",
            "336/336 [==============================] - 2s 6ms/step - loss: 0.0776 - accuracy: 0.9706 - val_loss: 0.0812 - val_accuracy: 0.9649\n",
            "Epoch 5/8\n",
            "336/336 [==============================] - 2s 7ms/step - loss: 0.0701 - accuracy: 0.9739 - val_loss: 0.0758 - val_accuracy: 0.9705\n",
            "Epoch 6/8\n",
            "336/336 [==============================] - 2s 6ms/step - loss: 0.0689 - accuracy: 0.9743 - val_loss: 0.0828 - val_accuracy: 0.9682\n",
            "Epoch 7/8\n",
            "336/336 [==============================] - 2s 6ms/step - loss: 0.0697 - accuracy: 0.9729 - val_loss: 0.0852 - val_accuracy: 0.9682\n",
            "Epoch 8/8\n",
            "336/336 [==============================] - 2s 7ms/step - loss: 0.0640 - accuracy: 0.9754 - val_loss: 0.0949 - val_accuracy: 0.9645\n",
            "95/95 [==============================] - 0s 3ms/step - loss: 0.0949 - accuracy: 0.9645\n",
            "> 96.455\n",
            "Epoch 1/8\n",
            "336/336 [==============================] - 3s 8ms/step - loss: 0.0683 - accuracy: 0.9736 - val_loss: 0.0516 - val_accuracy: 0.9831\n",
            "Epoch 2/8\n",
            "336/336 [==============================] - 2s 6ms/step - loss: 0.0636 - accuracy: 0.9760 - val_loss: 0.0694 - val_accuracy: 0.9725\n",
            "Epoch 3/8\n",
            "336/336 [==============================] - 2s 6ms/step - loss: 0.0671 - accuracy: 0.9736 - val_loss: 0.0800 - val_accuracy: 0.9692\n",
            "Epoch 4/8\n",
            "336/336 [==============================] - 2s 6ms/step - loss: 0.0598 - accuracy: 0.9765 - val_loss: 0.0633 - val_accuracy: 0.9768\n",
            "Epoch 5/8\n",
            "336/336 [==============================] - 2s 6ms/step - loss: 0.0557 - accuracy: 0.9785 - val_loss: 0.0619 - val_accuracy: 0.9788\n",
            "Epoch 6/8\n",
            "336/336 [==============================] - 2s 6ms/step - loss: 0.0596 - accuracy: 0.9767 - val_loss: 0.0656 - val_accuracy: 0.9755\n",
            "Epoch 7/8\n",
            "336/336 [==============================] - 2s 6ms/step - loss: 0.0550 - accuracy: 0.9784 - val_loss: 0.1120 - val_accuracy: 0.9612\n",
            "Epoch 8/8\n",
            "336/336 [==============================] - 2s 6ms/step - loss: 0.0534 - accuracy: 0.9787 - val_loss: 0.0755 - val_accuracy: 0.9722\n",
            "95/95 [==============================] - 0s 2ms/step - loss: 0.0755 - accuracy: 0.9722\n",
            "> 97.217\n",
            "Epoch 1/8\n",
            "336/336 [==============================] - 2s 7ms/step - loss: 0.0588 - accuracy: 0.9782 - val_loss: 0.0465 - val_accuracy: 0.9834\n",
            "Epoch 2/8\n",
            "336/336 [==============================] - 2s 6ms/step - loss: 0.0551 - accuracy: 0.9786 - val_loss: 0.0553 - val_accuracy: 0.9795\n",
            "Epoch 3/8\n",
            "336/336 [==============================] - 2s 7ms/step - loss: 0.0510 - accuracy: 0.9806 - val_loss: 0.0526 - val_accuracy: 0.9798\n",
            "Epoch 4/8\n",
            "336/336 [==============================] - 2s 6ms/step - loss: 0.0479 - accuracy: 0.9812 - val_loss: 0.0407 - val_accuracy: 0.9831\n",
            "Epoch 5/8\n",
            "336/336 [==============================] - 2s 7ms/step - loss: 0.0532 - accuracy: 0.9793 - val_loss: 0.0766 - val_accuracy: 0.9725\n",
            "Epoch 6/8\n",
            "336/336 [==============================] - 2s 6ms/step - loss: 0.0500 - accuracy: 0.9796 - val_loss: 0.0411 - val_accuracy: 0.9844\n",
            "Epoch 7/8\n",
            "336/336 [==============================] - 2s 6ms/step - loss: 0.0445 - accuracy: 0.9817 - val_loss: 0.0575 - val_accuracy: 0.9755\n",
            "Epoch 8/8\n",
            "336/336 [==============================] - 2s 6ms/step - loss: 0.0455 - accuracy: 0.9819 - val_loss: 0.0608 - val_accuracy: 0.9761\n",
            "95/95 [==============================] - 0s 2ms/step - loss: 0.0608 - accuracy: 0.9761\n",
            "> 97.614\n",
            "Epoch 1/8\n",
            "336/336 [==============================] - 2s 7ms/step - loss: 0.0509 - accuracy: 0.9802 - val_loss: 0.0518 - val_accuracy: 0.9814\n",
            "Epoch 2/8\n",
            "336/336 [==============================] - 2s 7ms/step - loss: 0.0389 - accuracy: 0.9849 - val_loss: 0.0693 - val_accuracy: 0.9771\n",
            "Epoch 3/8\n",
            "336/336 [==============================] - 2s 7ms/step - loss: 0.0510 - accuracy: 0.9803 - val_loss: 0.0543 - val_accuracy: 0.9778\n",
            "Epoch 4/8\n",
            "336/336 [==============================] - 2s 7ms/step - loss: 0.0423 - accuracy: 0.9830 - val_loss: 0.0552 - val_accuracy: 0.9781\n",
            "Epoch 5/8\n",
            "336/336 [==============================] - 2s 6ms/step - loss: 0.0410 - accuracy: 0.9846 - val_loss: 0.0648 - val_accuracy: 0.9785\n",
            "Epoch 6/8\n",
            "336/336 [==============================] - 2s 6ms/step - loss: 0.0389 - accuracy: 0.9853 - val_loss: 0.0722 - val_accuracy: 0.9715\n",
            "Epoch 7/8\n",
            "336/336 [==============================] - 2s 6ms/step - loss: 0.0324 - accuracy: 0.9886 - val_loss: 0.0464 - val_accuracy: 0.9831\n",
            "Epoch 8/8\n",
            "336/336 [==============================] - 2s 6ms/step - loss: 0.0373 - accuracy: 0.9854 - val_loss: 0.0617 - val_accuracy: 0.9761\n",
            "95/95 [==============================] - 0s 2ms/step - loss: 0.0617 - accuracy: 0.9761\n",
            "> 97.614\n",
            "Epoch 1/8\n",
            "336/336 [==============================] - 2s 6ms/step - loss: 0.0460 - accuracy: 0.9821 - val_loss: 0.0421 - val_accuracy: 0.9854\n",
            "Epoch 2/8\n",
            "336/336 [==============================] - 2s 7ms/step - loss: 0.0387 - accuracy: 0.9851 - val_loss: 0.0332 - val_accuracy: 0.9897\n",
            "Epoch 3/8\n",
            "336/336 [==============================] - 2s 6ms/step - loss: 0.0354 - accuracy: 0.9869 - val_loss: 0.0387 - val_accuracy: 0.9864\n",
            "Epoch 4/8\n",
            "336/336 [==============================] - 2s 7ms/step - loss: 0.0371 - accuracy: 0.9855 - val_loss: 0.0513 - val_accuracy: 0.9768\n",
            "Epoch 5/8\n",
            "336/336 [==============================] - 2s 7ms/step - loss: 0.0383 - accuracy: 0.9845 - val_loss: 0.0431 - val_accuracy: 0.9828\n",
            "Epoch 6/8\n",
            "336/336 [==============================] - 2s 6ms/step - loss: 0.0328 - accuracy: 0.9869 - val_loss: 0.0655 - val_accuracy: 0.9742\n",
            "Epoch 7/8\n",
            "336/336 [==============================] - 2s 6ms/step - loss: 0.0406 - accuracy: 0.9846 - val_loss: 0.0736 - val_accuracy: 0.9732\n",
            "Epoch 8/8\n",
            "336/336 [==============================] - 2s 6ms/step - loss: 0.0355 - accuracy: 0.9858 - val_loss: 0.0396 - val_accuracy: 0.9831\n",
            "95/95 [==============================] - 0s 2ms/step - loss: 0.0396 - accuracy: 0.9831\n",
            "> 98.310\n",
            "Epoch 1/8\n",
            "336/336 [==============================] - 2s 6ms/step - loss: 0.0334 - accuracy: 0.9867 - val_loss: 0.0346 - val_accuracy: 0.9858\n",
            "Epoch 2/8\n",
            "336/336 [==============================] - 2s 6ms/step - loss: 0.0320 - accuracy: 0.9884 - val_loss: 0.0406 - val_accuracy: 0.9844\n",
            "Epoch 3/8\n",
            "336/336 [==============================] - 2s 6ms/step - loss: 0.0276 - accuracy: 0.9901 - val_loss: 0.0332 - val_accuracy: 0.9871\n",
            "Epoch 4/8\n",
            "336/336 [==============================] - 2s 6ms/step - loss: 0.0316 - accuracy: 0.9873 - val_loss: 0.0274 - val_accuracy: 0.9907\n",
            "Epoch 5/8\n",
            "336/336 [==============================] - 2s 6ms/step - loss: 0.0288 - accuracy: 0.9888 - val_loss: 0.0585 - val_accuracy: 0.9778\n",
            "Epoch 6/8\n",
            "336/336 [==============================] - 2s 6ms/step - loss: 0.0261 - accuracy: 0.9897 - val_loss: 0.0355 - val_accuracy: 0.9838\n",
            "Epoch 7/8\n",
            "336/336 [==============================] - 2s 6ms/step - loss: 0.0277 - accuracy: 0.9894 - val_loss: 0.0373 - val_accuracy: 0.9858\n",
            "Epoch 8/8\n",
            "336/336 [==============================] - 2s 6ms/step - loss: 0.0271 - accuracy: 0.9898 - val_loss: 0.0449 - val_accuracy: 0.9814\n",
            "95/95 [==============================] - 0s 2ms/step - loss: 0.0449 - accuracy: 0.9814\n",
            "> 98.144\n",
            "INFO:tensorflow:Assets written to: trained_finetune_mix_b1/assets\n"
          ]
        },
        {
          "output_type": "stream",
          "name": "stderr",
          "text": [
            "/usr/local/lib/python3.7/dist-packages/ipykernel_launcher.py:5: MatplotlibDeprecationWarning: Adding an axes using the same arguments as a previous axes currently reuses the earlier instance.  In a future version, a new instance will always be created and returned.  Meanwhile, this warning can be suppressed, and the future behavior ensured, by passing a unique label to each axes instance.\n",
            "  \"\"\"\n",
            "/usr/local/lib/python3.7/dist-packages/ipykernel_launcher.py:10: MatplotlibDeprecationWarning: Adding an axes using the same arguments as a previous axes currently reuses the earlier instance.  In a future version, a new instance will always be created and returned.  Meanwhile, this warning can be suppressed, and the future behavior ensured, by passing a unique label to each axes instance.\n",
            "  # Remove the CWD from sys.path while we load stuff.\n"
          ]
        },
        {
          "output_type": "display_data",
          "data": {
            "text/plain": [
              "<Figure size 432x288 with 2 Axes>"
            ],
            "image/png": "[encoded data removed]"
          },
          "metadata": {
            "needs_background": "light"
          }
        },
        {
          "output_type": "stream",
          "name": "stdout",
          "text": [
            "Accuracy: mean=95.679 std=2.637, n=10\n"
          ]
        },
        {
          "output_type": "display_data",
          "data": {
            "text/plain": [
              "<Figure size 432x288 with 1 Axes>"
            ],
            "image/png": "[encoded data removed]"
          },
          "metadata": {
            "needs_background": "light"
          }
        },
        {
          "output_type": "stream",
          "name": "stdout",
          "text": [
            "['trained_finetune_mix_b1 on mix data (categories of 0 to 4) with LR=0.0005 & epoch=8', 100.0, 98.83]\n"
          ]
        }
      ],
      "source": [
        "model = tf.keras.models.load_model(\"trained_perfect_b1\")\n",
        "from keras import backend as K\n",
        "K.set_value(model.optimizer.learning_rate, 0.0005)\n",
        "scores, histories, model = evaluate_model(model, trainmixX_b1, trainmixy_b1,10,8,81)\n",
        "\n",
        "model.save(\"trained_finetune_mix_b1\")\n",
        "\n",
        "# learning curves\n",
        "summarize_diagnostics(histories)\n",
        "# summarize estimated performance\n",
        "summarize_performance(scores)\n",
        "desc = \"trained_finetune_mix_b1 on mix data (categories of 0 to 4) with LR=0.0005 & epoch=8\"\n",
        "results.append([desc,round(model.evaluate(train_per_x_b1, train_per_y_b1, verbose=0)[1]*100,3),round(model.evaluate(train_x_b1, train_y_b1, verbose=0)[1]*100,3)])\n",
        "print (results[len(results)-1])"
      ]
    },
    {
      "cell_type": "markdown",
      "metadata": {
        "id": "RiuvHzuvdQn-"
      },
      "source": [
        "Updating random final model with weights from finetuned small size model."
      ]
    },
    {
      "cell_type": "code",
      "execution_count": 18,
      "metadata": {
        "id": "_8ec-B8PciQ5"
      },
      "outputs": [],
      "source": [
        "model_small = tf.keras.models.load_model(\"trained_finetune_mix_b1\")\n",
        "model_final = tf.keras.models.load_model(\"random_init_final\")\n",
        "b = model_small.layers[1].get_weights()\n",
        "a = model_final.layers[1].get_weights()\n",
        "a[0][:784,:300]=b[0]\n",
        "a[1][:300]=b[1]\n",
        "model_final.layers[1].set_weights(a)\n",
        "\n",
        "b = model_small.layers[2].get_weights()\n",
        "a = model_final.layers[2].get_weights()\n",
        "a[0][:300,:200]=b[0]\n",
        "a[1][:200]=b[1]\n",
        "model_final.layers[2].set_weights(a)\n",
        "\n",
        "b = model_small.layers[3].get_weights()\n",
        "a = model_final.layers[3].get_weights()\n",
        "a[0][:200,:5]=b[0]\n",
        "a[1][:5]=b[1]\n",
        "model_final.layers[3].set_weights(a)"
      ]
    },
    {
      "cell_type": "code",
      "execution_count": 19,
      "metadata": {
        "colab": {
          "base_uri": "https://localhost:8080/"
        },
        "id": "P5xh3IWI24Ug",
        "outputId": "d7bc6f0b-344b-4bb3-ab64-48b610cb4302"
      },
      "outputs": [
        {
          "output_type": "execute_result",
          "data": {
            "text/plain": [
              "[<tf.Variable 'dense_5/kernel:0' shape=(300, 10) dtype=float32, numpy=\n",
              " array([[ 0.02094251, -0.18256368, -0.46587074, ..., -0.04618773,\n",
              "         -0.12922554,  0.13178085],\n",
              "        [ 0.3508169 , -0.16230023, -0.23503146, ...,  0.04397899,\n",
              "          0.10153401, -0.12047584],\n",
              "        [-0.04551851,  0.18504994,  0.03497822, ...,  0.12067883,\n",
              "         -0.12364914, -0.01514611],\n",
              "        ...,\n",
              "        [ 0.02074444, -0.06549399,  0.09755109, ...,  0.09745234,\n",
              "         -0.09730152,  0.09756203],\n",
              "        [-0.02081618,  0.04266517,  0.04235858, ..., -0.08235405,\n",
              "          0.00250287,  0.00477713],\n",
              "        [-0.02665937, -0.01693602, -0.02524523, ..., -0.08103518,\n",
              "         -0.02715031,  0.06878036]], dtype=float32)>,\n",
              " <tf.Variable 'dense_5/bias:0' shape=(10,) dtype=float32, numpy=\n",
              " array([-0.10352252, -0.14014347,  0.04086799,  0.0900507 , -0.01876958,\n",
              "         0.        ,  0.        ,  0.        ,  0.        ,  0.        ],\n",
              "       dtype=float32)>]"
            ]
          },
          "metadata": {},
          "execution_count": 19
        }
      ],
      "source": [
        "model = model_final\n",
        "model.layers[3].weights"
      ]
    },
    {
      "cell_type": "code",
      "execution_count": 20,
      "metadata": {
        "colab": {
          "base_uri": "https://localhost:8080/"
        },
        "id": "3j3L2HZUxtG7",
        "outputId": "ec291f40-7952-443a-d5d3-19be55ab185b"
      },
      "outputs": [
        {
          "output_type": "stream",
          "name": "stdout",
          "text": [
            "INFO:tensorflow:Assets written to: final_model_loaded_weights/assets\n",
            "['final_model_loaded_weights without training', 50.556, 49.895, 45.99]\n"
          ]
        }
      ],
      "source": [
        "model_final.save('final_model_loaded_weights')\n",
        "desc = \"final_model_loaded_weights without training\"\n",
        "results.append([desc,round(model.evaluate(train_per_x, train_per_y, verbose=0)[1]*100,3),round(model.evaluate(trainX, trainy, verbose=0)[1]*100,3),round(model.evaluate(testX, testy, verbose=0)[1]*100,3)])\n",
        "print (results[len(results)-1])"
      ]
    },
    {
      "cell_type": "code",
      "execution_count": 21,
      "metadata": {
        "colab": {
          "base_uri": "https://localhost:8080/"
        },
        "id": "BT1dIAYR0fQg",
        "outputId": "f694ef80-7e4b-4fed-a5a0-8b0a640fa766"
      },
      "outputs": [
        {
          "output_type": "stream",
          "name": "stdout",
          "text": [
            "Model: \"sequential_1\"\n",
            "_________________________________________________________________\n",
            " Layer (type)                Output Shape              Param #   \n",
            "=================================================================\n",
            " flatten_1 (Flatten)         (None, 784)               0         \n",
            "                                                                 \n",
            " dense_3 (Dense)             (None, 500)               392500    \n",
            "                                                                 \n",
            " dense_4 (Dense)             (None, 300)               150300    \n",
            "                                                                 \n",
            " dense_5 (Dense)             (None, 10)                3010      \n",
            "                                                                 \n",
            "=================================================================\n",
            "Total params: 545,810\n",
            "Trainable params: 545,810\n",
            "Non-trainable params: 0\n",
            "_________________________________________________________________\n"
          ]
        }
      ],
      "source": [
        "model.summary()"
      ]
    },
    {
      "cell_type": "code",
      "execution_count": null,
      "metadata": {
        "id": "p01RLUj7aQCo"
      },
      "outputs": [],
      "source": [
        "#model = tf.keras.models.load_model(\"final_model_loaded_weights\")\n",
        "#from keras import backend as K\n",
        "#K.set_value(model.optimizer.learning_rate, 0.001)\n",
        "#scores, histories, model = evaluate_model(model, train_per_x, train_per_y,10,8,144)\n",
        "\n",
        "#model.save(\"trained_perfectdata\")\n",
        "\n",
        "# learning curves\n",
        "#summarize_diagnostics(histories)\n",
        "# summarize estimated performance\n",
        "#summarize_performance(scores)\n",
        "#desc = \"final_model_loaded_weights on perfect data with LR=0.001 & epoch=8\"\n",
        "#results.append([desc,round(model.evaluate(train_per_x, train_per_y, verbose=0)[1]*100,3),round(model.evaluate(trainX, trainy, verbose=0)[1]*100,3),round(model.evaluate(testX, testy, verbose=0)[1]*100,3)])\n",
        "#print (results[len(results)-1])"
      ]
    },
    {
      "cell_type": "markdown",
      "metadata": {
        "id": "ihu8KQ3xiNP0"
      },
      "source": [
        "Because we were not able to freez the small part of the model, applying the two-steps training in this state means catastrophic forgetting. Therefore, we are not using the above training step in our training process."
      ]
    },
    {
      "cell_type": "code",
      "source": [
        "model = tf.keras.models.load_model(\"final_model_loaded_weights\")\n",
        "from keras import backend as K\n",
        "K.set_value(model.optimizer.learning_rate, 0.0001)\n",
        "scores, histories, model = evaluate_model(model, train_mixX_b3, train_mixy_b3,10,6,144)\n",
        "\n",
        "\n",
        "\n",
        "# learning curves\n",
        "summarize_diagnostics(histories)\n",
        "# summarize estimated performance\n",
        "summarize_performance(scores)\n",
        "desc = \"final_model_loaded_weights on mix data with LR=0.0001 & epoch=6\"\n",
        "results.append([desc,round(model.evaluate(train_per_x, train_per_y, verbose=0)[1]*100,3),round(model.evaluate(trainX, trainy, verbose=0)[1]*100,3),round(model.evaluate(testX, testy, verbose=0)[1]*100,3)])\n",
        "print (results[len(results)-1])"
      ],
      "metadata": {
        "colab": {
          "base_uri": "https://localhost:8080/",
          "height": 1000
        },
        "id": "su2VlNy9pBHG",
        "outputId": "72d49a86-d5f9-4736-c03f-d39c8f5e5e0d"
      },
      "execution_count": 24,
      "outputs": [
        {
          "output_type": "stream",
          "name": "stdout",
          "text": [
            "Epoch 1/6\n",
            "209/209 [==============================] - 3s 14ms/step - loss: 1.4419 - accuracy: 0.6766 - val_loss: 0.4574 - val_accuracy: 0.8561\n",
            "Epoch 2/6\n",
            "209/209 [==============================] - 3s 12ms/step - loss: 0.3878 - accuracy: 0.8769 - val_loss: 0.3248 - val_accuracy: 0.8906\n",
            "Epoch 3/6\n",
            "209/209 [==============================] - 3s 14ms/step - loss: 0.2972 - accuracy: 0.9024 - val_loss: 0.2863 - val_accuracy: 0.9035\n",
            "Epoch 4/6\n",
            "209/209 [==============================] - 3s 13ms/step - loss: 0.2542 - accuracy: 0.9138 - val_loss: 0.2552 - val_accuracy: 0.9134\n",
            "Epoch 5/6\n",
            "209/209 [==============================] - 3s 13ms/step - loss: 0.2275 - accuracy: 0.9220 - val_loss: 0.2393 - val_accuracy: 0.9155\n",
            "Epoch 6/6\n",
            "209/209 [==============================] - 3s 12ms/step - loss: 0.2074 - accuracy: 0.9282 - val_loss: 0.2271 - val_accuracy: 0.9167\n",
            "105/105 [==============================] - 0s 4ms/step - loss: 0.2271 - accuracy: 0.9167\n",
            "> 91.667\n",
            "Epoch 1/6\n",
            "209/209 [==============================] - 3s 13ms/step - loss: 0.1936 - accuracy: 0.9321 - val_loss: 0.1964 - val_accuracy: 0.9239\n",
            "Epoch 2/6\n",
            "209/209 [==============================] - 3s 14ms/step - loss: 0.1799 - accuracy: 0.9365 - val_loss: 0.1862 - val_accuracy: 0.9332\n",
            "Epoch 3/6\n",
            "209/209 [==============================] - 3s 13ms/step - loss: 0.1671 - accuracy: 0.9399 - val_loss: 0.1935 - val_accuracy: 0.9293\n",
            "Epoch 4/6\n",
            "209/209 [==============================] - 3s 13ms/step - loss: 0.1574 - accuracy: 0.9455 - val_loss: 0.1832 - val_accuracy: 0.9326\n",
            "Epoch 5/6\n",
            "209/209 [==============================] - 3s 13ms/step - loss: 0.1476 - accuracy: 0.9466 - val_loss: 0.1875 - val_accuracy: 0.9302\n",
            "Epoch 6/6\n",
            "209/209 [==============================] - 3s 12ms/step - loss: 0.1404 - accuracy: 0.9507 - val_loss: 0.1890 - val_accuracy: 0.9293\n",
            "105/105 [==============================] - 0s 3ms/step - loss: 0.1890 - accuracy: 0.9293\n",
            "> 92.926\n",
            "Epoch 1/6\n",
            "209/209 [==============================] - 3s 13ms/step - loss: 0.1400 - accuracy: 0.9505 - val_loss: 0.1317 - val_accuracy: 0.9559\n",
            "Epoch 2/6\n",
            "209/209 [==============================] - 3s 14ms/step - loss: 0.1306 - accuracy: 0.9532 - val_loss: 0.1326 - val_accuracy: 0.9529\n",
            "Epoch 3/6\n",
            "209/209 [==============================] - 3s 13ms/step - loss: 0.1242 - accuracy: 0.9558 - val_loss: 0.1298 - val_accuracy: 0.9565\n",
            "Epoch 4/6\n",
            "209/209 [==============================] - 3s 13ms/step - loss: 0.1189 - accuracy: 0.9584 - val_loss: 0.1328 - val_accuracy: 0.9526\n",
            "Epoch 5/6\n",
            "209/209 [==============================] - 3s 13ms/step - loss: 0.1128 - accuracy: 0.9607 - val_loss: 0.1321 - val_accuracy: 0.9538\n",
            "Epoch 6/6\n",
            "209/209 [==============================] - 3s 14ms/step - loss: 0.1070 - accuracy: 0.9632 - val_loss: 0.1324 - val_accuracy: 0.9538\n",
            "105/105 [==============================] - 0s 3ms/step - loss: 0.1324 - accuracy: 0.9538\n",
            "> 95.384\n",
            "Epoch 1/6\n",
            "209/209 [==============================] - 3s 13ms/step - loss: 0.1056 - accuracy: 0.9633 - val_loss: 0.0958 - val_accuracy: 0.9655\n",
            "Epoch 2/6\n",
            "209/209 [==============================] - 3s 13ms/step - loss: 0.1031 - accuracy: 0.9637 - val_loss: 0.1023 - val_accuracy: 0.9616\n",
            "Epoch 3/6\n",
            "209/209 [==============================] - 3s 13ms/step - loss: 0.0965 - accuracy: 0.9663 - val_loss: 0.0991 - val_accuracy: 0.9637\n",
            "Epoch 4/6\n",
            "209/209 [==============================] - 3s 12ms/step - loss: 0.0917 - accuracy: 0.9685 - val_loss: 0.1013 - val_accuracy: 0.9631\n",
            "Epoch 5/6\n",
            "209/209 [==============================] - 3s 13ms/step - loss: 0.0870 - accuracy: 0.9697 - val_loss: 0.1077 - val_accuracy: 0.9610\n",
            "Epoch 6/6\n",
            "209/209 [==============================] - 3s 13ms/step - loss: 0.0844 - accuracy: 0.9717 - val_loss: 0.1018 - val_accuracy: 0.9637\n",
            "105/105 [==============================] - 0s 3ms/step - loss: 0.1018 - accuracy: 0.9637\n",
            "> 96.373\n",
            "Epoch 1/6\n",
            "209/209 [==============================] - 3s 13ms/step - loss: 0.0823 - accuracy: 0.9722 - val_loss: 0.0707 - val_accuracy: 0.9775\n",
            "Epoch 2/6\n",
            "209/209 [==============================] - 3s 14ms/step - loss: 0.0795 - accuracy: 0.9736 - val_loss: 0.0762 - val_accuracy: 0.9754\n",
            "Epoch 3/6\n",
            "209/209 [==============================] - 3s 14ms/step - loss: 0.0757 - accuracy: 0.9746 - val_loss: 0.0812 - val_accuracy: 0.9721\n",
            "Epoch 4/6\n",
            "209/209 [==============================] - 3s 12ms/step - loss: 0.0717 - accuracy: 0.9764 - val_loss: 0.0733 - val_accuracy: 0.9757\n",
            "Epoch 5/6\n",
            "209/209 [==============================] - 3s 13ms/step - loss: 0.0690 - accuracy: 0.9779 - val_loss: 0.0745 - val_accuracy: 0.9736\n",
            "Epoch 6/6\n",
            "209/209 [==============================] - 3s 13ms/step - loss: 0.0648 - accuracy: 0.9791 - val_loss: 0.0786 - val_accuracy: 0.9715\n",
            "105/105 [==============================] - 0s 3ms/step - loss: 0.0786 - accuracy: 0.9715\n",
            "> 97.152\n",
            "Epoch 1/6\n",
            "209/209 [==============================] - 3s 12ms/step - loss: 0.0655 - accuracy: 0.9780 - val_loss: 0.0569 - val_accuracy: 0.9847\n",
            "Epoch 2/6\n",
            "209/209 [==============================] - 3s 13ms/step - loss: 0.0608 - accuracy: 0.9811 - val_loss: 0.0626 - val_accuracy: 0.9772\n",
            "Epoch 3/6\n",
            "209/209 [==============================] - 3s 13ms/step - loss: 0.0581 - accuracy: 0.9818 - val_loss: 0.0613 - val_accuracy: 0.9787\n",
            "Epoch 4/6\n",
            "209/209 [==============================] - 3s 13ms/step - loss: 0.0555 - accuracy: 0.9827 - val_loss: 0.0704 - val_accuracy: 0.9754\n",
            "Epoch 5/6\n",
            "209/209 [==============================] - 3s 13ms/step - loss: 0.0528 - accuracy: 0.9838 - val_loss: 0.0629 - val_accuracy: 0.9781\n",
            "Epoch 6/6\n",
            "209/209 [==============================] - 3s 12ms/step - loss: 0.0508 - accuracy: 0.9842 - val_loss: 0.0620 - val_accuracy: 0.9790\n",
            "105/105 [==============================] - 0s 3ms/step - loss: 0.0620 - accuracy: 0.9790\n",
            "> 97.902\n",
            "Epoch 1/6\n",
            "209/209 [==============================] - 3s 13ms/step - loss: 0.0504 - accuracy: 0.9844 - val_loss: 0.0438 - val_accuracy: 0.9880\n",
            "Epoch 2/6\n",
            "209/209 [==============================] - 3s 13ms/step - loss: 0.0468 - accuracy: 0.9862 - val_loss: 0.0510 - val_accuracy: 0.9844\n",
            "Epoch 3/6\n",
            "209/209 [==============================] - 3s 13ms/step - loss: 0.0459 - accuracy: 0.9863 - val_loss: 0.0502 - val_accuracy: 0.9862\n",
            "Epoch 4/6\n",
            "209/209 [==============================] - 3s 13ms/step - loss: 0.0425 - accuracy: 0.9874 - val_loss: 0.0536 - val_accuracy: 0.9829\n",
            "Epoch 5/6\n",
            "209/209 [==============================] - 3s 13ms/step - loss: 0.0416 - accuracy: 0.9872 - val_loss: 0.0496 - val_accuracy: 0.9835\n",
            "Epoch 6/6\n",
            "209/209 [==============================] - 3s 13ms/step - loss: 0.0407 - accuracy: 0.9883 - val_loss: 0.0531 - val_accuracy: 0.9829\n",
            "105/105 [==============================] - 0s 3ms/step - loss: 0.0531 - accuracy: 0.9829\n",
            "> 98.291\n",
            "Epoch 1/6\n",
            "209/209 [==============================] - 3s 13ms/step - loss: 0.0410 - accuracy: 0.9875 - val_loss: 0.0302 - val_accuracy: 0.9943\n",
            "Epoch 2/6\n",
            "209/209 [==============================] - 3s 12ms/step - loss: 0.0386 - accuracy: 0.9888 - val_loss: 0.0328 - val_accuracy: 0.9907\n",
            "Epoch 3/6\n",
            "209/209 [==============================] - 3s 14ms/step - loss: 0.0369 - accuracy: 0.9897 - val_loss: 0.0314 - val_accuracy: 0.9916\n",
            "Epoch 4/6\n",
            "209/209 [==============================] - 3s 14ms/step - loss: 0.0348 - accuracy: 0.9907 - val_loss: 0.0294 - val_accuracy: 0.9934\n",
            "Epoch 5/6\n",
            "209/209 [==============================] - 3s 13ms/step - loss: 0.0332 - accuracy: 0.9913 - val_loss: 0.0322 - val_accuracy: 0.9934\n",
            "Epoch 6/6\n",
            "209/209 [==============================] - 3s 13ms/step - loss: 0.0308 - accuracy: 0.9921 - val_loss: 0.0355 - val_accuracy: 0.9913\n",
            "105/105 [==============================] - 0s 3ms/step - loss: 0.0355 - accuracy: 0.9913\n",
            "> 99.131\n",
            "Epoch 1/6\n",
            "209/209 [==============================] - 3s 12ms/step - loss: 0.0320 - accuracy: 0.9915 - val_loss: 0.0286 - val_accuracy: 0.9910\n",
            "Epoch 2/6\n",
            "209/209 [==============================] - 3s 12ms/step - loss: 0.0299 - accuracy: 0.9922 - val_loss: 0.0263 - val_accuracy: 0.9946\n",
            "Epoch 3/6\n",
            "209/209 [==============================] - 3s 13ms/step - loss: 0.0278 - accuracy: 0.9933 - val_loss: 0.0287 - val_accuracy: 0.9910\n",
            "Epoch 4/6\n",
            "209/209 [==============================] - 3s 14ms/step - loss: 0.0272 - accuracy: 0.9929 - val_loss: 0.0265 - val_accuracy: 0.9919\n",
            "Epoch 5/6\n",
            "209/209 [==============================] - 3s 13ms/step - loss: 0.0246 - accuracy: 0.9940 - val_loss: 0.0291 - val_accuracy: 0.9901\n",
            "Epoch 6/6\n",
            "209/209 [==============================] - 3s 14ms/step - loss: 0.0250 - accuracy: 0.9935 - val_loss: 0.0287 - val_accuracy: 0.9913\n",
            "105/105 [==============================] - 0s 3ms/step - loss: 0.0287 - accuracy: 0.9913\n",
            "> 99.131\n",
            "Epoch 1/6\n",
            "209/209 [==============================] - 3s 13ms/step - loss: 0.0237 - accuracy: 0.9939 - val_loss: 0.0271 - val_accuracy: 0.9925\n",
            "Epoch 2/6\n",
            "209/209 [==============================] - 3s 13ms/step - loss: 0.0222 - accuracy: 0.9948 - val_loss: 0.0293 - val_accuracy: 0.9925\n",
            "Epoch 3/6\n",
            "209/209 [==============================] - 3s 12ms/step - loss: 0.0211 - accuracy: 0.9954 - val_loss: 0.0314 - val_accuracy: 0.9898\n",
            "Epoch 4/6\n",
            "209/209 [==============================] - 2s 12ms/step - loss: 0.0196 - accuracy: 0.9953 - val_loss: 0.0267 - val_accuracy: 0.9931\n",
            "Epoch 5/6\n",
            "209/209 [==============================] - 3s 13ms/step - loss: 0.0191 - accuracy: 0.9956 - val_loss: 0.0270 - val_accuracy: 0.9928\n",
            "Epoch 6/6\n",
            "209/209 [==============================] - 3s 13ms/step - loss: 0.0175 - accuracy: 0.9958 - val_loss: 0.0322 - val_accuracy: 0.9910\n",
            "105/105 [==============================] - 0s 3ms/step - loss: 0.0322 - accuracy: 0.9910\n",
            "> 99.101\n"
          ]
        },
        {
          "output_type": "stream",
          "name": "stderr",
          "text": [
            "/usr/local/lib/python3.7/dist-packages/ipykernel_launcher.py:5: MatplotlibDeprecationWarning: Adding an axes using the same arguments as a previous axes currently reuses the earlier instance.  In a future version, a new instance will always be created and returned.  Meanwhile, this warning can be suppressed, and the future behavior ensured, by passing a unique label to each axes instance.\n",
            "  \"\"\"\n",
            "/usr/local/lib/python3.7/dist-packages/ipykernel_launcher.py:10: MatplotlibDeprecationWarning: Adding an axes using the same arguments as a previous axes currently reuses the earlier instance.  In a future version, a new instance will always be created and returned.  Meanwhile, this warning can be suppressed, and the future behavior ensured, by passing a unique label to each axes instance.\n",
            "  # Remove the CWD from sys.path while we load stuff.\n"
          ]
        },
        {
          "output_type": "display_data",
          "data": {
            "text/plain": [
              "<Figure size 432x288 with 2 Axes>"
            ],
            "image/png": "[encoded data removed]"
          },
          "metadata": {
            "needs_background": "light"
          }
        },
        {
          "output_type": "stream",
          "name": "stdout",
          "text": [
            "Accuracy: mean=96.706 std=2.514, n=10\n"
          ]
        },
        {
          "output_type": "display_data",
          "data": {
            "text/plain": [
              "<Figure size 432x288 with 1 Axes>"
            ],
            "image/png": "[encoded data removed]"
          },
          "metadata": {
            "needs_background": "light"
          }
        },
        {
          "output_type": "stream",
          "name": "stdout",
          "text": [
            "['final_model_loaded_weights on mix data with LR=0.0001 & epoch=6', 100.0, 90.243, 84.39]\n"
          ]
        }
      ]
    },
    {
      "cell_type": "code",
      "source": [
        "model = tf.keras.models.load_model(\"final_model_loaded_weights\")\n",
        "from keras import backend as K\n",
        "K.set_value(model.optimizer.learning_rate, 0.0001)\n",
        "scores, histories, model = evaluate_model(model, train_mixX_b3, train_mixy_b3,10,7,144)\n",
        "\n",
        "\n",
        "\n",
        "# learning curves\n",
        "summarize_diagnostics(histories)\n",
        "# summarize estimated performance\n",
        "summarize_performance(scores)\n",
        "desc = \"final_model_loaded_weights on mix data with LR=0.0001 & epoch=7\"\n",
        "results.append([desc,round(model.evaluate(train_per_x, train_per_y, verbose=0)[1]*100,3),round(model.evaluate(trainX, trainy, verbose=0)[1]*100,3),round(model.evaluate(testX, testy, verbose=0)[1]*100,3)])\n",
        "print (results[len(results)-1])"
      ],
      "metadata": {
        "colab": {
          "base_uri": "https://localhost:8080/",
          "height": 1000
        },
        "id": "_yJL72rNo-tG",
        "outputId": "a6c15f17-4848-494e-ee51-ccffd2c4f20f"
      },
      "execution_count": 25,
      "outputs": [
        {
          "output_type": "stream",
          "name": "stdout",
          "text": [
            "Epoch 1/7\n",
            "209/209 [==============================] - 3s 15ms/step - loss: 1.4419 - accuracy: 0.6766 - val_loss: 0.4574 - val_accuracy: 0.8561\n",
            "Epoch 2/7\n",
            "209/209 [==============================] - 3s 12ms/step - loss: 0.3878 - accuracy: 0.8769 - val_loss: 0.3248 - val_accuracy: 0.8906\n",
            "Epoch 3/7\n",
            "209/209 [==============================] - 3s 14ms/step - loss: 0.2972 - accuracy: 0.9024 - val_loss: 0.2863 - val_accuracy: 0.9035\n",
            "Epoch 4/7\n",
            "209/209 [==============================] - 3s 13ms/step - loss: 0.2542 - accuracy: 0.9138 - val_loss: 0.2552 - val_accuracy: 0.9134\n",
            "Epoch 5/7\n",
            "209/209 [==============================] - 3s 14ms/step - loss: 0.2275 - accuracy: 0.9220 - val_loss: 0.2393 - val_accuracy: 0.9155\n",
            "Epoch 6/7\n",
            "209/209 [==============================] - 3s 14ms/step - loss: 0.2074 - accuracy: 0.9282 - val_loss: 0.2271 - val_accuracy: 0.9167\n",
            "Epoch 7/7\n",
            "209/209 [==============================] - 3s 13ms/step - loss: 0.1920 - accuracy: 0.9325 - val_loss: 0.2135 - val_accuracy: 0.9230\n",
            "105/105 [==============================] - 0s 3ms/step - loss: 0.2135 - accuracy: 0.9230\n",
            "> 92.296\n",
            "Epoch 1/7\n",
            "209/209 [==============================] - 3s 14ms/step - loss: 0.1808 - accuracy: 0.9361 - val_loss: 0.1843 - val_accuracy: 0.9269\n",
            "Epoch 2/7\n",
            "209/209 [==============================] - 3s 13ms/step - loss: 0.1690 - accuracy: 0.9391 - val_loss: 0.1749 - val_accuracy: 0.9385\n",
            "Epoch 3/7\n",
            "209/209 [==============================] - 3s 13ms/step - loss: 0.1574 - accuracy: 0.9436 - val_loss: 0.1846 - val_accuracy: 0.9323\n",
            "Epoch 4/7\n",
            "209/209 [==============================] - 3s 13ms/step - loss: 0.1488 - accuracy: 0.9484 - val_loss: 0.1739 - val_accuracy: 0.9385\n",
            "Epoch 5/7\n",
            "209/209 [==============================] - 3s 13ms/step - loss: 0.1400 - accuracy: 0.9498 - val_loss: 0.1796 - val_accuracy: 0.9338\n",
            "Epoch 6/7\n",
            "209/209 [==============================] - 3s 14ms/step - loss: 0.1334 - accuracy: 0.9531 - val_loss: 0.1830 - val_accuracy: 0.9302\n",
            "Epoch 7/7\n",
            "209/209 [==============================] - 3s 13ms/step - loss: 0.1265 - accuracy: 0.9554 - val_loss: 0.1676 - val_accuracy: 0.9403\n",
            "105/105 [==============================] - 0s 3ms/step - loss: 0.1676 - accuracy: 0.9403\n",
            "> 94.035\n",
            "Epoch 1/7\n",
            "209/209 [==============================] - 3s 14ms/step - loss: 0.1272 - accuracy: 0.9556 - val_loss: 0.1187 - val_accuracy: 0.9604\n",
            "Epoch 2/7\n",
            "209/209 [==============================] - 3s 14ms/step - loss: 0.1197 - accuracy: 0.9579 - val_loss: 0.1199 - val_accuracy: 0.9577\n",
            "Epoch 3/7\n",
            "209/209 [==============================] - 3s 14ms/step - loss: 0.1143 - accuracy: 0.9601 - val_loss: 0.1180 - val_accuracy: 0.9598\n",
            "Epoch 4/7\n",
            "209/209 [==============================] - 3s 13ms/step - loss: 0.1091 - accuracy: 0.9619 - val_loss: 0.1207 - val_accuracy: 0.9568\n",
            "Epoch 5/7\n",
            "209/209 [==============================] - 3s 12ms/step - loss: 0.1038 - accuracy: 0.9640 - val_loss: 0.1207 - val_accuracy: 0.9580\n",
            "Epoch 6/7\n",
            "209/209 [==============================] - 3s 14ms/step - loss: 0.0983 - accuracy: 0.9665 - val_loss: 0.1222 - val_accuracy: 0.9556\n",
            "Epoch 7/7\n",
            "209/209 [==============================] - 3s 14ms/step - loss: 0.0941 - accuracy: 0.9675 - val_loss: 0.1269 - val_accuracy: 0.9514\n",
            "105/105 [==============================] - 0s 3ms/step - loss: 0.1269 - accuracy: 0.9514\n",
            "> 95.144\n",
            "Epoch 1/7\n",
            "209/209 [==============================] - 3s 14ms/step - loss: 0.0940 - accuracy: 0.9676 - val_loss: 0.0826 - val_accuracy: 0.9721\n",
            "Epoch 2/7\n",
            "209/209 [==============================] - 3s 13ms/step - loss: 0.0913 - accuracy: 0.9685 - val_loss: 0.0879 - val_accuracy: 0.9694\n",
            "Epoch 3/7\n",
            "209/209 [==============================] - 3s 13ms/step - loss: 0.0855 - accuracy: 0.9710 - val_loss: 0.0866 - val_accuracy: 0.9676\n",
            "Epoch 4/7\n",
            "209/209 [==============================] - 3s 13ms/step - loss: 0.0812 - accuracy: 0.9725 - val_loss: 0.0886 - val_accuracy: 0.9673\n",
            "Epoch 5/7\n",
            "209/209 [==============================] - 3s 13ms/step - loss: 0.0769 - accuracy: 0.9737 - val_loss: 0.0952 - val_accuracy: 0.9640\n",
            "Epoch 6/7\n",
            "209/209 [==============================] - 3s 12ms/step - loss: 0.0746 - accuracy: 0.9755 - val_loss: 0.0899 - val_accuracy: 0.9673\n",
            "Epoch 7/7\n",
            "209/209 [==============================] - 3s 14ms/step - loss: 0.0700 - accuracy: 0.9781 - val_loss: 0.0909 - val_accuracy: 0.9676\n",
            "105/105 [==============================] - 0s 3ms/step - loss: 0.0909 - accuracy: 0.9676\n",
            "> 96.763\n",
            "Epoch 1/7\n",
            "209/209 [==============================] - 3s 13ms/step - loss: 0.0701 - accuracy: 0.9766 - val_loss: 0.0596 - val_accuracy: 0.9829\n",
            "Epoch 2/7\n",
            "209/209 [==============================] - 3s 13ms/step - loss: 0.0675 - accuracy: 0.9782 - val_loss: 0.0657 - val_accuracy: 0.9802\n",
            "Epoch 3/7\n",
            "209/209 [==============================] - 3s 13ms/step - loss: 0.0643 - accuracy: 0.9793 - val_loss: 0.0683 - val_accuracy: 0.9772\n",
            "Epoch 4/7\n",
            "209/209 [==============================] - 3s 13ms/step - loss: 0.0611 - accuracy: 0.9807 - val_loss: 0.0631 - val_accuracy: 0.9793\n",
            "Epoch 5/7\n",
            "209/209 [==============================] - 3s 13ms/step - loss: 0.0587 - accuracy: 0.9817 - val_loss: 0.0637 - val_accuracy: 0.9811\n",
            "Epoch 6/7\n",
            "209/209 [==============================] - 3s 13ms/step - loss: 0.0551 - accuracy: 0.9833 - val_loss: 0.0681 - val_accuracy: 0.9778\n",
            "Epoch 7/7\n",
            "209/209 [==============================] - 3s 13ms/step - loss: 0.0526 - accuracy: 0.9844 - val_loss: 0.0665 - val_accuracy: 0.9769\n",
            "105/105 [==============================] - 0s 3ms/step - loss: 0.0665 - accuracy: 0.9769\n",
            "> 97.692\n",
            "Epoch 1/7\n",
            "209/209 [==============================] - 3s 14ms/step - loss: 0.0540 - accuracy: 0.9826 - val_loss: 0.0466 - val_accuracy: 0.9871\n",
            "Epoch 2/7\n",
            "209/209 [==============================] - 3s 12ms/step - loss: 0.0496 - accuracy: 0.9850 - val_loss: 0.0507 - val_accuracy: 0.9847\n",
            "Epoch 3/7\n",
            "209/209 [==============================] - 3s 14ms/step - loss: 0.0471 - accuracy: 0.9857 - val_loss: 0.0509 - val_accuracy: 0.9832\n",
            "Epoch 4/7\n",
            "209/209 [==============================] - 3s 14ms/step - loss: 0.0454 - accuracy: 0.9863 - val_loss: 0.0594 - val_accuracy: 0.9799\n",
            "Epoch 5/7\n",
            "209/209 [==============================] - 3s 13ms/step - loss: 0.0432 - accuracy: 0.9873 - val_loss: 0.0518 - val_accuracy: 0.9832\n",
            "Epoch 6/7\n",
            "209/209 [==============================] - 3s 14ms/step - loss: 0.0413 - accuracy: 0.9881 - val_loss: 0.0518 - val_accuracy: 0.9841\n",
            "Epoch 7/7\n",
            "209/209 [==============================] - 3s 13ms/step - loss: 0.0386 - accuracy: 0.9892 - val_loss: 0.0514 - val_accuracy: 0.9823\n",
            "105/105 [==============================] - 0s 3ms/step - loss: 0.0514 - accuracy: 0.9823\n",
            "> 98.231\n",
            "Epoch 1/7\n",
            "209/209 [==============================] - 3s 15ms/step - loss: 0.0399 - accuracy: 0.9885 - val_loss: 0.0325 - val_accuracy: 0.9934\n",
            "Epoch 2/7\n",
            "209/209 [==============================] - 3s 13ms/step - loss: 0.0366 - accuracy: 0.9902 - val_loss: 0.0389 - val_accuracy: 0.9901\n",
            "Epoch 3/7\n",
            "209/209 [==============================] - 3s 13ms/step - loss: 0.0358 - accuracy: 0.9906 - val_loss: 0.0394 - val_accuracy: 0.9892\n",
            "Epoch 4/7\n",
            "209/209 [==============================] - 3s 13ms/step - loss: 0.0330 - accuracy: 0.9908 - val_loss: 0.0411 - val_accuracy: 0.9871\n",
            "Epoch 5/7\n",
            "209/209 [==============================] - 3s 12ms/step - loss: 0.0328 - accuracy: 0.9912 - val_loss: 0.0396 - val_accuracy: 0.9895\n",
            "Epoch 6/7\n",
            "209/209 [==============================] - 3s 12ms/step - loss: 0.0324 - accuracy: 0.9913 - val_loss: 0.0405 - val_accuracy: 0.9898\n",
            "Epoch 7/7\n",
            "209/209 [==============================] - 3s 14ms/step - loss: 0.0310 - accuracy: 0.9917 - val_loss: 0.0405 - val_accuracy: 0.9874\n",
            "105/105 [==============================] - 0s 3ms/step - loss: 0.0405 - accuracy: 0.9874\n",
            "> 98.741\n",
            "Epoch 1/7\n",
            "209/209 [==============================] - 3s 14ms/step - loss: 0.0308 - accuracy: 0.9919 - val_loss: 0.0212 - val_accuracy: 0.9955\n",
            "Epoch 2/7\n",
            "209/209 [==============================] - 3s 14ms/step - loss: 0.0295 - accuracy: 0.9918 - val_loss: 0.0233 - val_accuracy: 0.9949\n",
            "Epoch 3/7\n",
            "209/209 [==============================] - 3s 14ms/step - loss: 0.0278 - accuracy: 0.9934 - val_loss: 0.0227 - val_accuracy: 0.9952\n",
            "Epoch 4/7\n",
            "209/209 [==============================] - 3s 13ms/step - loss: 0.0261 - accuracy: 0.9934 - val_loss: 0.0208 - val_accuracy: 0.9961\n",
            "Epoch 5/7\n",
            "209/209 [==============================] - 3s 13ms/step - loss: 0.0251 - accuracy: 0.9939 - val_loss: 0.0241 - val_accuracy: 0.9955\n",
            "Epoch 6/7\n",
            "209/209 [==============================] - 3s 14ms/step - loss: 0.0230 - accuracy: 0.9948 - val_loss: 0.0252 - val_accuracy: 0.9946\n",
            "Epoch 7/7\n",
            "209/209 [==============================] - 3s 13ms/step - loss: 0.0224 - accuracy: 0.9948 - val_loss: 0.0281 - val_accuracy: 0.9916\n",
            "105/105 [==============================] - 0s 3ms/step - loss: 0.0281 - accuracy: 0.9916\n",
            "> 99.161\n",
            "Epoch 1/7\n",
            "209/209 [==============================] - 3s 14ms/step - loss: 0.0227 - accuracy: 0.9943 - val_loss: 0.0208 - val_accuracy: 0.9952\n",
            "Epoch 2/7\n",
            "209/209 [==============================] - 3s 13ms/step - loss: 0.0215 - accuracy: 0.9948 - val_loss: 0.0187 - val_accuracy: 0.9958\n",
            "Epoch 3/7\n",
            "209/209 [==============================] - 3s 13ms/step - loss: 0.0204 - accuracy: 0.9952 - val_loss: 0.0200 - val_accuracy: 0.9943\n",
            "Epoch 4/7\n",
            "209/209 [==============================] - 3s 14ms/step - loss: 0.0193 - accuracy: 0.9953 - val_loss: 0.0191 - val_accuracy: 0.9949\n",
            "Epoch 5/7\n",
            "209/209 [==============================] - 3s 13ms/step - loss: 0.0176 - accuracy: 0.9964 - val_loss: 0.0201 - val_accuracy: 0.9943\n",
            "Epoch 6/7\n",
            "209/209 [==============================] - 3s 13ms/step - loss: 0.0179 - accuracy: 0.9956 - val_loss: 0.0209 - val_accuracy: 0.9949\n",
            "Epoch 7/7\n",
            "209/209 [==============================] - 3s 14ms/step - loss: 0.0165 - accuracy: 0.9965 - val_loss: 0.0248 - val_accuracy: 0.9913\n",
            "105/105 [==============================] - 0s 3ms/step - loss: 0.0248 - accuracy: 0.9913\n",
            "> 99.131\n",
            "Epoch 1/7\n",
            "209/209 [==============================] - 3s 13ms/step - loss: 0.0174 - accuracy: 0.9959 - val_loss: 0.0180 - val_accuracy: 0.9955\n",
            "Epoch 2/7\n",
            "209/209 [==============================] - 3s 13ms/step - loss: 0.0147 - accuracy: 0.9970 - val_loss: 0.0204 - val_accuracy: 0.9949\n",
            "Epoch 3/7\n",
            "209/209 [==============================] - 3s 13ms/step - loss: 0.0144 - accuracy: 0.9972 - val_loss: 0.0201 - val_accuracy: 0.9952\n",
            "Epoch 4/7\n",
            "209/209 [==============================] - 3s 13ms/step - loss: 0.0129 - accuracy: 0.9977 - val_loss: 0.0168 - val_accuracy: 0.9970\n",
            "Epoch 5/7\n",
            "209/209 [==============================] - 3s 13ms/step - loss: 0.0129 - accuracy: 0.9974 - val_loss: 0.0183 - val_accuracy: 0.9964\n",
            "Epoch 6/7\n",
            "209/209 [==============================] - 3s 12ms/step - loss: 0.0120 - accuracy: 0.9977 - val_loss: 0.0209 - val_accuracy: 0.9943\n",
            "Epoch 7/7\n",
            "209/209 [==============================] - 3s 13ms/step - loss: 0.0116 - accuracy: 0.9980 - val_loss: 0.0200 - val_accuracy: 0.9943\n",
            "105/105 [==============================] - 0s 3ms/step - loss: 0.0200 - accuracy: 0.9943\n",
            "> 99.430\n"
          ]
        },
        {
          "output_type": "stream",
          "name": "stderr",
          "text": [
            "/usr/local/lib/python3.7/dist-packages/ipykernel_launcher.py:5: MatplotlibDeprecationWarning: Adding an axes using the same arguments as a previous axes currently reuses the earlier instance.  In a future version, a new instance will always be created and returned.  Meanwhile, this warning can be suppressed, and the future behavior ensured, by passing a unique label to each axes instance.\n",
            "  \"\"\"\n",
            "/usr/local/lib/python3.7/dist-packages/ipykernel_launcher.py:10: MatplotlibDeprecationWarning: Adding an axes using the same arguments as a previous axes currently reuses the earlier instance.  In a future version, a new instance will always be created and returned.  Meanwhile, this warning can be suppressed, and the future behavior ensured, by passing a unique label to each axes instance.\n",
            "  # Remove the CWD from sys.path while we load stuff.\n"
          ]
        },
        {
          "output_type": "display_data",
          "data": {
            "text/plain": [
              "<Figure size 432x288 with 2 Axes>"
            ],
            "image/png": "[encoded data removed]"
          },
          "metadata": {
            "needs_background": "light"
          }
        },
        {
          "output_type": "stream",
          "name": "stdout",
          "text": [
            "Accuracy: mean=97.062 std=2.335, n=10\n"
          ]
        },
        {
          "output_type": "display_data",
          "data": {
            "text/plain": [
              "<Figure size 432x288 with 1 Axes>"
            ],
            "image/png": "[encoded data removed]"
          },
          "metadata": {
            "needs_background": "light"
          }
        },
        {
          "output_type": "stream",
          "name": "stdout",
          "text": [
            "['final_model_loaded_weights on mix data with LR=0.0001 & epoch=7', 100.0, 89.312, 84.0]\n"
          ]
        }
      ]
    },
    {
      "cell_type": "code",
      "source": [
        "model = tf.keras.models.load_model(\"final_model_loaded_weights\")\n",
        "from keras import backend as K\n",
        "K.set_value(model.optimizer.learning_rate, 0.0001)\n",
        "scores, histories, model = evaluate_model(model, train_mixX_b3, train_mixy_b3,10,8,144)\n",
        "\n",
        "\n",
        "\n",
        "# learning curves\n",
        "summarize_diagnostics(histories)\n",
        "# summarize estimated performance\n",
        "summarize_performance(scores)\n",
        "desc = \"final_model_loaded_weights on mix data with LR=0.0001 & epoch=8\"\n",
        "results.append([desc,round(model.evaluate(train_per_x, train_per_y, verbose=0)[1]*100,3),round(model.evaluate(trainX, trainy, verbose=0)[1]*100,3),round(model.evaluate(testX, testy, verbose=0)[1]*100,3)])\n",
        "print (results[len(results)-1])"
      ],
      "metadata": {
        "colab": {
          "base_uri": "https://localhost:8080/",
          "height": 1000
        },
        "id": "Id3BbWhjaj1X",
        "outputId": "cca6e284-125d-4dcb-dc33-b0f430b25d87"
      },
      "execution_count": 26,
      "outputs": [
        {
          "output_type": "stream",
          "name": "stdout",
          "text": [
            "Epoch 1/8\n",
            "209/209 [==============================] - 3s 14ms/step - loss: 1.4419 - accuracy: 0.6766 - val_loss: 0.4574 - val_accuracy: 0.8561\n",
            "Epoch 2/8\n",
            "209/209 [==============================] - 3s 13ms/step - loss: 0.3878 - accuracy: 0.8769 - val_loss: 0.3248 - val_accuracy: 0.8906\n",
            "Epoch 3/8\n",
            "209/209 [==============================] - 3s 13ms/step - loss: 0.2972 - accuracy: 0.9024 - val_loss: 0.2863 - val_accuracy: 0.9035\n",
            "Epoch 4/8\n",
            "209/209 [==============================] - 3s 13ms/step - loss: 0.2542 - accuracy: 0.9138 - val_loss: 0.2552 - val_accuracy: 0.9134\n",
            "Epoch 5/8\n",
            "209/209 [==============================] - 3s 12ms/step - loss: 0.2275 - accuracy: 0.9220 - val_loss: 0.2393 - val_accuracy: 0.9155\n",
            "Epoch 6/8\n",
            "209/209 [==============================] - 2s 12ms/step - loss: 0.2074 - accuracy: 0.9282 - val_loss: 0.2271 - val_accuracy: 0.9167\n",
            "Epoch 7/8\n",
            "209/209 [==============================] - 2s 12ms/step - loss: 0.1920 - accuracy: 0.9325 - val_loss: 0.2135 - val_accuracy: 0.9230\n",
            "Epoch 8/8\n",
            "209/209 [==============================] - 3s 12ms/step - loss: 0.1775 - accuracy: 0.9380 - val_loss: 0.2125 - val_accuracy: 0.9236\n",
            "105/105 [==============================] - 0s 3ms/step - loss: 0.2125 - accuracy: 0.9236\n",
            "> 92.356\n",
            "Epoch 1/8\n",
            "209/209 [==============================] - 3s 14ms/step - loss: 0.1699 - accuracy: 0.9398 - val_loss: 0.1734 - val_accuracy: 0.9317\n",
            "Epoch 2/8\n",
            "209/209 [==============================] - 3s 13ms/step - loss: 0.1595 - accuracy: 0.9425 - val_loss: 0.1653 - val_accuracy: 0.9412\n",
            "Epoch 3/8\n",
            "209/209 [==============================] - 3s 13ms/step - loss: 0.1490 - accuracy: 0.9469 - val_loss: 0.1770 - val_accuracy: 0.9347\n",
            "Epoch 4/8\n",
            "209/209 [==============================] - 3s 13ms/step - loss: 0.1411 - accuracy: 0.9505 - val_loss: 0.1656 - val_accuracy: 0.9412\n",
            "Epoch 5/8\n",
            "209/209 [==============================] - 3s 14ms/step - loss: 0.1331 - accuracy: 0.9520 - val_loss: 0.1725 - val_accuracy: 0.9365\n",
            "Epoch 6/8\n",
            "209/209 [==============================] - 3s 14ms/step - loss: 0.1271 - accuracy: 0.9550 - val_loss: 0.1758 - val_accuracy: 0.9332\n",
            "Epoch 7/8\n",
            "209/209 [==============================] - 3s 13ms/step - loss: 0.1206 - accuracy: 0.9576 - val_loss: 0.1618 - val_accuracy: 0.9409\n",
            "Epoch 8/8\n",
            "209/209 [==============================] - 3s 13ms/step - loss: 0.1154 - accuracy: 0.9599 - val_loss: 0.1608 - val_accuracy: 0.9430\n",
            "105/105 [==============================] - 0s 3ms/step - loss: 0.1608 - accuracy: 0.9430\n",
            "> 94.305\n",
            "Epoch 1/8\n",
            "209/209 [==============================] - 3s 13ms/step - loss: 0.1170 - accuracy: 0.9595 - val_loss: 0.1078 - val_accuracy: 0.9637\n",
            "Epoch 2/8\n",
            "209/209 [==============================] - 3s 13ms/step - loss: 0.1099 - accuracy: 0.9610 - val_loss: 0.1090 - val_accuracy: 0.9595\n",
            "Epoch 3/8\n",
            "209/209 [==============================] - 3s 13ms/step - loss: 0.1051 - accuracy: 0.9638 - val_loss: 0.1075 - val_accuracy: 0.9628\n",
            "Epoch 4/8\n",
            "209/209 [==============================] - 3s 13ms/step - loss: 0.1003 - accuracy: 0.9654 - val_loss: 0.1104 - val_accuracy: 0.9598\n",
            "Epoch 5/8\n",
            "209/209 [==============================] - 3s 14ms/step - loss: 0.0954 - accuracy: 0.9673 - val_loss: 0.1116 - val_accuracy: 0.9598\n",
            "Epoch 6/8\n",
            "209/209 [==============================] - 3s 13ms/step - loss: 0.0903 - accuracy: 0.9697 - val_loss: 0.1139 - val_accuracy: 0.9577\n",
            "Epoch 7/8\n",
            "209/209 [==============================] - 3s 14ms/step - loss: 0.0866 - accuracy: 0.9703 - val_loss: 0.1177 - val_accuracy: 0.9547\n",
            "Epoch 8/8\n",
            "209/209 [==============================] - 3s 13ms/step - loss: 0.0829 - accuracy: 0.9713 - val_loss: 0.1112 - val_accuracy: 0.9592\n",
            "105/105 [==============================] - 0s 4ms/step - loss: 0.1112 - accuracy: 0.9592\n",
            "> 95.923\n",
            "Epoch 1/8\n",
            "209/209 [==============================] - 3s 14ms/step - loss: 0.0826 - accuracy: 0.9726 - val_loss: 0.0715 - val_accuracy: 0.9751\n",
            "Epoch 2/8\n",
            "209/209 [==============================] - 3s 13ms/step - loss: 0.0810 - accuracy: 0.9722 - val_loss: 0.0763 - val_accuracy: 0.9742\n",
            "Epoch 3/8\n",
            "209/209 [==============================] - 3s 14ms/step - loss: 0.0755 - accuracy: 0.9748 - val_loss: 0.0749 - val_accuracy: 0.9748\n",
            "Epoch 4/8\n",
            "209/209 [==============================] - 3s 13ms/step - loss: 0.0719 - accuracy: 0.9770 - val_loss: 0.0784 - val_accuracy: 0.9715\n",
            "Epoch 5/8\n",
            "209/209 [==============================] - 3s 12ms/step - loss: 0.0680 - accuracy: 0.9774 - val_loss: 0.0835 - val_accuracy: 0.9697\n",
            "Epoch 6/8\n",
            "209/209 [==============================] - 3s 12ms/step - loss: 0.0659 - accuracy: 0.9789 - val_loss: 0.0791 - val_accuracy: 0.9709\n",
            "Epoch 7/8\n",
            "209/209 [==============================] - 3s 13ms/step - loss: 0.0619 - accuracy: 0.9809 - val_loss: 0.0797 - val_accuracy: 0.9718\n",
            "Epoch 8/8\n",
            "209/209 [==============================] - 3s 13ms/step - loss: 0.0604 - accuracy: 0.9806 - val_loss: 0.0805 - val_accuracy: 0.9721\n",
            "105/105 [==============================] - 0s 3ms/step - loss: 0.0805 - accuracy: 0.9721\n",
            "> 97.212\n",
            "Epoch 1/8\n",
            "209/209 [==============================] - 3s 13ms/step - loss: 0.0594 - accuracy: 0.9804 - val_loss: 0.0498 - val_accuracy: 0.9868\n",
            "Epoch 2/8\n",
            "209/209 [==============================] - 3s 13ms/step - loss: 0.0572 - accuracy: 0.9824 - val_loss: 0.0563 - val_accuracy: 0.9838\n",
            "Epoch 3/8\n",
            "209/209 [==============================] - 3s 14ms/step - loss: 0.0544 - accuracy: 0.9837 - val_loss: 0.0575 - val_accuracy: 0.9808\n",
            "Epoch 4/8\n",
            "209/209 [==============================] - 3s 13ms/step - loss: 0.0518 - accuracy: 0.9842 - val_loss: 0.0545 - val_accuracy: 0.9814\n",
            "Epoch 5/8\n",
            "209/209 [==============================] - 3s 13ms/step - loss: 0.0495 - accuracy: 0.9854 - val_loss: 0.0545 - val_accuracy: 0.9838\n",
            "Epoch 6/8\n",
            "209/209 [==============================] - 3s 13ms/step - loss: 0.0466 - accuracy: 0.9870 - val_loss: 0.0576 - val_accuracy: 0.9820\n",
            "Epoch 7/8\n",
            "209/209 [==============================] - 3s 14ms/step - loss: 0.0445 - accuracy: 0.9874 - val_loss: 0.0563 - val_accuracy: 0.9796\n",
            "Epoch 8/8\n",
            "209/209 [==============================] - 3s 13ms/step - loss: 0.0433 - accuracy: 0.9877 - val_loss: 0.0605 - val_accuracy: 0.9778\n",
            "105/105 [==============================] - 0s 3ms/step - loss: 0.0605 - accuracy: 0.9778\n",
            "> 97.782\n",
            "Epoch 1/8\n",
            "209/209 [==============================] - 3s 13ms/step - loss: 0.0447 - accuracy: 0.9867 - val_loss: 0.0381 - val_accuracy: 0.9913\n",
            "Epoch 2/8\n",
            "209/209 [==============================] - 3s 13ms/step - loss: 0.0403 - accuracy: 0.9887 - val_loss: 0.0415 - val_accuracy: 0.9895\n",
            "Epoch 3/8\n",
            "209/209 [==============================] - 3s 12ms/step - loss: 0.0382 - accuracy: 0.9893 - val_loss: 0.0417 - val_accuracy: 0.9877\n",
            "Epoch 4/8\n",
            "209/209 [==============================] - 3s 14ms/step - loss: 0.0368 - accuracy: 0.9901 - val_loss: 0.0508 - val_accuracy: 0.9829\n",
            "Epoch 5/8\n",
            "209/209 [==============================] - 3s 13ms/step - loss: 0.0351 - accuracy: 0.9905 - val_loss: 0.0426 - val_accuracy: 0.9874\n",
            "Epoch 6/8\n",
            "209/209 [==============================] - 3s 14ms/step - loss: 0.0337 - accuracy: 0.9909 - val_loss: 0.0419 - val_accuracy: 0.9874\n",
            "Epoch 7/8\n",
            "209/209 [==============================] - 3s 13ms/step - loss: 0.0312 - accuracy: 0.9921 - val_loss: 0.0416 - val_accuracy: 0.9868\n",
            "Epoch 8/8\n",
            "209/209 [==============================] - 3s 13ms/step - loss: 0.0299 - accuracy: 0.9929 - val_loss: 0.0469 - val_accuracy: 0.9841\n",
            "105/105 [==============================] - 0s 3ms/step - loss: 0.0469 - accuracy: 0.9841\n",
            "> 98.411\n",
            "Epoch 1/8\n",
            "209/209 [==============================] - 3s 13ms/step - loss: 0.0325 - accuracy: 0.9905 - val_loss: 0.0245 - val_accuracy: 0.9967\n",
            "Epoch 2/8\n",
            "209/209 [==============================] - 3s 14ms/step - loss: 0.0288 - accuracy: 0.9926 - val_loss: 0.0291 - val_accuracy: 0.9934\n",
            "Epoch 3/8\n",
            "209/209 [==============================] - 3s 15ms/step - loss: 0.0281 - accuracy: 0.9929 - val_loss: 0.0304 - val_accuracy: 0.9919\n",
            "Epoch 4/8\n",
            "209/209 [==============================] - 3s 14ms/step - loss: 0.0255 - accuracy: 0.9933 - val_loss: 0.0322 - val_accuracy: 0.9913\n",
            "Epoch 5/8\n",
            "209/209 [==============================] - 3s 13ms/step - loss: 0.0258 - accuracy: 0.9933 - val_loss: 0.0302 - val_accuracy: 0.9919\n",
            "Epoch 6/8\n",
            "209/209 [==============================] - 3s 14ms/step - loss: 0.0254 - accuracy: 0.9935 - val_loss: 0.0306 - val_accuracy: 0.9916\n",
            "Epoch 7/8\n",
            "209/209 [==============================] - 3s 13ms/step - loss: 0.0247 - accuracy: 0.9933 - val_loss: 0.0317 - val_accuracy: 0.9907\n",
            "Epoch 8/8\n",
            "209/209 [==============================] - 3s 13ms/step - loss: 0.0224 - accuracy: 0.9946 - val_loss: 0.0299 - val_accuracy: 0.9922\n",
            "105/105 [==============================] - 0s 3ms/step - loss: 0.0299 - accuracy: 0.9922\n",
            "> 99.221\n",
            "Epoch 1/8\n",
            "209/209 [==============================] - 3s 13ms/step - loss: 0.0229 - accuracy: 0.9945 - val_loss: 0.0156 - val_accuracy: 0.9967\n",
            "Epoch 2/8\n",
            "209/209 [==============================] - 3s 13ms/step - loss: 0.0225 - accuracy: 0.9940 - val_loss: 0.0166 - val_accuracy: 0.9970\n",
            "Epoch 3/8\n",
            "209/209 [==============================] - 3s 13ms/step - loss: 0.0209 - accuracy: 0.9956 - val_loss: 0.0167 - val_accuracy: 0.9976\n",
            "Epoch 4/8\n",
            "209/209 [==============================] - 3s 14ms/step - loss: 0.0196 - accuracy: 0.9953 - val_loss: 0.0153 - val_accuracy: 0.9979\n",
            "Epoch 5/8\n",
            "209/209 [==============================] - 3s 14ms/step - loss: 0.0191 - accuracy: 0.9953 - val_loss: 0.0181 - val_accuracy: 0.9976\n",
            "Epoch 6/8\n",
            "209/209 [==============================] - 3s 13ms/step - loss: 0.0170 - accuracy: 0.9962 - val_loss: 0.0179 - val_accuracy: 0.9976\n",
            "Epoch 7/8\n",
            "209/209 [==============================] - 3s 13ms/step - loss: 0.0159 - accuracy: 0.9969 - val_loss: 0.0196 - val_accuracy: 0.9964\n",
            "Epoch 8/8\n",
            "209/209 [==============================] - 3s 13ms/step - loss: 0.0161 - accuracy: 0.9968 - val_loss: 0.0201 - val_accuracy: 0.9955\n",
            "105/105 [==============================] - 0s 3ms/step - loss: 0.0201 - accuracy: 0.9955\n",
            "> 99.550\n",
            "Epoch 1/8\n",
            "209/209 [==============================] - 3s 13ms/step - loss: 0.0172 - accuracy: 0.9956 - val_loss: 0.0132 - val_accuracy: 0.9979\n",
            "Epoch 2/8\n",
            "209/209 [==============================] - 3s 14ms/step - loss: 0.0158 - accuracy: 0.9967 - val_loss: 0.0141 - val_accuracy: 0.9967\n",
            "Epoch 3/8\n",
            "209/209 [==============================] - 3s 13ms/step - loss: 0.0146 - accuracy: 0.9970 - val_loss: 0.0125 - val_accuracy: 0.9979\n",
            "Epoch 4/8\n",
            "209/209 [==============================] - 3s 14ms/step - loss: 0.0131 - accuracy: 0.9973 - val_loss: 0.0138 - val_accuracy: 0.9967\n",
            "Epoch 5/8\n",
            "209/209 [==============================] - 3s 14ms/step - loss: 0.0121 - accuracy: 0.9977 - val_loss: 0.0142 - val_accuracy: 0.9967\n",
            "Epoch 6/8\n",
            "209/209 [==============================] - 3s 13ms/step - loss: 0.0130 - accuracy: 0.9972 - val_loss: 0.0143 - val_accuracy: 0.9970\n",
            "Epoch 7/8\n",
            "209/209 [==============================] - 3s 14ms/step - loss: 0.0120 - accuracy: 0.9976 - val_loss: 0.0175 - val_accuracy: 0.9952\n",
            "Epoch 8/8\n",
            "209/209 [==============================] - 3s 13ms/step - loss: 0.0107 - accuracy: 0.9981 - val_loss: 0.0224 - val_accuracy: 0.9910\n",
            "105/105 [==============================] - 0s 3ms/step - loss: 0.0224 - accuracy: 0.9910\n",
            "> 99.101\n",
            "Epoch 1/8\n",
            "209/209 [==============================] - 3s 14ms/step - loss: 0.0116 - accuracy: 0.9974 - val_loss: 0.0118 - val_accuracy: 0.9988\n",
            "Epoch 2/8\n",
            "209/209 [==============================] - 3s 12ms/step - loss: 0.0096 - accuracy: 0.9983 - val_loss: 0.0132 - val_accuracy: 0.9964\n",
            "Epoch 3/8\n",
            "209/209 [==============================] - 3s 13ms/step - loss: 0.0105 - accuracy: 0.9980 - val_loss: 0.0153 - val_accuracy: 0.9964\n",
            "Epoch 4/8\n",
            "209/209 [==============================] - 3s 14ms/step - loss: 0.0089 - accuracy: 0.9986 - val_loss: 0.0106 - val_accuracy: 0.9982\n",
            "Epoch 5/8\n",
            "209/209 [==============================] - 3s 14ms/step - loss: 0.0086 - accuracy: 0.9987 - val_loss: 0.0136 - val_accuracy: 0.9973\n",
            "Epoch 6/8\n",
            "209/209 [==============================] - 3s 14ms/step - loss: 0.0078 - accuracy: 0.9990 - val_loss: 0.0154 - val_accuracy: 0.9964\n",
            "Epoch 7/8\n",
            "209/209 [==============================] - 3s 13ms/step - loss: 0.0076 - accuracy: 0.9988 - val_loss: 0.0151 - val_accuracy: 0.9961\n",
            "Epoch 8/8\n",
            "209/209 [==============================] - 3s 12ms/step - loss: 0.0070 - accuracy: 0.9988 - val_loss: 0.0208 - val_accuracy: 0.9943\n",
            "105/105 [==============================] - 0s 3ms/step - loss: 0.0208 - accuracy: 0.9943\n",
            "> 99.430\n"
          ]
        },
        {
          "output_type": "stream",
          "name": "stderr",
          "text": [
            "/usr/local/lib/python3.7/dist-packages/ipykernel_launcher.py:5: MatplotlibDeprecationWarning: Adding an axes using the same arguments as a previous axes currently reuses the earlier instance.  In a future version, a new instance will always be created and returned.  Meanwhile, this warning can be suppressed, and the future behavior ensured, by passing a unique label to each axes instance.\n",
            "  \"\"\"\n",
            "/usr/local/lib/python3.7/dist-packages/ipykernel_launcher.py:10: MatplotlibDeprecationWarning: Adding an axes using the same arguments as a previous axes currently reuses the earlier instance.  In a future version, a new instance will always be created and returned.  Meanwhile, this warning can be suppressed, and the future behavior ensured, by passing a unique label to each axes instance.\n",
            "  # Remove the CWD from sys.path while we load stuff.\n"
          ]
        },
        {
          "output_type": "display_data",
          "data": {
            "text/plain": [
              "<Figure size 432x288 with 2 Axes>"
            ],
            "image/png": "[encoded data removed]"
          },
          "metadata": {
            "needs_background": "light"
          }
        },
        {
          "output_type": "stream",
          "name": "stdout",
          "text": [
            "Accuracy: mean=97.329 std=2.309, n=10\n"
          ]
        },
        {
          "output_type": "display_data",
          "data": {
            "text/plain": [
              "<Figure size 432x288 with 1 Axes>"
            ],
            "image/png": "[encoded data removed]"
          },
          "metadata": {
            "needs_background": "light"
          }
        },
        {
          "output_type": "stream",
          "name": "stdout",
          "text": [
            "['final_model_loaded_weights on mix data with LR=0.0001 & epoch=8', 100.0, 88.795, 83.27]\n"
          ]
        }
      ]
    },
    {
      "cell_type": "code",
      "source": [
        "results"
      ],
      "metadata": {
        "id": "gvsrvzXaKx2U"
      },
      "execution_count": null,
      "outputs": []
    },
    {
      "cell_type": "code",
      "execution_count": null,
      "metadata": {
        "id": "GR1EBs9y3up7"
      },
      "outputs": [],
      "source": [
        "import pandas\n",
        "df=pandas.DataFrame(results,list(range(1, len(results)+1)),[\"Description\",\"Train perfect\", \"Train MNIST\", \"Test MNIST\"])\n",
        "df"
      ]
    },
    {
      "cell_type": "code",
      "execution_count": 30,
      "metadata": {
        "id": "L8WAiIdR6YQg"
      },
      "outputs": [],
      "source": [
        "df.to_csv('results.csv', sep=',', encoding='utf-8')"
      ]
    },
    {
      "cell_type": "code",
      "execution_count": null,
      "metadata": {
        "id": "XvDDofaPXqZG"
      },
      "outputs": [],
      "source": [
        "#!zip -r /content/EXPANSE_Model_Expansion_colab.zip /content"
      ]
    },
    {
      "cell_type": "code",
      "execution_count": 31,
      "metadata": {
        "id": "Q-ZIucOMKBQ5",
        "colab": {
          "base_uri": "https://localhost:8080/",
          "height": 17
        },
        "outputId": "a9cc951f-67b1-4d7f-9cdd-fb5995427133"
      },
      "outputs": [
        {
          "output_type": "display_data",
          "data": {
            "text/plain": [
              "<IPython.core.display.Javascript object>"
            ],
            "application/javascript": [
              "\n",
              "    async function download(id, filename, size) {\n",
              "      if (!google.colab.kernel.accessAllowed) {\n",
              "        return;\n",
              "      }\n",
              "      const div = document.createElement('div');\n",
              "      const label = document.createElement('label');\n",
              "      label.textContent = `Downloading \"${filename}\": `;\n",
              "      div.appendChild(label);\n",
              "      const progress = document.createElement('progress');\n",
              "      progress.max = size;\n",
              "      div.appendChild(progress);\n",
              "      document.body.appendChild(div);\n",
              "\n",
              "      const buffers = [];\n",
              "      let downloaded = 0;\n",
              "\n",
              "      const channel = await google.colab.kernel.comms.open(id);\n",
              "      // Send a message to notify the kernel that we're ready.\n",
              "      channel.send({})\n",
              "\n",
              "      for await (const message of channel.messages) {\n",
              "        // Send a message to notify the kernel that we're ready.\n",
              "        channel.send({})\n",
              "        if (message.buffers) {\n",
              "          for (const buffer of message.buffers) {\n",
              "            buffers.push(buffer);\n",
              "            downloaded += buffer.byteLength;\n",
              "            progress.value = downloaded;\n",
              "          }\n",
              "        }\n",
              "      }\n",
              "      const blob = new Blob(buffers, {type: 'application/binary'});\n",
              "      const a = document.createElement('a');\n",
              "      a.href = window.URL.createObjectURL(blob);\n",
              "      a.download = filename;\n",
              "      div.appendChild(a);\n",
              "      a.click();\n",
              "      div.remove();\n",
              "    }\n",
              "  "
            ]
          },
          "metadata": {}
        },
        {
          "output_type": "display_data",
          "data": {
            "text/plain": [
              "<IPython.core.display.Javascript object>"
            ],
            "application/javascript": [
              "download(\"download_8f5d7e46-2a62-4211-9a46-363a23d87103\", \"results.csv\", 818)"
            ]
          },
          "metadata": {}
        }
      ],
      "source": [
        "files.download('results.csv') \n",
        "#files.download('EXPANSE_Model_Expansion_colab.zip') "
      ]
    },
    {
      "cell_type": "code",
      "execution_count": null,
      "metadata": {
        "colab": {
          "base_uri": "https://localhost:8080/"
        },
        "id": "JWnCqVmQP0UE",
        "outputId": "c611264e-50a4-4286-d467-2340e5697668"
      },
      "outputs": [
        {
          "output_type": "execute_result",
          "data": {
            "text/plain": [
              "{'architecture': 'x86_64',\n",
              " 'hostname': 'f0d2e99f4d9a',\n",
              " 'ip-address': '172.28.0.2',\n",
              " 'mac-address': '02:42:ac:1c:00:02',\n",
              " 'platform': 'Linux',\n",
              " 'platform-release': '5.4.188+',\n",
              " 'platform-version': '#1 SMP Sun Apr 24 10:03:06 PDT 2022',\n",
              " 'processor': 'x86_64',\n",
              " 'ram': '13 GB'}"
            ]
          },
          "metadata": {},
          "execution_count": 33
        }
      ],
      "source": [
        "import platform,socket,re,uuid,json,psutil,logging\n",
        "\n",
        "def getSystemInfo():\n",
        "    try:\n",
        "        info={}\n",
        "        info['platform']=platform.system()\n",
        "        info['platform-release']=platform.release()\n",
        "        info['platform-version']=platform.version()\n",
        "        info['architecture']=platform.machine()\n",
        "        info['hostname']=socket.gethostname()\n",
        "        info['ip-address']=socket.gethostbyname(socket.gethostname())\n",
        "        info['mac-address']=':'.join(re.findall('..', '%012x' % uuid.getnode()))\n",
        "        info['processor']=platform.processor()\n",
        "        info['ram']=str(round(psutil.virtual_memory().total / (1024.0 **3)))+\" GB\"\n",
        "        return json.dumps(info)\n",
        "    except Exception as e:\n",
        "        logging.exception(e)\n",
        "\n",
        "json.loads(getSystemInfo())"
      ]
    }
  ],
  "metadata": {
    "colab": {
      "collapsed_sections": [],
      "name": "EXPANSE_on_Fashion_MNIST_using_10_percent_of_first_step_training_data_on_second_step.ipynb",
      "provenance": [],
      "authorship_tag": "ABX9TyP5+EwwT3XiA8UXoTPr+54y",
      "include_colab_link": true
    },
    "kernelspec": {
      "display_name": "Python 3",
      "name": "python3"
    },
    "language_info": {
      "name": "python"
    }
  },
  "nbformat": 4,
  "nbformat_minor": 0
}