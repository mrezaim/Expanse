{
  "nbformat": 4,
  "nbformat_minor": 0,
  "metadata": {
    "colab": {
      "name": "EXPANSE on MNIST to compare with top known DNN Model.ipynb",
      "provenance": [],
      "collapsed_sections": [],
      "authorship_tag": "ABX9TyNPnUS6PcWuuUb+3NFpReNb",
      "include_colab_link": true
    },
    "kernelspec": {
      "name": "python3",
      "display_name": "Python 3"
    },
    "language_info": {
      "name": "python"
    }
  },
  "cells": [
    {
      "cell_type": "markdown",
      "metadata": {
        "id": "view-in-github",
        "colab_type": "text"
      },
      "source": [
        "<a href=\"https://colab.research.google.com/github/mrezaim/Expanse/blob/main/EXPANSE_on_MNIST_to_compare_with_top_known_DNN_Model.ipynb\" target=\"_parent\"><img src=\"https://colab.research.google.com/assets/colab-badge.svg\" alt=\"Open In Colab\"/></a>"
      ]
    },
    {
      "cell_type": "markdown",
      "source": [
        "This is the implimentation of verifying the effectiveness of EXPANSE in comparison to the best known DNN on MNIST.\n",
        "\n",
        "The details of idea is available in the paper of: Iman, Mohammadreza, Khaled Rasheed, and Hamid Reza Arabnia. “EXPANSE, A Continual Deep Learning System; Research Proposal”, International Conference on Computational Science and Computational Intelligence, IEEE CPS/IEEE Xplore (to appear in April 2022)\n",
        "\n",
        "\n",
        "Some parts of the following codes are imported (with and without adjustments) from \"https://machinelearningmastery.com/how-to-develop-a-convolutional-neural-network-from-scratch-for-mnist-handwritten-digit-classification/\"\n",
        "\n",
        "\n",
        "---\n",
        "\n"
      ],
      "metadata": {
        "id": "PXu3tX-abR6t"
      }
    },
    {
      "cell_type": "markdown",
      "source": [
        "First we import all the necessary libraries:\n",
        "\n",
        "---\n",
        "\n"
      ],
      "metadata": {
        "id": "B0x0hWj4fV-V"
      }
    },
    {
      "cell_type": "code",
      "source": [
        "from google.colab import files\n",
        "import tensorflow as tf\n",
        "from tensorflow import keras\n",
        "from tensorflow.keras.datasets import mnist\n",
        "from matplotlib import pyplot as plt\n",
        "import gdown\n",
        "import cv2\n",
        "import numpy as np\n",
        "from tensorflow.keras.layers import Dense\n",
        "from tensorflow.keras.layers import Flatten\n",
        "from tensorflow.keras.optimizers import Adam\n",
        "from sklearn.model_selection import KFold\n",
        "from tensorflow.keras.utils import to_categorical\n",
        "from tensorflow.keras.models import Sequential\n",
        "from numpy import mean\n",
        "from numpy import std\n",
        "# to make the results of different run similar:\n",
        "from numpy.random import seed\n",
        "seed(1)\n",
        "from tensorflow.keras.utils import set_random_seed\n",
        "set_random_seed(2)"
      ],
      "metadata": {
        "id": "HdcMY8dSffDI"
      },
      "execution_count": 1,
      "outputs": []
    },
    {
      "cell_type": "markdown",
      "source": [
        "Download and import Train and Test data from MNIST:\n",
        "\n",
        "---\n",
        "\n"
      ],
      "metadata": {
        "id": "wC8K9CozaadT"
      }
    },
    {
      "cell_type": "code",
      "execution_count": 2,
      "metadata": {
        "colab": {
          "base_uri": "https://localhost:8080/"
        },
        "id": "6W9JKfJll6rH",
        "outputId": "0f1989d5-c2c6-4c31-a905-8a724df49aff"
      },
      "outputs": [
        {
          "output_type": "stream",
          "name": "stdout",
          "text": [
            "Downloading data from https://storage.googleapis.com/tensorflow/tf-keras-datasets/mnist.npz\n",
            "11493376/11490434 [==============================] - 0s 0us/step\n",
            "11501568/11490434 [==============================] - 0s 0us/step\n",
            "Train: X=(60000, 28, 28), y=(60000,)\n",
            "Test: X=(10000, 28, 28), y=(10000,)\n"
          ]
        }
      ],
      "source": [
        "# Loading the MNIST dataset\n",
        "#from tensorflow.keras.datasets import mnist\n",
        "# load dataset\n",
        "(trainX, trainy), (testX, testy) = mnist.load_data()\n",
        "# summarize loaded dataset\n",
        "print('Train: X=%s, y=%s' % (trainX.shape, trainy.shape))\n",
        "print('Test: X=%s, y=%s' % (testX.shape, testy.shape))"
      ]
    },
    {
      "cell_type": "markdown",
      "source": [
        "Visualize 9 samples of data from MNIST Train dataset:\n",
        "\n",
        "---\n",
        "\n"
      ],
      "metadata": {
        "id": "OmV_aAILamrg"
      }
    },
    {
      "cell_type": "code",
      "source": [
        "j=0\n",
        "for i in range(0,9):\n",
        "  plt.subplot(330 + 1 + j)\n",
        "  j += 1\n",
        "  plt.imshow(trainX[i], cmap=plt.get_cmap('gray'))\n",
        "  print (trainy[i], end =\" \")\n",
        "plt.show()"
      ],
      "metadata": {
        "colab": {
          "base_uri": "https://localhost:8080/",
          "height": 286
        },
        "id": "ST2DRm1omUwc",
        "outputId": "e5c97bcd-4d0a-47e3-a3d6-7d1b331c35a1"
      },
      "execution_count": 3,
      "outputs": [
        {
          "output_type": "stream",
          "name": "stdout",
          "text": [
            "5 0 4 1 9 2 1 3 1 "
          ]
        },
        {
          "output_type": "display_data",
          "data": {
            "text/plain": [
              "<Figure size 432x288 with 9 Axes>"
            ],
            "image/png": "[encoded data removed]"
          },
          "metadata": {
            "needs_background": "light"
          }
        }
      ]
    },
    {
      "cell_type": "markdown",
      "source": [
        "Download the perfect samples pallet. It is a PNG file of 180 perfect samples \n",
        "(typed with different fonts).\n",
        "\n",
        "---\n",
        "\n"
      ],
      "metadata": {
        "id": "EEfbLQVka56t"
      }
    },
    {
      "cell_type": "code",
      "source": [
        "url = 'https://github.com/mrezaim/Expanse/raw/main/perfect_digits.png'\n",
        "output = 'perfect_digits.png'\n",
        "gdown.download(url, output, quiet=False)"
      ],
      "metadata": {
        "colab": {
          "base_uri": "https://localhost:8080/",
          "height": 111
        },
        "id": "LR_m7w3AB5I1",
        "outputId": "694db4ec-9862-4448-db10-59abe49a4c4e"
      },
      "execution_count": 4,
      "outputs": [
        {
          "output_type": "stream",
          "name": "stderr",
          "text": [
            "Downloading...\n",
            "From: https://github.com/mrezaim/Expanse/raw/main/perfect_digits.png\n",
            "To: /content/perfect_digits.png\n",
            "100%|██████████| 26.6k/26.6k [00:00<00:00, 27.4MB/s]\n"
          ]
        },
        {
          "output_type": "execute_result",
          "data": {
            "text/plain": [
              "'perfect_digits.png'"
            ],
            "application/vnd.google.colaboratory.intrinsic+json": {
              "type": "string"
            }
          },
          "metadata": {},
          "execution_count": 4
        }
      ]
    },
    {
      "cell_type": "markdown",
      "source": [
        "Extracting 360 training samples from the perfect samples pallet and creatint train and test dataset by duplicate of samples. \n",
        "\n",
        "---\n",
        "\n"
      ],
      "metadata": {
        "id": "5JSXWAa2bKps"
      }
    },
    {
      "cell_type": "code",
      "source": [
        "img_path = 'perfect_digits.png'\n",
        "img = cv2.imread(img_path, 0)\n",
        "#train_per_x = np.empty_like(trainX)\n",
        "train_per_x = np.zeros(shape = ( 360, 28, 28 ), dtype=np.uint8)\n",
        "train_per_y = np.zeros(shape = ( 360), dtype=np.uint8)\n",
        "i=0\n",
        "for v in range(18):\n",
        "  for h in range(10):\n",
        "    train_per_x[i] = (img[4+(v*36):(v*36)+32, 4+(h*36):(h*36)+32])\n",
        "    train_per_y[i] = h\n",
        "    train_per_x[i+180] = (img[4+(v*36):(v*36)+32, 4+(h*36):(h*36)+32])\n",
        "    train_per_y[i+180] = h\n",
        "    i += 1\n",
        "\n",
        "print('Perfect train dataset shape:', train_per_x.shape)\n",
        "print('Perfect train label dataset shape:', train_per_y.shape)\n"
      ],
      "metadata": {
        "colab": {
          "base_uri": "https://localhost:8080/"
        },
        "id": "4C2aBm2wm7aC",
        "outputId": "12dbb713-0e8e-4f5f-a56f-f1bef7e21e93"
      },
      "execution_count": 5,
      "outputs": [
        {
          "output_type": "stream",
          "name": "stdout",
          "text": [
            "Perfect train dataset shape: (360, 28, 28)\n",
            "Perfect train label dataset shape: (360,)\n"
          ]
        }
      ]
    },
    {
      "cell_type": "markdown",
      "source": [
        "Visualize 9 samples of data from perfect train dataset:\n",
        "\n",
        "---\n",
        "\n"
      ],
      "metadata": {
        "id": "ygD4asOadfhn"
      }
    },
    {
      "cell_type": "code",
      "source": [
        "j=0\n",
        "for i in range(211,220):\n",
        "  plt.subplot(330 + 1 + j)\n",
        "  j += 1\n",
        "  plt.imshow(train_per_x[i], cmap=plt.get_cmap('gray'))\n",
        "  print (train_per_y[i], end =\" \")\n",
        "plt.show()"
      ],
      "metadata": {
        "colab": {
          "base_uri": "https://localhost:8080/",
          "height": 286
        },
        "id": "puBnZVqw1j-g",
        "outputId": "0fe71033-1f62-4261-96d2-2b8b1fd066e7"
      },
      "execution_count": 6,
      "outputs": [
        {
          "output_type": "stream",
          "name": "stdout",
          "text": [
            "1 2 3 4 5 6 7 8 9 "
          ]
        },
        {
          "output_type": "display_data",
          "data": {
            "text/plain": [
              "<Figure size 432x288 with 9 Axes>"
            ],
            "image/png": "[encoded data removed]"
          },
          "metadata": {
            "needs_background": "light"
          }
        }
      ]
    },
    {
      "cell_type": "markdown",
      "source": [
        "Dividing the MNIST train data and Perfect data to two batches of samples of 0-4 and 5-9:"
      ],
      "metadata": {
        "id": "99AaNCW-PS8w"
      }
    },
    {
      "cell_type": "code",
      "source": [
        "train_x_b1 = np.zeros(shape = ( 30596, 28, 28 ), dtype=np.uint8)\n",
        "train_y_b1 = np.zeros(shape = ( 30596 ), dtype=np.uint8)\n",
        "train_x_b2 = np.zeros(shape = ( 29404, 28, 28 ), dtype=np.uint8)\n",
        "train_y_b2 = np.zeros(shape = ( 29404 ), dtype=np.uint8)\n",
        "i=0\n",
        "j=0\n",
        "k=0\n",
        "for i in (range(len(trainy))):\n",
        "  if (trainy[i] == 0 or trainy[i] == 1 or trainy[i] == 2 or trainy[i] == 3 or trainy[i] == 4) :\n",
        "    train_x_b1[j] = trainX[i]\n",
        "    train_y_b1[j] = trainy[i]\n",
        "    j += 1\n",
        "  else:\n",
        "    train_x_b2[k] = trainX[i]\n",
        "    train_y_b2[k] = trainy[i]\n",
        "    k += 1\n",
        "\n",
        "print (len(train_y_b1))\n",
        "print (len(train_y_b2))"
      ],
      "metadata": {
        "colab": {
          "base_uri": "https://localhost:8080/"
        },
        "id": "fy1IKIBCOiLA",
        "outputId": "3dda4619-0681-47fe-8e7c-ded077c225f4"
      },
      "execution_count": 7,
      "outputs": [
        {
          "output_type": "stream",
          "name": "stdout",
          "text": [
            "30596\n",
            "29404\n"
          ]
        }
      ]
    },
    {
      "cell_type": "code",
      "source": [
        "train_per_x_b1 = np.zeros(shape = ( 180, 28, 28 ), dtype=np.uint8)\n",
        "train_per_y_b1 = np.zeros(shape = ( 180 ), dtype=np.uint8)\n",
        "train_per_x_b2 = np.zeros(shape = ( 180, 28, 28 ), dtype=np.uint8)\n",
        "train_per_y_b2 = np.zeros(shape = ( 180 ), dtype=np.uint8)\n",
        "i=0\n",
        "j=0\n",
        "k=0\n",
        "for i in (range(len(train_per_y))):\n",
        "  if (train_per_y[i] == 0 or train_per_y[i] == 1 or train_per_y[i] == 2 or train_per_y[i] == 3 or train_per_y[i] == 4) :\n",
        "    train_per_x_b1[j] = train_per_x[i]\n",
        "    train_per_y_b1[j] = train_per_y[i]\n",
        "    j += 1\n",
        "  else:\n",
        "    train_per_x_b2[k] = train_per_x[i]\n",
        "    train_per_y_b2[k] = train_per_y[i]\n",
        "    k += 1\n",
        "\n",
        "print (len(train_per_y_b1))\n",
        "print (len(train_per_y_b2))"
      ],
      "metadata": {
        "colab": {
          "base_uri": "https://localhost:8080/"
        },
        "id": "7OSZMqXGLQH9",
        "outputId": "7100f280-9489-4491-fbc7-d0f9d3dd3e2e"
      },
      "execution_count": 8,
      "outputs": [
        {
          "output_type": "stream",
          "name": "stdout",
          "text": [
            "180\n",
            "180\n"
          ]
        }
      ]
    },
    {
      "cell_type": "markdown",
      "source": [
        "Reshape datasets to prepare for the model\n",
        "\n",
        "---\n",
        "\n"
      ],
      "metadata": {
        "id": "JUnk4V7cdsRg"
      }
    },
    {
      "cell_type": "code",
      "source": [
        "trainX = trainX.reshape((trainX.shape[0], 28, 28, 1))\n",
        "train_x_b1 = train_x_b1.reshape((train_x_b1.shape[0], 28, 28, 1))\n",
        "train_x_b2 = train_x_b2.reshape((train_x_b2.shape[0], 28, 28, 1))\n",
        "testX = testX.reshape((testX.shape[0], 28, 28, 1))\n",
        "\n",
        "train_per_x_b1 = train_per_x_b1.reshape((train_per_x_b1.shape[0], 28, 28, 1))\n",
        "train_per_x_b2 = train_per_x_b2.reshape((train_per_x_b2.shape[0], 28, 28, 1))\n",
        "train_per_x = train_per_x.reshape((train_per_x.shape[0], 28, 28, 1))"
      ],
      "metadata": {
        "id": "WsDJ6KGr8453"
      },
      "execution_count": 9,
      "outputs": []
    },
    {
      "cell_type": "markdown",
      "source": [
        "For the second step training we only use 2/3 of first batch of training. We believe if we be able to freez the first step we would need so much less of these samples if none at all."
      ],
      "metadata": {
        "id": "YkiilMYCOR54"
      }
    },
    {
      "cell_type": "code",
      "source": [
        "train_mixX_b3 = np. concatenate((train_per_x,train_x_b1[:20000],train_x_b2), axis=0)\n",
        "train_mixy_b3 = np. concatenate((train_per_y,train_y_b1[:20000],train_y_b2), axis=0)\n"
      ],
      "metadata": {
        "id": "F4xAMk3GfIjr"
      },
      "execution_count": 10,
      "outputs": []
    },
    {
      "cell_type": "markdown",
      "source": [
        "Convert the label datasets to categorical since there are 10 possible target categories of digits:\n",
        "\n",
        "---\n",
        "\n"
      ],
      "metadata": {
        "id": "tPdgdNxqd-7Q"
      }
    },
    {
      "cell_type": "code",
      "source": [
        "# one hot encode target values\n",
        "trainy = tf.keras.utils.to_categorical(trainy)\n",
        "train_y_b1 = tf.keras.utils.to_categorical(train_y_b1)\n",
        "train_y_b2 = tf.keras.utils.to_categorical(train_y_b2)\n",
        "train_per_y_b1 = tf.keras.utils.to_categorical(train_per_y_b1)\n",
        "train_per_y_b2 = tf.keras.utils.to_categorical(train_per_y_b2)\n",
        "testy = tf.keras.utils.to_categorical(testy)\n",
        "\n",
        "train_per_y = tf.keras.utils.to_categorical(train_per_y)\n",
        "train_mixy_b3 = tf.keras.utils.to_categorical(train_mixy_b3)"
      ],
      "metadata": {
        "id": "txYheBmY_LWy"
      },
      "execution_count": 11,
      "outputs": []
    },
    {
      "cell_type": "markdown",
      "source": [
        "Convert the datasets of images from 8-bit grayscale pixels values to float values and normalize the values to range of 0 and 1:\n",
        "\n",
        "---\n",
        "\n"
      ],
      "metadata": {
        "id": "RB8x54creRp9"
      }
    },
    {
      "cell_type": "code",
      "source": [
        "# convert from integers to floats\n",
        "trainX = trainX.astype('float32')\n",
        "train_x_b1 = train_x_b1.astype('float32')\n",
        "train_x_b2 = train_x_b2.astype('float32')\n",
        "test_X = testX.astype('float32')\n",
        "train_mixX_b3 = train_mixX_b3.astype('float32')\n",
        "# normalize to range 0-1\n",
        "trainX = trainX / 255.0\n",
        "train_x_b1 = train_x_b1 / 255.0\n",
        "train_x_b2 = train_x_b2 / 255.0\n",
        "testX = testX / 255.0\n",
        "train_mixX_b3 = train_mixX_b3 / 255.0\n",
        "\n",
        "# convert from integers to floats\n",
        "train_per_x = train_per_x.astype('float32')\n",
        "train_per_x_b1 = train_per_x_b1.astype('float32')\n",
        "train_per_x_b2 = train_per_x_b2.astype('float32')\n",
        "# normalize to range 0-1\n",
        "train_per_x = train_per_x / 255.0\n",
        "train_per_x_b1 = train_per_x_b1 / 255.0\n",
        "train_per_x_b2 = train_per_x_b2 / 255.0\n"
      ],
      "metadata": {
        "id": "vrV94g5cE9kW"
      },
      "execution_count": 12,
      "outputs": []
    },
    {
      "cell_type": "markdown",
      "source": [
        "Defining the small and final model. Here we are using a dense relu based model with Adam optimizer. The final model size is based on the best known DNN model on MNIST with accuracy rate of 98.44 without using preprocessing methods or CNN layers (http://yann.lecun.com/exdb/mnist/).\n",
        "\n",
        "---\n",
        "\n"
      ],
      "metadata": {
        "id": "aFHkLGH9i6wE"
      }
    },
    {
      "cell_type": "code",
      "source": [
        "model_small = Sequential()\n",
        "model_small.add(Flatten())\n",
        "model_small.add(Dense(300, activation='relu', kernel_initializer='HeUniform', bias_initializer='zeros'))\n",
        "model_small.add(Dense(200, activation='relu', kernel_initializer='HeUniform', bias_initializer='zeros'))\n",
        "model_small.add(Dense(5, activation='softmax'))\n",
        "# compile model\n",
        "opt = Adam(0.01)\n",
        "model_small.compile(optimizer=opt, loss='categorical_crossentropy', metrics=['accuracy'])\n",
        "\n",
        "model_final = Sequential()\n",
        "model_final.add(Flatten())\n",
        "model_final.add(Dense(500, activation='relu', kernel_initializer='HeUniform', bias_initializer='zeros'))\n",
        "model_final.add(Dense(300, activation='relu', kernel_initializer='HeUniform', bias_initializer='zeros'))\n",
        "model_final.add(Dense(10, activation='softmax'))\n",
        "# compile model\n",
        "opt = Adam(0.002)\n",
        "model_final.compile(optimizer=opt, loss='categorical_crossentropy', metrics=['accuracy'])\n"
      ],
      "metadata": {
        "id": "P11lGRmMU7tR"
      },
      "execution_count": 13,
      "outputs": []
    },
    {
      "cell_type": "markdown",
      "source": [
        "The function to run the model on given dataset and parameters using k-fold cross-validation:\n",
        "\n",
        "---\n",
        "\n"
      ],
      "metadata": {
        "id": "HWKS-dKsjXcE"
      }
    },
    {
      "cell_type": "code",
      "source": [
        "# evaluate a model using k-fold cross-validation\n",
        "def evaluate_model(model, dataX, dataY, n_folds, n_epochs, n_batch_size):\n",
        "\tscores, histories = list(), list()\n",
        "\t# prepare cross validation\n",
        "\tkfold = KFold(n_folds, shuffle=True, random_state=1)\n",
        "\t# enumerate splits\n",
        "\tfor train_ix, test_ix in kfold.split(dataX):\n",
        "\t\t# select rows for train and test\n",
        "\t\ttrainX, trainY, testX, testY = dataX[train_ix], dataY[train_ix], dataX[test_ix], dataY[test_ix]\n",
        "\t\t# fit model\n",
        "\t\thistory = model.fit(trainX, trainY, epochs=n_epochs, batch_size=n_batch_size, validation_data=(testX, testY))\n",
        "\t\t# evaluate model\n",
        "\t\t_, acc = model.evaluate(testX, testY)\n",
        "\t\tprint('> %.3f' % (acc * 100.0))\n",
        "\t\t# stores scores\n",
        "\t\tscores.append(acc)\n",
        "\t\thistories.append(history)\n",
        "\treturn scores, histories, model"
      ],
      "metadata": {
        "id": "nRa7NJVrIxEM"
      },
      "execution_count": 14,
      "outputs": []
    },
    {
      "cell_type": "code",
      "source": [
        "# plot diagnostic learning curves\n",
        "def summarize_diagnostics(histories):\n",
        "  for i in range(len(histories)):\n",
        "      # plot loss\n",
        "      plt.subplot(2, 2, 1)\n",
        "      plt.title('Cross Entropy Loss')\n",
        "      plt.plot(histories[i].history['loss'], color='blue', label='train')\n",
        "      plt.plot(histories[i].history['val_loss'], color='orange', label='test')\n",
        "      # plot accuracy\n",
        "      plt.subplot(2, 2, 2)\n",
        "      plt.title('Classification Accuracy')\n",
        "      plt.plot(histories[i].history['accuracy'], color='blue', label='train')\n",
        "      plt.plot(histories[i].history['val_accuracy'], color='orange', label='test')\n",
        "  plt.show()\n",
        " \n",
        "# summarize model performance\n",
        "def summarize_performance(scores):\n",
        "\t# print summary\n",
        "\tprint('Accuracy: mean=%.3f std=%.3f, n=%d' % (mean(scores)*100, std(scores)*100, len(scores)))\n",
        "\t# box and whisker plots of results\n",
        "\tplt.boxplot(scores)\n",
        "\tplt.show()"
      ],
      "metadata": {
        "id": "0qGiMLjmJPIV"
      },
      "execution_count": 15,
      "outputs": []
    },
    {
      "cell_type": "markdown",
      "source": [
        "Creating the base random intitialized model and save it to reuse for the baseline. We want to use same random weights for comparing different methods fairly:\n",
        "\n",
        "---\n",
        "\n"
      ],
      "metadata": {
        "id": "boDLm206jnlk"
      }
    },
    {
      "cell_type": "code",
      "source": [
        "model_small.build((None, 28, 28, 1))\n",
        "model_small.save(\"random_init_small\")\n",
        "model_final.build((None, 28, 28, 1))\n",
        "model_final.save(\"random_init_final\")"
      ],
      "metadata": {
        "colab": {
          "base_uri": "https://localhost:8080/"
        },
        "id": "X74LURKGIRBI",
        "outputId": "eb2e5c9f-a625-485d-d7a4-3b4736e261c5"
      },
      "execution_count": 16,
      "outputs": [
        {
          "output_type": "stream",
          "name": "stdout",
          "text": [
            "INFO:tensorflow:Assets written to: random_init_small/assets\n",
            "INFO:tensorflow:Assets written to: random_init_final/assets\n"
          ]
        }
      ]
    },
    {
      "cell_type": "markdown",
      "source": [
        "Creating a list to save each run performance \n",
        "\n",
        "---\n",
        "\n"
      ],
      "metadata": {
        "id": "aYK1WqLQpQUq"
      }
    },
    {
      "cell_type": "code",
      "source": [
        "results = ([])"
      ],
      "metadata": {
        "id": "Gt_1k528olg2"
      },
      "execution_count": 17,
      "outputs": []
    },
    {
      "cell_type": "code",
      "source": [
        "model_small.summary()"
      ],
      "metadata": {
        "colab": {
          "base_uri": "https://localhost:8080/"
        },
        "id": "GKCco2NU0XPy",
        "outputId": "b8f50e6c-968a-4914-82c7-d9f6116f4106"
      },
      "execution_count": 18,
      "outputs": [
        {
          "output_type": "stream",
          "name": "stdout",
          "text": [
            "Model: \"sequential\"\n",
            "_________________________________________________________________\n",
            " Layer (type)                Output Shape              Param #   \n",
            "=================================================================\n",
            " flatten (Flatten)           (None, 784)               0         \n",
            "                                                                 \n",
            " dense (Dense)               (None, 300)               235500    \n",
            "                                                                 \n",
            " dense_1 (Dense)             (None, 200)               60200     \n",
            "                                                                 \n",
            " dense_2 (Dense)             (None, 5)                 1005      \n",
            "                                                                 \n",
            "=================================================================\n",
            "Total params: 296,705\n",
            "Trainable params: 296,705\n",
            "Non-trainable params: 0\n",
            "_________________________________________________________________\n"
          ]
        }
      ]
    },
    {
      "cell_type": "code",
      "source": [
        "model = tf.keras.models.load_model(\"random_init_final\")\n",
        "from keras import backend as K\n",
        "K.set_value(model.optimizer.learning_rate, 0.001)\n",
        "scores, histories, model = evaluate_model(model, trainX, trainy,10,5,144)\n",
        "\n",
        "\n",
        "\n",
        "# learning curves\n",
        "summarize_diagnostics(histories)\n",
        "# summarize estimated performance\n",
        "summarize_performance(scores)\n",
        "desc = \"Random initialized on MNIST with LR=0.001 & epoch=5\"\n",
        "results.append([desc,round(model.evaluate(train_per_x, train_per_y, verbose=0)[1]*100,3),round(model.evaluate(trainX, trainy, verbose=0)[1]*100,3),round(model.evaluate(testX, testy, verbose=0)[1]*100,3)])\n",
        "print (results[len(results)-1])"
      ],
      "metadata": {
        "colab": {
          "base_uri": "https://localhost:8080/",
          "height": 1000
        },
        "id": "tPZhk4bnkWDG",
        "outputId": "c352294a-37d2-4418-84fb-c5a799454c0d"
      },
      "execution_count": 19,
      "outputs": [
        {
          "output_type": "stream",
          "name": "stdout",
          "text": [
            "Epoch 1/5\n",
            "375/375 [==============================] - 6s 14ms/step - loss: 0.2344 - accuracy: 0.9315 - val_loss: 0.1297 - val_accuracy: 0.9598\n",
            "Epoch 2/5\n",
            "375/375 [==============================] - 5s 12ms/step - loss: 0.0867 - accuracy: 0.9730 - val_loss: 0.0977 - val_accuracy: 0.9703\n",
            "Epoch 3/5\n",
            "375/375 [==============================] - 4s 12ms/step - loss: 0.0539 - accuracy: 0.9836 - val_loss: 0.0897 - val_accuracy: 0.9722\n",
            "Epoch 4/5\n",
            "375/375 [==============================] - 4s 12ms/step - loss: 0.0370 - accuracy: 0.9881 - val_loss: 0.0831 - val_accuracy: 0.9748\n",
            "Epoch 5/5\n",
            "375/375 [==============================] - 5s 12ms/step - loss: 0.0252 - accuracy: 0.9918 - val_loss: 0.0859 - val_accuracy: 0.9757\n",
            "188/188 [==============================] - 1s 3ms/step - loss: 0.0859 - accuracy: 0.9757\n",
            "> 97.567\n",
            "Epoch 1/5\n",
            "375/375 [==============================] - 4s 12ms/step - loss: 0.0320 - accuracy: 0.9897 - val_loss: 0.0337 - val_accuracy: 0.9892\n",
            "Epoch 2/5\n",
            "375/375 [==============================] - 4s 12ms/step - loss: 0.0188 - accuracy: 0.9938 - val_loss: 0.0417 - val_accuracy: 0.9875\n",
            "Epoch 3/5\n",
            "375/375 [==============================] - 4s 11ms/step - loss: 0.0136 - accuracy: 0.9957 - val_loss: 0.0302 - val_accuracy: 0.9893\n",
            "Epoch 4/5\n",
            "375/375 [==============================] - 4s 12ms/step - loss: 0.0131 - accuracy: 0.9955 - val_loss: 0.0312 - val_accuracy: 0.9902\n",
            "Epoch 5/5\n",
            "375/375 [==============================] - 4s 11ms/step - loss: 0.0126 - accuracy: 0.9958 - val_loss: 0.0502 - val_accuracy: 0.9853\n",
            "188/188 [==============================] - 1s 3ms/step - loss: 0.0502 - accuracy: 0.9853\n",
            "> 98.533\n",
            "Epoch 1/5\n",
            "375/375 [==============================] - 4s 11ms/step - loss: 0.0186 - accuracy: 0.9936 - val_loss: 0.0159 - val_accuracy: 0.9953\n",
            "Epoch 2/5\n",
            "375/375 [==============================] - 4s 11ms/step - loss: 0.0125 - accuracy: 0.9959 - val_loss: 0.0162 - val_accuracy: 0.9943\n",
            "Epoch 3/5\n",
            "375/375 [==============================] - 4s 11ms/step - loss: 0.0090 - accuracy: 0.9969 - val_loss: 0.0102 - val_accuracy: 0.9967\n",
            "Epoch 4/5\n",
            "375/375 [==============================] - 4s 11ms/step - loss: 0.0066 - accuracy: 0.9976 - val_loss: 0.0155 - val_accuracy: 0.9958\n",
            "Epoch 5/5\n",
            "375/375 [==============================] - 4s 11ms/step - loss: 0.0082 - accuracy: 0.9973 - val_loss: 0.0150 - val_accuracy: 0.9945\n",
            "188/188 [==============================] - 1s 3ms/step - loss: 0.0150 - accuracy: 0.9945\n",
            "> 99.450\n",
            "Epoch 1/5\n",
            "375/375 [==============================] - 4s 11ms/step - loss: 0.0140 - accuracy: 0.9957 - val_loss: 0.0128 - val_accuracy: 0.9955\n",
            "Epoch 2/5\n",
            "375/375 [==============================] - 5s 14ms/step - loss: 0.0077 - accuracy: 0.9973 - val_loss: 0.0110 - val_accuracy: 0.9972\n",
            "Epoch 3/5\n",
            "375/375 [==============================] - 4s 11ms/step - loss: 0.0073 - accuracy: 0.9973 - val_loss: 0.0128 - val_accuracy: 0.9957\n",
            "Epoch 4/5\n",
            "375/375 [==============================] - 4s 11ms/step - loss: 0.0059 - accuracy: 0.9980 - val_loss: 0.0095 - val_accuracy: 0.9967\n",
            "Epoch 5/5\n",
            "375/375 [==============================] - 4s 11ms/step - loss: 0.0082 - accuracy: 0.9974 - val_loss: 0.0147 - val_accuracy: 0.9957\n",
            "188/188 [==============================] - 1s 3ms/step - loss: 0.0147 - accuracy: 0.9957\n",
            "> 99.567\n",
            "Epoch 1/5\n",
            "375/375 [==============================] - 4s 11ms/step - loss: 0.0109 - accuracy: 0.9962 - val_loss: 0.0177 - val_accuracy: 0.9942\n",
            "Epoch 2/5\n",
            "375/375 [==============================] - 4s 11ms/step - loss: 0.0066 - accuracy: 0.9977 - val_loss: 0.0133 - val_accuracy: 0.9957\n",
            "Epoch 3/5\n",
            "375/375 [==============================] - 4s 11ms/step - loss: 0.0033 - accuracy: 0.9988 - val_loss: 0.0063 - val_accuracy: 0.9978\n",
            "Epoch 4/5\n",
            "375/375 [==============================] - 4s 11ms/step - loss: 0.0057 - accuracy: 0.9982 - val_loss: 0.0169 - val_accuracy: 0.9935\n",
            "Epoch 5/5\n",
            "375/375 [==============================] - 4s 11ms/step - loss: 0.0051 - accuracy: 0.9984 - val_loss: 0.0079 - val_accuracy: 0.9977\n",
            "188/188 [==============================] - 1s 3ms/step - loss: 0.0079 - accuracy: 0.9977\n",
            "> 99.767\n",
            "Epoch 1/5\n",
            "375/375 [==============================] - 4s 11ms/step - loss: 0.0099 - accuracy: 0.9971 - val_loss: 0.0100 - val_accuracy: 0.9973\n",
            "Epoch 2/5\n",
            "375/375 [==============================] - 4s 11ms/step - loss: 0.0095 - accuracy: 0.9968 - val_loss: 0.0079 - val_accuracy: 0.9963\n",
            "Epoch 3/5\n",
            "375/375 [==============================] - 4s 11ms/step - loss: 0.0036 - accuracy: 0.9988 - val_loss: 0.0033 - val_accuracy: 0.9987\n",
            "Epoch 4/5\n",
            "375/375 [==============================] - 4s 11ms/step - loss: 0.0018 - accuracy: 0.9994 - val_loss: 0.0043 - val_accuracy: 0.9983\n",
            "Epoch 5/5\n",
            "375/375 [==============================] - 4s 11ms/step - loss: 5.6880e-04 - accuracy: 0.9999 - val_loss: 0.0016 - val_accuracy: 0.9993\n",
            "188/188 [==============================] - 1s 3ms/step - loss: 0.0016 - accuracy: 0.9993\n",
            "> 99.933\n",
            "Epoch 1/5\n",
            "375/375 [==============================] - 4s 11ms/step - loss: 0.0067 - accuracy: 0.9981 - val_loss: 0.0133 - val_accuracy: 0.9965\n",
            "Epoch 2/5\n",
            "375/375 [==============================] - 4s 11ms/step - loss: 0.0123 - accuracy: 0.9960 - val_loss: 0.0073 - val_accuracy: 0.9977\n",
            "Epoch 3/5\n",
            "375/375 [==============================] - 4s 11ms/step - loss: 0.0055 - accuracy: 0.9984 - val_loss: 0.0041 - val_accuracy: 0.9992\n",
            "Epoch 4/5\n",
            "375/375 [==============================] - 4s 11ms/step - loss: 0.0040 - accuracy: 0.9989 - val_loss: 0.0133 - val_accuracy: 0.9962\n",
            "Epoch 5/5\n",
            "375/375 [==============================] - 4s 11ms/step - loss: 0.0048 - accuracy: 0.9986 - val_loss: 0.0042 - val_accuracy: 0.9988\n",
            "188/188 [==============================] - 1s 3ms/step - loss: 0.0042 - accuracy: 0.9988\n",
            "> 99.883\n",
            "Epoch 1/5\n",
            "375/375 [==============================] - 4s 11ms/step - loss: 0.0032 - accuracy: 0.9990 - val_loss: 0.0047 - val_accuracy: 0.9980\n",
            "Epoch 2/5\n",
            "375/375 [==============================] - 4s 11ms/step - loss: 0.0100 - accuracy: 0.9973 - val_loss: 0.0110 - val_accuracy: 0.9977\n",
            "Epoch 3/5\n",
            "375/375 [==============================] - 4s 11ms/step - loss: 0.0046 - accuracy: 0.9985 - val_loss: 0.0069 - val_accuracy: 0.9983\n",
            "Epoch 4/5\n",
            "375/375 [==============================] - 4s 11ms/step - loss: 0.0040 - accuracy: 0.9986 - val_loss: 0.0041 - val_accuracy: 0.9988\n",
            "Epoch 5/5\n",
            "375/375 [==============================] - 4s 11ms/step - loss: 0.0036 - accuracy: 0.9988 - val_loss: 0.0073 - val_accuracy: 0.9980\n",
            "188/188 [==============================] - 1s 3ms/step - loss: 0.0073 - accuracy: 0.9980\n",
            "> 99.800\n",
            "Epoch 1/5\n",
            "375/375 [==============================] - 4s 11ms/step - loss: 0.0042 - accuracy: 0.9986 - val_loss: 0.0017 - val_accuracy: 0.9993\n",
            "Epoch 2/5\n",
            "375/375 [==============================] - 4s 11ms/step - loss: 0.0074 - accuracy: 0.9977 - val_loss: 0.0084 - val_accuracy: 0.9965\n",
            "Epoch 3/5\n",
            "375/375 [==============================] - 4s 11ms/step - loss: 0.0044 - accuracy: 0.9987 - val_loss: 0.0054 - val_accuracy: 0.9987\n",
            "Epoch 4/5\n",
            "375/375 [==============================] - 4s 11ms/step - loss: 0.0033 - accuracy: 0.9990 - val_loss: 0.0082 - val_accuracy: 0.9988\n",
            "Epoch 5/5\n",
            "375/375 [==============================] - 4s 11ms/step - loss: 0.0028 - accuracy: 0.9991 - val_loss: 0.0035 - val_accuracy: 0.9992\n",
            "188/188 [==============================] - 1s 3ms/step - loss: 0.0035 - accuracy: 0.9992\n",
            "> 99.917\n",
            "Epoch 1/5\n",
            "375/375 [==============================] - 4s 11ms/step - loss: 0.0061 - accuracy: 0.9982 - val_loss: 0.0032 - val_accuracy: 0.9990\n",
            "Epoch 2/5\n",
            "375/375 [==============================] - 4s 11ms/step - loss: 0.0041 - accuracy: 0.9988 - val_loss: 0.0035 - val_accuracy: 0.9988\n",
            "Epoch 3/5\n",
            "375/375 [==============================] - 4s 11ms/step - loss: 0.0052 - accuracy: 0.9984 - val_loss: 0.0040 - val_accuracy: 0.9985\n",
            "Epoch 4/5\n",
            "375/375 [==============================] - 4s 11ms/step - loss: 0.0036 - accuracy: 0.9989 - val_loss: 0.0039 - val_accuracy: 0.9985\n",
            "Epoch 5/5\n",
            "375/375 [==============================] - 4s 11ms/step - loss: 0.0036 - accuracy: 0.9990 - val_loss: 0.0058 - val_accuracy: 0.9988\n",
            "188/188 [==============================] - 1s 3ms/step - loss: 0.0058 - accuracy: 0.9988\n",
            "> 99.883\n"
          ]
        },
        {
          "output_type": "stream",
          "name": "stderr",
          "text": [
            "/usr/local/lib/python3.7/dist-packages/ipykernel_launcher.py:5: MatplotlibDeprecationWarning: Adding an axes using the same arguments as a previous axes currently reuses the earlier instance.  In a future version, a new instance will always be created and returned.  Meanwhile, this warning can be suppressed, and the future behavior ensured, by passing a unique label to each axes instance.\n",
            "  \"\"\"\n",
            "/usr/local/lib/python3.7/dist-packages/ipykernel_launcher.py:10: MatplotlibDeprecationWarning: Adding an axes using the same arguments as a previous axes currently reuses the earlier instance.  In a future version, a new instance will always be created and returned.  Meanwhile, this warning can be suppressed, and the future behavior ensured, by passing a unique label to each axes instance.\n",
            "  # Remove the CWD from sys.path while we load stuff.\n"
          ]
        },
        {
          "output_type": "display_data",
          "data": {
            "text/plain": [
              "<Figure size 432x288 with 2 Axes>"
            ],
            "image/png": "[encoded data removed]"
          },
          "metadata": {
            "needs_background": "light"
          }
        },
        {
          "output_type": "stream",
          "name": "stdout",
          "text": [
            "Accuracy: mean=99.430 std=0.738, n=10\n"
          ]
        },
        {
          "output_type": "display_data",
          "data": {
            "text/plain": [
              "<Figure size 432x288 with 1 Axes>"
            ],
            "image/png": "[encoded data removed]"
          },
          "metadata": {
            "needs_background": "light"
          }
        },
        {
          "output_type": "stream",
          "name": "stdout",
          "text": [
            "['Random initialized on MNIST with LR=0.001 & epoch=5', 58.889, 99.925, 98.29]\n"
          ]
        }
      ]
    },
    {
      "cell_type": "code",
      "source": [
        "model = tf.keras.models.load_model(\"random_init_final\")\n",
        "from keras import backend as K\n",
        "K.set_value(model.optimizer.learning_rate, 0.0008)\n",
        "scores, histories, model = evaluate_model(model, trainX, trainy,10,3,144)\n",
        "\n",
        "\n",
        "\n",
        "# learning curves\n",
        "summarize_diagnostics(histories)\n",
        "# summarize estimated performance\n",
        "summarize_performance(scores)\n",
        "desc = \"Random initialized on MNIST with LR=0.0008 & epoch=3\"\n",
        "results.append([desc,round(model.evaluate(train_per_x, train_per_y, verbose=0)[1]*100,3),round(model.evaluate(trainX, trainy, verbose=0)[1]*100,3),round(model.evaluate(testX, testy, verbose=0)[1]*100,3)])\n",
        "print (results[len(results)-1])"
      ],
      "metadata": {
        "colab": {
          "base_uri": "https://localhost:8080/",
          "height": 1000
        },
        "id": "7XCJHA9vqBL7",
        "outputId": "0df89bec-8afb-4420-c572-c062bda25c3f"
      },
      "execution_count": 20,
      "outputs": [
        {
          "output_type": "stream",
          "name": "stdout",
          "text": [
            "Epoch 1/3\n",
            "375/375 [==============================] - 5s 12ms/step - loss: 0.2501 - accuracy: 0.9273 - val_loss: 0.1413 - val_accuracy: 0.9565\n",
            "Epoch 2/3\n",
            "375/375 [==============================] - 5s 13ms/step - loss: 0.0928 - accuracy: 0.9712 - val_loss: 0.1012 - val_accuracy: 0.9698\n",
            "Epoch 3/3\n",
            "375/375 [==============================] - 5s 13ms/step - loss: 0.0579 - accuracy: 0.9821 - val_loss: 0.0895 - val_accuracy: 0.9722\n",
            "188/188 [==============================] - 1s 3ms/step - loss: 0.0895 - accuracy: 0.9722\n",
            "> 97.217\n",
            "Epoch 1/3\n",
            "375/375 [==============================] - 4s 11ms/step - loss: 0.0472 - accuracy: 0.9854 - val_loss: 0.0386 - val_accuracy: 0.9885\n",
            "Epoch 2/3\n",
            "375/375 [==============================] - 4s 11ms/step - loss: 0.0304 - accuracy: 0.9903 - val_loss: 0.0501 - val_accuracy: 0.9848\n",
            "Epoch 3/3\n",
            "375/375 [==============================] - 4s 11ms/step - loss: 0.0215 - accuracy: 0.9934 - val_loss: 0.0434 - val_accuracy: 0.9865\n",
            "188/188 [==============================] - 1s 3ms/step - loss: 0.0434 - accuracy: 0.9865\n",
            "> 98.650\n",
            "Epoch 1/3\n",
            "375/375 [==============================] - 4s 11ms/step - loss: 0.0208 - accuracy: 0.9933 - val_loss: 0.0192 - val_accuracy: 0.9947\n",
            "Epoch 2/3\n",
            "375/375 [==============================] - 4s 11ms/step - loss: 0.0159 - accuracy: 0.9952 - val_loss: 0.0226 - val_accuracy: 0.9933\n",
            "Epoch 3/3\n",
            "375/375 [==============================] - 4s 11ms/step - loss: 0.0121 - accuracy: 0.9959 - val_loss: 0.0268 - val_accuracy: 0.9913\n",
            "188/188 [==============================] - 1s 3ms/step - loss: 0.0268 - accuracy: 0.9913\n",
            "> 99.133\n",
            "Epoch 1/3\n",
            "375/375 [==============================] - 4s 12ms/step - loss: 0.0138 - accuracy: 0.9958 - val_loss: 0.0145 - val_accuracy: 0.9947\n",
            "Epoch 2/3\n",
            "375/375 [==============================] - 4s 11ms/step - loss: 0.0101 - accuracy: 0.9968 - val_loss: 0.0136 - val_accuracy: 0.9957\n",
            "Epoch 3/3\n",
            "375/375 [==============================] - 4s 11ms/step - loss: 0.0089 - accuracy: 0.9972 - val_loss: 0.0112 - val_accuracy: 0.9958\n",
            "188/188 [==============================] - 0s 3ms/step - loss: 0.0112 - accuracy: 0.9958\n",
            "> 99.583\n",
            "Epoch 1/3\n",
            "375/375 [==============================] - 4s 11ms/step - loss: 0.0103 - accuracy: 0.9968 - val_loss: 0.0107 - val_accuracy: 0.9962\n",
            "Epoch 2/3\n",
            "375/375 [==============================] - 4s 11ms/step - loss: 0.0086 - accuracy: 0.9971 - val_loss: 0.0138 - val_accuracy: 0.9968\n",
            "Epoch 3/3\n",
            "375/375 [==============================] - 4s 12ms/step - loss: 0.0077 - accuracy: 0.9975 - val_loss: 0.0131 - val_accuracy: 0.9953\n",
            "188/188 [==============================] - 1s 3ms/step - loss: 0.0131 - accuracy: 0.9953\n",
            "> 99.533\n",
            "Epoch 1/3\n",
            "375/375 [==============================] - 4s 11ms/step - loss: 0.0132 - accuracy: 0.9959 - val_loss: 0.0126 - val_accuracy: 0.9950\n",
            "Epoch 2/3\n",
            "375/375 [==============================] - 4s 11ms/step - loss: 0.0072 - accuracy: 0.9978 - val_loss: 0.0199 - val_accuracy: 0.9940\n",
            "Epoch 3/3\n",
            "375/375 [==============================] - 4s 11ms/step - loss: 0.0070 - accuracy: 0.9976 - val_loss: 0.0066 - val_accuracy: 0.9973\n",
            "188/188 [==============================] - 1s 3ms/step - loss: 0.0066 - accuracy: 0.9973\n",
            "> 99.733\n",
            "Epoch 1/3\n",
            "375/375 [==============================] - 4s 12ms/step - loss: 0.0073 - accuracy: 0.9976 - val_loss: 0.0070 - val_accuracy: 0.9968\n",
            "Epoch 2/3\n",
            "375/375 [==============================] - 4s 12ms/step - loss: 0.0043 - accuracy: 0.9986 - val_loss: 0.0050 - val_accuracy: 0.9983\n",
            "Epoch 3/3\n",
            "375/375 [==============================] - 4s 11ms/step - loss: 0.0035 - accuracy: 0.9987 - val_loss: 0.0036 - val_accuracy: 0.9987\n",
            "188/188 [==============================] - 1s 3ms/step - loss: 0.0036 - accuracy: 0.9987\n",
            "> 99.867\n",
            "Epoch 1/3\n",
            "375/375 [==============================] - 4s 12ms/step - loss: 0.0102 - accuracy: 0.9967 - val_loss: 0.0123 - val_accuracy: 0.9957\n",
            "Epoch 2/3\n",
            "375/375 [==============================] - 4s 12ms/step - loss: 0.0087 - accuracy: 0.9971 - val_loss: 0.0068 - val_accuracy: 0.9983\n",
            "Epoch 3/3\n",
            "375/375 [==============================] - 4s 11ms/step - loss: 0.0030 - accuracy: 0.9990 - val_loss: 0.0036 - val_accuracy: 0.9985\n",
            "188/188 [==============================] - 1s 3ms/step - loss: 0.0036 - accuracy: 0.9985\n",
            "> 99.850\n",
            "Epoch 1/3\n",
            "375/375 [==============================] - 4s 11ms/step - loss: 0.0038 - accuracy: 0.9989 - val_loss: 0.0027 - val_accuracy: 0.9995\n",
            "Epoch 2/3\n",
            "375/375 [==============================] - 4s 11ms/step - loss: 0.0096 - accuracy: 0.9970 - val_loss: 0.0114 - val_accuracy: 0.9962\n",
            "Epoch 3/3\n",
            "375/375 [==============================] - 4s 11ms/step - loss: 0.0034 - accuracy: 0.9989 - val_loss: 0.0048 - val_accuracy: 0.9985\n",
            "188/188 [==============================] - 1s 3ms/step - loss: 0.0048 - accuracy: 0.9985\n",
            "> 99.850\n",
            "Epoch 1/3\n",
            "375/375 [==============================] - 4s 12ms/step - loss: 0.0021 - accuracy: 0.9994 - val_loss: 0.0017 - val_accuracy: 0.9995\n",
            "Epoch 2/3\n",
            "375/375 [==============================] - 4s 11ms/step - loss: 0.0052 - accuracy: 0.9982 - val_loss: 0.0040 - val_accuracy: 0.9988\n",
            "Epoch 3/3\n",
            "375/375 [==============================] - 4s 11ms/step - loss: 0.0052 - accuracy: 0.9984 - val_loss: 0.0070 - val_accuracy: 0.9972\n",
            "188/188 [==============================] - 1s 3ms/step - loss: 0.0070 - accuracy: 0.9972\n",
            "> 99.717\n"
          ]
        },
        {
          "output_type": "stream",
          "name": "stderr",
          "text": [
            "/usr/local/lib/python3.7/dist-packages/ipykernel_launcher.py:5: MatplotlibDeprecationWarning: Adding an axes using the same arguments as a previous axes currently reuses the earlier instance.  In a future version, a new instance will always be created and returned.  Meanwhile, this warning can be suppressed, and the future behavior ensured, by passing a unique label to each axes instance.\n",
            "  \"\"\"\n",
            "/usr/local/lib/python3.7/dist-packages/ipykernel_launcher.py:10: MatplotlibDeprecationWarning: Adding an axes using the same arguments as a previous axes currently reuses the earlier instance.  In a future version, a new instance will always be created and returned.  Meanwhile, this warning can be suppressed, and the future behavior ensured, by passing a unique label to each axes instance.\n",
            "  # Remove the CWD from sys.path while we load stuff.\n"
          ]
        },
        {
          "output_type": "display_data",
          "data": {
            "text/plain": [
              "<Figure size 432x288 with 2 Axes>"
            ],
            "image/png": "[encoded data removed]"
          },
          "metadata": {
            "needs_background": "light"
          }
        },
        {
          "output_type": "stream",
          "name": "stdout",
          "text": [
            "Accuracy: mean=99.313 std=0.788, n=10\n"
          ]
        },
        {
          "output_type": "display_data",
          "data": {
            "text/plain": [
              "<Figure size 432x288 with 1 Axes>"
            ],
            "image/png": "[encoded data removed]"
          },
          "metadata": {
            "needs_background": "light"
          }
        },
        {
          "output_type": "stream",
          "name": "stdout",
          "text": [
            "['Random initialized on MNIST with LR=0.0008 & epoch=3', 60.0, 99.852, 98.29]\n"
          ]
        }
      ]
    },
    {
      "cell_type": "code",
      "source": [
        "model = tf.keras.models.load_model(\"random_init_final\")\n",
        "from keras import backend as K\n",
        "K.set_value(model.optimizer.learning_rate, 0.0009)\n",
        "scores, histories, model = evaluate_model(model, trainX, trainy,10,2,144)\n",
        "\n",
        "\n",
        "\n",
        "# learning curves\n",
        "summarize_diagnostics(histories)\n",
        "# summarize estimated performance\n",
        "summarize_performance(scores)\n",
        "desc = \"Random initialized on MNIST with LR=0.0009 & epoch=2\"\n",
        "results.append([desc,round(model.evaluate(train_per_x, train_per_y, verbose=0)[1]*100,3),round(model.evaluate(trainX, trainy, verbose=0)[1]*100,3),round(model.evaluate(testX, testy, verbose=0)[1]*100,3)])\n",
        "print (results[len(results)-1])"
      ],
      "metadata": {
        "colab": {
          "base_uri": "https://localhost:8080/",
          "height": 1000
        },
        "id": "gYlydpHZp32t",
        "outputId": "dcf499b9-8ee9-4363-c915-cb9f6f949369"
      },
      "execution_count": 21,
      "outputs": [
        {
          "output_type": "stream",
          "name": "stdout",
          "text": [
            "Epoch 1/2\n",
            "375/375 [==============================] - 5s 12ms/step - loss: 0.2410 - accuracy: 0.9297 - val_loss: 0.1344 - val_accuracy: 0.9575\n",
            "Epoch 2/2\n",
            "375/375 [==============================] - 4s 12ms/step - loss: 0.0891 - accuracy: 0.9725 - val_loss: 0.1025 - val_accuracy: 0.9692\n",
            "188/188 [==============================] - 1s 3ms/step - loss: 0.1025 - accuracy: 0.9692\n",
            "> 96.917\n",
            "Epoch 1/2\n",
            "375/375 [==============================] - 4s 12ms/step - loss: 0.0615 - accuracy: 0.9812 - val_loss: 0.0507 - val_accuracy: 0.9847\n",
            "Epoch 2/2\n",
            "375/375 [==============================] - 4s 12ms/step - loss: 0.0388 - accuracy: 0.9884 - val_loss: 0.0635 - val_accuracy: 0.9825\n",
            "188/188 [==============================] - 1s 3ms/step - loss: 0.0635 - accuracy: 0.9825\n",
            "> 98.250\n",
            "Epoch 1/2\n",
            "375/375 [==============================] - 4s 12ms/step - loss: 0.0313 - accuracy: 0.9898 - val_loss: 0.0289 - val_accuracy: 0.9903\n",
            "Epoch 2/2\n",
            "375/375 [==============================] - 4s 11ms/step - loss: 0.0220 - accuracy: 0.9931 - val_loss: 0.0340 - val_accuracy: 0.9887\n",
            "188/188 [==============================] - 0s 3ms/step - loss: 0.0340 - accuracy: 0.9887\n",
            "> 98.867\n",
            "Epoch 1/2\n",
            "375/375 [==============================] - 4s 12ms/step - loss: 0.0199 - accuracy: 0.9940 - val_loss: 0.0161 - val_accuracy: 0.9952\n",
            "Epoch 2/2\n",
            "375/375 [==============================] - 4s 11ms/step - loss: 0.0138 - accuracy: 0.9958 - val_loss: 0.0181 - val_accuracy: 0.9933\n",
            "188/188 [==============================] - 1s 3ms/step - loss: 0.0181 - accuracy: 0.9933\n",
            "> 99.333\n",
            "Epoch 1/2\n",
            "375/375 [==============================] - 4s 11ms/step - loss: 0.0165 - accuracy: 0.9943 - val_loss: 0.0150 - val_accuracy: 0.9947\n",
            "Epoch 2/2\n",
            "375/375 [==============================] - 4s 12ms/step - loss: 0.0131 - accuracy: 0.9957 - val_loss: 0.0225 - val_accuracy: 0.9925\n",
            "188/188 [==============================] - 0s 3ms/step - loss: 0.0225 - accuracy: 0.9925\n",
            "> 99.250\n",
            "Epoch 1/2\n",
            "375/375 [==============================] - 4s 12ms/step - loss: 0.0114 - accuracy: 0.9960 - val_loss: 0.0163 - val_accuracy: 0.9945\n",
            "Epoch 2/2\n",
            "375/375 [==============================] - 4s 12ms/step - loss: 0.0093 - accuracy: 0.9969 - val_loss: 0.0232 - val_accuracy: 0.9933\n",
            "188/188 [==============================] - 0s 3ms/step - loss: 0.0232 - accuracy: 0.9933\n",
            "> 99.333\n",
            "Epoch 1/2\n",
            "375/375 [==============================] - 4s 11ms/step - loss: 0.0117 - accuracy: 0.9959 - val_loss: 0.0124 - val_accuracy: 0.9960\n",
            "Epoch 2/2\n",
            "375/375 [==============================] - 4s 12ms/step - loss: 0.0094 - accuracy: 0.9968 - val_loss: 0.0149 - val_accuracy: 0.9947\n",
            "188/188 [==============================] - 1s 3ms/step - loss: 0.0149 - accuracy: 0.9947\n",
            "> 99.467\n",
            "Epoch 1/2\n",
            "375/375 [==============================] - 4s 11ms/step - loss: 0.0071 - accuracy: 0.9977 - val_loss: 0.0138 - val_accuracy: 0.9952\n",
            "Epoch 2/2\n",
            "375/375 [==============================] - 4s 11ms/step - loss: 0.0055 - accuracy: 0.9985 - val_loss: 0.0171 - val_accuracy: 0.9942\n",
            "188/188 [==============================] - 1s 3ms/step - loss: 0.0171 - accuracy: 0.9942\n",
            "> 99.417\n",
            "Epoch 1/2\n",
            "375/375 [==============================] - 4s 11ms/step - loss: 0.0099 - accuracy: 0.9968 - val_loss: 0.0097 - val_accuracy: 0.9970\n",
            "Epoch 2/2\n",
            "375/375 [==============================] - 4s 11ms/step - loss: 0.0109 - accuracy: 0.9960 - val_loss: 0.0170 - val_accuracy: 0.9937\n",
            "188/188 [==============================] - 1s 3ms/step - loss: 0.0170 - accuracy: 0.9937\n",
            "> 99.367\n",
            "Epoch 1/2\n",
            "375/375 [==============================] - 4s 12ms/step - loss: 0.0078 - accuracy: 0.9974 - val_loss: 0.0097 - val_accuracy: 0.9962\n",
            "Epoch 2/2\n",
            "375/375 [==============================] - 4s 11ms/step - loss: 0.0069 - accuracy: 0.9979 - val_loss: 0.0031 - val_accuracy: 0.9987\n",
            "188/188 [==============================] - 1s 3ms/step - loss: 0.0031 - accuracy: 0.9987\n",
            "> 99.867\n"
          ]
        },
        {
          "output_type": "stream",
          "name": "stderr",
          "text": [
            "/usr/local/lib/python3.7/dist-packages/ipykernel_launcher.py:5: MatplotlibDeprecationWarning: Adding an axes using the same arguments as a previous axes currently reuses the earlier instance.  In a future version, a new instance will always be created and returned.  Meanwhile, this warning can be suppressed, and the future behavior ensured, by passing a unique label to each axes instance.\n",
            "  \"\"\"\n",
            "/usr/local/lib/python3.7/dist-packages/ipykernel_launcher.py:10: MatplotlibDeprecationWarning: Adding an axes using the same arguments as a previous axes currently reuses the earlier instance.  In a future version, a new instance will always be created and returned.  Meanwhile, this warning can be suppressed, and the future behavior ensured, by passing a unique label to each axes instance.\n",
            "  # Remove the CWD from sys.path while we load stuff.\n"
          ]
        },
        {
          "output_type": "display_data",
          "data": {
            "text/plain": [
              "<Figure size 432x288 with 2 Axes>"
            ],
            "image/png": "[encoded data removed]"
          },
          "metadata": {
            "needs_background": "light"
          }
        },
        {
          "output_type": "stream",
          "name": "stdout",
          "text": [
            "Accuracy: mean=99.007 std=0.805, n=10\n"
          ]
        },
        {
          "output_type": "display_data",
          "data": {
            "text/plain": [
              "<Figure size 432x288 with 1 Axes>"
            ],
            "image/png": "[encoded data removed]"
          },
          "metadata": {
            "needs_background": "light"
          }
        },
        {
          "output_type": "stream",
          "name": "stdout",
          "text": [
            "['Random initialized on MNIST with LR=0.0009 & epoch=2', 61.667, 99.893, 98.12]\n"
          ]
        }
      ]
    },
    {
      "cell_type": "code",
      "source": [
        "model = tf.keras.models.load_model(\"random_init_final\")\n",
        "from keras import backend as K\n",
        "K.set_value(model.optimizer.learning_rate, 0.0009)\n",
        "scores, histories, model = evaluate_model(model, trainX, trainy,10,3,144)\n",
        "\n",
        "\n",
        "\n",
        "# learning curves\n",
        "summarize_diagnostics(histories)\n",
        "# summarize estimated performance\n",
        "summarize_performance(scores)\n",
        "desc = \"Random initialized on MNIST with LR=0.0009 & epoch=3\"\n",
        "results.append([desc,round(model.evaluate(train_per_x, train_per_y, verbose=0)[1]*100,3),round(model.evaluate(trainX, trainy, verbose=0)[1]*100,3),round(model.evaluate(testX, testy, verbose=0)[1]*100,3)])\n",
        "print (results[len(results)-1])"
      ],
      "metadata": {
        "colab": {
          "base_uri": "https://localhost:8080/",
          "height": 1000
        },
        "id": "OBCCej_Up_-m",
        "outputId": "d4c6abd2-a6d4-4520-9935-5f7f2c145c67"
      },
      "execution_count": 22,
      "outputs": [
        {
          "output_type": "stream",
          "name": "stdout",
          "text": [
            "Epoch 1/3\n",
            "375/375 [==============================] - 5s 12ms/step - loss: 0.2410 - accuracy: 0.9297 - val_loss: 0.1344 - val_accuracy: 0.9575\n",
            "Epoch 2/3\n",
            "375/375 [==============================] - 4s 11ms/step - loss: 0.0891 - accuracy: 0.9725 - val_loss: 0.1025 - val_accuracy: 0.9692\n",
            "Epoch 3/3\n",
            "375/375 [==============================] - 4s 11ms/step - loss: 0.0554 - accuracy: 0.9831 - val_loss: 0.0856 - val_accuracy: 0.9732\n",
            "188/188 [==============================] - 1s 3ms/step - loss: 0.0856 - accuracy: 0.9732\n",
            "> 97.317\n",
            "Epoch 1/3\n",
            "375/375 [==============================] - 4s 11ms/step - loss: 0.0451 - accuracy: 0.9863 - val_loss: 0.0376 - val_accuracy: 0.9890\n",
            "Epoch 2/3\n",
            "375/375 [==============================] - 4s 11ms/step - loss: 0.0283 - accuracy: 0.9911 - val_loss: 0.0517 - val_accuracy: 0.9843\n",
            "Epoch 3/3\n",
            "375/375 [==============================] - 4s 11ms/step - loss: 0.0206 - accuracy: 0.9936 - val_loss: 0.0447 - val_accuracy: 0.9860\n",
            "188/188 [==============================] - 1s 3ms/step - loss: 0.0447 - accuracy: 0.9860\n",
            "> 98.600\n",
            "Epoch 1/3\n",
            "375/375 [==============================] - 4s 11ms/step - loss: 0.0206 - accuracy: 0.9935 - val_loss: 0.0187 - val_accuracy: 0.9952\n",
            "Epoch 2/3\n",
            "375/375 [==============================] - 4s 12ms/step - loss: 0.0181 - accuracy: 0.9941 - val_loss: 0.0231 - val_accuracy: 0.9933\n",
            "Epoch 3/3\n",
            "375/375 [==============================] - 4s 11ms/step - loss: 0.0117 - accuracy: 0.9964 - val_loss: 0.0229 - val_accuracy: 0.9923\n",
            "188/188 [==============================] - 1s 3ms/step - loss: 0.0229 - accuracy: 0.9923\n",
            "> 99.233\n",
            "Epoch 1/3\n",
            "375/375 [==============================] - 4s 11ms/step - loss: 0.0132 - accuracy: 0.9957 - val_loss: 0.0123 - val_accuracy: 0.9955\n",
            "Epoch 2/3\n",
            "375/375 [==============================] - 4s 11ms/step - loss: 0.0110 - accuracy: 0.9963 - val_loss: 0.0162 - val_accuracy: 0.9950\n",
            "Epoch 3/3\n",
            "375/375 [==============================] - 4s 12ms/step - loss: 0.0136 - accuracy: 0.9954 - val_loss: 0.0205 - val_accuracy: 0.9933\n",
            "188/188 [==============================] - 1s 3ms/step - loss: 0.0205 - accuracy: 0.9933\n",
            "> 99.333\n",
            "Epoch 1/3\n",
            "375/375 [==============================] - 4s 12ms/step - loss: 0.0121 - accuracy: 0.9959 - val_loss: 0.0123 - val_accuracy: 0.9952\n",
            "Epoch 2/3\n",
            "375/375 [==============================] - 4s 11ms/step - loss: 0.0075 - accuracy: 0.9974 - val_loss: 0.0155 - val_accuracy: 0.9940\n",
            "Epoch 3/3\n",
            "375/375 [==============================] - 4s 11ms/step - loss: 0.0045 - accuracy: 0.9985 - val_loss: 0.0069 - val_accuracy: 0.9982\n",
            "188/188 [==============================] - 1s 3ms/step - loss: 0.0069 - accuracy: 0.9982\n",
            "> 99.817\n",
            "Epoch 1/3\n",
            "375/375 [==============================] - 4s 12ms/step - loss: 0.0105 - accuracy: 0.9966 - val_loss: 0.0156 - val_accuracy: 0.9945\n",
            "Epoch 2/3\n",
            "375/375 [==============================] - 4s 11ms/step - loss: 0.0091 - accuracy: 0.9969 - val_loss: 0.0185 - val_accuracy: 0.9943\n",
            "Epoch 3/3\n",
            "375/375 [==============================] - 4s 11ms/step - loss: 0.0082 - accuracy: 0.9972 - val_loss: 0.0072 - val_accuracy: 0.9975\n",
            "188/188 [==============================] - 1s 3ms/step - loss: 0.0072 - accuracy: 0.9975\n",
            "> 99.750\n",
            "Epoch 1/3\n",
            "375/375 [==============================] - 5s 12ms/step - loss: 0.0081 - accuracy: 0.9973 - val_loss: 0.0050 - val_accuracy: 0.9972\n",
            "Epoch 2/3\n",
            "375/375 [==============================] - 5s 12ms/step - loss: 0.0047 - accuracy: 0.9985 - val_loss: 0.0054 - val_accuracy: 0.9980\n",
            "Epoch 3/3\n",
            "375/375 [==============================] - 5s 12ms/step - loss: 0.0072 - accuracy: 0.9977 - val_loss: 0.0078 - val_accuracy: 0.9972\n",
            "188/188 [==============================] - 1s 3ms/step - loss: 0.0078 - accuracy: 0.9972\n",
            "> 99.717\n",
            "Epoch 1/3\n",
            "375/375 [==============================] - 4s 12ms/step - loss: 0.0067 - accuracy: 0.9979 - val_loss: 0.0115 - val_accuracy: 0.9960\n",
            "Epoch 2/3\n",
            "375/375 [==============================] - 4s 11ms/step - loss: 0.0052 - accuracy: 0.9983 - val_loss: 0.0078 - val_accuracy: 0.9977\n",
            "Epoch 3/3\n",
            "375/375 [==============================] - 4s 11ms/step - loss: 0.0060 - accuracy: 0.9980 - val_loss: 0.0099 - val_accuracy: 0.9970\n",
            "188/188 [==============================] - 1s 3ms/step - loss: 0.0099 - accuracy: 0.9970\n",
            "> 99.700\n",
            "Epoch 1/3\n",
            "375/375 [==============================] - 4s 11ms/step - loss: 0.0109 - accuracy: 0.9969 - val_loss: 0.0081 - val_accuracy: 0.9965\n",
            "Epoch 2/3\n",
            "375/375 [==============================] - 4s 11ms/step - loss: 0.0035 - accuracy: 0.9988 - val_loss: 0.0024 - val_accuracy: 0.9992\n",
            "Epoch 3/3\n",
            "375/375 [==============================] - 4s 11ms/step - loss: 0.0042 - accuracy: 0.9986 - val_loss: 0.0075 - val_accuracy: 0.9968\n",
            "188/188 [==============================] - 1s 3ms/step - loss: 0.0075 - accuracy: 0.9968\n",
            "> 99.683\n",
            "Epoch 1/3\n",
            "375/375 [==============================] - 4s 11ms/step - loss: 0.0076 - accuracy: 0.9977 - val_loss: 0.0038 - val_accuracy: 0.9983\n",
            "Epoch 2/3\n",
            "375/375 [==============================] - 4s 11ms/step - loss: 0.0042 - accuracy: 0.9987 - val_loss: 0.0037 - val_accuracy: 0.9988\n",
            "Epoch 3/3\n",
            "375/375 [==============================] - 4s 11ms/step - loss: 0.0024 - accuracy: 0.9990 - val_loss: 0.0067 - val_accuracy: 0.9977\n",
            "188/188 [==============================] - 1s 3ms/step - loss: 0.0067 - accuracy: 0.9977\n",
            "> 99.767\n"
          ]
        },
        {
          "output_type": "stream",
          "name": "stderr",
          "text": [
            "/usr/local/lib/python3.7/dist-packages/ipykernel_launcher.py:5: MatplotlibDeprecationWarning: Adding an axes using the same arguments as a previous axes currently reuses the earlier instance.  In a future version, a new instance will always be created and returned.  Meanwhile, this warning can be suppressed, and the future behavior ensured, by passing a unique label to each axes instance.\n",
            "  \"\"\"\n",
            "/usr/local/lib/python3.7/dist-packages/ipykernel_launcher.py:10: MatplotlibDeprecationWarning: Adding an axes using the same arguments as a previous axes currently reuses the earlier instance.  In a future version, a new instance will always be created and returned.  Meanwhile, this warning can be suppressed, and the future behavior ensured, by passing a unique label to each axes instance.\n",
            "  # Remove the CWD from sys.path while we load stuff.\n"
          ]
        },
        {
          "output_type": "display_data",
          "data": {
            "text/plain": [
              "<Figure size 432x288 with 2 Axes>"
            ],
            "image/png": "[encoded data removed]"
          },
          "metadata": {
            "needs_background": "light"
          }
        },
        {
          "output_type": "stream",
          "name": "stdout",
          "text": [
            "Accuracy: mean=99.292 std=0.748, n=10\n"
          ]
        },
        {
          "output_type": "display_data",
          "data": {
            "text/plain": [
              "<Figure size 432x288 with 1 Axes>"
            ],
            "image/png": "[encoded data removed]"
          },
          "metadata": {
            "needs_background": "light"
          }
        },
        {
          "output_type": "stream",
          "name": "stdout",
          "text": [
            "['Random initialized on MNIST with LR=0.0009 & epoch=3', 55.0, 99.852, 98.21]\n"
          ]
        }
      ]
    },
    {
      "cell_type": "code",
      "source": [
        "model = tf.keras.models.load_model(\"random_init_final\")\n",
        "from keras import backend as K\n",
        "K.set_value(model.optimizer.learning_rate, 0.0009)\n",
        "scores, histories, model = evaluate_model(model, trainX, trainy,10,5,144)\n",
        "\n",
        "\n",
        "\n",
        "# learning curves\n",
        "summarize_diagnostics(histories)\n",
        "# summarize estimated performance\n",
        "summarize_performance(scores)\n",
        "desc = \"Random initialized on MNIST with LR=0.0009 & epoch=5\"\n",
        "results.append([desc,round(model.evaluate(train_per_x, train_per_y, verbose=0)[1]*100,3),round(model.evaluate(trainX, trainy, verbose=0)[1]*100,3),round(model.evaluate(testX, testy, verbose=0)[1]*100,3)])\n",
        "print (results[len(results)-1])"
      ],
      "metadata": {
        "colab": {
          "base_uri": "https://localhost:8080/",
          "height": 1000
        },
        "id": "cbNlyTImqEHz",
        "outputId": "6bcea134-6de1-4d52-e0bf-cb28a623d0da"
      },
      "execution_count": 23,
      "outputs": [
        {
          "output_type": "stream",
          "name": "stdout",
          "text": [
            "Epoch 1/5\n",
            "375/375 [==============================] - 5s 12ms/step - loss: 0.2410 - accuracy: 0.9297 - val_loss: 0.1344 - val_accuracy: 0.9575\n",
            "Epoch 2/5\n",
            "375/375 [==============================] - 4s 11ms/step - loss: 0.0891 - accuracy: 0.9725 - val_loss: 0.1025 - val_accuracy: 0.9692\n",
            "Epoch 3/5\n",
            "375/375 [==============================] - 4s 11ms/step - loss: 0.0554 - accuracy: 0.9831 - val_loss: 0.0856 - val_accuracy: 0.9732\n",
            "Epoch 4/5\n",
            "375/375 [==============================] - 4s 11ms/step - loss: 0.0371 - accuracy: 0.9880 - val_loss: 0.0763 - val_accuracy: 0.9757\n",
            "Epoch 5/5\n",
            "375/375 [==============================] - 4s 11ms/step - loss: 0.0265 - accuracy: 0.9912 - val_loss: 0.0818 - val_accuracy: 0.9750\n",
            "188/188 [==============================] - 1s 3ms/step - loss: 0.0818 - accuracy: 0.9750\n",
            "> 97.500\n",
            "Epoch 1/5\n",
            "375/375 [==============================] - 4s 11ms/step - loss: 0.0325 - accuracy: 0.9899 - val_loss: 0.0297 - val_accuracy: 0.9903\n",
            "Epoch 2/5\n",
            "375/375 [==============================] - 4s 11ms/step - loss: 0.0174 - accuracy: 0.9942 - val_loss: 0.0290 - val_accuracy: 0.9917\n",
            "Epoch 3/5\n",
            "375/375 [==============================] - 4s 11ms/step - loss: 0.0135 - accuracy: 0.9957 - val_loss: 0.0347 - val_accuracy: 0.9892\n",
            "Epoch 4/5\n",
            "375/375 [==============================] - 4s 11ms/step - loss: 0.0131 - accuracy: 0.9958 - val_loss: 0.0305 - val_accuracy: 0.9902\n",
            "Epoch 5/5\n",
            "375/375 [==============================] - 4s 11ms/step - loss: 0.0093 - accuracy: 0.9972 - val_loss: 0.0306 - val_accuracy: 0.9908\n",
            "188/188 [==============================] - 1s 3ms/step - loss: 0.0306 - accuracy: 0.9908\n",
            "> 99.083\n",
            "Epoch 1/5\n",
            "375/375 [==============================] - 4s 11ms/step - loss: 0.0175 - accuracy: 0.9941 - val_loss: 0.0175 - val_accuracy: 0.9938\n",
            "Epoch 2/5\n",
            "375/375 [==============================] - 4s 11ms/step - loss: 0.0123 - accuracy: 0.9961 - val_loss: 0.0097 - val_accuracy: 0.9963\n",
            "Epoch 3/5\n",
            "375/375 [==============================] - 4s 11ms/step - loss: 0.0079 - accuracy: 0.9971 - val_loss: 0.0119 - val_accuracy: 0.9957\n",
            "Epoch 4/5\n",
            "375/375 [==============================] - 4s 11ms/step - loss: 0.0064 - accuracy: 0.9980 - val_loss: 0.0197 - val_accuracy: 0.9928\n",
            "Epoch 5/5\n",
            "375/375 [==============================] - 4s 11ms/step - loss: 0.0101 - accuracy: 0.9970 - val_loss: 0.0230 - val_accuracy: 0.9925\n",
            "188/188 [==============================] - 1s 3ms/step - loss: 0.0230 - accuracy: 0.9925\n",
            "> 99.250\n",
            "Epoch 1/5\n",
            "375/375 [==============================] - 4s 11ms/step - loss: 0.0113 - accuracy: 0.9963 - val_loss: 0.0100 - val_accuracy: 0.9963\n",
            "Epoch 2/5\n",
            "375/375 [==============================] - 4s 11ms/step - loss: 0.0067 - accuracy: 0.9976 - val_loss: 0.0180 - val_accuracy: 0.9943\n",
            "Epoch 3/5\n",
            "375/375 [==============================] - 4s 11ms/step - loss: 0.0096 - accuracy: 0.9968 - val_loss: 0.0117 - val_accuracy: 0.9967\n",
            "Epoch 4/5\n",
            "375/375 [==============================] - 4s 11ms/step - loss: 0.0028 - accuracy: 0.9992 - val_loss: 0.0118 - val_accuracy: 0.9958\n",
            "Epoch 5/5\n",
            "375/375 [==============================] - 4s 11ms/step - loss: 0.0094 - accuracy: 0.9968 - val_loss: 0.0200 - val_accuracy: 0.9927\n",
            "188/188 [==============================] - 1s 3ms/step - loss: 0.0200 - accuracy: 0.9927\n",
            "> 99.267\n",
            "Epoch 1/5\n",
            "375/375 [==============================] - 4s 11ms/step - loss: 0.0074 - accuracy: 0.9979 - val_loss: 0.0118 - val_accuracy: 0.9967\n",
            "Epoch 2/5\n",
            "375/375 [==============================] - 4s 11ms/step - loss: 0.0069 - accuracy: 0.9975 - val_loss: 0.0094 - val_accuracy: 0.9962\n",
            "Epoch 3/5\n",
            "375/375 [==============================] - 4s 11ms/step - loss: 0.0079 - accuracy: 0.9974 - val_loss: 0.0186 - val_accuracy: 0.9940\n",
            "Epoch 4/5\n",
            "375/375 [==============================] - 4s 11ms/step - loss: 0.0064 - accuracy: 0.9980 - val_loss: 0.0100 - val_accuracy: 0.9973\n",
            "Epoch 5/5\n",
            "375/375 [==============================] - 4s 11ms/step - loss: 0.0037 - accuracy: 0.9989 - val_loss: 0.0160 - val_accuracy: 0.9962\n",
            "188/188 [==============================] - 1s 3ms/step - loss: 0.0160 - accuracy: 0.9962\n",
            "> 99.617\n",
            "Epoch 1/5\n",
            "375/375 [==============================] - 4s 11ms/step - loss: 0.0080 - accuracy: 0.9976 - val_loss: 0.0069 - val_accuracy: 0.9987\n",
            "Epoch 2/5\n",
            "375/375 [==============================] - 4s 12ms/step - loss: 0.0057 - accuracy: 0.9981 - val_loss: 0.0040 - val_accuracy: 0.9985\n",
            "Epoch 3/5\n",
            "375/375 [==============================] - 4s 11ms/step - loss: 0.0029 - accuracy: 0.9992 - val_loss: 0.0035 - val_accuracy: 0.9987\n",
            "Epoch 4/5\n",
            "375/375 [==============================] - 4s 11ms/step - loss: 0.0058 - accuracy: 0.9984 - val_loss: 0.0102 - val_accuracy: 0.9965\n",
            "Epoch 5/5\n",
            "375/375 [==============================] - 4s 11ms/step - loss: 0.0056 - accuracy: 0.9984 - val_loss: 0.0099 - val_accuracy: 0.9972\n",
            "188/188 [==============================] - 1s 3ms/step - loss: 0.0099 - accuracy: 0.9972\n",
            "> 99.717\n",
            "Epoch 1/5\n",
            "375/375 [==============================] - 4s 12ms/step - loss: 0.0064 - accuracy: 0.9979 - val_loss: 0.0056 - val_accuracy: 0.9977\n",
            "Epoch 2/5\n",
            "375/375 [==============================] - 4s 12ms/step - loss: 0.0042 - accuracy: 0.9989 - val_loss: 0.0035 - val_accuracy: 0.9988\n",
            "Epoch 3/5\n",
            "375/375 [==============================] - 5s 12ms/step - loss: 0.0039 - accuracy: 0.9988 - val_loss: 0.0023 - val_accuracy: 0.9992\n",
            "Epoch 4/5\n",
            "375/375 [==============================] - 5s 12ms/step - loss: 0.0053 - accuracy: 0.9981 - val_loss: 0.0086 - val_accuracy: 0.9963\n",
            "Epoch 5/5\n",
            "375/375 [==============================] - 5s 12ms/step - loss: 0.0085 - accuracy: 0.9972 - val_loss: 0.0054 - val_accuracy: 0.9978\n",
            "188/188 [==============================] - 1s 3ms/step - loss: 0.0054 - accuracy: 0.9978\n",
            "> 99.783\n",
            "Epoch 1/5\n",
            "375/375 [==============================] - 4s 12ms/step - loss: 0.0032 - accuracy: 0.9989 - val_loss: 0.0062 - val_accuracy: 0.9983\n",
            "Epoch 2/5\n",
            "375/375 [==============================] - 4s 11ms/step - loss: 0.0033 - accuracy: 0.9989 - val_loss: 0.0016 - val_accuracy: 0.9993\n",
            "Epoch 3/5\n",
            "375/375 [==============================] - 4s 11ms/step - loss: 0.0018 - accuracy: 0.9995 - val_loss: 0.0033 - val_accuracy: 0.9992\n",
            "Epoch 4/5\n",
            "375/375 [==============================] - 4s 12ms/step - loss: 0.0012 - accuracy: 0.9997 - val_loss: 9.9488e-04 - val_accuracy: 0.9998\n",
            "Epoch 5/5\n",
            "375/375 [==============================] - 4s 12ms/step - loss: 2.4841e-04 - accuracy: 0.9999 - val_loss: 6.4343e-04 - val_accuracy: 0.9997\n",
            "188/188 [==============================] - 1s 3ms/step - loss: 6.4343e-04 - accuracy: 0.9997\n",
            "> 99.967\n",
            "Epoch 1/5\n",
            "375/375 [==============================] - 4s 11ms/step - loss: 0.0130 - accuracy: 0.9969 - val_loss: 0.0173 - val_accuracy: 0.9953\n",
            "Epoch 2/5\n",
            "375/375 [==============================] - 4s 11ms/step - loss: 0.0064 - accuracy: 0.9981 - val_loss: 0.0061 - val_accuracy: 0.9978\n",
            "Epoch 3/5\n",
            "375/375 [==============================] - 4s 12ms/step - loss: 0.0024 - accuracy: 0.9992 - val_loss: 0.0057 - val_accuracy: 0.9987\n",
            "Epoch 4/5\n",
            "375/375 [==============================] - 4s 11ms/step - loss: 0.0015 - accuracy: 0.9997 - val_loss: 0.0021 - val_accuracy: 0.9995\n",
            "Epoch 5/5\n",
            "375/375 [==============================] - 4s 11ms/step - loss: 7.2532e-04 - accuracy: 0.9997 - val_loss: 0.0025 - val_accuracy: 0.9992\n",
            "188/188 [==============================] - 1s 3ms/step - loss: 0.0025 - accuracy: 0.9992\n",
            "> 99.917\n",
            "Epoch 1/5\n",
            "375/375 [==============================] - 4s 12ms/step - loss: 0.0073 - accuracy: 0.9979 - val_loss: 0.0106 - val_accuracy: 0.9973\n",
            "Epoch 2/5\n",
            "375/375 [==============================] - 4s 11ms/step - loss: 0.0075 - accuracy: 0.9979 - val_loss: 0.0031 - val_accuracy: 0.9985\n",
            "Epoch 3/5\n",
            "375/375 [==============================] - 4s 11ms/step - loss: 0.0052 - accuracy: 0.9984 - val_loss: 0.0101 - val_accuracy: 0.9975\n",
            "Epoch 4/5\n",
            "375/375 [==============================] - 4s 12ms/step - loss: 0.0032 - accuracy: 0.9991 - val_loss: 0.0032 - val_accuracy: 0.9988\n",
            "Epoch 5/5\n",
            "375/375 [==============================] - 4s 12ms/step - loss: 2.6765e-04 - accuracy: 0.9999 - val_loss: 9.7143e-04 - val_accuracy: 0.9998\n",
            "188/188 [==============================] - 1s 3ms/step - loss: 9.7143e-04 - accuracy: 0.9998\n",
            "> 99.983\n"
          ]
        },
        {
          "output_type": "stream",
          "name": "stderr",
          "text": [
            "/usr/local/lib/python3.7/dist-packages/ipykernel_launcher.py:5: MatplotlibDeprecationWarning: Adding an axes using the same arguments as a previous axes currently reuses the earlier instance.  In a future version, a new instance will always be created and returned.  Meanwhile, this warning can be suppressed, and the future behavior ensured, by passing a unique label to each axes instance.\n",
            "  \"\"\"\n",
            "/usr/local/lib/python3.7/dist-packages/ipykernel_launcher.py:10: MatplotlibDeprecationWarning: Adding an axes using the same arguments as a previous axes currently reuses the earlier instance.  In a future version, a new instance will always be created and returned.  Meanwhile, this warning can be suppressed, and the future behavior ensured, by passing a unique label to each axes instance.\n",
            "  # Remove the CWD from sys.path while we load stuff.\n"
          ]
        },
        {
          "output_type": "display_data",
          "data": {
            "text/plain": [
              "<Figure size 432x288 with 2 Axes>"
            ],
            "image/png": "[encoded data removed]"
          },
          "metadata": {
            "needs_background": "light"
          }
        },
        {
          "output_type": "stream",
          "name": "stdout",
          "text": [
            "Accuracy: mean=99.408 std=0.705, n=10\n"
          ]
        },
        {
          "output_type": "display_data",
          "data": {
            "text/plain": [
              "<Figure size 432x288 with 1 Axes>"
            ],
            "image/png": "[encoded data removed]"
          },
          "metadata": {
            "needs_background": "light"
          }
        },
        {
          "output_type": "stream",
          "name": "stdout",
          "text": [
            "['Random initialized on MNIST with LR=0.0009 & epoch=5', 58.333, 99.992, 98.42]\n"
          ]
        }
      ]
    },
    {
      "cell_type": "code",
      "source": [
        "model = tf.keras.models.load_model(\"random_init_final\")\n",
        "from keras import backend as K\n",
        "K.set_value(model.optimizer.learning_rate, 0.0009)\n",
        "scores, histories, model = evaluate_model(model, trainX, trainy,10,7,144)\n",
        "\n",
        "\n",
        "\n",
        "# learning curves\n",
        "summarize_diagnostics(histories)\n",
        "# summarize estimated performance\n",
        "summarize_performance(scores)\n",
        "desc = \"Random initialized on MNIST with LR=0.0009 & epoch=7\"\n",
        "results.append([desc,round(model.evaluate(train_per_x, train_per_y, verbose=0)[1]*100,3),round(model.evaluate(trainX, trainy, verbose=0)[1]*100,3),round(model.evaluate(testX, testy, verbose=0)[1]*100,3)])\n",
        "print (results[len(results)-1])"
      ],
      "metadata": {
        "colab": {
          "base_uri": "https://localhost:8080/",
          "height": 1000
        },
        "id": "NvfIyBWIqGoz",
        "outputId": "55500273-4738-43f6-bc36-2fbea948ab6b"
      },
      "execution_count": 24,
      "outputs": [
        {
          "output_type": "stream",
          "name": "stdout",
          "text": [
            "Epoch 1/7\n",
            "375/375 [==============================] - 5s 12ms/step - loss: 0.2410 - accuracy: 0.9297 - val_loss: 0.1344 - val_accuracy: 0.9575\n",
            "Epoch 2/7\n",
            "375/375 [==============================] - 4s 11ms/step - loss: 0.0891 - accuracy: 0.9725 - val_loss: 0.1025 - val_accuracy: 0.9692\n",
            "Epoch 3/7\n",
            "375/375 [==============================] - 4s 11ms/step - loss: 0.0554 - accuracy: 0.9831 - val_loss: 0.0856 - val_accuracy: 0.9732\n",
            "Epoch 4/7\n",
            "375/375 [==============================] - 4s 11ms/step - loss: 0.0371 - accuracy: 0.9880 - val_loss: 0.0763 - val_accuracy: 0.9757\n",
            "Epoch 5/7\n",
            "375/375 [==============================] - 4s 11ms/step - loss: 0.0265 - accuracy: 0.9912 - val_loss: 0.0818 - val_accuracy: 0.9750\n",
            "Epoch 6/7\n",
            "375/375 [==============================] - 4s 11ms/step - loss: 0.0214 - accuracy: 0.9931 - val_loss: 0.0926 - val_accuracy: 0.9770\n",
            "Epoch 7/7\n",
            "375/375 [==============================] - 4s 11ms/step - loss: 0.0145 - accuracy: 0.9954 - val_loss: 0.0770 - val_accuracy: 0.9788\n",
            "188/188 [==============================] - 1s 3ms/step - loss: 0.0770 - accuracy: 0.9788\n",
            "> 97.883\n",
            "Epoch 1/7\n",
            "375/375 [==============================] - 4s 11ms/step - loss: 0.0266 - accuracy: 0.9922 - val_loss: 0.0267 - val_accuracy: 0.9913\n",
            "Epoch 2/7\n",
            "375/375 [==============================] - 4s 11ms/step - loss: 0.0159 - accuracy: 0.9948 - val_loss: 0.0255 - val_accuracy: 0.9918\n",
            "Epoch 3/7\n",
            "375/375 [==============================] - 4s 11ms/step - loss: 0.0110 - accuracy: 0.9965 - val_loss: 0.0280 - val_accuracy: 0.9923\n",
            "Epoch 4/7\n",
            "375/375 [==============================] - 4s 11ms/step - loss: 0.0080 - accuracy: 0.9975 - val_loss: 0.0234 - val_accuracy: 0.9930\n",
            "Epoch 5/7\n",
            "375/375 [==============================] - 4s 11ms/step - loss: 0.0111 - accuracy: 0.9965 - val_loss: 0.0311 - val_accuracy: 0.9913\n",
            "Epoch 6/7\n",
            "375/375 [==============================] - 4s 11ms/step - loss: 0.0085 - accuracy: 0.9973 - val_loss: 0.0384 - val_accuracy: 0.9885\n",
            "Epoch 7/7\n",
            "375/375 [==============================] - 4s 11ms/step - loss: 0.0086 - accuracy: 0.9976 - val_loss: 0.0328 - val_accuracy: 0.9907\n",
            "188/188 [==============================] - 1s 3ms/step - loss: 0.0328 - accuracy: 0.9907\n",
            "> 99.067\n",
            "Epoch 1/7\n",
            "375/375 [==============================] - 4s 11ms/step - loss: 0.0188 - accuracy: 0.9941 - val_loss: 0.0091 - val_accuracy: 0.9968\n",
            "Epoch 2/7\n",
            "375/375 [==============================] - 4s 11ms/step - loss: 0.0079 - accuracy: 0.9974 - val_loss: 0.0106 - val_accuracy: 0.9963\n",
            "Epoch 3/7\n",
            "375/375 [==============================] - 4s 11ms/step - loss: 0.0062 - accuracy: 0.9979 - val_loss: 0.0130 - val_accuracy: 0.9958\n",
            "Epoch 4/7\n",
            "375/375 [==============================] - 4s 11ms/step - loss: 0.0055 - accuracy: 0.9981 - val_loss: 0.0108 - val_accuracy: 0.9972\n",
            "Epoch 5/7\n",
            "375/375 [==============================] - 4s 11ms/step - loss: 0.0086 - accuracy: 0.9971 - val_loss: 0.0278 - val_accuracy: 0.9925\n",
            "Epoch 6/7\n",
            "375/375 [==============================] - 4s 11ms/step - loss: 0.0098 - accuracy: 0.9967 - val_loss: 0.0160 - val_accuracy: 0.9960\n",
            "Epoch 7/7\n",
            "375/375 [==============================] - 4s 11ms/step - loss: 0.0068 - accuracy: 0.9975 - val_loss: 0.0176 - val_accuracy: 0.9950\n",
            "188/188 [==============================] - 1s 3ms/step - loss: 0.0176 - accuracy: 0.9950\n",
            "> 99.500\n",
            "Epoch 1/7\n",
            "375/375 [==============================] - 4s 11ms/step - loss: 0.0050 - accuracy: 0.9984 - val_loss: 0.0068 - val_accuracy: 0.9977\n",
            "Epoch 2/7\n",
            "375/375 [==============================] - 4s 11ms/step - loss: 0.0033 - accuracy: 0.9991 - val_loss: 0.0118 - val_accuracy: 0.9973\n",
            "Epoch 3/7\n",
            "375/375 [==============================] - 4s 11ms/step - loss: 0.0082 - accuracy: 0.9974 - val_loss: 0.0094 - val_accuracy: 0.9972\n",
            "Epoch 4/7\n",
            "375/375 [==============================] - 4s 11ms/step - loss: 0.0044 - accuracy: 0.9987 - val_loss: 0.0076 - val_accuracy: 0.9973\n",
            "Epoch 5/7\n",
            "375/375 [==============================] - 4s 11ms/step - loss: 0.0071 - accuracy: 0.9977 - val_loss: 0.0226 - val_accuracy: 0.9940\n",
            "Epoch 6/7\n",
            "375/375 [==============================] - 4s 11ms/step - loss: 0.0083 - accuracy: 0.9971 - val_loss: 0.0129 - val_accuracy: 0.9958\n",
            "Epoch 7/7\n",
            "375/375 [==============================] - 4s 11ms/step - loss: 0.0060 - accuracy: 0.9981 - val_loss: 0.0120 - val_accuracy: 0.9948\n",
            "188/188 [==============================] - 1s 3ms/step - loss: 0.0120 - accuracy: 0.9948\n",
            "> 99.483\n",
            "Epoch 1/7\n",
            "375/375 [==============================] - 4s 12ms/step - loss: 0.0037 - accuracy: 0.9987 - val_loss: 0.0020 - val_accuracy: 0.9992\n",
            "Epoch 2/7\n",
            "375/375 [==============================] - 4s 11ms/step - loss: 0.0029 - accuracy: 0.9991 - val_loss: 0.0016 - val_accuracy: 0.9995\n",
            "Epoch 3/7\n",
            "375/375 [==============================] - 4s 11ms/step - loss: 0.0059 - accuracy: 0.9981 - val_loss: 0.0112 - val_accuracy: 0.9963\n",
            "Epoch 4/7\n",
            "375/375 [==============================] - 4s 11ms/step - loss: 0.0054 - accuracy: 0.9984 - val_loss: 0.0062 - val_accuracy: 0.9982\n",
            "Epoch 5/7\n",
            "375/375 [==============================] - 4s 11ms/step - loss: 0.0019 - accuracy: 0.9995 - val_loss: 0.0048 - val_accuracy: 0.9985\n",
            "Epoch 6/7\n",
            "375/375 [==============================] - 4s 11ms/step - loss: 0.0072 - accuracy: 0.9978 - val_loss: 0.0207 - val_accuracy: 0.9935\n",
            "Epoch 7/7\n",
            "375/375 [==============================] - 4s 11ms/step - loss: 0.0067 - accuracy: 0.9979 - val_loss: 0.0106 - val_accuracy: 0.9967\n",
            "188/188 [==============================] - 1s 3ms/step - loss: 0.0106 - accuracy: 0.9967\n",
            "> 99.667\n",
            "Epoch 1/7\n",
            "375/375 [==============================] - 4s 11ms/step - loss: 0.0036 - accuracy: 0.9988 - val_loss: 0.0049 - val_accuracy: 0.9983\n",
            "Epoch 2/7\n",
            "375/375 [==============================] - 4s 11ms/step - loss: 0.0049 - accuracy: 0.9986 - val_loss: 0.0132 - val_accuracy: 0.9962\n",
            "Epoch 3/7\n",
            "375/375 [==============================] - 4s 11ms/step - loss: 0.0052 - accuracy: 0.9985 - val_loss: 0.0043 - val_accuracy: 0.9985\n",
            "Epoch 4/7\n",
            "375/375 [==============================] - 4s 11ms/step - loss: 0.0036 - accuracy: 0.9988 - val_loss: 0.0085 - val_accuracy: 0.9983\n",
            "Epoch 5/7\n",
            "375/375 [==============================] - 4s 11ms/step - loss: 0.0028 - accuracy: 0.9991 - val_loss: 0.0048 - val_accuracy: 0.9985\n",
            "Epoch 6/7\n",
            "375/375 [==============================] - 4s 11ms/step - loss: 0.0026 - accuracy: 0.9990 - val_loss: 0.0054 - val_accuracy: 0.9982\n",
            "Epoch 7/7\n",
            "375/375 [==============================] - 4s 11ms/step - loss: 0.0062 - accuracy: 0.9981 - val_loss: 0.0148 - val_accuracy: 0.9963\n",
            "188/188 [==============================] - 1s 3ms/step - loss: 0.0148 - accuracy: 0.9963\n",
            "> 99.633\n",
            "Epoch 1/7\n",
            "375/375 [==============================] - 4s 11ms/step - loss: 0.0069 - accuracy: 0.9982 - val_loss: 0.0106 - val_accuracy: 0.9975\n",
            "Epoch 2/7\n",
            "375/375 [==============================] - 4s 11ms/step - loss: 0.0053 - accuracy: 0.9983 - val_loss: 0.0090 - val_accuracy: 0.9978\n",
            "Epoch 3/7\n",
            "375/375 [==============================] - 4s 12ms/step - loss: 0.0031 - accuracy: 0.9990 - val_loss: 0.0062 - val_accuracy: 0.9990\n",
            "Epoch 4/7\n",
            "375/375 [==============================] - 4s 11ms/step - loss: 0.0014 - accuracy: 0.9996 - val_loss: 0.0069 - val_accuracy: 0.9985\n",
            "Epoch 5/7\n",
            "375/375 [==============================] - 4s 11ms/step - loss: 0.0036 - accuracy: 0.9991 - val_loss: 0.0040 - val_accuracy: 0.9983\n",
            "Epoch 6/7\n",
            "375/375 [==============================] - 4s 11ms/step - loss: 0.0035 - accuracy: 0.9991 - val_loss: 0.0050 - val_accuracy: 0.9988\n",
            "Epoch 7/7\n",
            "375/375 [==============================] - 4s 12ms/step - loss: 0.0011 - accuracy: 0.9998 - val_loss: 0.0020 - val_accuracy: 0.9990\n",
            "188/188 [==============================] - 1s 3ms/step - loss: 0.0020 - accuracy: 0.9990\n",
            "> 99.900\n",
            "Epoch 1/7\n",
            "375/375 [==============================] - 4s 11ms/step - loss: 0.0032 - accuracy: 0.9992 - val_loss: 0.0101 - val_accuracy: 0.9968\n",
            "Epoch 2/7\n",
            "375/375 [==============================] - 4s 11ms/step - loss: 0.0078 - accuracy: 0.9977 - val_loss: 0.0055 - val_accuracy: 0.9985\n",
            "Epoch 3/7\n",
            "375/375 [==============================] - 4s 11ms/step - loss: 0.0047 - accuracy: 0.9987 - val_loss: 0.0087 - val_accuracy: 0.9978\n",
            "Epoch 4/7\n",
            "375/375 [==============================] - 4s 11ms/step - loss: 0.0012 - accuracy: 0.9995 - val_loss: 0.0010 - val_accuracy: 0.9997\n",
            "Epoch 5/7\n",
            "375/375 [==============================] - 4s 11ms/step - loss: 3.7989e-04 - accuracy: 0.9999 - val_loss: 8.1013e-04 - val_accuracy: 0.9997\n",
            "Epoch 6/7\n",
            "375/375 [==============================] - 4s 11ms/step - loss: 5.4380e-05 - accuracy: 1.0000 - val_loss: 9.3906e-04 - val_accuracy: 0.9995\n",
            "Epoch 7/7\n",
            "375/375 [==============================] - 4s 11ms/step - loss: 1.5275e-05 - accuracy: 1.0000 - val_loss: 5.1470e-04 - val_accuracy: 0.9998\n",
            "188/188 [==============================] - 1s 3ms/step - loss: 5.1470e-04 - accuracy: 0.9998\n",
            "> 99.983\n",
            "Epoch 1/7\n",
            "375/375 [==============================] - 4s 12ms/step - loss: 0.0053 - accuracy: 0.9985 - val_loss: 0.0105 - val_accuracy: 0.9965\n",
            "Epoch 2/7\n",
            "375/375 [==============================] - 4s 11ms/step - loss: 0.0098 - accuracy: 0.9971 - val_loss: 0.0068 - val_accuracy: 0.9975\n",
            "Epoch 3/7\n",
            "375/375 [==============================] - 4s 12ms/step - loss: 0.0025 - accuracy: 0.9991 - val_loss: 0.0080 - val_accuracy: 0.9980\n",
            "Epoch 4/7\n",
            "375/375 [==============================] - 4s 12ms/step - loss: 0.0011 - accuracy: 0.9997 - val_loss: 0.0035 - val_accuracy: 0.9987\n",
            "Epoch 5/7\n",
            "375/375 [==============================] - 4s 11ms/step - loss: 1.5705e-04 - accuracy: 1.0000 - val_loss: 7.1590e-04 - val_accuracy: 0.9997\n",
            "Epoch 6/7\n",
            "375/375 [==============================] - 4s 12ms/step - loss: 4.6731e-05 - accuracy: 1.0000 - val_loss: 7.1305e-04 - val_accuracy: 0.9997\n",
            "Epoch 7/7\n",
            "375/375 [==============================] - 4s 12ms/step - loss: 1.3716e-05 - accuracy: 1.0000 - val_loss: 6.0986e-04 - val_accuracy: 0.9997\n",
            "188/188 [==============================] - 1s 3ms/step - loss: 6.0986e-04 - accuracy: 0.9997\n",
            "> 99.967\n",
            "Epoch 1/7\n",
            "375/375 [==============================] - 4s 12ms/step - loss: 0.0058 - accuracy: 0.9984 - val_loss: 0.0212 - val_accuracy: 0.9952\n",
            "Epoch 2/7\n",
            "375/375 [==============================] - 4s 12ms/step - loss: 0.0122 - accuracy: 0.9965 - val_loss: 0.0083 - val_accuracy: 0.9982\n",
            "Epoch 3/7\n",
            "375/375 [==============================] - 4s 12ms/step - loss: 0.0025 - accuracy: 0.9992 - val_loss: 0.0036 - val_accuracy: 0.9992\n",
            "Epoch 4/7\n",
            "375/375 [==============================] - 4s 12ms/step - loss: 2.8157e-04 - accuracy: 1.0000 - val_loss: 0.0024 - val_accuracy: 0.9997\n",
            "Epoch 5/7\n",
            "375/375 [==============================] - 4s 11ms/step - loss: 3.1406e-05 - accuracy: 1.0000 - val_loss: 0.0017 - val_accuracy: 0.9995\n",
            "Epoch 6/7\n",
            "375/375 [==============================] - 4s 11ms/step - loss: 1.1024e-05 - accuracy: 1.0000 - val_loss: 0.0017 - val_accuracy: 0.9995\n",
            "Epoch 7/7\n",
            "375/375 [==============================] - 4s 11ms/step - loss: 6.2977e-06 - accuracy: 1.0000 - val_loss: 0.0018 - val_accuracy: 0.9995\n",
            "188/188 [==============================] - 1s 3ms/step - loss: 0.0018 - accuracy: 0.9995\n",
            "> 99.950\n"
          ]
        },
        {
          "output_type": "stream",
          "name": "stderr",
          "text": [
            "/usr/local/lib/python3.7/dist-packages/ipykernel_launcher.py:5: MatplotlibDeprecationWarning: Adding an axes using the same arguments as a previous axes currently reuses the earlier instance.  In a future version, a new instance will always be created and returned.  Meanwhile, this warning can be suppressed, and the future behavior ensured, by passing a unique label to each axes instance.\n",
            "  \"\"\"\n",
            "/usr/local/lib/python3.7/dist-packages/ipykernel_launcher.py:10: MatplotlibDeprecationWarning: Adding an axes using the same arguments as a previous axes currently reuses the earlier instance.  In a future version, a new instance will always be created and returned.  Meanwhile, this warning can be suppressed, and the future behavior ensured, by passing a unique label to each axes instance.\n",
            "  # Remove the CWD from sys.path while we load stuff.\n"
          ]
        },
        {
          "output_type": "display_data",
          "data": {
            "text/plain": [
              "<Figure size 432x288 with 2 Axes>"
            ],
            "image/png": "[encoded data removed]"
          },
          "metadata": {
            "needs_background": "light"
          }
        },
        {
          "output_type": "stream",
          "name": "stdout",
          "text": [
            "Accuracy: mean=99.503 std=0.605, n=10\n"
          ]
        },
        {
          "output_type": "display_data",
          "data": {
            "text/plain": [
              "<Figure size 432x288 with 1 Axes>"
            ],
            "image/png": "[encoded data removed]"
          },
          "metadata": {
            "needs_background": "light"
          }
        },
        {
          "output_type": "stream",
          "name": "stdout",
          "text": [
            "['Random initialized on MNIST with LR=0.0009 & epoch=7', 53.889, 99.995, 98.46]\n"
          ]
        }
      ]
    },
    {
      "cell_type": "markdown",
      "source": [
        "First step of EXPANSE: train the small model on first batch (0 to 4) of perfect data."
      ],
      "metadata": {
        "id": "joYJpSe3QG4p"
      }
    },
    {
      "cell_type": "code",
      "source": [
        "model = tf.keras.models.load_model(\"random_init_small\")\n",
        "from keras import backend as K\n",
        "K.set_value(model.optimizer.learning_rate, 0.01)\n",
        "scores, histories, model = evaluate_model(model, train_per_x_b1, train_per_y_b1,10,8,72)\n",
        "\n",
        "model.save(\"trained_perfect_b1\")\n",
        "\n",
        "# learning curves\n",
        "summarize_diagnostics(histories)\n",
        "# summarize estimated performance\n",
        "summarize_performance(scores)\n",
        "desc = \"Random initialized on per_b1 (0 to 4) with LR=0.01 & epoch=8\"\n",
        "results.append([desc,round(model.evaluate(train_per_x_b1, train_per_y_b1, verbose=0)[1]*100,3),round(model.evaluate(train_x_b1, train_y_b1, verbose=0)[1]*100,3)])\n",
        "print (results[len(results)-1])"
      ],
      "metadata": {
        "colab": {
          "base_uri": "https://localhost:8080/",
          "height": 1000
        },
        "id": "E8ZEbS3lb3gs",
        "outputId": "a677f06f-93d8-4c40-a34c-0e3fc241a9b4"
      },
      "execution_count": 25,
      "outputs": [
        {
          "output_type": "stream",
          "name": "stdout",
          "text": [
            "Epoch 1/8\n",
            "3/3 [==============================] - 1s 88ms/step - loss: 2.1604 - accuracy: 0.1667 - val_loss: 0.8986 - val_accuracy: 0.7778\n",
            "Epoch 2/8\n",
            "3/3 [==============================] - 0s 14ms/step - loss: 0.9172 - accuracy: 0.6605 - val_loss: 0.4400 - val_accuracy: 0.8889\n",
            "Epoch 3/8\n",
            "3/3 [==============================] - 0s 15ms/step - loss: 0.3875 - accuracy: 0.9074 - val_loss: 0.1807 - val_accuracy: 0.9444\n",
            "Epoch 4/8\n",
            "3/3 [==============================] - 0s 15ms/step - loss: 0.1952 - accuracy: 0.9321 - val_loss: 0.1193 - val_accuracy: 0.9444\n",
            "Epoch 5/8\n",
            "3/3 [==============================] - 0s 16ms/step - loss: 0.0788 - accuracy: 0.9691 - val_loss: 0.0667 - val_accuracy: 0.9444\n",
            "Epoch 6/8\n",
            "3/3 [==============================] - 0s 15ms/step - loss: 0.0160 - accuracy: 0.9938 - val_loss: 0.0030 - val_accuracy: 1.0000\n",
            "Epoch 7/8\n",
            "3/3 [==============================] - 0s 15ms/step - loss: 0.0043 - accuracy: 1.0000 - val_loss: 0.0021 - val_accuracy: 1.0000\n",
            "Epoch 8/8\n",
            "3/3 [==============================] - 0s 19ms/step - loss: 0.0016 - accuracy: 1.0000 - val_loss: 8.2263e-04 - val_accuracy: 1.0000\n",
            "1/1 [==============================] - 0s 19ms/step - loss: 8.2263e-04 - accuracy: 1.0000\n",
            "> 100.000\n",
            "Epoch 1/8\n",
            "3/3 [==============================] - 0s 30ms/step - loss: 6.7670e-04 - accuracy: 1.0000 - val_loss: 5.6590e-05 - val_accuracy: 1.0000\n",
            "Epoch 2/8\n",
            "3/3 [==============================] - 0s 15ms/step - loss: 2.2734e-04 - accuracy: 1.0000 - val_loss: 1.9178e-05 - val_accuracy: 1.0000\n",
            "Epoch 3/8\n",
            "3/3 [==============================] - 0s 15ms/step - loss: 1.0104e-04 - accuracy: 1.0000 - val_loss: 1.1040e-05 - val_accuracy: 1.0000\n",
            "Epoch 4/8\n",
            "3/3 [==============================] - 0s 16ms/step - loss: 4.8845e-05 - accuracy: 1.0000 - val_loss: 7.9734e-06 - val_accuracy: 1.0000\n",
            "Epoch 5/8\n",
            "3/3 [==============================] - 0s 16ms/step - loss: 2.8542e-05 - accuracy: 1.0000 - val_loss: 6.3576e-06 - val_accuracy: 1.0000\n",
            "Epoch 6/8\n",
            "3/3 [==============================] - 0s 15ms/step - loss: 2.0736e-05 - accuracy: 1.0000 - val_loss: 5.3576e-06 - val_accuracy: 1.0000\n",
            "Epoch 7/8\n",
            "3/3 [==============================] - 0s 21ms/step - loss: 1.5891e-05 - accuracy: 1.0000 - val_loss: 4.6689e-06 - val_accuracy: 1.0000\n",
            "Epoch 8/8\n",
            "3/3 [==============================] - 0s 14ms/step - loss: 1.2646e-05 - accuracy: 1.0000 - val_loss: 4.1656e-06 - val_accuracy: 1.0000\n",
            "1/1 [==============================] - 0s 18ms/step - loss: 4.1656e-06 - accuracy: 1.0000\n",
            "> 100.000\n",
            "Epoch 1/8\n",
            "3/3 [==============================] - 0s 29ms/step - loss: 1.0131e-05 - accuracy: 1.0000 - val_loss: 7.1987e-06 - val_accuracy: 1.0000\n",
            "Epoch 2/8\n",
            "3/3 [==============================] - 0s 15ms/step - loss: 8.4013e-06 - accuracy: 1.0000 - val_loss: 6.2583e-06 - val_accuracy: 1.0000\n",
            "Epoch 3/8\n",
            "3/3 [==============================] - 0s 15ms/step - loss: 7.4405e-06 - accuracy: 1.0000 - val_loss: 5.5563e-06 - val_accuracy: 1.0000\n",
            "Epoch 4/8\n",
            "3/3 [==============================] - 0s 14ms/step - loss: 6.2633e-06 - accuracy: 1.0000 - val_loss: 5.0265e-06 - val_accuracy: 1.0000\n",
            "Epoch 5/8\n",
            "3/3 [==============================] - 0s 14ms/step - loss: 5.6026e-06 - accuracy: 1.0000 - val_loss: 4.6292e-06 - val_accuracy: 1.0000\n",
            "Epoch 6/8\n",
            "3/3 [==============================] - 0s 17ms/step - loss: 4.9912e-06 - accuracy: 1.0000 - val_loss: 4.2848e-06 - val_accuracy: 1.0000\n",
            "Epoch 7/8\n",
            "3/3 [==============================] - 0s 15ms/step - loss: 4.6049e-06 - accuracy: 1.0000 - val_loss: 4.0133e-06 - val_accuracy: 1.0000\n",
            "Epoch 8/8\n",
            "3/3 [==============================] - 0s 15ms/step - loss: 4.3209e-06 - accuracy: 1.0000 - val_loss: 3.8014e-06 - val_accuracy: 1.0000\n",
            "1/1 [==============================] - 0s 19ms/step - loss: 3.8014e-06 - accuracy: 1.0000\n",
            "> 100.000\n",
            "Epoch 1/8\n",
            "3/3 [==============================] - 0s 29ms/step - loss: 4.4342e-06 - accuracy: 1.0000 - val_loss: 1.1921e-07 - val_accuracy: 1.0000\n",
            "Epoch 2/8\n",
            "3/3 [==============================] - 0s 15ms/step - loss: 4.2260e-06 - accuracy: 1.0000 - val_loss: 1.1921e-07 - val_accuracy: 1.0000\n",
            "Epoch 3/8\n",
            "3/3 [==============================] - 0s 15ms/step - loss: 4.0023e-06 - accuracy: 1.0000 - val_loss: 1.1921e-07 - val_accuracy: 1.0000\n",
            "Epoch 4/8\n",
            "3/3 [==============================] - 0s 15ms/step - loss: 3.8316e-06 - accuracy: 1.0000 - val_loss: 1.1921e-07 - val_accuracy: 1.0000\n",
            "Epoch 5/8\n",
            "3/3 [==============================] - 0s 15ms/step - loss: 3.6594e-06 - accuracy: 1.0000 - val_loss: 1.1259e-07 - val_accuracy: 1.0000\n",
            "Epoch 6/8\n",
            "3/3 [==============================] - 0s 21ms/step - loss: 3.5115e-06 - accuracy: 1.0000 - val_loss: 1.1259e-07 - val_accuracy: 1.0000\n",
            "Epoch 7/8\n",
            "3/3 [==============================] - 0s 15ms/step - loss: 3.3886e-06 - accuracy: 1.0000 - val_loss: 1.0596e-07 - val_accuracy: 1.0000\n",
            "Epoch 8/8\n",
            "3/3 [==============================] - 0s 15ms/step - loss: 3.2605e-06 - accuracy: 1.0000 - val_loss: 1.0596e-07 - val_accuracy: 1.0000\n",
            "1/1 [==============================] - 0s 19ms/step - loss: 1.0596e-07 - accuracy: 1.0000\n",
            "> 100.000\n",
            "Epoch 1/8\n",
            "3/3 [==============================] - 0s 32ms/step - loss: 3.1193e-06 - accuracy: 1.0000 - val_loss: 5.2982e-07 - val_accuracy: 1.0000\n",
            "Epoch 2/8\n",
            "3/3 [==============================] - 0s 16ms/step - loss: 3.0251e-06 - accuracy: 1.0000 - val_loss: 5.2982e-07 - val_accuracy: 1.0000\n",
            "Epoch 3/8\n",
            "3/3 [==============================] - 0s 15ms/step - loss: 2.9463e-06 - accuracy: 1.0000 - val_loss: 5.1657e-07 - val_accuracy: 1.0000\n",
            "Epoch 4/8\n",
            "3/3 [==============================] - 0s 15ms/step - loss: 2.8617e-06 - accuracy: 1.0000 - val_loss: 5.1657e-07 - val_accuracy: 1.0000\n",
            "Epoch 5/8\n",
            "3/3 [==============================] - 0s 18ms/step - loss: 2.7962e-06 - accuracy: 1.0000 - val_loss: 5.1657e-07 - val_accuracy: 1.0000\n",
            "Epoch 6/8\n",
            "3/3 [==============================] - 0s 16ms/step - loss: 2.7285e-06 - accuracy: 1.0000 - val_loss: 5.1657e-07 - val_accuracy: 1.0000\n",
            "Epoch 7/8\n",
            "3/3 [==============================] - 0s 15ms/step - loss: 2.6675e-06 - accuracy: 1.0000 - val_loss: 5.0333e-07 - val_accuracy: 1.0000\n",
            "Epoch 8/8\n",
            "3/3 [==============================] - 0s 18ms/step - loss: 2.6020e-06 - accuracy: 1.0000 - val_loss: 4.9670e-07 - val_accuracy: 1.0000\n",
            "1/1 [==============================] - 0s 19ms/step - loss: 4.9670e-07 - accuracy: 1.0000\n",
            "> 100.000\n",
            "Epoch 1/8\n",
            "3/3 [==============================] - 0s 33ms/step - loss: 2.1362e-06 - accuracy: 1.0000 - val_loss: 4.1127e-06 - val_accuracy: 1.0000\n",
            "Epoch 2/8\n",
            "3/3 [==============================] - 0s 19ms/step - loss: 2.0957e-06 - accuracy: 1.0000 - val_loss: 4.0531e-06 - val_accuracy: 1.0000\n",
            "Epoch 3/8\n",
            "3/3 [==============================] - 0s 15ms/step - loss: 2.0574e-06 - accuracy: 1.0000 - val_loss: 4.0067e-06 - val_accuracy: 1.0000\n",
            "Epoch 4/8\n",
            "3/3 [==============================] - 0s 15ms/step - loss: 2.0214e-06 - accuracy: 1.0000 - val_loss: 3.9471e-06 - val_accuracy: 1.0000\n",
            "Epoch 5/8\n",
            "3/3 [==============================] - 0s 19ms/step - loss: 1.9868e-06 - accuracy: 1.0000 - val_loss: 3.8875e-06 - val_accuracy: 1.0000\n",
            "Epoch 6/8\n",
            "3/3 [==============================] - 0s 15ms/step - loss: 1.9574e-06 - accuracy: 1.0000 - val_loss: 3.8610e-06 - val_accuracy: 1.0000\n",
            "Epoch 7/8\n",
            "3/3 [==============================] - 0s 15ms/step - loss: 1.9220e-06 - accuracy: 1.0000 - val_loss: 3.8279e-06 - val_accuracy: 1.0000\n",
            "Epoch 8/8\n",
            "3/3 [==============================] - 0s 15ms/step - loss: 1.8919e-06 - accuracy: 1.0000 - val_loss: 3.7882e-06 - val_accuracy: 1.0000\n",
            "1/1 [==============================] - 0s 18ms/step - loss: 3.7882e-06 - accuracy: 1.0000\n",
            "> 100.000\n",
            "Epoch 1/8\n",
            "3/3 [==============================] - 0s 29ms/step - loss: 2.0597e-06 - accuracy: 1.0000 - val_loss: 2.0000e-06 - val_accuracy: 1.0000\n",
            "Epoch 2/8\n",
            "3/3 [==============================] - 0s 14ms/step - loss: 2.0295e-06 - accuracy: 1.0000 - val_loss: 1.9735e-06 - val_accuracy: 1.0000\n",
            "Epoch 3/8\n",
            "3/3 [==============================] - 0s 18ms/step - loss: 2.0074e-06 - accuracy: 1.0000 - val_loss: 1.9471e-06 - val_accuracy: 1.0000\n",
            "Epoch 4/8\n",
            "3/3 [==============================] - 0s 15ms/step - loss: 1.9758e-06 - accuracy: 1.0000 - val_loss: 1.9206e-06 - val_accuracy: 1.0000\n",
            "Epoch 5/8\n",
            "3/3 [==============================] - 0s 15ms/step - loss: 1.9507e-06 - accuracy: 1.0000 - val_loss: 1.9139e-06 - val_accuracy: 1.0000\n",
            "Epoch 6/8\n",
            "3/3 [==============================] - 0s 19ms/step - loss: 1.9176e-06 - accuracy: 1.0000 - val_loss: 1.8941e-06 - val_accuracy: 1.0000\n",
            "Epoch 7/8\n",
            "3/3 [==============================] - 0s 17ms/step - loss: 1.8963e-06 - accuracy: 1.0000 - val_loss: 1.8808e-06 - val_accuracy: 1.0000\n",
            "Epoch 8/8\n",
            "3/3 [==============================] - 0s 16ms/step - loss: 1.8735e-06 - accuracy: 1.0000 - val_loss: 1.8676e-06 - val_accuracy: 1.0000\n",
            "1/1 [==============================] - 0s 23ms/step - loss: 1.8676e-06 - accuracy: 1.0000\n",
            "> 100.000\n",
            "Epoch 1/8\n",
            "3/3 [==============================] - 0s 29ms/step - loss: 1.8764e-06 - accuracy: 1.0000 - val_loss: 1.5365e-06 - val_accuracy: 1.0000\n",
            "Epoch 2/8\n",
            "3/3 [==============================] - 0s 17ms/step - loss: 1.8551e-06 - accuracy: 1.0000 - val_loss: 1.5034e-06 - val_accuracy: 1.0000\n",
            "Epoch 3/8\n",
            "3/3 [==============================] - 0s 15ms/step - loss: 1.8360e-06 - accuracy: 1.0000 - val_loss: 1.4835e-06 - val_accuracy: 1.0000\n",
            "Epoch 4/8\n",
            "3/3 [==============================] - 0s 15ms/step - loss: 1.8146e-06 - accuracy: 1.0000 - val_loss: 1.4371e-06 - val_accuracy: 1.0000\n",
            "Epoch 5/8\n",
            "3/3 [==============================] - 0s 20ms/step - loss: 1.7955e-06 - accuracy: 1.0000 - val_loss: 1.4173e-06 - val_accuracy: 1.0000\n",
            "Epoch 6/8\n",
            "3/3 [==============================] - 0s 15ms/step - loss: 1.7690e-06 - accuracy: 1.0000 - val_loss: 1.3974e-06 - val_accuracy: 1.0000\n",
            "Epoch 7/8\n",
            "3/3 [==============================] - 0s 16ms/step - loss: 1.7528e-06 - accuracy: 1.0000 - val_loss: 1.3775e-06 - val_accuracy: 1.0000\n",
            "Epoch 8/8\n",
            "3/3 [==============================] - 0s 16ms/step - loss: 1.7212e-06 - accuracy: 1.0000 - val_loss: 1.3577e-06 - val_accuracy: 1.0000\n",
            "1/1 [==============================] - 0s 18ms/step - loss: 1.3577e-06 - accuracy: 1.0000\n",
            "> 100.000\n",
            "Epoch 1/8\n",
            "3/3 [==============================] - 0s 31ms/step - loss: 1.5394e-06 - accuracy: 1.0000 - val_loss: 2.8279e-06 - val_accuracy: 1.0000\n",
            "Epoch 2/8\n",
            "3/3 [==============================] - 0s 15ms/step - loss: 1.5166e-06 - accuracy: 1.0000 - val_loss: 2.8279e-06 - val_accuracy: 1.0000\n",
            "Epoch 3/8\n",
            "3/3 [==============================] - 0s 15ms/step - loss: 1.4989e-06 - accuracy: 1.0000 - val_loss: 2.7948e-06 - val_accuracy: 1.0000\n",
            "Epoch 4/8\n",
            "3/3 [==============================] - 0s 16ms/step - loss: 1.4769e-06 - accuracy: 1.0000 - val_loss: 2.7683e-06 - val_accuracy: 1.0000\n",
            "Epoch 5/8\n",
            "3/3 [==============================] - 0s 15ms/step - loss: 1.4599e-06 - accuracy: 1.0000 - val_loss: 2.7550e-06 - val_accuracy: 1.0000\n",
            "Epoch 6/8\n",
            "3/3 [==============================] - 0s 15ms/step - loss: 1.4401e-06 - accuracy: 1.0000 - val_loss: 2.7418e-06 - val_accuracy: 1.0000\n",
            "Epoch 7/8\n",
            "3/3 [==============================] - 0s 15ms/step - loss: 1.4239e-06 - accuracy: 1.0000 - val_loss: 2.7285e-06 - val_accuracy: 1.0000\n",
            "Epoch 8/8\n",
            "3/3 [==============================] - 0s 16ms/step - loss: 1.4099e-06 - accuracy: 1.0000 - val_loss: 2.7153e-06 - val_accuracy: 1.0000\n",
            "1/1 [==============================] - 0s 20ms/step - loss: 2.7153e-06 - accuracy: 1.0000\n",
            "> 100.000\n",
            "Epoch 1/8\n",
            "3/3 [==============================] - 0s 33ms/step - loss: 1.4967e-06 - accuracy: 1.0000 - val_loss: 1.7616e-06 - val_accuracy: 1.0000\n",
            "Epoch 2/8\n",
            "3/3 [==============================] - 0s 15ms/step - loss: 1.4850e-06 - accuracy: 1.0000 - val_loss: 1.7351e-06 - val_accuracy: 1.0000\n",
            "Epoch 3/8\n",
            "3/3 [==============================] - 0s 17ms/step - loss: 1.4673e-06 - accuracy: 1.0000 - val_loss: 1.7285e-06 - val_accuracy: 1.0000\n",
            "Epoch 4/8\n",
            "3/3 [==============================] - 0s 17ms/step - loss: 1.4540e-06 - accuracy: 1.0000 - val_loss: 1.7020e-06 - val_accuracy: 1.0000\n",
            "Epoch 5/8\n",
            "3/3 [==============================] - 0s 20ms/step - loss: 1.4379e-06 - accuracy: 1.0000 - val_loss: 1.6954e-06 - val_accuracy: 1.0000\n",
            "Epoch 6/8\n",
            "3/3 [==============================] - 0s 16ms/step - loss: 1.4231e-06 - accuracy: 1.0000 - val_loss: 1.6755e-06 - val_accuracy: 1.0000\n",
            "Epoch 7/8\n",
            "3/3 [==============================] - 0s 17ms/step - loss: 1.4106e-06 - accuracy: 1.0000 - val_loss: 1.6623e-06 - val_accuracy: 1.0000\n",
            "Epoch 8/8\n",
            "3/3 [==============================] - 0s 17ms/step - loss: 1.3959e-06 - accuracy: 1.0000 - val_loss: 1.6557e-06 - val_accuracy: 1.0000\n",
            "1/1 [==============================] - 0s 21ms/step - loss: 1.6557e-06 - accuracy: 1.0000\n",
            "> 100.000\n",
            "INFO:tensorflow:Assets written to: trained_perfect_b1/assets\n"
          ]
        },
        {
          "output_type": "stream",
          "name": "stderr",
          "text": [
            "/usr/local/lib/python3.7/dist-packages/ipykernel_launcher.py:5: MatplotlibDeprecationWarning: Adding an axes using the same arguments as a previous axes currently reuses the earlier instance.  In a future version, a new instance will always be created and returned.  Meanwhile, this warning can be suppressed, and the future behavior ensured, by passing a unique label to each axes instance.\n",
            "  \"\"\"\n",
            "/usr/local/lib/python3.7/dist-packages/ipykernel_launcher.py:10: MatplotlibDeprecationWarning: Adding an axes using the same arguments as a previous axes currently reuses the earlier instance.  In a future version, a new instance will always be created and returned.  Meanwhile, this warning can be suppressed, and the future behavior ensured, by passing a unique label to each axes instance.\n",
            "  # Remove the CWD from sys.path while we load stuff.\n"
          ]
        },
        {
          "output_type": "display_data",
          "data": {
            "text/plain": [
              "<Figure size 432x288 with 2 Axes>"
            ],
            "image/png": "[encoded data removed]"
          },
          "metadata": {
            "needs_background": "light"
          }
        },
        {
          "output_type": "stream",
          "name": "stdout",
          "text": [
            "Accuracy: mean=100.000 std=0.000, n=10\n"
          ]
        },
        {
          "output_type": "display_data",
          "data": {
            "text/plain": [
              "<Figure size 432x288 with 1 Axes>"
            ],
            "image/png": "[encoded data removed]"
          },
          "metadata": {
            "needs_background": "light"
          }
        },
        {
          "output_type": "stream",
          "name": "stdout",
          "text": [
            "['Random initialized on per_b1 (0 to 4) with LR=0.01 & epoch=8', 100.0, 64.776]\n"
          ]
        }
      ]
    },
    {
      "cell_type": "markdown",
      "source": [
        "Mixing perfect data and MNIST data of (0 to 4) and finetune the small model with the mix data."
      ],
      "metadata": {
        "id": "uyJwLUaxQXDa"
      }
    },
    {
      "cell_type": "code",
      "source": [
        "trainmixX_b1 = np. concatenate((train_x_b1, train_per_x_b1), axis=0)\n",
        "trainmixy_b1 = np. concatenate((train_y_b1, train_per_y_b1), axis=0)\n",
        "print(trainmixX_b1.shape)\n",
        "print(trainmixy_b1.shape)\n"
      ],
      "metadata": {
        "colab": {
          "base_uri": "https://localhost:8080/"
        },
        "id": "52Nr1kkrMynP",
        "outputId": "04a0c9b7-3f0e-4938-cfd9-9a22016f6f72"
      },
      "execution_count": 26,
      "outputs": [
        {
          "output_type": "stream",
          "name": "stdout",
          "text": [
            "(30776, 28, 28, 1)\n",
            "(30776, 5)\n"
          ]
        }
      ]
    },
    {
      "cell_type": "code",
      "source": [
        "model = tf.keras.models.load_model(\"trained_perfect_b1\")\n",
        "from keras import backend as K\n",
        "K.set_value(model.optimizer.learning_rate, 0.0005)\n",
        "scores, histories, model = evaluate_model(model, trainmixX_b1, trainmixy_b1,10,8,72)\n",
        "\n",
        "model.save(\"trained_finetune_mix_b1\")\n",
        "\n",
        "# learning curves\n",
        "summarize_diagnostics(histories)\n",
        "# summarize estimated performance\n",
        "summarize_performance(scores)\n",
        "desc = \"trained_finetune_mix_b1 on mix data (0 to 4) with LR=0.0005 & epoch=8\"\n",
        "results.append([desc,round(model.evaluate(train_per_x_b1, train_per_y_b1, verbose=0)[1]*100,3),round(model.evaluate(train_x_b1, train_y_b1, verbose=0)[1]*100,3)])\n",
        "print (results[len(results)-1])"
      ],
      "metadata": {
        "colab": {
          "base_uri": "https://localhost:8080/",
          "height": 1000
        },
        "id": "VAwDfYovNIIL",
        "outputId": "a611d985-eea6-4efd-9c35-ab83bee4eb4b"
      },
      "execution_count": 27,
      "outputs": [
        {
          "output_type": "stream",
          "name": "stdout",
          "text": [
            "Epoch 1/8\n",
            "385/385 [==============================] - 3s 6ms/step - loss: 0.5763 - accuracy: 0.9255 - val_loss: 0.1062 - val_accuracy: 0.9698\n",
            "Epoch 2/8\n",
            "385/385 [==============================] - 2s 5ms/step - loss: 0.0820 - accuracy: 0.9758 - val_loss: 0.0544 - val_accuracy: 0.9808\n",
            "Epoch 3/8\n",
            "385/385 [==============================] - 2s 5ms/step - loss: 0.0435 - accuracy: 0.9865 - val_loss: 0.0432 - val_accuracy: 0.9867\n",
            "Epoch 4/8\n",
            "385/385 [==============================] - 2s 5ms/step - loss: 0.0278 - accuracy: 0.9916 - val_loss: 0.0343 - val_accuracy: 0.9890\n",
            "Epoch 5/8\n",
            "385/385 [==============================] - 2s 5ms/step - loss: 0.0188 - accuracy: 0.9945 - val_loss: 0.0326 - val_accuracy: 0.9906\n",
            "Epoch 6/8\n",
            "385/385 [==============================] - 2s 5ms/step - loss: 0.0133 - accuracy: 0.9963 - val_loss: 0.0338 - val_accuracy: 0.9886\n",
            "Epoch 7/8\n",
            "385/385 [==============================] - 2s 5ms/step - loss: 0.0087 - accuracy: 0.9980 - val_loss: 0.0359 - val_accuracy: 0.9899\n",
            "Epoch 8/8\n",
            "385/385 [==============================] - 2s 5ms/step - loss: 0.0058 - accuracy: 0.9985 - val_loss: 0.0278 - val_accuracy: 0.9909\n",
            "97/97 [==============================] - 0s 2ms/step - loss: 0.0278 - accuracy: 0.9909\n",
            "> 99.090\n",
            "Epoch 1/8\n",
            "385/385 [==============================] - 2s 5ms/step - loss: 0.0091 - accuracy: 0.9978 - val_loss: 0.0056 - val_accuracy: 0.9987\n",
            "Epoch 2/8\n",
            "385/385 [==============================] - 2s 5ms/step - loss: 0.0048 - accuracy: 0.9987 - val_loss: 0.0114 - val_accuracy: 0.9964\n",
            "Epoch 3/8\n",
            "385/385 [==============================] - 2s 5ms/step - loss: 0.0022 - accuracy: 0.9996 - val_loss: 0.0060 - val_accuracy: 0.9977\n",
            "Epoch 4/8\n",
            "385/385 [==============================] - 2s 5ms/step - loss: 0.0022 - accuracy: 0.9995 - val_loss: 0.0049 - val_accuracy: 0.9987\n",
            "Epoch 5/8\n",
            "385/385 [==============================] - 2s 5ms/step - loss: 9.6547e-04 - accuracy: 0.9998 - val_loss: 0.0050 - val_accuracy: 0.9990\n",
            "Epoch 6/8\n",
            "385/385 [==============================] - 2s 5ms/step - loss: 4.4118e-04 - accuracy: 1.0000 - val_loss: 0.0046 - val_accuracy: 0.9994\n",
            "Epoch 7/8\n",
            "385/385 [==============================] - 2s 5ms/step - loss: 2.5886e-04 - accuracy: 1.0000 - val_loss: 0.0055 - val_accuracy: 0.9987\n",
            "Epoch 8/8\n",
            "385/385 [==============================] - 2s 5ms/step - loss: 1.9692e-04 - accuracy: 1.0000 - val_loss: 0.0051 - val_accuracy: 0.9994\n",
            "97/97 [==============================] - 0s 2ms/step - loss: 0.0051 - accuracy: 0.9994\n",
            "> 99.935\n",
            "Epoch 1/8\n",
            "385/385 [==============================] - 2s 5ms/step - loss: 0.0145 - accuracy: 0.9959 - val_loss: 0.0213 - val_accuracy: 0.9951\n",
            "Epoch 2/8\n",
            "385/385 [==============================] - 2s 5ms/step - loss: 0.0036 - accuracy: 0.9988 - val_loss: 0.0100 - val_accuracy: 0.9958\n",
            "Epoch 3/8\n",
            "385/385 [==============================] - 2s 5ms/step - loss: 0.0028 - accuracy: 0.9994 - val_loss: 0.0044 - val_accuracy: 0.9984\n",
            "Epoch 4/8\n",
            "385/385 [==============================] - 2s 5ms/step - loss: 7.0447e-04 - accuracy: 0.9999 - val_loss: 0.0033 - val_accuracy: 0.9990\n",
            "Epoch 5/8\n",
            "385/385 [==============================] - 2s 5ms/step - loss: 3.8437e-04 - accuracy: 1.0000 - val_loss: 0.0029 - val_accuracy: 0.9994\n",
            "Epoch 6/8\n",
            "385/385 [==============================] - 2s 5ms/step - loss: 1.3755e-04 - accuracy: 1.0000 - val_loss: 0.0020 - val_accuracy: 0.9997\n",
            "Epoch 7/8\n",
            "385/385 [==============================] - 2s 5ms/step - loss: 8.7630e-05 - accuracy: 1.0000 - val_loss: 0.0020 - val_accuracy: 0.9997\n",
            "Epoch 8/8\n",
            "385/385 [==============================] - 2s 5ms/step - loss: 6.8138e-05 - accuracy: 1.0000 - val_loss: 0.0020 - val_accuracy: 0.9997\n",
            "97/97 [==============================] - 0s 2ms/step - loss: 0.0020 - accuracy: 0.9997\n",
            "> 99.968\n",
            "Epoch 1/8\n",
            "385/385 [==============================] - 2s 5ms/step - loss: 0.0119 - accuracy: 0.9967 - val_loss: 0.0041 - val_accuracy: 0.9994\n",
            "Epoch 2/8\n",
            "385/385 [==============================] - 2s 5ms/step - loss: 0.0017 - accuracy: 0.9995 - val_loss: 0.0024 - val_accuracy: 0.9990\n",
            "Epoch 3/8\n",
            "385/385 [==============================] - 2s 5ms/step - loss: 9.1557e-04 - accuracy: 0.9997 - val_loss: 0.0014 - val_accuracy: 0.9997\n",
            "Epoch 4/8\n",
            "385/385 [==============================] - 2s 5ms/step - loss: 1.2924e-04 - accuracy: 1.0000 - val_loss: 0.0011 - val_accuracy: 0.9997\n",
            "Epoch 5/8\n",
            "385/385 [==============================] - 2s 5ms/step - loss: 6.8522e-05 - accuracy: 1.0000 - val_loss: 0.0011 - val_accuracy: 0.9997\n",
            "Epoch 6/8\n",
            "385/385 [==============================] - 2s 5ms/step - loss: 5.2280e-05 - accuracy: 1.0000 - val_loss: 0.0010 - val_accuracy: 0.9997\n",
            "Epoch 7/8\n",
            "385/385 [==============================] - 2s 5ms/step - loss: 4.1576e-05 - accuracy: 1.0000 - val_loss: 0.0011 - val_accuracy: 0.9997\n",
            "Epoch 8/8\n",
            "385/385 [==============================] - 2s 5ms/step - loss: 3.3646e-05 - accuracy: 1.0000 - val_loss: 0.0011 - val_accuracy: 0.9997\n",
            "97/97 [==============================] - 0s 2ms/step - loss: 0.0011 - accuracy: 0.9997\n",
            "> 99.968\n",
            "Epoch 1/8\n",
            "385/385 [==============================] - 2s 5ms/step - loss: 9.6632e-04 - accuracy: 0.9997 - val_loss: 0.0085 - val_accuracy: 0.9971\n",
            "Epoch 2/8\n",
            "385/385 [==============================] - 2s 5ms/step - loss: 0.0091 - accuracy: 0.9976 - val_loss: 0.0026 - val_accuracy: 0.9997\n",
            "Epoch 3/8\n",
            "385/385 [==============================] - 2s 5ms/step - loss: 0.0018 - accuracy: 0.9994 - val_loss: 0.0026 - val_accuracy: 0.9994\n",
            "Epoch 4/8\n",
            "385/385 [==============================] - 2s 5ms/step - loss: 1.9631e-04 - accuracy: 1.0000 - val_loss: 9.5311e-04 - val_accuracy: 0.9994\n",
            "Epoch 5/8\n",
            "385/385 [==============================] - 2s 5ms/step - loss: 5.9835e-05 - accuracy: 1.0000 - val_loss: 6.0763e-04 - val_accuracy: 0.9997\n",
            "Epoch 6/8\n",
            "385/385 [==============================] - 2s 5ms/step - loss: 3.6940e-05 - accuracy: 1.0000 - val_loss: 5.3535e-04 - val_accuracy: 0.9997\n",
            "Epoch 7/8\n",
            "385/385 [==============================] - 2s 5ms/step - loss: 2.8231e-05 - accuracy: 1.0000 - val_loss: 4.7526e-04 - val_accuracy: 0.9997\n",
            "Epoch 8/8\n",
            "385/385 [==============================] - 2s 5ms/step - loss: 2.2759e-05 - accuracy: 1.0000 - val_loss: 4.4951e-04 - val_accuracy: 0.9997\n",
            "97/97 [==============================] - 0s 2ms/step - loss: 4.4951e-04 - accuracy: 0.9997\n",
            "> 99.968\n",
            "Epoch 1/8\n",
            "385/385 [==============================] - 2s 5ms/step - loss: 4.5782e-05 - accuracy: 1.0000 - val_loss: 3.9004e-05 - val_accuracy: 1.0000\n",
            "Epoch 2/8\n",
            "385/385 [==============================] - 2s 5ms/step - loss: 1.8303e-05 - accuracy: 1.0000 - val_loss: 2.0764e-05 - val_accuracy: 1.0000\n",
            "Epoch 3/8\n",
            "385/385 [==============================] - 2s 5ms/step - loss: 1.3446e-05 - accuracy: 1.0000 - val_loss: 1.8501e-05 - val_accuracy: 1.0000\n",
            "Epoch 4/8\n",
            "385/385 [==============================] - 2s 5ms/step - loss: 1.0924e-05 - accuracy: 1.0000 - val_loss: 1.7149e-05 - val_accuracy: 1.0000\n",
            "Epoch 5/8\n",
            "385/385 [==============================] - 2s 5ms/step - loss: 8.9458e-06 - accuracy: 1.0000 - val_loss: 1.6810e-05 - val_accuracy: 1.0000\n",
            "Epoch 6/8\n",
            "385/385 [==============================] - 2s 5ms/step - loss: 7.3995e-06 - accuracy: 1.0000 - val_loss: 1.5122e-05 - val_accuracy: 1.0000\n",
            "Epoch 7/8\n",
            "385/385 [==============================] - 2s 5ms/step - loss: 6.1083e-06 - accuracy: 1.0000 - val_loss: 1.4616e-05 - val_accuracy: 1.0000\n",
            "Epoch 8/8\n",
            "385/385 [==============================] - 2s 5ms/step - loss: 5.1316e-06 - accuracy: 1.0000 - val_loss: 1.4394e-05 - val_accuracy: 1.0000\n",
            "97/97 [==============================] - 0s 2ms/step - loss: 1.4394e-05 - accuracy: 1.0000\n",
            "> 100.000\n",
            "Epoch 1/8\n",
            "385/385 [==============================] - 2s 5ms/step - loss: 5.4632e-06 - accuracy: 1.0000 - val_loss: 3.0722e-06 - val_accuracy: 1.0000\n",
            "Epoch 2/8\n",
            "385/385 [==============================] - 2s 5ms/step - loss: 3.9078e-06 - accuracy: 1.0000 - val_loss: 2.8638e-06 - val_accuracy: 1.0000\n",
            "Epoch 3/8\n",
            "385/385 [==============================] - 2s 5ms/step - loss: 3.1229e-06 - accuracy: 1.0000 - val_loss: 2.6422e-06 - val_accuracy: 1.0000\n",
            "Epoch 4/8\n",
            "385/385 [==============================] - 2s 5ms/step - loss: 2.5311e-06 - accuracy: 1.0000 - val_loss: 2.5932e-06 - val_accuracy: 1.0000\n",
            "Epoch 5/8\n",
            "385/385 [==============================] - 2s 5ms/step - loss: 2.0821e-06 - accuracy: 1.0000 - val_loss: 2.3482e-06 - val_accuracy: 1.0000\n",
            "Epoch 6/8\n",
            "385/385 [==============================] - 2s 5ms/step - loss: 1.7075e-06 - accuracy: 1.0000 - val_loss: 2.2508e-06 - val_accuracy: 1.0000\n",
            "Epoch 7/8\n",
            "385/385 [==============================] - 2s 5ms/step - loss: 1.3948e-06 - accuracy: 1.0000 - val_loss: 2.0500e-06 - val_accuracy: 1.0000\n",
            "Epoch 8/8\n",
            "385/385 [==============================] - 2s 5ms/step - loss: 1.1593e-06 - accuracy: 1.0000 - val_loss: 1.9708e-06 - val_accuracy: 1.0000\n",
            "97/97 [==============================] - 0s 2ms/step - loss: 1.9708e-06 - accuracy: 1.0000\n",
            "> 100.000\n",
            "Epoch 1/8\n",
            "385/385 [==============================] - 2s 5ms/step - loss: 1.0748e-06 - accuracy: 1.0000 - val_loss: 9.3701e-07 - val_accuracy: 1.0000\n",
            "Epoch 2/8\n",
            "385/385 [==============================] - 2s 5ms/step - loss: 8.0837e-07 - accuracy: 1.0000 - val_loss: 9.3381e-07 - val_accuracy: 1.0000\n",
            "Epoch 3/8\n",
            "385/385 [==============================] - 2s 5ms/step - loss: 6.5249e-07 - accuracy: 1.0000 - val_loss: 8.8570e-07 - val_accuracy: 1.0000\n",
            "Epoch 4/8\n",
            "385/385 [==============================] - 2s 5ms/step - loss: 5.2513e-07 - accuracy: 1.0000 - val_loss: 9.3284e-07 - val_accuracy: 1.0000\n",
            "Epoch 5/8\n",
            "385/385 [==============================] - 2s 5ms/step - loss: 4.3437e-07 - accuracy: 1.0000 - val_loss: 8.6243e-07 - val_accuracy: 1.0000\n",
            "Epoch 6/8\n",
            "385/385 [==============================] - 2s 5ms/step - loss: 3.5656e-07 - accuracy: 1.0000 - val_loss: 8.1847e-07 - val_accuracy: 1.0000\n",
            "Epoch 7/8\n",
            "385/385 [==============================] - 2s 5ms/step - loss: 2.8986e-07 - accuracy: 1.0000 - val_loss: 9.1299e-07 - val_accuracy: 1.0000\n",
            "Epoch 8/8\n",
            "385/385 [==============================] - 2s 5ms/step - loss: 2.4092e-07 - accuracy: 1.0000 - val_loss: 9.5277e-07 - val_accuracy: 1.0000\n",
            "97/97 [==============================] - 0s 2ms/step - loss: 9.5277e-07 - accuracy: 1.0000\n",
            "> 100.000\n",
            "Epoch 1/8\n",
            "385/385 [==============================] - 2s 5ms/step - loss: 0.0097 - accuracy: 0.9978 - val_loss: 0.0029 - val_accuracy: 0.9990\n",
            "Epoch 2/8\n",
            "385/385 [==============================] - 2s 5ms/step - loss: 0.0040 - accuracy: 0.9987 - val_loss: 0.0025 - val_accuracy: 0.9994\n",
            "Epoch 3/8\n",
            "385/385 [==============================] - 2s 5ms/step - loss: 0.0010 - accuracy: 0.9996 - val_loss: 0.0015 - val_accuracy: 0.9994\n",
            "Epoch 4/8\n",
            "385/385 [==============================] - 2s 5ms/step - loss: 4.4220e-04 - accuracy: 0.9999 - val_loss: 3.7840e-04 - val_accuracy: 1.0000\n",
            "Epoch 5/8\n",
            "385/385 [==============================] - 2s 5ms/step - loss: 2.5036e-05 - accuracy: 1.0000 - val_loss: 4.6753e-04 - val_accuracy: 1.0000\n",
            "Epoch 6/8\n",
            "385/385 [==============================] - 2s 5ms/step - loss: 1.3544e-05 - accuracy: 1.0000 - val_loss: 3.9378e-04 - val_accuracy: 1.0000\n",
            "Epoch 7/8\n",
            "385/385 [==============================] - 2s 6ms/step - loss: 1.0825e-05 - accuracy: 1.0000 - val_loss: 3.7272e-04 - val_accuracy: 1.0000\n",
            "Epoch 8/8\n",
            "385/385 [==============================] - 2s 5ms/step - loss: 8.9597e-06 - accuracy: 1.0000 - val_loss: 3.4462e-04 - val_accuracy: 1.0000\n",
            "97/97 [==============================] - 0s 2ms/step - loss: 3.4462e-04 - accuracy: 1.0000\n",
            "> 100.000\n",
            "Epoch 1/8\n",
            "385/385 [==============================] - 2s 5ms/step - loss: 0.0033 - accuracy: 0.9992 - val_loss: 0.0036 - val_accuracy: 0.9987\n",
            "Epoch 2/8\n",
            "385/385 [==============================] - 2s 6ms/step - loss: 0.0034 - accuracy: 0.9991 - val_loss: 8.8239e-04 - val_accuracy: 0.9997\n",
            "Epoch 3/8\n",
            "385/385 [==============================] - 2s 5ms/step - loss: 6.9269e-04 - accuracy: 0.9998 - val_loss: 5.4112e-04 - val_accuracy: 1.0000\n",
            "Epoch 4/8\n",
            "385/385 [==============================] - 2s 5ms/step - loss: 4.8043e-05 - accuracy: 1.0000 - val_loss: 1.6642e-04 - val_accuracy: 1.0000\n",
            "Epoch 5/8\n",
            "385/385 [==============================] - 2s 5ms/step - loss: 1.4295e-05 - accuracy: 1.0000 - val_loss: 1.3567e-04 - val_accuracy: 1.0000\n",
            "Epoch 6/8\n",
            "385/385 [==============================] - 2s 5ms/step - loss: 8.5497e-06 - accuracy: 1.0000 - val_loss: 1.1862e-04 - val_accuracy: 1.0000\n",
            "Epoch 7/8\n",
            "385/385 [==============================] - 2s 5ms/step - loss: 6.9157e-06 - accuracy: 1.0000 - val_loss: 1.0784e-04 - val_accuracy: 1.0000\n",
            "Epoch 8/8\n",
            "385/385 [==============================] - 2s 5ms/step - loss: 5.7955e-06 - accuracy: 1.0000 - val_loss: 9.9182e-05 - val_accuracy: 1.0000\n",
            "97/97 [==============================] - 0s 2ms/step - loss: 9.9182e-05 - accuracy: 1.0000\n",
            "> 100.000\n",
            "INFO:tensorflow:Assets written to: trained_finetune_mix_b1/assets\n"
          ]
        },
        {
          "output_type": "stream",
          "name": "stderr",
          "text": [
            "/usr/local/lib/python3.7/dist-packages/ipykernel_launcher.py:5: MatplotlibDeprecationWarning: Adding an axes using the same arguments as a previous axes currently reuses the earlier instance.  In a future version, a new instance will always be created and returned.  Meanwhile, this warning can be suppressed, and the future behavior ensured, by passing a unique label to each axes instance.\n",
            "  \"\"\"\n",
            "/usr/local/lib/python3.7/dist-packages/ipykernel_launcher.py:10: MatplotlibDeprecationWarning: Adding an axes using the same arguments as a previous axes currently reuses the earlier instance.  In a future version, a new instance will always be created and returned.  Meanwhile, this warning can be suppressed, and the future behavior ensured, by passing a unique label to each axes instance.\n",
            "  # Remove the CWD from sys.path while we load stuff.\n"
          ]
        },
        {
          "output_type": "display_data",
          "data": {
            "text/plain": [
              "<Figure size 432x288 with 2 Axes>"
            ],
            "image/png": "[encoded data removed]"
          },
          "metadata": {
            "needs_background": "light"
          }
        },
        {
          "output_type": "stream",
          "name": "stdout",
          "text": [
            "Accuracy: mean=99.893 std=0.268, n=10\n"
          ]
        },
        {
          "output_type": "display_data",
          "data": {
            "text/plain": [
              "<Figure size 432x288 with 1 Axes>"
            ],
            "image/png": "[encoded data removed]"
          },
          "metadata": {
            "needs_background": "light"
          }
        },
        {
          "output_type": "stream",
          "name": "stdout",
          "text": [
            "['trained_finetune_mix_b1 on mix data (0 to 4) with LR=0.0005 & epoch=8', 100.0, 100.0]\n"
          ]
        }
      ]
    },
    {
      "cell_type": "markdown",
      "source": [
        "Updating part of random final model with weights from finetuned small size model."
      ],
      "metadata": {
        "id": "RiuvHzuvdQn-"
      }
    },
    {
      "cell_type": "code",
      "source": [
        "model_small = tf.keras.models.load_model(\"trained_finetune_mix_b1\")\n",
        "b = model_small.layers[1].get_weights()\n",
        "a = model_final.layers[1].get_weights()\n",
        "a[0][:784,:300]=b[0]\n",
        "a[1][:300]=b[1]\n",
        "model_final.layers[1].set_weights(a)\n",
        "\n",
        "b = model_small.layers[2].get_weights()\n",
        "a = model_final.layers[2].get_weights()\n",
        "a[0][:300,:200]=b[0]\n",
        "a[1][:200]=b[1]\n",
        "model_final.layers[2].set_weights(a)\n",
        "\n",
        "b = model_small.layers[3].get_weights()\n",
        "a = model_final.layers[3].get_weights()\n",
        "a[0][:200,:5]=b[0]\n",
        "a[1][:5]=b[1]\n",
        "model_final.layers[3].set_weights(a)"
      ],
      "metadata": {
        "id": "_8ec-B8PciQ5"
      },
      "execution_count": 28,
      "outputs": []
    },
    {
      "cell_type": "code",
      "source": [
        "model = model_final\n",
        "model.layers[3].weights"
      ],
      "metadata": {
        "colab": {
          "base_uri": "https://localhost:8080/"
        },
        "id": "P5xh3IWI24Ug",
        "outputId": "c44e43ab-44db-42b8-b010-00204b52eb11"
      },
      "execution_count": 29,
      "outputs": [
        {
          "output_type": "execute_result",
          "data": {
            "text/plain": [
              "[<tf.Variable 'dense_5/kernel:0' shape=(300, 10) dtype=float32, numpy=\n",
              " array([[ 0.05170976, -0.02273152, -0.32905114, ..., -0.04618773,\n",
              "         -0.12922554,  0.13178085],\n",
              "        [-0.04180722, -0.12910551, -0.02858736, ...,  0.04397899,\n",
              "          0.10153401, -0.12047584],\n",
              "        [-0.00597238,  0.07139426,  0.0023583 , ...,  0.12067883,\n",
              "         -0.12364914, -0.01514611],\n",
              "        ...,\n",
              "        [ 0.02074444, -0.06549399,  0.09755109, ...,  0.09745234,\n",
              "         -0.09730152,  0.09756203],\n",
              "        [-0.02081618,  0.04266517,  0.04235858, ..., -0.08235405,\n",
              "          0.00250287,  0.00477713],\n",
              "        [-0.02665937, -0.01693602, -0.02524523, ..., -0.08103518,\n",
              "         -0.02715031,  0.06878036]], dtype=float32)>,\n",
              " <tf.Variable 'dense_5/bias:0' shape=(10,) dtype=float32, numpy=\n",
              " array([-0.12388016, -0.11250415,  0.04995216,  0.05853987,  0.02420392,\n",
              "         0.        ,  0.        ,  0.        ,  0.        ,  0.        ],\n",
              "       dtype=float32)>]"
            ]
          },
          "metadata": {},
          "execution_count": 29
        }
      ]
    },
    {
      "cell_type": "code",
      "source": [
        "model_final.save('final_model_loaded_weights')\n",
        "desc = \"final_model_loaded_weights without training\"\n",
        "results.append([desc,round(model.evaluate(train_per_x, train_per_y, verbose=0)[1]*100,3),round(model.evaluate(trainX, trainy, verbose=0)[1]*100,3),round(model.evaluate(testX, testy, verbose=0)[1]*100,3)])\n",
        "print (results[len(results)-1])"
      ],
      "metadata": {
        "colab": {
          "base_uri": "https://localhost:8080/"
        },
        "id": "3j3L2HZUxtG7",
        "outputId": "6ce39eab-66aa-467a-bbdd-3da59d7c0289"
      },
      "execution_count": 30,
      "outputs": [
        {
          "output_type": "stream",
          "name": "stdout",
          "text": [
            "INFO:tensorflow:Assets written to: final_model_loaded_weights/assets\n",
            "['final_model_loaded_weights without training', 50.0, 51.08, 51.14]\n"
          ]
        }
      ]
    },
    {
      "cell_type": "code",
      "source": [
        "model.summary()"
      ],
      "metadata": {
        "colab": {
          "base_uri": "https://localhost:8080/"
        },
        "id": "BT1dIAYR0fQg",
        "outputId": "ce235df5-3bbe-4cf8-9711-66f5aaf9739c"
      },
      "execution_count": 31,
      "outputs": [
        {
          "output_type": "stream",
          "name": "stdout",
          "text": [
            "Model: \"sequential_1\"\n",
            "_________________________________________________________________\n",
            " Layer (type)                Output Shape              Param #   \n",
            "=================================================================\n",
            " flatten_1 (Flatten)         (None, 784)               0         \n",
            "                                                                 \n",
            " dense_3 (Dense)             (None, 500)               392500    \n",
            "                                                                 \n",
            " dense_4 (Dense)             (None, 300)               150300    \n",
            "                                                                 \n",
            " dense_5 (Dense)             (None, 10)                3010      \n",
            "                                                                 \n",
            "=================================================================\n",
            "Total params: 545,810\n",
            "Trainable params: 545,810\n",
            "Non-trainable params: 0\n",
            "_________________________________________________________________\n"
          ]
        }
      ]
    },
    {
      "cell_type": "code",
      "source": [
        "#model = tf.keras.models.load_model(\"final_model_loaded_weights\")\n",
        "#from keras import backend as K\n",
        "#K.set_value(model.optimizer.learning_rate, 0.001)\n",
        "#scores, histories, model = evaluate_model(model, train_per_x, train_per_y,10,5,144)\n",
        "\n",
        "#model.save(\"trained_perfectdata\")\n",
        "\n",
        "## learning curves\n",
        "#summarize_diagnostics(histories)\n",
        "## summarize estimated performance\n",
        "#summarize_performance(scores)\n",
        "#desc = \"final_model_loaded_weights on perfect data with LR=0.001 & epoch=5\"\n",
        "#results.append([desc,round(model.evaluate(train_per_x, train_per_y, verbose=0)[1]*100,3),round(model.evaluate(trainX, trainy, verbose=0)[1]*100,3),round(model.evaluate(testX, testy, verbose=0)[1]*100,3)])\n",
        "#print (results[len(results)-1]"
      ],
      "metadata": {
        "id": "p01RLUj7aQCo"
      },
      "execution_count": 32,
      "outputs": []
    },
    {
      "cell_type": "markdown",
      "source": [
        "Because we were not able to freez the small part of the model, applying the two-steps training in this state means catastrophic forgetting. Therefore, we are not using the above training step in our training process."
      ],
      "metadata": {
        "id": "l10kQiC0gqil"
      }
    },
    {
      "cell_type": "code",
      "source": [
        "model.layers[3].weights"
      ],
      "metadata": {
        "colab": {
          "base_uri": "https://localhost:8080/"
        },
        "id": "jo0iMy5j3xzC",
        "outputId": "e1c2ab08-c6f8-4975-e5fe-46e63a0ed679"
      },
      "execution_count": 33,
      "outputs": [
        {
          "output_type": "execute_result",
          "data": {
            "text/plain": [
              "[<tf.Variable 'dense_5/kernel:0' shape=(300, 10) dtype=float32, numpy=\n",
              " array([[ 0.05170976, -0.02273152, -0.32905114, ..., -0.04618773,\n",
              "         -0.12922554,  0.13178085],\n",
              "        [-0.04180722, -0.12910551, -0.02858736, ...,  0.04397899,\n",
              "          0.10153401, -0.12047584],\n",
              "        [-0.00597238,  0.07139426,  0.0023583 , ...,  0.12067883,\n",
              "         -0.12364914, -0.01514611],\n",
              "        ...,\n",
              "        [ 0.02074444, -0.06549399,  0.09755109, ...,  0.09745234,\n",
              "         -0.09730152,  0.09756203],\n",
              "        [-0.02081618,  0.04266517,  0.04235858, ..., -0.08235405,\n",
              "          0.00250287,  0.00477713],\n",
              "        [-0.02665937, -0.01693602, -0.02524523, ..., -0.08103518,\n",
              "         -0.02715031,  0.06878036]], dtype=float32)>,\n",
              " <tf.Variable 'dense_5/bias:0' shape=(10,) dtype=float32, numpy=\n",
              " array([-0.12388016, -0.11250415,  0.04995216,  0.05853987,  0.02420392,\n",
              "         0.        ,  0.        ,  0.        ,  0.        ,  0.        ],\n",
              "       dtype=float32)>]"
            ]
          },
          "metadata": {},
          "execution_count": 33
        }
      ]
    },
    {
      "cell_type": "code",
      "source": [
        "model = tf.keras.models.load_model(\"final_model_loaded_weights\")\n",
        "from keras import backend as K\n",
        "K.set_value(model.optimizer.learning_rate, 0.001)\n",
        "scores, histories, model = evaluate_model(model, train_mixX_b3, train_mixy_b3,10,5,144)\n",
        "\n",
        "\n",
        "\n",
        "# learning curves\n",
        "summarize_diagnostics(histories)\n",
        "# summarize estimated performance\n",
        "summarize_performance(scores)\n",
        "desc = \"final_model_loaded_weights on mix data with LR=0.001 & epoch=5\"\n",
        "results.append([desc,round(model.evaluate(train_per_x, train_per_y, verbose=0)[1]*100,3),round(model.evaluate(trainX, trainy, verbose=0)[1]*100,3),round(model.evaluate(testX, testy, verbose=0)[1]*100,3)])\n",
        "print (results[len(results)-1])"
      ],
      "metadata": {
        "colab": {
          "base_uri": "https://localhost:8080/",
          "height": 1000
        },
        "id": "zEA9N5qTrdzV",
        "outputId": "e8638003-9144-46d1-f7c2-cd555c3920bd"
      },
      "execution_count": 34,
      "outputs": [
        {
          "output_type": "stream",
          "name": "stdout",
          "text": [
            "Epoch 1/5\n",
            "312/312 [==============================] - 4s 12ms/step - loss: 0.2755 - accuracy: 0.9286 - val_loss: 0.1071 - val_accuracy: 0.9634\n",
            "Epoch 2/5\n",
            "312/312 [==============================] - 4s 11ms/step - loss: 0.0715 - accuracy: 0.9773 - val_loss: 0.0815 - val_accuracy: 0.9743\n",
            "Epoch 3/5\n",
            "312/312 [==============================] - 3s 11ms/step - loss: 0.0424 - accuracy: 0.9870 - val_loss: 0.0696 - val_accuracy: 0.9779\n",
            "Epoch 4/5\n",
            "312/312 [==============================] - 3s 11ms/step - loss: 0.0276 - accuracy: 0.9916 - val_loss: 0.0690 - val_accuracy: 0.9789\n",
            "Epoch 5/5\n",
            "312/312 [==============================] - 3s 11ms/step - loss: 0.0184 - accuracy: 0.9942 - val_loss: 0.0761 - val_accuracy: 0.9783\n",
            "156/156 [==============================] - 0s 3ms/step - loss: 0.0761 - accuracy: 0.9783\n",
            "> 97.830\n",
            "Epoch 1/5\n",
            "312/312 [==============================] - 3s 11ms/step - loss: 0.0233 - accuracy: 0.9928 - val_loss: 0.0183 - val_accuracy: 0.9948\n",
            "Epoch 2/5\n",
            "312/312 [==============================] - 3s 11ms/step - loss: 0.0143 - accuracy: 0.9953 - val_loss: 0.0336 - val_accuracy: 0.9889\n",
            "Epoch 3/5\n",
            "312/312 [==============================] - 3s 11ms/step - loss: 0.0095 - accuracy: 0.9973 - val_loss: 0.0222 - val_accuracy: 0.9922\n",
            "Epoch 4/5\n",
            "312/312 [==============================] - 4s 11ms/step - loss: 0.0054 - accuracy: 0.9988 - val_loss: 0.0266 - val_accuracy: 0.9922\n",
            "Epoch 5/5\n",
            "312/312 [==============================] - 3s 11ms/step - loss: 0.0085 - accuracy: 0.9973 - val_loss: 0.0292 - val_accuracy: 0.9912\n",
            "156/156 [==============================] - 0s 3ms/step - loss: 0.0292 - accuracy: 0.9912\n",
            "> 99.116\n",
            "Epoch 1/5\n",
            "312/312 [==============================] - 4s 13ms/step - loss: 0.0189 - accuracy: 0.9941 - val_loss: 0.0151 - val_accuracy: 0.9948\n",
            "Epoch 2/5\n",
            "312/312 [==============================] - 3s 11ms/step - loss: 0.0096 - accuracy: 0.9968 - val_loss: 0.0166 - val_accuracy: 0.9936\n",
            "Epoch 3/5\n",
            "312/312 [==============================] - 4s 11ms/step - loss: 0.0097 - accuracy: 0.9965 - val_loss: 0.0193 - val_accuracy: 0.9950\n",
            "Epoch 4/5\n",
            "312/312 [==============================] - 4s 11ms/step - loss: 0.0073 - accuracy: 0.9977 - val_loss: 0.0371 - val_accuracy: 0.9883\n",
            "Epoch 5/5\n",
            "312/312 [==============================] - 3s 11ms/step - loss: 0.0061 - accuracy: 0.9982 - val_loss: 0.0283 - val_accuracy: 0.9914\n",
            "156/156 [==============================] - 0s 3ms/step - loss: 0.0283 - accuracy: 0.9914\n",
            "> 99.136\n",
            "Epoch 1/5\n",
            "312/312 [==============================] - 4s 11ms/step - loss: 0.0104 - accuracy: 0.9964 - val_loss: 0.0133 - val_accuracy: 0.9950\n",
            "Epoch 2/5\n",
            "312/312 [==============================] - 3s 11ms/step - loss: 0.0053 - accuracy: 0.9983 - val_loss: 0.0068 - val_accuracy: 0.9976\n",
            "Epoch 3/5\n",
            "312/312 [==============================] - 4s 12ms/step - loss: 0.0026 - accuracy: 0.9993 - val_loss: 0.0045 - val_accuracy: 0.9982\n",
            "Epoch 4/5\n",
            "312/312 [==============================] - 4s 12ms/step - loss: 0.0078 - accuracy: 0.9977 - val_loss: 0.0080 - val_accuracy: 0.9976\n",
            "Epoch 5/5\n",
            "312/312 [==============================] - 4s 12ms/step - loss: 0.0072 - accuracy: 0.9977 - val_loss: 0.0067 - val_accuracy: 0.9972\n",
            "156/156 [==============================] - 0s 3ms/step - loss: 0.0067 - accuracy: 0.9972\n",
            "> 99.719\n",
            "Epoch 1/5\n",
            "312/312 [==============================] - 4s 12ms/step - loss: 0.0079 - accuracy: 0.9972 - val_loss: 0.0036 - val_accuracy: 0.9990\n",
            "Epoch 2/5\n",
            "312/312 [==============================] - 4s 12ms/step - loss: 0.0083 - accuracy: 0.9973 - val_loss: 0.0056 - val_accuracy: 0.9978\n",
            "Epoch 3/5\n",
            "312/312 [==============================] - 4s 11ms/step - loss: 0.0073 - accuracy: 0.9976 - val_loss: 0.0059 - val_accuracy: 0.9982\n",
            "Epoch 4/5\n",
            "312/312 [==============================] - 4s 12ms/step - loss: 0.0053 - accuracy: 0.9985 - val_loss: 0.0036 - val_accuracy: 0.9990\n",
            "Epoch 5/5\n",
            "312/312 [==============================] - 4s 11ms/step - loss: 0.0033 - accuracy: 0.9992 - val_loss: 0.0054 - val_accuracy: 0.9984\n",
            "156/156 [==============================] - 0s 3ms/step - loss: 0.0054 - accuracy: 0.9984\n",
            "> 99.839\n",
            "Epoch 1/5\n",
            "312/312 [==============================] - 3s 11ms/step - loss: 0.0043 - accuracy: 0.9988 - val_loss: 0.0030 - val_accuracy: 0.9990\n",
            "Epoch 2/5\n",
            "312/312 [==============================] - 4s 12ms/step - loss: 0.0048 - accuracy: 0.9984 - val_loss: 0.0035 - val_accuracy: 0.9988\n",
            "Epoch 3/5\n",
            "312/312 [==============================] - 4s 11ms/step - loss: 0.0060 - accuracy: 0.9977 - val_loss: 0.0063 - val_accuracy: 0.9982\n",
            "Epoch 4/5\n",
            "312/312 [==============================] - 3s 11ms/step - loss: 0.0060 - accuracy: 0.9981 - val_loss: 0.0083 - val_accuracy: 0.9978\n",
            "Epoch 5/5\n",
            "312/312 [==============================] - 4s 11ms/step - loss: 0.0015 - accuracy: 0.9996 - val_loss: 0.0030 - val_accuracy: 0.9996\n",
            "156/156 [==============================] - 0s 3ms/step - loss: 0.0030 - accuracy: 0.9996\n",
            "> 99.960\n",
            "Epoch 1/5\n",
            "312/312 [==============================] - 4s 11ms/step - loss: 0.0011 - accuracy: 0.9997 - val_loss: 6.2288e-04 - val_accuracy: 0.9998\n",
            "Epoch 2/5\n",
            "312/312 [==============================] - 4s 11ms/step - loss: 0.0093 - accuracy: 0.9973 - val_loss: 0.0120 - val_accuracy: 0.9966\n",
            "Epoch 3/5\n",
            "312/312 [==============================] - 3s 11ms/step - loss: 0.0111 - accuracy: 0.9968 - val_loss: 0.0094 - val_accuracy: 0.9974\n",
            "Epoch 4/5\n",
            "312/312 [==============================] - 3s 11ms/step - loss: 0.0030 - accuracy: 0.9990 - val_loss: 0.0029 - val_accuracy: 0.9990\n",
            "Epoch 5/5\n",
            "312/312 [==============================] - 4s 12ms/step - loss: 0.0020 - accuracy: 0.9993 - val_loss: 0.0064 - val_accuracy: 0.9974\n",
            "156/156 [==============================] - 0s 3ms/step - loss: 0.0064 - accuracy: 0.9974\n",
            "> 99.739\n",
            "Epoch 1/5\n",
            "312/312 [==============================] - 4s 11ms/step - loss: 0.0030 - accuracy: 0.9991 - val_loss: 0.0027 - val_accuracy: 0.9986\n",
            "Epoch 2/5\n",
            "312/312 [==============================] - 4s 11ms/step - loss: 0.0053 - accuracy: 0.9984 - val_loss: 0.0033 - val_accuracy: 0.9986\n",
            "Epoch 3/5\n",
            "312/312 [==============================] - 3s 11ms/step - loss: 0.0035 - accuracy: 0.9992 - val_loss: 0.0016 - val_accuracy: 0.9996\n",
            "Epoch 4/5\n",
            "312/312 [==============================] - 3s 11ms/step - loss: 0.0015 - accuracy: 0.9995 - val_loss: 0.0035 - val_accuracy: 0.9988\n",
            "Epoch 5/5\n",
            "312/312 [==============================] - 3s 11ms/step - loss: 0.0046 - accuracy: 0.9986 - val_loss: 0.0068 - val_accuracy: 0.9980\n",
            "156/156 [==============================] - 0s 3ms/step - loss: 0.0068 - accuracy: 0.9980\n",
            "> 99.799\n",
            "Epoch 1/5\n",
            "312/312 [==============================] - 3s 11ms/step - loss: 0.0105 - accuracy: 0.9968 - val_loss: 0.0095 - val_accuracy: 0.9968\n",
            "Epoch 2/5\n",
            "312/312 [==============================] - 3s 11ms/step - loss: 0.0046 - accuracy: 0.9987 - val_loss: 0.0017 - val_accuracy: 0.9996\n",
            "Epoch 3/5\n",
            "312/312 [==============================] - 3s 11ms/step - loss: 9.2558e-04 - accuracy: 0.9997 - val_loss: 9.7833e-04 - val_accuracy: 0.9996\n",
            "Epoch 4/5\n",
            "312/312 [==============================] - 3s 11ms/step - loss: 1.5295e-04 - accuracy: 1.0000 - val_loss: 2.0484e-04 - val_accuracy: 1.0000\n",
            "Epoch 5/5\n",
            "312/312 [==============================] - 4s 11ms/step - loss: 2.4141e-05 - accuracy: 1.0000 - val_loss: 1.8074e-04 - val_accuracy: 1.0000\n",
            "156/156 [==============================] - 0s 3ms/step - loss: 1.8074e-04 - accuracy: 1.0000\n",
            "> 100.000\n",
            "Epoch 1/5\n",
            "312/312 [==============================] - 4s 11ms/step - loss: 3.5486e-05 - accuracy: 1.0000 - val_loss: 2.2958e-05 - val_accuracy: 1.0000\n",
            "Epoch 2/5\n",
            "312/312 [==============================] - 3s 11ms/step - loss: 1.8340e-05 - accuracy: 1.0000 - val_loss: 1.7949e-05 - val_accuracy: 1.0000\n",
            "Epoch 3/5\n",
            "312/312 [==============================] - 3s 11ms/step - loss: 1.4066e-05 - accuracy: 1.0000 - val_loss: 1.5864e-05 - val_accuracy: 1.0000\n",
            "Epoch 4/5\n",
            "312/312 [==============================] - 3s 11ms/step - loss: 1.1674e-05 - accuracy: 1.0000 - val_loss: 1.4574e-05 - val_accuracy: 1.0000\n",
            "Epoch 5/5\n",
            "312/312 [==============================] - 3s 11ms/step - loss: 9.8707e-06 - accuracy: 1.0000 - val_loss: 1.3563e-05 - val_accuracy: 1.0000\n",
            "156/156 [==============================] - 0s 3ms/step - loss: 1.3563e-05 - accuracy: 1.0000\n",
            "> 100.000\n"
          ]
        },
        {
          "output_type": "stream",
          "name": "stderr",
          "text": [
            "/usr/local/lib/python3.7/dist-packages/ipykernel_launcher.py:5: MatplotlibDeprecationWarning: Adding an axes using the same arguments as a previous axes currently reuses the earlier instance.  In a future version, a new instance will always be created and returned.  Meanwhile, this warning can be suppressed, and the future behavior ensured, by passing a unique label to each axes instance.\n",
            "  \"\"\"\n",
            "/usr/local/lib/python3.7/dist-packages/ipykernel_launcher.py:10: MatplotlibDeprecationWarning: Adding an axes using the same arguments as a previous axes currently reuses the earlier instance.  In a future version, a new instance will always be created and returned.  Meanwhile, this warning can be suppressed, and the future behavior ensured, by passing a unique label to each axes instance.\n",
            "  # Remove the CWD from sys.path while we load stuff.\n"
          ]
        },
        {
          "output_type": "display_data",
          "data": {
            "text/plain": [
              "<Figure size 432x288 with 2 Axes>"
            ],
            "image/png": "[encoded data removed]"
          },
          "metadata": {
            "needs_background": "light"
          }
        },
        {
          "output_type": "stream",
          "name": "stdout",
          "text": [
            "Accuracy: mean=99.514 std=0.639, n=10\n"
          ]
        },
        {
          "output_type": "display_data",
          "data": {
            "text/plain": [
              "<Figure size 432x288 with 1 Axes>"
            ],
            "image/png": "[encoded data removed]"
          },
          "metadata": {
            "needs_background": "light"
          }
        },
        {
          "output_type": "stream",
          "name": "stdout",
          "text": [
            "['final_model_loaded_weights on mix data with LR=0.001 & epoch=5', 100.0, 99.725, 98.37]\n"
          ]
        }
      ]
    },
    {
      "cell_type": "code",
      "source": [
        "model = tf.keras.models.load_model(\"final_model_loaded_weights\")\n",
        "from keras import backend as K\n",
        "K.set_value(model.optimizer.learning_rate, 0.0008)\n",
        "scores, histories, model = evaluate_model(model, train_mixX_b3, train_mixy_b3,10,3,144)\n",
        "\n",
        "\n",
        "\n",
        "# learning curves\n",
        "summarize_diagnostics(histories)\n",
        "# summarize estimated performance\n",
        "summarize_performance(scores)\n",
        "desc = \"final_model_loaded_weights on mix data with LR=0.0008 & epoch=3\"\n",
        "results.append([desc,round(model.evaluate(train_per_x, train_per_y, verbose=0)[1]*100,3),round(model.evaluate(trainX, trainy, verbose=0)[1]*100,3),round(model.evaluate(testX, testy, verbose=0)[1]*100,3)])\n",
        "print (results[len(results)-1])"
      ],
      "metadata": {
        "colab": {
          "base_uri": "https://localhost:8080/",
          "height": 1000
        },
        "id": "CCcj16_kS94k",
        "outputId": "258c0cc9-ced8-4560-d2bb-3570962b7220"
      },
      "execution_count": 35,
      "outputs": [
        {
          "output_type": "stream",
          "name": "stdout",
          "text": [
            "Epoch 1/3\n",
            "312/312 [==============================] - 4s 11ms/step - loss: 0.3008 - accuracy: 0.9225 - val_loss: 0.1137 - val_accuracy: 0.9636\n",
            "Epoch 2/3\n",
            "312/312 [==============================] - 3s 11ms/step - loss: 0.0772 - accuracy: 0.9758 - val_loss: 0.0811 - val_accuracy: 0.9735\n",
            "Epoch 3/3\n",
            "312/312 [==============================] - 4s 11ms/step - loss: 0.0469 - accuracy: 0.9857 - val_loss: 0.0687 - val_accuracy: 0.9775\n",
            "156/156 [==============================] - 0s 3ms/step - loss: 0.0687 - accuracy: 0.9775\n",
            "> 97.750\n",
            "Epoch 1/3\n",
            "312/312 [==============================] - 3s 11ms/step - loss: 0.0348 - accuracy: 0.9895 - val_loss: 0.0291 - val_accuracy: 0.9902\n",
            "Epoch 2/3\n",
            "312/312 [==============================] - 3s 11ms/step - loss: 0.0224 - accuracy: 0.9933 - val_loss: 0.0401 - val_accuracy: 0.9875\n",
            "Epoch 3/3\n",
            "312/312 [==============================] - 4s 11ms/step - loss: 0.0141 - accuracy: 0.9959 - val_loss: 0.0381 - val_accuracy: 0.9883\n",
            "156/156 [==============================] - 0s 3ms/step - loss: 0.0381 - accuracy: 0.9883\n",
            "> 98.835\n",
            "Epoch 1/3\n",
            "312/312 [==============================] - 4s 11ms/step - loss: 0.0127 - accuracy: 0.9966 - val_loss: 0.0140 - val_accuracy: 0.9956\n",
            "Epoch 2/3\n",
            "312/312 [==============================] - 3s 11ms/step - loss: 0.0080 - accuracy: 0.9979 - val_loss: 0.0109 - val_accuracy: 0.9966\n",
            "Epoch 3/3\n",
            "312/312 [==============================] - 3s 11ms/step - loss: 0.0060 - accuracy: 0.9984 - val_loss: 0.0182 - val_accuracy: 0.9944\n",
            "156/156 [==============================] - 0s 3ms/step - loss: 0.0182 - accuracy: 0.9944\n",
            "> 99.437\n",
            "Epoch 1/3\n",
            "312/312 [==============================] - 3s 11ms/step - loss: 0.0138 - accuracy: 0.9956 - val_loss: 0.0160 - val_accuracy: 0.9952\n",
            "Epoch 2/3\n",
            "312/312 [==============================] - 3s 11ms/step - loss: 0.0085 - accuracy: 0.9973 - val_loss: 0.0169 - val_accuracy: 0.9954\n",
            "Epoch 3/3\n",
            "312/312 [==============================] - 3s 11ms/step - loss: 0.0048 - accuracy: 0.9988 - val_loss: 0.0074 - val_accuracy: 0.9970\n",
            "156/156 [==============================] - 0s 3ms/step - loss: 0.0074 - accuracy: 0.9970\n",
            "> 99.699\n",
            "Epoch 1/3\n",
            "312/312 [==============================] - 4s 11ms/step - loss: 0.0120 - accuracy: 0.9962 - val_loss: 0.0099 - val_accuracy: 0.9966\n",
            "Epoch 2/3\n",
            "312/312 [==============================] - 4s 11ms/step - loss: 0.0080 - accuracy: 0.9973 - val_loss: 0.0053 - val_accuracy: 0.9986\n",
            "Epoch 3/3\n",
            "312/312 [==============================] - 4s 11ms/step - loss: 0.0038 - accuracy: 0.9989 - val_loss: 0.0167 - val_accuracy: 0.9968\n",
            "156/156 [==============================] - 0s 3ms/step - loss: 0.0167 - accuracy: 0.9968\n",
            "> 99.678\n",
            "Epoch 1/3\n",
            "312/312 [==============================] - 4s 11ms/step - loss: 0.0066 - accuracy: 0.9979 - val_loss: 0.0103 - val_accuracy: 0.9978\n",
            "Epoch 2/3\n",
            "312/312 [==============================] - 3s 11ms/step - loss: 0.0029 - accuracy: 0.9993 - val_loss: 0.0173 - val_accuracy: 0.9954\n",
            "Epoch 3/3\n",
            "312/312 [==============================] - 3s 11ms/step - loss: 0.0034 - accuracy: 0.9991 - val_loss: 0.0036 - val_accuracy: 0.9988\n",
            "156/156 [==============================] - 0s 3ms/step - loss: 0.0036 - accuracy: 0.9988\n",
            "> 99.879\n",
            "Epoch 1/3\n",
            "312/312 [==============================] - 3s 11ms/step - loss: 0.0084 - accuracy: 0.9974 - val_loss: 0.0158 - val_accuracy: 0.9954\n",
            "Epoch 2/3\n",
            "312/312 [==============================] - 3s 11ms/step - loss: 0.0074 - accuracy: 0.9974 - val_loss: 0.0086 - val_accuracy: 0.9976\n",
            "Epoch 3/3\n",
            "312/312 [==============================] - 3s 11ms/step - loss: 0.0041 - accuracy: 0.9988 - val_loss: 0.0044 - val_accuracy: 0.9986\n",
            "156/156 [==============================] - 0s 3ms/step - loss: 0.0044 - accuracy: 0.9986\n",
            "> 99.859\n",
            "Epoch 1/3\n",
            "312/312 [==============================] - 4s 11ms/step - loss: 0.0016 - accuracy: 0.9996 - val_loss: 0.0022 - val_accuracy: 0.9996\n",
            "Epoch 2/3\n",
            "312/312 [==============================] - 3s 11ms/step - loss: 2.9127e-04 - accuracy: 1.0000 - val_loss: 0.0012 - val_accuracy: 0.9998\n",
            "Epoch 3/3\n",
            "312/312 [==============================] - 4s 11ms/step - loss: 1.3006e-04 - accuracy: 1.0000 - val_loss: 5.1379e-04 - val_accuracy: 0.9998\n",
            "156/156 [==============================] - 0s 3ms/step - loss: 5.1379e-04 - accuracy: 0.9998\n",
            "> 99.980\n",
            "Epoch 1/3\n",
            "312/312 [==============================] - 4s 11ms/step - loss: 8.5805e-05 - accuracy: 1.0000 - val_loss: 5.8204e-05 - val_accuracy: 1.0000\n",
            "Epoch 2/3\n",
            "312/312 [==============================] - 4s 11ms/step - loss: 4.8397e-05 - accuracy: 1.0000 - val_loss: 5.2191e-05 - val_accuracy: 1.0000\n",
            "Epoch 3/3\n",
            "312/312 [==============================] - 4s 12ms/step - loss: 3.7326e-05 - accuracy: 1.0000 - val_loss: 4.5531e-05 - val_accuracy: 1.0000\n",
            "156/156 [==============================] - 0s 3ms/step - loss: 4.5531e-05 - accuracy: 1.0000\n",
            "> 100.000\n",
            "Epoch 1/3\n",
            "312/312 [==============================] - 4s 11ms/step - loss: 3.3187e-05 - accuracy: 1.0000 - val_loss: 2.4456e-05 - val_accuracy: 1.0000\n",
            "Epoch 2/3\n",
            "312/312 [==============================] - 3s 11ms/step - loss: 2.7389e-05 - accuracy: 1.0000 - val_loss: 2.3868e-05 - val_accuracy: 1.0000\n",
            "Epoch 3/3\n",
            "312/312 [==============================] - 4s 11ms/step - loss: 2.2942e-05 - accuracy: 1.0000 - val_loss: 2.2292e-05 - val_accuracy: 1.0000\n",
            "156/156 [==============================] - 0s 3ms/step - loss: 2.2292e-05 - accuracy: 1.0000\n",
            "> 100.000\n"
          ]
        },
        {
          "output_type": "stream",
          "name": "stderr",
          "text": [
            "/usr/local/lib/python3.7/dist-packages/ipykernel_launcher.py:5: MatplotlibDeprecationWarning: Adding an axes using the same arguments as a previous axes currently reuses the earlier instance.  In a future version, a new instance will always be created and returned.  Meanwhile, this warning can be suppressed, and the future behavior ensured, by passing a unique label to each axes instance.\n",
            "  \"\"\"\n",
            "/usr/local/lib/python3.7/dist-packages/ipykernel_launcher.py:10: MatplotlibDeprecationWarning: Adding an axes using the same arguments as a previous axes currently reuses the earlier instance.  In a future version, a new instance will always be created and returned.  Meanwhile, this warning can be suppressed, and the future behavior ensured, by passing a unique label to each axes instance.\n",
            "  # Remove the CWD from sys.path while we load stuff.\n"
          ]
        },
        {
          "output_type": "display_data",
          "data": {
            "text/plain": [
              "<Figure size 432x288 with 2 Axes>"
            ],
            "image/png": "[encoded data removed]"
          },
          "metadata": {
            "needs_background": "light"
          }
        },
        {
          "output_type": "stream",
          "name": "stdout",
          "text": [
            "Accuracy: mean=99.512 std=0.677, n=10\n"
          ]
        },
        {
          "output_type": "display_data",
          "data": {
            "text/plain": [
              "<Figure size 432x288 with 1 Axes>"
            ],
            "image/png": "[encoded data removed]"
          },
          "metadata": {
            "needs_background": "light"
          }
        },
        {
          "output_type": "stream",
          "name": "stdout",
          "text": [
            "['final_model_loaded_weights on mix data with LR=0.0008 & epoch=3', 100.0, 99.722, 98.42]\n"
          ]
        }
      ]
    },
    {
      "cell_type": "code",
      "source": [
        "model = tf.keras.models.load_model(\"final_model_loaded_weights\")\n",
        "from keras import backend as K\n",
        "K.set_value(model.optimizer.learning_rate, 0.0009)\n",
        "scores, histories, model = evaluate_model(model, train_mixX_b3, train_mixy_b3,10,2,144)\n",
        "\n",
        "\n",
        "\n",
        "# learning curves\n",
        "summarize_diagnostics(histories)\n",
        "# summarize estimated performance\n",
        "summarize_performance(scores)\n",
        "desc = \"final_model_loaded_weights on mix data with LR=0.0009 & epoch=2\"\n",
        "results.append([desc,round(model.evaluate(train_per_x, train_per_y, verbose=0)[1]*100,3),round(model.evaluate(trainX, trainy, verbose=0)[1]*100,3),round(model.evaluate(testX, testy, verbose=0)[1]*100,3)])\n",
        "print (results[len(results)-1])"
      ],
      "metadata": {
        "colab": {
          "base_uri": "https://localhost:8080/",
          "height": 1000
        },
        "id": "PGs1GaM_Ywog",
        "outputId": "aca361cc-ed66-480c-aba3-f1b8552abe05"
      },
      "execution_count": 36,
      "outputs": [
        {
          "output_type": "stream",
          "name": "stdout",
          "text": [
            "Epoch 1/2\n",
            "312/312 [==============================] - 4s 12ms/step - loss: 0.2869 - accuracy: 0.9259 - val_loss: 0.1079 - val_accuracy: 0.9632\n",
            "Epoch 2/2\n",
            "312/312 [==============================] - 3s 11ms/step - loss: 0.0735 - accuracy: 0.9763 - val_loss: 0.0790 - val_accuracy: 0.9739\n",
            "156/156 [==============================] - 0s 3ms/step - loss: 0.0790 - accuracy: 0.9739\n",
            "> 97.388\n",
            "Epoch 1/2\n",
            "312/312 [==============================] - 4s 11ms/step - loss: 0.0484 - accuracy: 0.9848 - val_loss: 0.0488 - val_accuracy: 0.9841\n",
            "Epoch 2/2\n",
            "312/312 [==============================] - 4s 11ms/step - loss: 0.0300 - accuracy: 0.9915 - val_loss: 0.0539 - val_accuracy: 0.9817\n",
            "156/156 [==============================] - 0s 3ms/step - loss: 0.0539 - accuracy: 0.9817\n",
            "> 98.172\n",
            "Epoch 1/2\n",
            "312/312 [==============================] - 3s 11ms/step - loss: 0.0245 - accuracy: 0.9926 - val_loss: 0.0226 - val_accuracy: 0.9938\n",
            "Epoch 2/2\n",
            "312/312 [==============================] - 3s 11ms/step - loss: 0.0138 - accuracy: 0.9961 - val_loss: 0.0189 - val_accuracy: 0.9932\n",
            "156/156 [==============================] - 0s 3ms/step - loss: 0.0189 - accuracy: 0.9932\n",
            "> 99.317\n",
            "Epoch 1/2\n",
            "312/312 [==============================] - 3s 11ms/step - loss: 0.0127 - accuracy: 0.9962 - val_loss: 0.0150 - val_accuracy: 0.9952\n",
            "Epoch 2/2\n",
            "312/312 [==============================] - 3s 11ms/step - loss: 0.0087 - accuracy: 0.9972 - val_loss: 0.0122 - val_accuracy: 0.9954\n",
            "156/156 [==============================] - 0s 3ms/step - loss: 0.0122 - accuracy: 0.9954\n",
            "> 99.538\n",
            "Epoch 1/2\n",
            "312/312 [==============================] - 3s 11ms/step - loss: 0.0082 - accuracy: 0.9975 - val_loss: 0.0084 - val_accuracy: 0.9972\n",
            "Epoch 2/2\n",
            "312/312 [==============================] - 3s 11ms/step - loss: 0.0087 - accuracy: 0.9974 - val_loss: 0.0148 - val_accuracy: 0.9956\n",
            "156/156 [==============================] - 0s 3ms/step - loss: 0.0148 - accuracy: 0.9956\n",
            "> 99.558\n",
            "Epoch 1/2\n",
            "312/312 [==============================] - 4s 11ms/step - loss: 0.0167 - accuracy: 0.9946 - val_loss: 0.0115 - val_accuracy: 0.9958\n",
            "Epoch 2/2\n",
            "312/312 [==============================] - 3s 11ms/step - loss: 0.0088 - accuracy: 0.9972 - val_loss: 0.0139 - val_accuracy: 0.9954\n",
            "156/156 [==============================] - 0s 3ms/step - loss: 0.0139 - accuracy: 0.9954\n",
            "> 99.538\n",
            "Epoch 1/2\n",
            "312/312 [==============================] - 4s 12ms/step - loss: 0.0061 - accuracy: 0.9981 - val_loss: 0.0047 - val_accuracy: 0.9988\n",
            "Epoch 2/2\n",
            "312/312 [==============================] - 4s 11ms/step - loss: 0.0017 - accuracy: 0.9996 - val_loss: 0.0042 - val_accuracy: 0.9986\n",
            "156/156 [==============================] - 0s 3ms/step - loss: 0.0042 - accuracy: 0.9986\n",
            "> 99.859\n",
            "Epoch 1/2\n",
            "312/312 [==============================] - 4s 12ms/step - loss: 0.0018 - accuracy: 0.9995 - val_loss: 0.0057 - val_accuracy: 0.9980\n",
            "Epoch 2/2\n",
            "312/312 [==============================] - 3s 11ms/step - loss: 0.0155 - accuracy: 0.9952 - val_loss: 0.0147 - val_accuracy: 0.9960\n",
            "156/156 [==============================] - 0s 3ms/step - loss: 0.0147 - accuracy: 0.9960\n",
            "> 99.598\n",
            "Epoch 1/2\n",
            "312/312 [==============================] - 4s 11ms/step - loss: 0.0230 - accuracy: 0.9933 - val_loss: 0.0127 - val_accuracy: 0.9954\n",
            "Epoch 2/2\n",
            "312/312 [==============================] - 4s 11ms/step - loss: 0.0043 - accuracy: 0.9985 - val_loss: 0.0045 - val_accuracy: 0.9988\n",
            "156/156 [==============================] - 0s 3ms/step - loss: 0.0045 - accuracy: 0.9988\n",
            "> 99.879\n",
            "Epoch 1/2\n",
            "312/312 [==============================] - 4s 11ms/step - loss: 0.0025 - accuracy: 0.9992 - val_loss: 0.0035 - val_accuracy: 0.9988\n",
            "Epoch 2/2\n",
            "312/312 [==============================] - 3s 11ms/step - loss: 0.0015 - accuracy: 0.9996 - val_loss: 0.0015 - val_accuracy: 0.9994\n",
            "156/156 [==============================] - 0s 2ms/step - loss: 0.0015 - accuracy: 0.9994\n",
            "> 99.940\n"
          ]
        },
        {
          "output_type": "stream",
          "name": "stderr",
          "text": [
            "/usr/local/lib/python3.7/dist-packages/ipykernel_launcher.py:5: MatplotlibDeprecationWarning: Adding an axes using the same arguments as a previous axes currently reuses the earlier instance.  In a future version, a new instance will always be created and returned.  Meanwhile, this warning can be suppressed, and the future behavior ensured, by passing a unique label to each axes instance.\n",
            "  \"\"\"\n",
            "/usr/local/lib/python3.7/dist-packages/ipykernel_launcher.py:10: MatplotlibDeprecationWarning: Adding an axes using the same arguments as a previous axes currently reuses the earlier instance.  In a future version, a new instance will always be created and returned.  Meanwhile, this warning can be suppressed, and the future behavior ensured, by passing a unique label to each axes instance.\n",
            "  # Remove the CWD from sys.path while we load stuff.\n"
          ]
        },
        {
          "output_type": "display_data",
          "data": {
            "text/plain": [
              "<Figure size 432x288 with 2 Axes>"
            ],
            "image/png": "[encoded data removed]"
          },
          "metadata": {
            "needs_background": "light"
          }
        },
        {
          "output_type": "stream",
          "name": "stdout",
          "text": [
            "Accuracy: mean=99.279 std=0.791, n=10\n"
          ]
        },
        {
          "output_type": "display_data",
          "data": {
            "text/plain": [
              "<Figure size 432x288 with 1 Axes>"
            ],
            "image/png": "[encoded data removed]"
          },
          "metadata": {
            "needs_background": "light"
          }
        },
        {
          "output_type": "stream",
          "name": "stdout",
          "text": [
            "['final_model_loaded_weights on mix data with LR=0.0009 & epoch=2', 100.0, 99.7, 98.34]\n"
          ]
        }
      ]
    },
    {
      "cell_type": "code",
      "source": [
        "model = tf.keras.models.load_model(\"final_model_loaded_weights\")\n",
        "from keras import backend as K\n",
        "K.set_value(model.optimizer.learning_rate, 0.0009)\n",
        "scores, histories, model = evaluate_model(model, train_mixX_b3, train_mixy_b3,10,3,144)\n",
        "\n",
        "\n",
        "\n",
        "# learning curves\n",
        "summarize_diagnostics(histories)\n",
        "# summarize estimated performance\n",
        "summarize_performance(scores)\n",
        "desc = \"final_model_loaded_weights on mix data with LR=0.0009 & epoch=3\"\n",
        "results.append([desc,round(model.evaluate(train_per_x, train_per_y, verbose=0)[1]*100,3),round(model.evaluate(trainX, trainy, verbose=0)[1]*100,3),round(model.evaluate(testX, testy, verbose=0)[1]*100,3)])\n",
        "print (results[len(results)-1])"
      ],
      "metadata": {
        "colab": {
          "base_uri": "https://localhost:8080/",
          "height": 1000
        },
        "id": "Pl2L-ozHo-_9",
        "outputId": "2c9bc46b-6326-4d56-e16d-7807a63653c8"
      },
      "execution_count": 37,
      "outputs": [
        {
          "output_type": "stream",
          "name": "stdout",
          "text": [
            "Epoch 1/3\n",
            "312/312 [==============================] - 4s 12ms/step - loss: 0.2869 - accuracy: 0.9259 - val_loss: 0.1079 - val_accuracy: 0.9632\n",
            "Epoch 2/3\n",
            "312/312 [==============================] - 3s 11ms/step - loss: 0.0735 - accuracy: 0.9763 - val_loss: 0.0790 - val_accuracy: 0.9739\n",
            "Epoch 3/3\n",
            "312/312 [==============================] - 3s 11ms/step - loss: 0.0441 - accuracy: 0.9864 - val_loss: 0.0694 - val_accuracy: 0.9777\n",
            "156/156 [==============================] - 0s 3ms/step - loss: 0.0694 - accuracy: 0.9777\n",
            "> 97.770\n",
            "Epoch 1/3\n",
            "312/312 [==============================] - 4s 11ms/step - loss: 0.0337 - accuracy: 0.9899 - val_loss: 0.0349 - val_accuracy: 0.9881\n",
            "Epoch 2/3\n",
            "312/312 [==============================] - 4s 11ms/step - loss: 0.0213 - accuracy: 0.9940 - val_loss: 0.0402 - val_accuracy: 0.9859\n",
            "Epoch 3/3\n",
            "312/312 [==============================] - 3s 11ms/step - loss: 0.0133 - accuracy: 0.9958 - val_loss: 0.0352 - val_accuracy: 0.9900\n",
            "156/156 [==============================] - 0s 3ms/step - loss: 0.0352 - accuracy: 0.9900\n",
            "> 98.995\n",
            "Epoch 1/3\n",
            "312/312 [==============================] - 4s 11ms/step - loss: 0.0147 - accuracy: 0.9952 - val_loss: 0.0188 - val_accuracy: 0.9928\n",
            "Epoch 2/3\n",
            "312/312 [==============================] - 4s 11ms/step - loss: 0.0095 - accuracy: 0.9972 - val_loss: 0.0190 - val_accuracy: 0.9944\n",
            "Epoch 3/3\n",
            "312/312 [==============================] - 3s 11ms/step - loss: 0.0078 - accuracy: 0.9980 - val_loss: 0.0246 - val_accuracy: 0.9914\n",
            "156/156 [==============================] - 0s 3ms/step - loss: 0.0246 - accuracy: 0.9914\n",
            "> 99.136\n",
            "Epoch 1/3\n",
            "312/312 [==============================] - 4s 11ms/step - loss: 0.0097 - accuracy: 0.9970 - val_loss: 0.0134 - val_accuracy: 0.9952\n",
            "Epoch 2/3\n",
            "312/312 [==============================] - 4s 11ms/step - loss: 0.0110 - accuracy: 0.9963 - val_loss: 0.0205 - val_accuracy: 0.9936\n",
            "Epoch 3/3\n",
            "312/312 [==============================] - 3s 11ms/step - loss: 0.0102 - accuracy: 0.9968 - val_loss: 0.0175 - val_accuracy: 0.9944\n",
            "156/156 [==============================] - 0s 3ms/step - loss: 0.0175 - accuracy: 0.9944\n",
            "> 99.437\n",
            "Epoch 1/3\n",
            "312/312 [==============================] - 4s 11ms/step - loss: 0.0105 - accuracy: 0.9966 - val_loss: 0.0120 - val_accuracy: 0.9964\n",
            "Epoch 2/3\n",
            "312/312 [==============================] - 4s 11ms/step - loss: 0.0068 - accuracy: 0.9977 - val_loss: 0.0059 - val_accuracy: 0.9978\n",
            "Epoch 3/3\n",
            "312/312 [==============================] - 4s 11ms/step - loss: 0.0052 - accuracy: 0.9983 - val_loss: 0.0082 - val_accuracy: 0.9970\n",
            "156/156 [==============================] - 0s 3ms/step - loss: 0.0082 - accuracy: 0.9970\n",
            "> 99.699\n",
            "Epoch 1/3\n",
            "312/312 [==============================] - 3s 11ms/step - loss: 0.0083 - accuracy: 0.9975 - val_loss: 0.0057 - val_accuracy: 0.9986\n",
            "Epoch 2/3\n",
            "312/312 [==============================] - 3s 11ms/step - loss: 0.0042 - accuracy: 0.9987 - val_loss: 0.0064 - val_accuracy: 0.9980\n",
            "Epoch 3/3\n",
            "312/312 [==============================] - 4s 11ms/step - loss: 0.0052 - accuracy: 0.9985 - val_loss: 0.0051 - val_accuracy: 0.9980\n",
            "156/156 [==============================] - 0s 3ms/step - loss: 0.0051 - accuracy: 0.9980\n",
            "> 99.799\n",
            "Epoch 1/3\n",
            "312/312 [==============================] - 3s 11ms/step - loss: 0.0065 - accuracy: 0.9981 - val_loss: 0.0081 - val_accuracy: 0.9972\n",
            "Epoch 2/3\n",
            "312/312 [==============================] - 3s 11ms/step - loss: 0.0103 - accuracy: 0.9966 - val_loss: 0.0082 - val_accuracy: 0.9978\n",
            "Epoch 3/3\n",
            "312/312 [==============================] - 3s 11ms/step - loss: 0.0040 - accuracy: 0.9989 - val_loss: 0.0037 - val_accuracy: 0.9988\n",
            "156/156 [==============================] - 0s 3ms/step - loss: 0.0037 - accuracy: 0.9988\n",
            "> 99.879\n",
            "Epoch 1/3\n",
            "312/312 [==============================] - 4s 11ms/step - loss: 0.0020 - accuracy: 0.9994 - val_loss: 0.0015 - val_accuracy: 0.9994\n",
            "Epoch 2/3\n",
            "312/312 [==============================] - 4s 11ms/step - loss: 8.4640e-04 - accuracy: 0.9999 - val_loss: 3.9563e-04 - val_accuracy: 1.0000\n",
            "Epoch 3/3\n",
            "312/312 [==============================] - 3s 11ms/step - loss: 8.9491e-05 - accuracy: 1.0000 - val_loss: 2.1054e-04 - val_accuracy: 1.0000\n",
            "156/156 [==============================] - 0s 3ms/step - loss: 2.1054e-04 - accuracy: 1.0000\n",
            "> 100.000\n",
            "Epoch 1/3\n",
            "312/312 [==============================] - 4s 11ms/step - loss: 6.5357e-05 - accuracy: 1.0000 - val_loss: 1.5706e-04 - val_accuracy: 1.0000\n",
            "Epoch 2/3\n",
            "312/312 [==============================] - 4s 11ms/step - loss: 5.6195e-05 - accuracy: 1.0000 - val_loss: 4.4964e-05 - val_accuracy: 1.0000\n",
            "Epoch 3/3\n",
            "312/312 [==============================] - 4s 11ms/step - loss: 3.2527e-05 - accuracy: 1.0000 - val_loss: 3.9728e-05 - val_accuracy: 1.0000\n",
            "156/156 [==============================] - 0s 3ms/step - loss: 3.9728e-05 - accuracy: 1.0000\n",
            "> 100.000\n",
            "Epoch 1/3\n",
            "312/312 [==============================] - 4s 11ms/step - loss: 2.8584e-05 - accuracy: 1.0000 - val_loss: 1.8547e-05 - val_accuracy: 1.0000\n",
            "Epoch 2/3\n",
            "312/312 [==============================] - 3s 11ms/step - loss: 2.3404e-05 - accuracy: 1.0000 - val_loss: 1.7455e-05 - val_accuracy: 1.0000\n",
            "Epoch 3/3\n",
            "312/312 [==============================] - 4s 11ms/step - loss: 1.9701e-05 - accuracy: 1.0000 - val_loss: 1.6009e-05 - val_accuracy: 1.0000\n",
            "156/156 [==============================] - 0s 3ms/step - loss: 1.6009e-05 - accuracy: 1.0000\n",
            "> 100.000\n"
          ]
        },
        {
          "output_type": "stream",
          "name": "stderr",
          "text": [
            "/usr/local/lib/python3.7/dist-packages/ipykernel_launcher.py:5: MatplotlibDeprecationWarning: Adding an axes using the same arguments as a previous axes currently reuses the earlier instance.  In a future version, a new instance will always be created and returned.  Meanwhile, this warning can be suppressed, and the future behavior ensured, by passing a unique label to each axes instance.\n",
            "  \"\"\"\n",
            "/usr/local/lib/python3.7/dist-packages/ipykernel_launcher.py:10: MatplotlibDeprecationWarning: Adding an axes using the same arguments as a previous axes currently reuses the earlier instance.  In a future version, a new instance will always be created and returned.  Meanwhile, this warning can be suppressed, and the future behavior ensured, by passing a unique label to each axes instance.\n",
            "  # Remove the CWD from sys.path while we load stuff.\n"
          ]
        },
        {
          "output_type": "display_data",
          "data": {
            "text/plain": [
              "<Figure size 432x288 with 2 Axes>"
            ],
            "image/png": "[encoded data removed]"
          },
          "metadata": {
            "needs_background": "light"
          }
        },
        {
          "output_type": "stream",
          "name": "stdout",
          "text": [
            "Accuracy: mean=99.472 std=0.663, n=10\n"
          ]
        },
        {
          "output_type": "display_data",
          "data": {
            "text/plain": [
              "<Figure size 432x288 with 1 Axes>"
            ],
            "image/png": "[encoded data removed]"
          },
          "metadata": {
            "needs_background": "light"
          }
        },
        {
          "output_type": "stream",
          "name": "stdout",
          "text": [
            "['final_model_loaded_weights on mix data with LR=0.0009 & epoch=3', 100.0, 99.745, 98.35]\n"
          ]
        }
      ]
    },
    {
      "cell_type": "code",
      "source": [
        "model = tf.keras.models.load_model(\"final_model_loaded_weights\")\n",
        "from keras import backend as K\n",
        "K.set_value(model.optimizer.learning_rate, 0.0009)\n",
        "scores, histories, model = evaluate_model(model, train_mixX_b3, train_mixy_b3,10,5,144)\n",
        "\n",
        "\n",
        "\n",
        "# learning curves\n",
        "summarize_diagnostics(histories)\n",
        "# summarize estimated performance\n",
        "summarize_performance(scores)\n",
        "desc = \"final_model_loaded_weights on mix data with LR=0.0009 & epoch=5\"\n",
        "results.append([desc,round(model.evaluate(train_per_x, train_per_y, verbose=0)[1]*100,3),round(model.evaluate(trainX, trainy, verbose=0)[1]*100,3),round(model.evaluate(testX, testy, verbose=0)[1]*100,3)])\n",
        "print (results[len(results)-1])"
      ],
      "metadata": {
        "colab": {
          "base_uri": "https://localhost:8080/",
          "height": 1000
        },
        "id": "wLptleH1pAB4",
        "outputId": "091a4fb3-d25a-49f5-8777-c3045680aef7"
      },
      "execution_count": 38,
      "outputs": [
        {
          "output_type": "stream",
          "name": "stdout",
          "text": [
            "Epoch 1/5\n",
            "312/312 [==============================] - 4s 12ms/step - loss: 0.2869 - accuracy: 0.9259 - val_loss: 0.1079 - val_accuracy: 0.9632\n",
            "Epoch 2/5\n",
            "312/312 [==============================] - 3s 11ms/step - loss: 0.0735 - accuracy: 0.9763 - val_loss: 0.0790 - val_accuracy: 0.9739\n",
            "Epoch 3/5\n",
            "312/312 [==============================] - 4s 11ms/step - loss: 0.0441 - accuracy: 0.9864 - val_loss: 0.0694 - val_accuracy: 0.9777\n",
            "Epoch 4/5\n",
            "312/312 [==============================] - 3s 11ms/step - loss: 0.0283 - accuracy: 0.9916 - val_loss: 0.0746 - val_accuracy: 0.9753\n",
            "Epoch 5/5\n",
            "312/312 [==============================] - 3s 11ms/step - loss: 0.0186 - accuracy: 0.9943 - val_loss: 0.0746 - val_accuracy: 0.9791\n",
            "156/156 [==============================] - 0s 3ms/step - loss: 0.0746 - accuracy: 0.9791\n",
            "> 97.910\n",
            "Epoch 1/5\n",
            "312/312 [==============================] - 4s 11ms/step - loss: 0.0244 - accuracy: 0.9928 - val_loss: 0.0164 - val_accuracy: 0.9946\n",
            "Epoch 2/5\n",
            "312/312 [==============================] - 3s 11ms/step - loss: 0.0133 - accuracy: 0.9961 - val_loss: 0.0210 - val_accuracy: 0.9936\n",
            "Epoch 3/5\n",
            "312/312 [==============================] - 3s 11ms/step - loss: 0.0090 - accuracy: 0.9974 - val_loss: 0.0216 - val_accuracy: 0.9932\n",
            "Epoch 4/5\n",
            "312/312 [==============================] - 3s 11ms/step - loss: 0.0054 - accuracy: 0.9986 - val_loss: 0.0177 - val_accuracy: 0.9944\n",
            "Epoch 5/5\n",
            "312/312 [==============================] - 3s 11ms/step - loss: 0.0024 - accuracy: 0.9996 - val_loss: 0.0155 - val_accuracy: 0.9948\n",
            "156/156 [==============================] - 0s 3ms/step - loss: 0.0155 - accuracy: 0.9948\n",
            "> 99.478\n",
            "Epoch 1/5\n",
            "312/312 [==============================] - 4s 11ms/step - loss: 0.0191 - accuracy: 0.9938 - val_loss: 0.0306 - val_accuracy: 0.9904\n",
            "Epoch 2/5\n",
            "312/312 [==============================] - 4s 11ms/step - loss: 0.0107 - accuracy: 0.9965 - val_loss: 0.0091 - val_accuracy: 0.9970\n",
            "Epoch 3/5\n",
            "312/312 [==============================] - 4s 11ms/step - loss: 0.0043 - accuracy: 0.9988 - val_loss: 0.0135 - val_accuracy: 0.9944\n",
            "Epoch 4/5\n",
            "312/312 [==============================] - 4s 11ms/step - loss: 0.0028 - accuracy: 0.9992 - val_loss: 0.0092 - val_accuracy: 0.9970\n",
            "Epoch 5/5\n",
            "312/312 [==============================] - 4s 12ms/step - loss: 0.0042 - accuracy: 0.9988 - val_loss: 0.0279 - val_accuracy: 0.9926\n",
            "156/156 [==============================] - 0s 3ms/step - loss: 0.0279 - accuracy: 0.9926\n",
            "> 99.257\n",
            "Epoch 1/5\n",
            "312/312 [==============================] - 4s 11ms/step - loss: 0.0198 - accuracy: 0.9932 - val_loss: 0.0061 - val_accuracy: 0.9982\n",
            "Epoch 2/5\n",
            "312/312 [==============================] - 3s 11ms/step - loss: 0.0069 - accuracy: 0.9977 - val_loss: 0.0080 - val_accuracy: 0.9966\n",
            "Epoch 3/5\n",
            "312/312 [==============================] - 4s 11ms/step - loss: 0.0059 - accuracy: 0.9981 - val_loss: 0.0048 - val_accuracy: 0.9984\n",
            "Epoch 4/5\n",
            "312/312 [==============================] - 4s 11ms/step - loss: 0.0020 - accuracy: 0.9993 - val_loss: 0.0034 - val_accuracy: 0.9988\n",
            "Epoch 5/5\n",
            "312/312 [==============================] - 4s 11ms/step - loss: 0.0050 - accuracy: 0.9985 - val_loss: 0.0113 - val_accuracy: 0.9958\n",
            "156/156 [==============================] - 0s 2ms/step - loss: 0.0113 - accuracy: 0.9958\n",
            "> 99.578\n",
            "Epoch 1/5\n",
            "312/312 [==============================] - 3s 11ms/step - loss: 0.0101 - accuracy: 0.9965 - val_loss: 0.0063 - val_accuracy: 0.9978\n",
            "Epoch 2/5\n",
            "312/312 [==============================] - 3s 11ms/step - loss: 0.0117 - accuracy: 0.9962 - val_loss: 0.0055 - val_accuracy: 0.9980\n",
            "Epoch 3/5\n",
            "312/312 [==============================] - 4s 11ms/step - loss: 0.0033 - accuracy: 0.9988 - val_loss: 0.0040 - val_accuracy: 0.9984\n",
            "Epoch 4/5\n",
            "312/312 [==============================] - 4s 11ms/step - loss: 0.0023 - accuracy: 0.9994 - val_loss: 9.0937e-04 - val_accuracy: 0.9998\n",
            "Epoch 5/5\n",
            "312/312 [==============================] - 3s 11ms/step - loss: 3.1589e-04 - accuracy: 0.9999 - val_loss: 6.4093e-04 - val_accuracy: 0.9998\n",
            "156/156 [==============================] - 0s 3ms/step - loss: 6.4093e-04 - accuracy: 0.9998\n",
            "> 99.980\n",
            "Epoch 1/5\n",
            "312/312 [==============================] - 4s 12ms/step - loss: 1.3062e-04 - accuracy: 1.0000 - val_loss: 1.7398e-04 - val_accuracy: 1.0000\n",
            "Epoch 2/5\n",
            "312/312 [==============================] - 3s 11ms/step - loss: 6.6809e-05 - accuracy: 1.0000 - val_loss: 6.2547e-05 - val_accuracy: 1.0000\n",
            "Epoch 3/5\n",
            "312/312 [==============================] - 4s 11ms/step - loss: 4.3251e-05 - accuracy: 1.0000 - val_loss: 5.4624e-05 - val_accuracy: 1.0000\n",
            "Epoch 4/5\n",
            "312/312 [==============================] - 4s 11ms/step - loss: 3.4704e-05 - accuracy: 1.0000 - val_loss: 4.8608e-05 - val_accuracy: 1.0000\n",
            "Epoch 5/5\n",
            "312/312 [==============================] - 4s 11ms/step - loss: 2.8736e-05 - accuracy: 1.0000 - val_loss: 4.6269e-05 - val_accuracy: 1.0000\n",
            "156/156 [==============================] - 0s 3ms/step - loss: 4.6269e-05 - accuracy: 1.0000\n",
            "> 100.000\n",
            "Epoch 1/5\n",
            "312/312 [==============================] - 4s 11ms/step - loss: 2.6671e-05 - accuracy: 1.0000 - val_loss: 1.9548e-05 - val_accuracy: 1.0000\n",
            "Epoch 2/5\n",
            "312/312 [==============================] - 3s 11ms/step - loss: 2.2155e-05 - accuracy: 1.0000 - val_loss: 1.8875e-05 - val_accuracy: 1.0000\n",
            "Epoch 3/5\n",
            "312/312 [==============================] - 3s 11ms/step - loss: 1.7877e-05 - accuracy: 1.0000 - val_loss: 1.8326e-05 - val_accuracy: 1.0000\n",
            "Epoch 4/5\n",
            "312/312 [==============================] - 4s 11ms/step - loss: 1.5181e-05 - accuracy: 1.0000 - val_loss: 1.7614e-05 - val_accuracy: 1.0000\n",
            "Epoch 5/5\n",
            "312/312 [==============================] - 4s 11ms/step - loss: 1.2864e-05 - accuracy: 1.0000 - val_loss: 1.7452e-05 - val_accuracy: 1.0000\n",
            "156/156 [==============================] - 0s 3ms/step - loss: 1.7452e-05 - accuracy: 1.0000\n",
            "> 100.000\n",
            "Epoch 1/5\n",
            "312/312 [==============================] - 4s 11ms/step - loss: 1.1877e-05 - accuracy: 1.0000 - val_loss: 9.5216e-06 - val_accuracy: 1.0000\n",
            "Epoch 2/5\n",
            "312/312 [==============================] - 4s 11ms/step - loss: 9.7828e-06 - accuracy: 1.0000 - val_loss: 9.1812e-06 - val_accuracy: 1.0000\n",
            "Epoch 3/5\n",
            "312/312 [==============================] - 4s 11ms/step - loss: 8.3319e-06 - accuracy: 1.0000 - val_loss: 8.7232e-06 - val_accuracy: 1.0000\n",
            "Epoch 4/5\n",
            "312/312 [==============================] - 4s 11ms/step - loss: 7.0523e-06 - accuracy: 1.0000 - val_loss: 8.6606e-06 - val_accuracy: 1.0000\n",
            "Epoch 5/5\n",
            "312/312 [==============================] - 4s 12ms/step - loss: 6.0912e-06 - accuracy: 1.0000 - val_loss: 8.2534e-06 - val_accuracy: 1.0000\n",
            "156/156 [==============================] - 0s 3ms/step - loss: 8.2534e-06 - accuracy: 1.0000\n",
            "> 100.000\n",
            "Epoch 1/5\n",
            "312/312 [==============================] - 4s 11ms/step - loss: 5.6549e-06 - accuracy: 1.0000 - val_loss: 4.2102e-06 - val_accuracy: 1.0000\n",
            "Epoch 2/5\n",
            "312/312 [==============================] - 4s 11ms/step - loss: 4.6719e-06 - accuracy: 1.0000 - val_loss: 4.1682e-06 - val_accuracy: 1.0000\n",
            "Epoch 3/5\n",
            "312/312 [==============================] - 4s 11ms/step - loss: 3.9775e-06 - accuracy: 1.0000 - val_loss: 3.8078e-06 - val_accuracy: 1.0000\n",
            "Epoch 4/5\n",
            "312/312 [==============================] - 4s 11ms/step - loss: 3.4245e-06 - accuracy: 1.0000 - val_loss: 3.5980e-06 - val_accuracy: 1.0000\n",
            "Epoch 5/5\n",
            "312/312 [==============================] - 4s 11ms/step - loss: 2.9396e-06 - accuracy: 1.0000 - val_loss: 3.4816e-06 - val_accuracy: 1.0000\n",
            "156/156 [==============================] - 0s 3ms/step - loss: 3.4816e-06 - accuracy: 1.0000\n",
            "> 100.000\n",
            "Epoch 1/5\n",
            "312/312 [==============================] - 4s 12ms/step - loss: 2.6466e-06 - accuracy: 1.0000 - val_loss: 1.9768e-06 - val_accuracy: 1.0000\n",
            "Epoch 2/5\n",
            "312/312 [==============================] - 3s 11ms/step - loss: 2.2219e-06 - accuracy: 1.0000 - val_loss: 1.9409e-06 - val_accuracy: 1.0000\n",
            "Epoch 3/5\n",
            "312/312 [==============================] - 3s 11ms/step - loss: 1.8808e-06 - accuracy: 1.0000 - val_loss: 1.8019e-06 - val_accuracy: 1.0000\n",
            "Epoch 4/5\n",
            "312/312 [==============================] - 3s 11ms/step - loss: 1.6197e-06 - accuracy: 1.0000 - val_loss: 1.8229e-06 - val_accuracy: 1.0000\n",
            "Epoch 5/5\n",
            "312/312 [==============================] - 3s 11ms/step - loss: 1.3775e-06 - accuracy: 1.0000 - val_loss: 1.7571e-06 - val_accuracy: 1.0000\n",
            "156/156 [==============================] - 0s 3ms/step - loss: 1.7571e-06 - accuracy: 1.0000\n",
            "> 100.000\n"
          ]
        },
        {
          "output_type": "stream",
          "name": "stderr",
          "text": [
            "/usr/local/lib/python3.7/dist-packages/ipykernel_launcher.py:5: MatplotlibDeprecationWarning: Adding an axes using the same arguments as a previous axes currently reuses the earlier instance.  In a future version, a new instance will always be created and returned.  Meanwhile, this warning can be suppressed, and the future behavior ensured, by passing a unique label to each axes instance.\n",
            "  \"\"\"\n",
            "/usr/local/lib/python3.7/dist-packages/ipykernel_launcher.py:10: MatplotlibDeprecationWarning: Adding an axes using the same arguments as a previous axes currently reuses the earlier instance.  In a future version, a new instance will always be created and returned.  Meanwhile, this warning can be suppressed, and the future behavior ensured, by passing a unique label to each axes instance.\n",
            "  # Remove the CWD from sys.path while we load stuff.\n"
          ]
        },
        {
          "output_type": "display_data",
          "data": {
            "text/plain": [
              "<Figure size 432x288 with 2 Axes>"
            ],
            "image/png": "[encoded data removed]"
          },
          "metadata": {
            "needs_background": "light"
          }
        },
        {
          "output_type": "stream",
          "name": "stdout",
          "text": [
            "Accuracy: mean=99.620 std=0.627, n=10\n"
          ]
        },
        {
          "output_type": "display_data",
          "data": {
            "text/plain": [
              "<Figure size 432x288 with 1 Axes>"
            ],
            "image/png": "[encoded data removed]"
          },
          "metadata": {
            "needs_background": "light"
          }
        },
        {
          "output_type": "stream",
          "name": "stdout",
          "text": [
            "['final_model_loaded_weights on mix data with LR=0.0009 & epoch=5', 100.0, 99.747, 98.52]\n"
          ]
        }
      ]
    },
    {
      "cell_type": "code",
      "source": [
        "model = tf.keras.models.load_model(\"final_model_loaded_weights\")\n",
        "from keras import backend as K\n",
        "K.set_value(model.optimizer.learning_rate, 0.0009)\n",
        "scores, histories, model = evaluate_model(model, train_mixX_b3, train_mixy_b3,10,7,144)\n",
        "\n",
        "\n",
        "\n",
        "# learning curves\n",
        "summarize_diagnostics(histories)\n",
        "# summarize estimated performance\n",
        "summarize_performance(scores)\n",
        "desc = \"final_model_loaded_weights on mix data with LR=0.0009 & epoch=7\"\n",
        "results.append([desc,round(model.evaluate(train_per_x, train_per_y, verbose=0)[1]*100,3),round(model.evaluate(trainX, trainy, verbose=0)[1]*100,3),round(model.evaluate(testX, testy, verbose=0)[1]*100,3)])\n",
        "print (results[len(results)-1])"
      ],
      "metadata": {
        "colab": {
          "base_uri": "https://localhost:8080/",
          "height": 1000
        },
        "id": "TekZxCcimpoy",
        "outputId": "584ff5aa-2a57-4afb-f101-d61fda71e8c8"
      },
      "execution_count": 39,
      "outputs": [
        {
          "output_type": "stream",
          "name": "stdout",
          "text": [
            "Epoch 1/7\n",
            "312/312 [==============================] - 4s 12ms/step - loss: 0.2869 - accuracy: 0.9259 - val_loss: 0.1079 - val_accuracy: 0.9632\n",
            "Epoch 2/7\n",
            "312/312 [==============================] - 4s 11ms/step - loss: 0.0735 - accuracy: 0.9763 - val_loss: 0.0790 - val_accuracy: 0.9739\n",
            "Epoch 3/7\n",
            "312/312 [==============================] - 3s 11ms/step - loss: 0.0441 - accuracy: 0.9864 - val_loss: 0.0694 - val_accuracy: 0.9777\n",
            "Epoch 4/7\n",
            "312/312 [==============================] - 4s 11ms/step - loss: 0.0283 - accuracy: 0.9916 - val_loss: 0.0746 - val_accuracy: 0.9753\n",
            "Epoch 5/7\n",
            "312/312 [==============================] - 3s 11ms/step - loss: 0.0186 - accuracy: 0.9943 - val_loss: 0.0746 - val_accuracy: 0.9791\n",
            "Epoch 6/7\n",
            "312/312 [==============================] - 3s 11ms/step - loss: 0.0123 - accuracy: 0.9963 - val_loss: 0.0814 - val_accuracy: 0.9759\n",
            "Epoch 7/7\n",
            "312/312 [==============================] - 4s 11ms/step - loss: 0.0263 - accuracy: 0.9923 - val_loss: 0.0747 - val_accuracy: 0.9777\n",
            "156/156 [==============================] - 0s 3ms/step - loss: 0.0747 - accuracy: 0.9777\n",
            "> 97.770\n",
            "Epoch 1/7\n",
            "312/312 [==============================] - 4s 11ms/step - loss: 0.0202 - accuracy: 0.9942 - val_loss: 0.0152 - val_accuracy: 0.9942\n",
            "Epoch 2/7\n",
            "312/312 [==============================] - 3s 11ms/step - loss: 0.0105 - accuracy: 0.9968 - val_loss: 0.0138 - val_accuracy: 0.9954\n",
            "Epoch 3/7\n",
            "312/312 [==============================] - 3s 11ms/step - loss: 0.0052 - accuracy: 0.9986 - val_loss: 0.0095 - val_accuracy: 0.9972\n",
            "Epoch 4/7\n",
            "312/312 [==============================] - 4s 11ms/step - loss: 0.0019 - accuracy: 0.9997 - val_loss: 0.0090 - val_accuracy: 0.9972\n",
            "Epoch 5/7\n",
            "312/312 [==============================] - 3s 11ms/step - loss: 7.9395e-04 - accuracy: 0.9999 - val_loss: 0.0075 - val_accuracy: 0.9976\n",
            "Epoch 6/7\n",
            "312/312 [==============================] - 3s 11ms/step - loss: 3.2049e-04 - accuracy: 1.0000 - val_loss: 0.0080 - val_accuracy: 0.9972\n",
            "Epoch 7/7\n",
            "312/312 [==============================] - 3s 11ms/step - loss: 2.2055e-04 - accuracy: 1.0000 - val_loss: 0.0081 - val_accuracy: 0.9974\n",
            "156/156 [==============================] - 0s 3ms/step - loss: 0.0081 - accuracy: 0.9974\n",
            "> 99.739\n",
            "Epoch 1/7\n",
            "312/312 [==============================] - 3s 11ms/step - loss: 0.0289 - accuracy: 0.9910 - val_loss: 0.0151 - val_accuracy: 0.9956\n",
            "Epoch 2/7\n",
            "312/312 [==============================] - 3s 11ms/step - loss: 0.0134 - accuracy: 0.9957 - val_loss: 0.0272 - val_accuracy: 0.9920\n",
            "Epoch 3/7\n",
            "312/312 [==============================] - 4s 11ms/step - loss: 0.0045 - accuracy: 0.9988 - val_loss: 0.0199 - val_accuracy: 0.9932\n",
            "Epoch 4/7\n",
            "312/312 [==============================] - 3s 11ms/step - loss: 0.0020 - accuracy: 0.9995 - val_loss: 0.0138 - val_accuracy: 0.9960\n",
            "Epoch 5/7\n",
            "312/312 [==============================] - 4s 11ms/step - loss: 0.0015 - accuracy: 0.9995 - val_loss: 0.0166 - val_accuracy: 0.9948\n",
            "Epoch 6/7\n",
            "312/312 [==============================] - 3s 11ms/step - loss: 0.0075 - accuracy: 0.9976 - val_loss: 0.0312 - val_accuracy: 0.9894\n",
            "Epoch 7/7\n",
            "312/312 [==============================] - 4s 11ms/step - loss: 0.0081 - accuracy: 0.9975 - val_loss: 0.0139 - val_accuracy: 0.9956\n",
            "156/156 [==============================] - 0s 3ms/step - loss: 0.0139 - accuracy: 0.9956\n",
            "> 99.558\n",
            "Epoch 1/7\n",
            "312/312 [==============================] - 3s 11ms/step - loss: 0.0097 - accuracy: 0.9967 - val_loss: 0.0250 - val_accuracy: 0.9930\n",
            "Epoch 2/7\n",
            "312/312 [==============================] - 3s 11ms/step - loss: 0.0210 - accuracy: 0.9938 - val_loss: 0.0095 - val_accuracy: 0.9956\n",
            "Epoch 3/7\n",
            "312/312 [==============================] - 3s 11ms/step - loss: 0.0024 - accuracy: 0.9995 - val_loss: 0.0029 - val_accuracy: 0.9986\n",
            "Epoch 4/7\n",
            "312/312 [==============================] - 4s 11ms/step - loss: 5.6909e-04 - accuracy: 0.9999 - val_loss: 0.0018 - val_accuracy: 0.9994\n",
            "Epoch 5/7\n",
            "312/312 [==============================] - 3s 11ms/step - loss: 1.3038e-04 - accuracy: 1.0000 - val_loss: 0.0013 - val_accuracy: 0.9994\n",
            "Epoch 6/7\n",
            "312/312 [==============================] - 3s 11ms/step - loss: 8.4251e-05 - accuracy: 1.0000 - val_loss: 0.0013 - val_accuracy: 0.9996\n",
            "Epoch 7/7\n",
            "312/312 [==============================] - 4s 11ms/step - loss: 6.5361e-05 - accuracy: 1.0000 - val_loss: 0.0013 - val_accuracy: 0.9994\n",
            "156/156 [==============================] - 0s 3ms/step - loss: 0.0013 - accuracy: 0.9994\n",
            "> 99.940\n",
            "Epoch 1/7\n",
            "312/312 [==============================] - 4s 11ms/step - loss: 0.0011 - accuracy: 0.9997 - val_loss: 0.0219 - val_accuracy: 0.9958\n",
            "Epoch 2/7\n",
            "312/312 [==============================] - 3s 11ms/step - loss: 0.0225 - accuracy: 0.9932 - val_loss: 0.0074 - val_accuracy: 0.9982\n",
            "Epoch 3/7\n",
            "312/312 [==============================] - 3s 11ms/step - loss: 0.0066 - accuracy: 0.9979 - val_loss: 0.0087 - val_accuracy: 0.9980\n",
            "Epoch 4/7\n",
            "312/312 [==============================] - 4s 11ms/step - loss: 0.0031 - accuracy: 0.9991 - val_loss: 0.0019 - val_accuracy: 0.9994\n",
            "Epoch 5/7\n",
            "312/312 [==============================] - 4s 11ms/step - loss: 2.5691e-04 - accuracy: 1.0000 - val_loss: 0.0014 - val_accuracy: 0.9996\n",
            "Epoch 6/7\n",
            "312/312 [==============================] - 3s 11ms/step - loss: 7.2217e-05 - accuracy: 1.0000 - val_loss: 9.7470e-04 - val_accuracy: 0.9998\n",
            "Epoch 7/7\n",
            "312/312 [==============================] - 4s 11ms/step - loss: 4.9960e-05 - accuracy: 1.0000 - val_loss: 8.1785e-04 - val_accuracy: 1.0000\n",
            "156/156 [==============================] - 0s 3ms/step - loss: 8.1785e-04 - accuracy: 1.0000\n",
            "> 100.000\n",
            "Epoch 1/7\n",
            "312/312 [==============================] - 4s 11ms/step - loss: 0.0040 - accuracy: 0.9989 - val_loss: 0.0087 - val_accuracy: 0.9972\n",
            "Epoch 2/7\n",
            "312/312 [==============================] - 4s 11ms/step - loss: 0.0128 - accuracy: 0.9959 - val_loss: 0.0105 - val_accuracy: 0.9968\n",
            "Epoch 3/7\n",
            "312/312 [==============================] - 4s 11ms/step - loss: 0.0053 - accuracy: 0.9984 - val_loss: 0.0131 - val_accuracy: 0.9974\n",
            "Epoch 4/7\n",
            "312/312 [==============================] - 3s 11ms/step - loss: 0.0045 - accuracy: 0.9986 - val_loss: 0.0064 - val_accuracy: 0.9984\n",
            "Epoch 5/7\n",
            "312/312 [==============================] - 4s 11ms/step - loss: 0.0024 - accuracy: 0.9991 - val_loss: 0.0069 - val_accuracy: 0.9984\n",
            "Epoch 6/7\n",
            "312/312 [==============================] - 3s 11ms/step - loss: 0.0021 - accuracy: 0.9995 - val_loss: 0.0052 - val_accuracy: 0.9982\n",
            "Epoch 7/7\n",
            "312/312 [==============================] - 4s 11ms/step - loss: 0.0038 - accuracy: 0.9989 - val_loss: 0.0083 - val_accuracy: 0.9978\n",
            "156/156 [==============================] - 0s 3ms/step - loss: 0.0083 - accuracy: 0.9978\n",
            "> 99.779\n",
            "Epoch 1/7\n",
            "312/312 [==============================] - 4s 11ms/step - loss: 0.0049 - accuracy: 0.9987 - val_loss: 0.0020 - val_accuracy: 0.9994\n",
            "Epoch 2/7\n",
            "312/312 [==============================] - 4s 11ms/step - loss: 3.6539e-04 - accuracy: 0.9999 - val_loss: 2.3961e-04 - val_accuracy: 1.0000\n",
            "Epoch 3/7\n",
            "312/312 [==============================] - 4s 12ms/step - loss: 6.5560e-05 - accuracy: 1.0000 - val_loss: 1.5647e-04 - val_accuracy: 1.0000\n",
            "Epoch 4/7\n",
            "312/312 [==============================] - 4s 12ms/step - loss: 2.6163e-05 - accuracy: 1.0000 - val_loss: 1.3683e-04 - val_accuracy: 1.0000\n",
            "Epoch 5/7\n",
            "312/312 [==============================] - 3s 11ms/step - loss: 2.0053e-05 - accuracy: 1.0000 - val_loss: 1.2678e-04 - val_accuracy: 1.0000\n",
            "Epoch 6/7\n",
            "312/312 [==============================] - 3s 11ms/step - loss: 1.6407e-05 - accuracy: 1.0000 - val_loss: 1.1827e-04 - val_accuracy: 1.0000\n",
            "Epoch 7/7\n",
            "312/312 [==============================] - 3s 11ms/step - loss: 1.3686e-05 - accuracy: 1.0000 - val_loss: 1.0516e-04 - val_accuracy: 1.0000\n",
            "156/156 [==============================] - 0s 3ms/step - loss: 1.0516e-04 - accuracy: 1.0000\n",
            "> 100.000\n",
            "Epoch 1/7\n",
            "312/312 [==============================] - 4s 12ms/step - loss: 2.4769e-05 - accuracy: 1.0000 - val_loss: 1.5744e-05 - val_accuracy: 1.0000\n",
            "Epoch 2/7\n",
            "312/312 [==============================] - 4s 11ms/step - loss: 1.4302e-05 - accuracy: 1.0000 - val_loss: 9.7478e-06 - val_accuracy: 1.0000\n",
            "Epoch 3/7\n",
            "312/312 [==============================] - 4s 11ms/step - loss: 8.9020e-06 - accuracy: 1.0000 - val_loss: 9.2885e-06 - val_accuracy: 1.0000\n",
            "Epoch 4/7\n",
            "312/312 [==============================] - 4s 11ms/step - loss: 7.3521e-06 - accuracy: 1.0000 - val_loss: 8.6308e-06 - val_accuracy: 1.0000\n",
            "Epoch 5/7\n",
            "312/312 [==============================] - 4s 11ms/step - loss: 6.2262e-06 - accuracy: 1.0000 - val_loss: 8.1126e-06 - val_accuracy: 1.0000\n",
            "Epoch 6/7\n",
            "312/312 [==============================] - 4s 11ms/step - loss: 5.3312e-06 - accuracy: 1.0000 - val_loss: 7.6120e-06 - val_accuracy: 1.0000\n",
            "Epoch 7/7\n",
            "312/312 [==============================] - 4s 11ms/step - loss: 4.5559e-06 - accuracy: 1.0000 - val_loss: 7.3889e-06 - val_accuracy: 1.0000\n",
            "156/156 [==============================] - 0s 3ms/step - loss: 7.3889e-06 - accuracy: 1.0000\n",
            "> 100.000\n",
            "Epoch 1/7\n",
            "312/312 [==============================] - 4s 11ms/step - loss: 4.2767e-06 - accuracy: 1.0000 - val_loss: 3.6985e-06 - val_accuracy: 1.0000\n",
            "Epoch 2/7\n",
            "312/312 [==============================] - 4s 12ms/step - loss: 3.5075e-06 - accuracy: 1.0000 - val_loss: 3.4459e-06 - val_accuracy: 1.0000\n",
            "Epoch 3/7\n",
            "312/312 [==============================] - 4s 11ms/step - loss: 2.9655e-06 - accuracy: 1.0000 - val_loss: 3.1713e-06 - val_accuracy: 1.0000\n",
            "Epoch 4/7\n",
            "312/312 [==============================] - 4s 11ms/step - loss: 2.4883e-06 - accuracy: 1.0000 - val_loss: 2.9920e-06 - val_accuracy: 1.0000\n",
            "Epoch 5/7\n",
            "312/312 [==============================] - 4s 11ms/step - loss: 2.0871e-06 - accuracy: 1.0000 - val_loss: 2.6913e-06 - val_accuracy: 1.0000\n",
            "Epoch 6/7\n",
            "312/312 [==============================] - 4s 11ms/step - loss: 1.7333e-06 - accuracy: 1.0000 - val_loss: 2.4746e-06 - val_accuracy: 1.0000\n",
            "Epoch 7/7\n",
            "312/312 [==============================] - 4s 11ms/step - loss: 1.4297e-06 - accuracy: 1.0000 - val_loss: 2.2398e-06 - val_accuracy: 1.0000\n",
            "156/156 [==============================] - 0s 3ms/step - loss: 2.2398e-06 - accuracy: 1.0000\n",
            "> 100.000\n",
            "Epoch 1/7\n",
            "312/312 [==============================] - 4s 11ms/step - loss: 1.2912e-06 - accuracy: 1.0000 - val_loss: 9.0678e-07 - val_accuracy: 1.0000\n",
            "Epoch 2/7\n",
            "312/312 [==============================] - 4s 11ms/step - loss: 1.0163e-06 - accuracy: 1.0000 - val_loss: 8.1972e-07 - val_accuracy: 1.0000\n",
            "Epoch 3/7\n",
            "312/312 [==============================] - 3s 11ms/step - loss: 8.2367e-07 - accuracy: 1.0000 - val_loss: 7.3738e-07 - val_accuracy: 1.0000\n",
            "Epoch 4/7\n",
            "312/312 [==============================] - 4s 11ms/step - loss: 6.6961e-07 - accuracy: 1.0000 - val_loss: 6.8650e-07 - val_accuracy: 1.0000\n",
            "Epoch 5/7\n",
            "312/312 [==============================] - 4s 11ms/step - loss: 5.5213e-07 - accuracy: 1.0000 - val_loss: 6.3389e-07 - val_accuracy: 1.0000\n",
            "Epoch 6/7\n",
            "312/312 [==============================] - 3s 11ms/step - loss: 4.5805e-07 - accuracy: 1.0000 - val_loss: 5.9033e-07 - val_accuracy: 1.0000\n",
            "Epoch 7/7\n",
            "312/312 [==============================] - 4s 11ms/step - loss: 3.8432e-07 - accuracy: 1.0000 - val_loss: 5.6760e-07 - val_accuracy: 1.0000\n",
            "156/156 [==============================] - 0s 3ms/step - loss: 5.6760e-07 - accuracy: 1.0000\n",
            "> 100.000\n"
          ]
        },
        {
          "output_type": "stream",
          "name": "stderr",
          "text": [
            "/usr/local/lib/python3.7/dist-packages/ipykernel_launcher.py:5: MatplotlibDeprecationWarning: Adding an axes using the same arguments as a previous axes currently reuses the earlier instance.  In a future version, a new instance will always be created and returned.  Meanwhile, this warning can be suppressed, and the future behavior ensured, by passing a unique label to each axes instance.\n",
            "  \"\"\"\n",
            "/usr/local/lib/python3.7/dist-packages/ipykernel_launcher.py:10: MatplotlibDeprecationWarning: Adding an axes using the same arguments as a previous axes currently reuses the earlier instance.  In a future version, a new instance will always be created and returned.  Meanwhile, this warning can be suppressed, and the future behavior ensured, by passing a unique label to each axes instance.\n",
            "  # Remove the CWD from sys.path while we load stuff.\n"
          ]
        },
        {
          "output_type": "display_data",
          "data": {
            "text/plain": [
              "<Figure size 432x288 with 2 Axes>"
            ],
            "image/png": "[encoded data removed]"
          },
          "metadata": {
            "needs_background": "light"
          }
        },
        {
          "output_type": "stream",
          "name": "stdout",
          "text": [
            "Accuracy: mean=99.679 std=0.652, n=10\n"
          ]
        },
        {
          "output_type": "display_data",
          "data": {
            "text/plain": [
              "<Figure size 432x288 with 1 Axes>"
            ],
            "image/png": "[encoded data removed]"
          },
          "metadata": {
            "needs_background": "light"
          }
        },
        {
          "output_type": "stream",
          "name": "stdout",
          "text": [
            "['final_model_loaded_weights on mix data with LR=0.0009 & epoch=7', 100.0, 99.727, 98.49]\n"
          ]
        }
      ]
    },
    {
      "cell_type": "markdown",
      "source": [
        "Generating reults and download data:\n",
        "\n",
        "---\n",
        "\n"
      ],
      "metadata": {
        "id": "irLfZVZGOYVg"
      }
    },
    {
      "cell_type": "code",
      "source": [
        "results"
      ],
      "metadata": {
        "colab": {
          "base_uri": "https://localhost:8080/"
        },
        "id": "_2V0GIrJ3EV7",
        "outputId": "f7dbd8c4-d6fe-466a-fc2c-3f9db5824aa9"
      },
      "execution_count": 40,
      "outputs": [
        {
          "output_type": "execute_result",
          "data": {
            "text/plain": [
              "[['Random initialized on MNIST with LR=0.001 & epoch=5',\n",
              "  58.889,\n",
              "  99.925,\n",
              "  98.29],\n",
              " ['Random initialized on MNIST with LR=0.0008 & epoch=3', 60.0, 99.852, 98.29],\n",
              " ['Random initialized on MNIST with LR=0.0009 & epoch=2',\n",
              "  61.667,\n",
              "  99.893,\n",
              "  98.12],\n",
              " ['Random initialized on MNIST with LR=0.0009 & epoch=3', 55.0, 99.852, 98.21],\n",
              " ['Random initialized on MNIST with LR=0.0009 & epoch=5',\n",
              "  58.333,\n",
              "  99.992,\n",
              "  98.42],\n",
              " ['Random initialized on MNIST with LR=0.0009 & epoch=7',\n",
              "  53.889,\n",
              "  99.995,\n",
              "  98.46],\n",
              " ['Random initialized on per_b1 (0 to 4) with LR=0.01 & epoch=8',\n",
              "  100.0,\n",
              "  64.776],\n",
              " ['trained_finetune_mix_b1 on mix data (0 to 4) with LR=0.0005 & epoch=8',\n",
              "  100.0,\n",
              "  100.0],\n",
              " ['final_model_loaded_weights without training', 50.0, 51.08, 51.14],\n",
              " ['final_model_loaded_weights on mix data with LR=0.001 & epoch=5',\n",
              "  100.0,\n",
              "  99.725,\n",
              "  98.37],\n",
              " ['final_model_loaded_weights on mix data with LR=0.0008 & epoch=3',\n",
              "  100.0,\n",
              "  99.722,\n",
              "  98.42],\n",
              " ['final_model_loaded_weights on mix data with LR=0.0009 & epoch=2',\n",
              "  100.0,\n",
              "  99.7,\n",
              "  98.34],\n",
              " ['final_model_loaded_weights on mix data with LR=0.0009 & epoch=3',\n",
              "  100.0,\n",
              "  99.745,\n",
              "  98.35],\n",
              " ['final_model_loaded_weights on mix data with LR=0.0009 & epoch=5',\n",
              "  100.0,\n",
              "  99.747,\n",
              "  98.52],\n",
              " ['final_model_loaded_weights on mix data with LR=0.0009 & epoch=7',\n",
              "  100.0,\n",
              "  99.727,\n",
              "  98.49]]"
            ]
          },
          "metadata": {},
          "execution_count": 40
        }
      ]
    },
    {
      "cell_type": "code",
      "source": [
        "import pandas\n",
        "df=pandas.DataFrame(results,list(range(1, len(results)+1)),[\"Description\",\"Train perfect\", \"Train MNIST\", \"Test MNIST\"])\n",
        "df"
      ],
      "metadata": {
        "colab": {
          "base_uri": "https://localhost:8080/",
          "height": 439
        },
        "id": "GR1EBs9y3up7",
        "outputId": "162f66cc-e1bb-4a41-b9ce-240c84182231"
      },
      "execution_count": 41,
      "outputs": [
        {
          "output_type": "execute_result",
          "data": {
            "text/plain": [
              "                                          Description  Train perfect  \\\n",
              "1   Random initialized on MNIST with LR=0.001 & ep...         58.889   \n",
              "2   Random initialized on MNIST with LR=0.0008 & e...         60.000   \n",
              "3   Random initialized on MNIST with LR=0.0009 & e...         61.667   \n",
              "4   Random initialized on MNIST with LR=0.0009 & e...         55.000   \n",
              "5   Random initialized on MNIST with LR=0.0009 & e...         58.333   \n",
              "6   Random initialized on MNIST with LR=0.0009 & e...         53.889   \n",
              "7   Random initialized on per_b1 (0 to 4) with LR=...        100.000   \n",
              "8   trained_finetune_mix_b1 on mix data (0 to 4) w...        100.000   \n",
              "9         final_model_loaded_weights without training         50.000   \n",
              "10  final_model_loaded_weights on mix data with LR...        100.000   \n",
              "11  final_model_loaded_weights on mix data with LR...        100.000   \n",
              "12  final_model_loaded_weights on mix data with LR...        100.000   \n",
              "13  final_model_loaded_weights on mix data with LR...        100.000   \n",
              "14  final_model_loaded_weights on mix data with LR...        100.000   \n",
              "15  final_model_loaded_weights on mix data with LR...        100.000   \n",
              "\n",
              "    Train MNIST  Test MNIST  \n",
              "1        99.925       98.29  \n",
              "2        99.852       98.29  \n",
              "3        99.893       98.12  \n",
              "4        99.852       98.21  \n",
              "5        99.992       98.42  \n",
              "6        99.995       98.46  \n",
              "7        64.776         NaN  \n",
              "8       100.000         NaN  \n",
              "9        51.080       51.14  \n",
              "10       99.725       98.37  \n",
              "11       99.722       98.42  \n",
              "12       99.700       98.34  \n",
              "13       99.745       98.35  \n",
              "14       99.747       98.52  \n",
              "15       99.727       98.49  "
            ],
            "text/html": [
              "\n",
              "  <div id=\"df-7ff5743e-95a1-4fff-8609-66819a727cc3\">\n",
              "    <div class=\"colab-df-container\">\n",
              "      <div>\n",
              "<style scoped>\n",
              "    .dataframe tbody tr th:only-of-type {\n",
              "        vertical-align: middle;\n",
              "    }\n",
              "\n",
              "    .dataframe tbody tr th {\n",
              "        vertical-align: top;\n",
              "    }\n",
              "\n",
              "    .dataframe thead th {\n",
              "        text-align: right;\n",
              "    }\n",
              "</style>\n",
              "<table border=\"1\" class=\"dataframe\">\n",
              "  <thead>\n",
              "    <tr style=\"text-align: right;\">\n",
              "      <th></th>\n",
              "      <th>Description</th>\n",
              "      <th>Train perfect</th>\n",
              "      <th>Train MNIST</th>\n",
              "      <th>Test MNIST</th>\n",
              "    </tr>\n",
              "  </thead>\n",
              "  <tbody>\n",
              "    <tr>\n",
              "      <th>1</th>\n",
              "      <td>Random initialized on MNIST with LR=0.001 &amp; ep...</td>\n",
              "      <td>58.889</td>\n",
              "      <td>99.925</td>\n",
              "      <td>98.29</td>\n",
              "    </tr>\n",
              "    <tr>\n",
              "      <th>2</th>\n",
              "      <td>Random initialized on MNIST with LR=0.0008 &amp; e...</td>\n",
              "      <td>60.000</td>\n",
              "      <td>99.852</td>\n",
              "      <td>98.29</td>\n",
              "    </tr>\n",
              "    <tr>\n",
              "      <th>3</th>\n",
              "      <td>Random initialized on MNIST with LR=0.0009 &amp; e...</td>\n",
              "      <td>61.667</td>\n",
              "      <td>99.893</td>\n",
              "      <td>98.12</td>\n",
              "    </tr>\n",
              "    <tr>\n",
              "      <th>4</th>\n",
              "      <td>Random initialized on MNIST with LR=0.0009 &amp; e...</td>\n",
              "      <td>55.000</td>\n",
              "      <td>99.852</td>\n",
              "      <td>98.21</td>\n",
              "    </tr>\n",
              "    <tr>\n",
              "      <th>5</th>\n",
              "      <td>Random initialized on MNIST with LR=0.0009 &amp; e...</td>\n",
              "      <td>58.333</td>\n",
              "      <td>99.992</td>\n",
              "      <td>98.42</td>\n",
              "    </tr>\n",
              "    <tr>\n",
              "      <th>6</th>\n",
              "      <td>Random initialized on MNIST with LR=0.0009 &amp; e...</td>\n",
              "      <td>53.889</td>\n",
              "      <td>99.995</td>\n",
              "      <td>98.46</td>\n",
              "    </tr>\n",
              "    <tr>\n",
              "      <th>7</th>\n",
              "      <td>Random initialized on per_b1 (0 to 4) with LR=...</td>\n",
              "      <td>100.000</td>\n",
              "      <td>64.776</td>\n",
              "      <td>NaN</td>\n",
              "    </tr>\n",
              "    <tr>\n",
              "      <th>8</th>\n",
              "      <td>trained_finetune_mix_b1 on mix data (0 to 4) w...</td>\n",
              "      <td>100.000</td>\n",
              "      <td>100.000</td>\n",
              "      <td>NaN</td>\n",
              "    </tr>\n",
              "    <tr>\n",
              "      <th>9</th>\n",
              "      <td>final_model_loaded_weights without training</td>\n",
              "      <td>50.000</td>\n",
              "      <td>51.080</td>\n",
              "      <td>51.14</td>\n",
              "    </tr>\n",
              "    <tr>\n",
              "      <th>10</th>\n",
              "      <td>final_model_loaded_weights on mix data with LR...</td>\n",
              "      <td>100.000</td>\n",
              "      <td>99.725</td>\n",
              "      <td>98.37</td>\n",
              "    </tr>\n",
              "    <tr>\n",
              "      <th>11</th>\n",
              "      <td>final_model_loaded_weights on mix data with LR...</td>\n",
              "      <td>100.000</td>\n",
              "      <td>99.722</td>\n",
              "      <td>98.42</td>\n",
              "    </tr>\n",
              "    <tr>\n",
              "      <th>12</th>\n",
              "      <td>final_model_loaded_weights on mix data with LR...</td>\n",
              "      <td>100.000</td>\n",
              "      <td>99.700</td>\n",
              "      <td>98.34</td>\n",
              "    </tr>\n",
              "    <tr>\n",
              "      <th>13</th>\n",
              "      <td>final_model_loaded_weights on mix data with LR...</td>\n",
              "      <td>100.000</td>\n",
              "      <td>99.745</td>\n",
              "      <td>98.35</td>\n",
              "    </tr>\n",
              "    <tr>\n",
              "      <th>14</th>\n",
              "      <td>final_model_loaded_weights on mix data with LR...</td>\n",
              "      <td>100.000</td>\n",
              "      <td>99.747</td>\n",
              "      <td>98.52</td>\n",
              "    </tr>\n",
              "    <tr>\n",
              "      <th>15</th>\n",
              "      <td>final_model_loaded_weights on mix data with LR...</td>\n",
              "      <td>100.000</td>\n",
              "      <td>99.727</td>\n",
              "      <td>98.49</td>\n",
              "    </tr>\n",
              "  </tbody>\n",
              "</table>\n",
              "</div>\n",
              "      <button class=\"colab-df-convert\" onclick=\"convertToInteractive('df-7ff5743e-95a1-4fff-8609-66819a727cc3')\"\n",
              "              title=\"Convert this dataframe to an interactive table.\"\n",
              "              style=\"display:none;\">\n",
              "        \n",
              "  <svg xmlns=\"http://www.w3.org/2000/svg\" height=\"24px\"viewBox=\"0 0 24 24\"\n",
              "       width=\"24px\">\n",
              "    <path d=\"M0 0h24v24H0V0z\" fill=\"none\"/>\n",
              "    <path d=\"M18.56 5.44l.94 2.06.94-2.06 2.06-.94-2.06-.94-.94-2.06-.94 2.06-2.06.94zm-11 1L8.5 8.5l.94-2.06 2.06-.94-2.06-.94L8.5 2.5l-.94 2.06-2.06.94zm10 10l.94 2.06.94-2.06 2.06-.94-2.06-.94-.94-2.06-.94 2.06-2.06.94z\"/><path d=\"M17.41 7.96l-1.37-1.37c-.4-.4-.92-.59-1.43-.59-.52 0-1.04.2-1.43.59L10.3 9.45l-7.72 7.72c-.78.78-.78 2.05 0 2.83L4 21.41c.39.39.9.59 1.41.59.51 0 1.02-.2 1.41-.59l7.78-7.78 2.81-2.81c.8-.78.8-2.07 0-2.86zM5.41 20L4 18.59l7.72-7.72 1.47 1.35L5.41 20z\"/>\n",
              "  </svg>\n",
              "      </button>\n",
              "      \n",
              "  <style>\n",
              "    .colab-df-container {\n",
              "      display:flex;\n",
              "      flex-wrap:wrap;\n",
              "      gap: 12px;\n",
              "    }\n",
              "\n",
              "    .colab-df-convert {\n",
              "      background-color: #E8F0FE;\n",
              "      border: none;\n",
              "      border-radius: 50%;\n",
              "      cursor: pointer;\n",
              "      display: none;\n",
              "      fill: #1967D2;\n",
              "      height: 32px;\n",
              "      padding: 0 0 0 0;\n",
              "      width: 32px;\n",
              "    }\n",
              "\n",
              "    .colab-df-convert:hover {\n",
              "      background-color: #E2EBFA;\n",
              "      box-shadow: 0px 1px 2px rgba(60, 64, 67, 0.3), 0px 1px 3px 1px rgba(60, 64, 67, 0.15);\n",
              "      fill: #174EA6;\n",
              "    }\n",
              "\n",
              "    [theme=dark] .colab-df-convert {\n",
              "      background-color: #3B4455;\n",
              "      fill: #D2E3FC;\n",
              "    }\n",
              "\n",
              "    [theme=dark] .colab-df-convert:hover {\n",
              "      background-color: #434B5C;\n",
              "      box-shadow: 0px 1px 3px 1px rgba(0, 0, 0, 0.15);\n",
              "      filter: drop-shadow(0px 1px 2px rgba(0, 0, 0, 0.3));\n",
              "      fill: #FFFFFF;\n",
              "    }\n",
              "  </style>\n",
              "\n",
              "      <script>\n",
              "        const buttonEl =\n",
              "          document.querySelector('#df-7ff5743e-95a1-4fff-8609-66819a727cc3 button.colab-df-convert');\n",
              "        buttonEl.style.display =\n",
              "          google.colab.kernel.accessAllowed ? 'block' : 'none';\n",
              "\n",
              "        async function convertToInteractive(key) {\n",
              "          const element = document.querySelector('#df-7ff5743e-95a1-4fff-8609-66819a727cc3');\n",
              "          const dataTable =\n",
              "            await google.colab.kernel.invokeFunction('convertToInteractive',\n",
              "                                                     [key], {});\n",
              "          if (!dataTable) return;\n",
              "\n",
              "          const docLinkHtml = 'Like what you see? Visit the ' +\n",
              "            '<a target=\"_blank\" href=https://colab.research.google.com/notebooks/data_table.ipynb>data table notebook</a>'\n",
              "            + ' to learn more about interactive tables.';\n",
              "          element.innerHTML = '';\n",
              "          dataTable['output_type'] = 'display_data';\n",
              "          await google.colab.output.renderOutput(dataTable, element);\n",
              "          const docLink = document.createElement('div');\n",
              "          docLink.innerHTML = docLinkHtml;\n",
              "          element.appendChild(docLink);\n",
              "        }\n",
              "      </script>\n",
              "    </div>\n",
              "  </div>\n",
              "  "
            ]
          },
          "metadata": {},
          "execution_count": 41
        }
      ]
    },
    {
      "cell_type": "code",
      "source": [
        "df.to_csv('results.csv', sep=',', encoding='utf-8')"
      ],
      "metadata": {
        "id": "L8WAiIdR6YQg"
      },
      "execution_count": 42,
      "outputs": []
    },
    {
      "cell_type": "code",
      "source": [
        "#!zip -r /content/EXPANSE_Model_Expansion_colab.zip /content"
      ],
      "metadata": {
        "id": "XvDDofaPXqZG"
      },
      "execution_count": 43,
      "outputs": []
    },
    {
      "cell_type": "code",
      "source": [
        "files.download('results.csv') \n",
        "#files.download('EXPANSE_Model_Expansion_colab.zip') "
      ],
      "metadata": {
        "colab": {
          "base_uri": "https://localhost:8080/",
          "height": 16
        },
        "id": "Q-ZIucOMKBQ5",
        "outputId": "68db00b1-e798-4ebe-c274-d4b8536a78a1"
      },
      "execution_count": 44,
      "outputs": [
        {
          "output_type": "display_data",
          "data": {
            "text/plain": [
              "<IPython.core.display.Javascript object>"
            ],
            "application/javascript": [
              "\n",
              "    async function download(id, filename, size) {\n",
              "      if (!google.colab.kernel.accessAllowed) {\n",
              "        return;\n",
              "      }\n",
              "      const div = document.createElement('div');\n",
              "      const label = document.createElement('label');\n",
              "      label.textContent = `Downloading \"${filename}\": `;\n",
              "      div.appendChild(label);\n",
              "      const progress = document.createElement('progress');\n",
              "      progress.max = size;\n",
              "      div.appendChild(progress);\n",
              "      document.body.appendChild(div);\n",
              "\n",
              "      const buffers = [];\n",
              "      let downloaded = 0;\n",
              "\n",
              "      const channel = await google.colab.kernel.comms.open(id);\n",
              "      // Send a message to notify the kernel that we're ready.\n",
              "      channel.send({})\n",
              "\n",
              "      for await (const message of channel.messages) {\n",
              "        // Send a message to notify the kernel that we're ready.\n",
              "        channel.send({})\n",
              "        if (message.buffers) {\n",
              "          for (const buffer of message.buffers) {\n",
              "            buffers.push(buffer);\n",
              "            downloaded += buffer.byteLength;\n",
              "            progress.value = downloaded;\n",
              "          }\n",
              "        }\n",
              "      }\n",
              "      const blob = new Blob(buffers, {type: 'application/binary'});\n",
              "      const a = document.createElement('a');\n",
              "      a.href = window.URL.createObjectURL(blob);\n",
              "      a.download = filename;\n",
              "      div.appendChild(a);\n",
              "      a.click();\n",
              "      div.remove();\n",
              "    }\n",
              "  "
            ]
          },
          "metadata": {}
        },
        {
          "output_type": "display_data",
          "data": {
            "text/plain": [
              "<IPython.core.display.Javascript object>"
            ],
            "application/javascript": [
              "download(\"download_c63d90d8-47a6-4949-8abd-ae1c0ca7325c\", \"results.csv\", 1233)"
            ]
          },
          "metadata": {}
        }
      ]
    },
    {
      "cell_type": "code",
      "source": [
        "import platform,socket,re,uuid,json,psutil,logging\n",
        "\n",
        "def getSystemInfo():\n",
        "    try:\n",
        "        info={}\n",
        "        info['platform']=platform.system()\n",
        "        info['platform-release']=platform.release()\n",
        "        info['platform-version']=platform.version()\n",
        "        info['architecture']=platform.machine()\n",
        "        info['hostname']=socket.gethostname()\n",
        "        info['ip-address']=socket.gethostbyname(socket.gethostname())\n",
        "        info['mac-address']=':'.join(re.findall('..', '%012x' % uuid.getnode()))\n",
        "        info['processor']=platform.processor()\n",
        "        info['ram']=str(round(psutil.virtual_memory().total / (1024.0 **3)))+\" GB\"\n",
        "        return json.dumps(info)\n",
        "    except Exception as e:\n",
        "        logging.exception(e)\n",
        "\n",
        "json.loads(getSystemInfo())"
      ],
      "metadata": {
        "colab": {
          "base_uri": "https://localhost:8080/"
        },
        "id": "JWnCqVmQP0UE",
        "outputId": "4ae64bc4-9775-4c33-f3f7-83bd46f64d6c"
      },
      "execution_count": 45,
      "outputs": [
        {
          "output_type": "execute_result",
          "data": {
            "text/plain": [
              "{'architecture': 'x86_64',\n",
              " 'hostname': '0734e95cf84e',\n",
              " 'ip-address': '172.28.0.2',\n",
              " 'mac-address': '02:42:ac:1c:00:02',\n",
              " 'platform': 'Linux',\n",
              " 'platform-release': '5.4.144+',\n",
              " 'platform-version': '#1 SMP Tue Dec 7 09:58:10 PST 2021',\n",
              " 'processor': 'x86_64',\n",
              " 'ram': '13 GB'}"
            ]
          },
          "metadata": {},
          "execution_count": 45
        }
      ]
    }
  ]
}