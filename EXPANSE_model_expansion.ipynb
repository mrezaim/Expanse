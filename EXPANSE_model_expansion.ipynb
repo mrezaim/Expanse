{
  "nbformat": 4,
  "nbformat_minor": 0,
  "metadata": {
    "colab": {
      "name": "EXPANSE-model_expansion.ipynb",
      "provenance": [],
      "collapsed_sections": [],
      "toc_visible": true,
      "authorship_tag": "ABX9TyP2vHCEOPTq6jqZbX8CKiy/",
      "include_colab_link": true
    },
    "kernelspec": {
      "name": "python3",
      "display_name": "Python 3"
    },
    "language_info": {
      "name": "python"
    }
  },
  "cells": [
    {
      "cell_type": "markdown",
      "metadata": {
        "id": "view-in-github",
        "colab_type": "text"
      },
      "source": [
        "<a href=\"https://colab.research.google.com/github/mrezaim/Expanse/blob/main/EXPANSE_model_expansion.ipynb\" target=\"_parent\"><img src=\"https://colab.research.google.com/assets/colab-badge.svg\" alt=\"Open In Colab\"/></a>"
      ]
    },
    {
      "cell_type": "markdown",
      "source": [
        "This is the implimentation of verifying the effectiveness of Model Expansion \n",
        "method from EXPANSE.\n",
        "\n",
        "The details of idea is available in the paper of: Iman, Mohammadreza, Khaled Rasheed, and Hamid Reza Arabnia. “EXPANSE, A Continual Deep Learning System; Research Proposal”, International Conference on Computational Science and Computational Intelligence, IEEE CPS/IEEE Xplore (to appear in April 2022)\n",
        "\n",
        "\n",
        "Some parts of the following codes are imported (with and without adjustments) from \"https://machinelearningmastery.com/how-to-develop-a-convolutional-neural-network-from-scratch-for-mnist-handwritten-digit-classification/\"\n",
        "\n",
        "\n",
        "---\n",
        "\n"
      ],
      "metadata": {
        "id": "PXu3tX-abR6t"
      }
    },
    {
      "cell_type": "markdown",
      "source": [
        "First we import all the necessary libraries:\n",
        "\n",
        "---\n",
        "\n"
      ],
      "metadata": {
        "id": "B0x0hWj4fV-V"
      }
    },
    {
      "cell_type": "code",
      "source": [
        "from google.colab import files\n",
        "import tensorflow as tf\n",
        "from tensorflow import keras\n",
        "from tensorflow.keras.datasets import mnist\n",
        "from matplotlib import pyplot as plt\n",
        "import gdown\n",
        "import cv2\n",
        "import numpy as np\n",
        "from tensorflow.keras.layers import Dense\n",
        "from tensorflow.keras.layers import Flatten\n",
        "from tensorflow.keras.optimizers import Adam\n",
        "from sklearn.model_selection import KFold\n",
        "from tensorflow.keras.utils import to_categorical\n",
        "from tensorflow.keras.models import Sequential\n",
        "from numpy import mean\n",
        "from numpy import std\n",
        "# to make the results of different run similar:\n",
        "from numpy.random import seed\n",
        "seed(1)\n",
        "from tensorflow.keras.utils import set_random_seed\n",
        "set_random_seed(2)"
      ],
      "metadata": {
        "id": "HdcMY8dSffDI"
      },
      "execution_count": null,
      "outputs": []
    },
    {
      "cell_type": "markdown",
      "source": [
        "Download and import Train and Test data from MNIST:\n",
        "\n",
        "---\n",
        "\n"
      ],
      "metadata": {
        "id": "wC8K9CozaadT"
      }
    },
    {
      "cell_type": "code",
      "execution_count": null,
      "metadata": {
        "colab": {
          "base_uri": "https://localhost:8080/"
        },
        "id": "6W9JKfJll6rH",
        "outputId": "4ef1d363-e56e-48f0-efaf-c85a055cc31b"
      },
      "outputs": [
        {
          "output_type": "stream",
          "name": "stdout",
          "text": [
            "Downloading data from https://storage.googleapis.com/tensorflow/tf-keras-datasets/mnist.npz\n",
            "11493376/11490434 [==============================] - 0s 0us/step\n",
            "11501568/11490434 [==============================] - 0s 0us/step\n",
            "Train: X=(60000, 28, 28), y=(60000,)\n",
            "Test: X=(10000, 28, 28), y=(10000,)\n"
          ]
        }
      ],
      "source": [
        "# Loading the MNIST dataset\n",
        "#from tensorflow.keras.datasets import mnist\n",
        "# load dataset\n",
        "(trainX, trainy), (testX, testy) = mnist.load_data()\n",
        "# summarize loaded dataset\n",
        "print('Train: X=%s, y=%s' % (trainX.shape, trainy.shape))\n",
        "print('Test: X=%s, y=%s' % (testX.shape, testy.shape))"
      ]
    },
    {
      "cell_type": "markdown",
      "source": [
        "Visualize 9 samples of data from MNIST Train dataset:\n",
        "\n",
        "---\n",
        "\n"
      ],
      "metadata": {
        "id": "OmV_aAILamrg"
      }
    },
    {
      "cell_type": "code",
      "source": [
        "j=0\n",
        "for i in range(0,9):\n",
        "  plt.subplot(330 + 1 + j)\n",
        "  j += 1\n",
        "  plt.imshow(trainX[i], cmap=plt.get_cmap('gray'))\n",
        "  print (trainy[i], end =\" \")\n",
        "plt.show()"
      ],
      "metadata": {
        "colab": {
          "base_uri": "https://localhost:8080/",
          "height": 285
        },
        "id": "ST2DRm1omUwc",
        "outputId": "bd3294f5-5a40-4a25-d466-517e0d1f73e4"
      },
      "execution_count": null,
      "outputs": [
        {
          "output_type": "stream",
          "name": "stdout",
          "text": [
            "5 0 4 1 9 2 1 3 1 "
          ]
        },
        {
          "output_type": "display_data",
          "data": {
            "text/plain": [
              "<Figure size 432x288 with 9 Axes>"
            ],
            "image/png": "[encoded data removed]"
          },
          "metadata": {
            "needs_background": "light"
          }
        }
      ]
    },
    {
      "cell_type": "markdown",
      "source": [
        "Download the perfect samples pallet. It is a PNG file of 180 perfect samples \n",
        "(typed with different fonts).\n",
        "\n",
        "---\n",
        "\n"
      ],
      "metadata": {
        "id": "EEfbLQVka56t"
      }
    },
    {
      "cell_type": "code",
      "source": [
        "url = 'https://github.com/mrezaim/Expanse/raw/main/perfect_digits.png'\n",
        "output = 'perfect_digits.png'\n",
        "gdown.download(url, output, quiet=False)"
      ],
      "metadata": {
        "colab": {
          "base_uri": "https://localhost:8080/",
          "height": 105
        },
        "id": "LR_m7w3AB5I1",
        "outputId": "f2f63fae-97b1-4c98-85b0-c0a524d27f7c"
      },
      "execution_count": null,
      "outputs": [
        {
          "output_type": "stream",
          "name": "stderr",
          "text": [
            "Downloading...\n",
            "From: https://github.com/mrezaim/Expanse/raw/main/perfect_digits.png\n",
            "To: /content/perfect_digits.png\n",
            "100%|██████████| 26.6k/26.6k [00:00<00:00, 3.80MB/s]\n"
          ]
        },
        {
          "output_type": "execute_result",
          "data": {
            "text/plain": [
              "'perfect_digits.png'"
            ],
            "application/vnd.google.colaboratory.intrinsic+json": {
              "type": "string"
            }
          },
          "metadata": {},
          "execution_count": 4
        }
      ]
    },
    {
      "cell_type": "markdown",
      "source": [
        "Extracting 360 training samples from the perfect samples pallet and creatint train and test dataset by duplicate of samples. \n",
        "\n",
        "---\n",
        "\n"
      ],
      "metadata": {
        "id": "5JSXWAa2bKps"
      }
    },
    {
      "cell_type": "code",
      "source": [
        "img_path = 'perfect_digits.png'\n",
        "img = cv2.imread(img_path, 0)\n",
        "#train_per_x = np.empty_like(trainX)\n",
        "train_per_x = np.zeros(shape = ( 360, 28, 28 ), dtype=np.uint8)\n",
        "train_per_y = np.zeros(shape = ( 360), dtype=np.uint8)\n",
        "i=0\n",
        "for v in range(18):\n",
        "  for h in range(10):\n",
        "    train_per_x[i] = (img[4+(v*36):(v*36)+32, 4+(h*36):(h*36)+32])\n",
        "    train_per_y[i] = h\n",
        "    train_per_x[i+180] = (img[4+(v*36):(v*36)+32, 4+(h*36):(h*36)+32])\n",
        "    train_per_y[i+180] = h\n",
        "    i += 1\n",
        "\n",
        "print('Perfect train dataset shape:', train_per_x.shape)\n",
        "print('Perfect train label dataset shape:', train_per_y.shape)\n"
      ],
      "metadata": {
        "colab": {
          "base_uri": "https://localhost:8080/"
        },
        "id": "4C2aBm2wm7aC",
        "outputId": "460ba643-ff5d-4f72-d943-bf342de15416"
      },
      "execution_count": null,
      "outputs": [
        {
          "output_type": "stream",
          "name": "stdout",
          "text": [
            "Perfect train dataset shape: (360, 28, 28)\n",
            "Perfect train label dataset shape: (360,)\n"
          ]
        }
      ]
    },
    {
      "cell_type": "markdown",
      "source": [
        "Visualize 9 samples of data from perfect train dataset:\n",
        "\n",
        "---\n",
        "\n"
      ],
      "metadata": {
        "id": "ygD4asOadfhn"
      }
    },
    {
      "cell_type": "code",
      "source": [
        "j=0\n",
        "for i in range(211,220):\n",
        "  plt.subplot(330 + 1 + j)\n",
        "  j += 1\n",
        "  plt.imshow(train_per_x[i], cmap=plt.get_cmap('gray'))\n",
        "  print (train_per_y[i], end =\" \")\n",
        "plt.show()"
      ],
      "metadata": {
        "colab": {
          "base_uri": "https://localhost:8080/",
          "height": 285
        },
        "id": "puBnZVqw1j-g",
        "outputId": "b20a28b6-01ea-40a3-849c-828b0e274690"
      },
      "execution_count": null,
      "outputs": [
        {
          "output_type": "stream",
          "name": "stdout",
          "text": [
            "1 2 3 4 5 6 7 8 9 "
          ]
        },
        {
          "output_type": "display_data",
          "data": {
            "text/plain": [
              "<Figure size 432x288 with 9 Axes>"
            ],
            "image/png": "[encoded data removed]"
          },
          "metadata": {
            "needs_background": "light"
          }
        }
      ]
    },
    {
      "cell_type": "markdown",
      "source": [
        "Dividing the MNIST train data and Perfect data to two batches of samples of 0-4 and 5-9:"
      ],
      "metadata": {
        "id": "99AaNCW-PS8w"
      }
    },
    {
      "cell_type": "code",
      "source": [
        "train_x_b1 = np.zeros(shape = ( 30596, 28, 28 ), dtype=np.uint8)\n",
        "train_y_b1 = np.zeros(shape = ( 30596 ), dtype=np.uint8)\n",
        "train_x_b2 = np.zeros(shape = ( 29404, 28, 28 ), dtype=np.uint8)\n",
        "train_y_b2 = np.zeros(shape = ( 29404 ), dtype=np.uint8)\n",
        "i=0\n",
        "j=0\n",
        "k=0\n",
        "for i in (range(len(trainy))):\n",
        "  if (trainy[i] == 0 or trainy[i] == 1 or trainy[i] == 2 or trainy[i] == 3 or trainy[i] == 4) :\n",
        "    train_x_b1[j] = trainX[i]\n",
        "    train_y_b1[j] = trainy[i]\n",
        "    j += 1\n",
        "  else:\n",
        "    train_x_b2[k] = trainX[i]\n",
        "    train_y_b2[k] = trainy[i]\n",
        "    k += 1\n",
        "\n",
        "print (len(train_y_b1))\n",
        "print (len(train_y_b2))"
      ],
      "metadata": {
        "colab": {
          "base_uri": "https://localhost:8080/"
        },
        "id": "fy1IKIBCOiLA",
        "outputId": "f415e464-2342-45fa-c64f-d83a11240fcc"
      },
      "execution_count": null,
      "outputs": [
        {
          "output_type": "stream",
          "name": "stdout",
          "text": [
            "30596\n",
            "29404\n"
          ]
        }
      ]
    },
    {
      "cell_type": "code",
      "source": [
        "train_per_x_b1 = np.zeros(shape = ( 180, 28, 28 ), dtype=np.uint8)\n",
        "train_per_y_b1 = np.zeros(shape = ( 180 ), dtype=np.uint8)\n",
        "train_per_x_b2 = np.zeros(shape = ( 180, 28, 28 ), dtype=np.uint8)\n",
        "train_per_y_b2 = np.zeros(shape = ( 180 ), dtype=np.uint8)\n",
        "i=0\n",
        "j=0\n",
        "k=0\n",
        "for i in (range(len(train_per_y))):\n",
        "  if (train_per_y[i] == 0 or train_per_y[i] == 1 or train_per_y[i] == 2 or train_per_y[i] == 3 or train_per_y[i] == 4) :\n",
        "    train_per_x_b1[j] = train_per_x[i]\n",
        "    train_per_y_b1[j] = train_per_y[i]\n",
        "    j += 1\n",
        "  else:\n",
        "    train_per_x_b2[k] = train_per_x[i]\n",
        "    train_per_y_b2[k] = train_per_y[i]\n",
        "    k += 1\n",
        "\n",
        "print (len(train_per_y_b1))\n",
        "print (len(train_per_y_b2))"
      ],
      "metadata": {
        "colab": {
          "base_uri": "https://localhost:8080/"
        },
        "id": "7OSZMqXGLQH9",
        "outputId": "89434305-fd62-4287-b374-12d5c93dc068"
      },
      "execution_count": null,
      "outputs": [
        {
          "output_type": "stream",
          "name": "stdout",
          "text": [
            "180\n",
            "180\n"
          ]
        }
      ]
    },
    {
      "cell_type": "markdown",
      "source": [
        "Reshape datasets to prepare for the model\n",
        "\n",
        "---\n",
        "\n"
      ],
      "metadata": {
        "id": "JUnk4V7cdsRg"
      }
    },
    {
      "cell_type": "code",
      "source": [
        "trainX = trainX.reshape((trainX.shape[0], 28, 28, 1))\n",
        "train_x_b1 = train_x_b1.reshape((train_x_b1.shape[0], 28, 28, 1))\n",
        "train_x_b2 = train_x_b2.reshape((train_x_b2.shape[0], 28, 28, 1))\n",
        "testX = testX.reshape((testX.shape[0], 28, 28, 1))\n",
        "\n",
        "train_per_x_b1 = train_per_x_b1.reshape((train_per_x_b1.shape[0], 28, 28, 1))\n",
        "train_per_x_b2 = train_per_x_b2.reshape((train_per_x_b2.shape[0], 28, 28, 1))\n",
        "train_per_x = train_per_x.reshape((train_per_x.shape[0], 28, 28, 1))"
      ],
      "metadata": {
        "id": "WsDJ6KGr8453"
      },
      "execution_count": null,
      "outputs": []
    },
    {
      "cell_type": "markdown",
      "source": [
        "Convert the label datasets to categorical since there are 10 possible target categories of digits:\n",
        "\n",
        "---\n",
        "\n"
      ],
      "metadata": {
        "id": "tPdgdNxqd-7Q"
      }
    },
    {
      "cell_type": "code",
      "source": [
        "# one hot encode target values\n",
        "trainy = tf.keras.utils.to_categorical(trainy)\n",
        "train_y_b1 = tf.keras.utils.to_categorical(train_y_b1)\n",
        "train_y_b2 = tf.keras.utils.to_categorical(train_y_b2)\n",
        "train_per_y_b1 = tf.keras.utils.to_categorical(train_per_y_b1)\n",
        "train_per_y_b2 = tf.keras.utils.to_categorical(train_per_y_b2)\n",
        "testy = tf.keras.utils.to_categorical(testy)\n",
        "\n",
        "train_per_y = tf.keras.utils.to_categorical(train_per_y)\n"
      ],
      "metadata": {
        "id": "txYheBmY_LWy"
      },
      "execution_count": null,
      "outputs": []
    },
    {
      "cell_type": "markdown",
      "source": [
        "Convert the datasets of images from 8-bit grayscale pixels values to float values and normalize the values to range of 0 and 1:\n",
        "\n",
        "---\n",
        "\n"
      ],
      "metadata": {
        "id": "RB8x54creRp9"
      }
    },
    {
      "cell_type": "code",
      "source": [
        "# convert from integers to floats\n",
        "trainX = trainX.astype('float32')\n",
        "train_x_b1 = train_x_b1.astype('float32')\n",
        "train_x_b2 = train_x_b2.astype('float32')\n",
        "test_X = testX.astype('float32')\n",
        "# normalize to range 0-1\n",
        "trainX = trainX / 255.0\n",
        "train_x_b1 = train_x_b1 / 255.0\n",
        "train_x_b2 = train_x_b2 / 255.0\n",
        "testX = testX / 255.0\n",
        "\n",
        "# convert from integers to floats\n",
        "train_per_x = train_per_x.astype('float32')\n",
        "train_per_x_b1 = train_per_x_b1.astype('float32')\n",
        "train_per_x_b2 = train_per_x_b2.astype('float32')\n",
        "# normalize to range 0-1\n",
        "train_per_x = train_per_x / 255.0\n",
        "train_per_x_b1 = train_per_x_b1 / 255.0\n",
        "train_per_x_b2 = train_per_x_b2 / 255.0\n"
      ],
      "metadata": {
        "id": "vrV94g5cE9kW"
      },
      "execution_count": null,
      "outputs": []
    },
    {
      "cell_type": "markdown",
      "source": [
        "Defining the small and final model. Here we are using a dense relu based model with Adam optimizer and default learning rate of 0.001.\n",
        "\n",
        "---\n",
        "\n"
      ],
      "metadata": {
        "id": "aFHkLGH9i6wE"
      }
    },
    {
      "cell_type": "code",
      "source": [
        "model_small = Sequential()\n",
        "model_small.add(Flatten())\n",
        "model_small.add(Dense(150, activation='relu', kernel_initializer='random_normal', bias_initializer='zeros'))\n",
        "model_small.add(Dense(80, activation='relu', kernel_initializer='random_normal', bias_initializer='zeros'))\n",
        "model_small.add(Dense(5, activation='softmax'))\n",
        "# compile model\n",
        "opt = Adam(0.001)\n",
        "model_small.compile(optimizer=opt, loss='categorical_crossentropy', metrics=['accuracy'])\n",
        "\n",
        "model_final = Sequential()\n",
        "model_final.add(Flatten())\n",
        "model_final.add(Dense(256, activation='relu', kernel_initializer='random_normal', bias_initializer='zeros'))\n",
        "model_final.add(Dense(128, activation='relu', kernel_initializer='random_normal', bias_initializer='zeros'))\n",
        "model_final.add(Dense(10, activation='softmax'))\n",
        "# compile model\n",
        "opt = Adam(0.0005)\n",
        "model_final.compile(optimizer=opt, loss='categorical_crossentropy', metrics=['accuracy'])\n"
      ],
      "metadata": {
        "id": "P11lGRmMU7tR"
      },
      "execution_count": null,
      "outputs": []
    },
    {
      "cell_type": "markdown",
      "source": [
        "The function to run the model on given dataset and parameters using k-fold cross-validation:\n",
        "\n",
        "---\n",
        "\n"
      ],
      "metadata": {
        "id": "HWKS-dKsjXcE"
      }
    },
    {
      "cell_type": "code",
      "source": [
        "# evaluate a model using k-fold cross-validation\n",
        "def evaluate_model(model, dataX, dataY, n_folds, n_epochs, n_batch_size):\n",
        "\tscores, histories = list(), list()\n",
        "\t# prepare cross validation\n",
        "\tkfold = KFold(n_folds, shuffle=True, random_state=1)\n",
        "\t# enumerate splits\n",
        "\tfor train_ix, test_ix in kfold.split(dataX):\n",
        "\t\t# select rows for train and test\n",
        "\t\ttrainX, trainY, testX, testY = dataX[train_ix], dataY[train_ix], dataX[test_ix], dataY[test_ix]\n",
        "\t\t# fit model\n",
        "\t\thistory = model.fit(trainX, trainY, epochs=n_epochs, batch_size=n_batch_size, validation_data=(testX, testY))\n",
        "\t\t# evaluate model\n",
        "\t\t_, acc = model.evaluate(testX, testY)\n",
        "\t\tprint('> %.3f' % (acc * 100.0))\n",
        "\t\t# stores scores\n",
        "\t\tscores.append(acc)\n",
        "\t\thistories.append(history)\n",
        "\treturn scores, histories, model"
      ],
      "metadata": {
        "id": "nRa7NJVrIxEM"
      },
      "execution_count": null,
      "outputs": []
    },
    {
      "cell_type": "code",
      "source": [
        "# plot diagnostic learning curves\n",
        "def summarize_diagnostics(histories):\n",
        "  for i in range(len(histories)):\n",
        "      # plot loss\n",
        "      plt.subplot(2, 2, 1)\n",
        "      plt.title('Cross Entropy Loss')\n",
        "      plt.plot(histories[i].history['loss'], color='blue', label='train')\n",
        "      plt.plot(histories[i].history['val_loss'], color='orange', label='test')\n",
        "      # plot accuracy\n",
        "      plt.subplot(2, 2, 2)\n",
        "      plt.title('Classification Accuracy')\n",
        "      plt.plot(histories[i].history['accuracy'], color='blue', label='train')\n",
        "      plt.plot(histories[i].history['val_accuracy'], color='orange', label='test')\n",
        "  plt.show()\n",
        " \n",
        "# summarize model performance\n",
        "def summarize_performance(scores):\n",
        "\t# print summary\n",
        "\tprint('Accuracy: mean=%.3f std=%.3f, n=%d' % (mean(scores)*100, std(scores)*100, len(scores)))\n",
        "\t# box and whisker plots of results\n",
        "\tplt.boxplot(scores)\n",
        "\tplt.show()"
      ],
      "metadata": {
        "id": "0qGiMLjmJPIV"
      },
      "execution_count": null,
      "outputs": []
    },
    {
      "cell_type": "markdown",
      "source": [
        "Creating the base random intitialized model and save it to reuse for the baseline. We want to use same random weights for comparing different methods fairly:\n",
        "\n",
        "---\n",
        "\n"
      ],
      "metadata": {
        "id": "boDLm206jnlk"
      }
    },
    {
      "cell_type": "code",
      "source": [
        "model_small.build((None, 28, 28, 1))\n",
        "model_small.save(\"random_init_small\")\n",
        "model_final.build((None, 28, 28, 1))\n",
        "model_final.save(\"random_init_final\")"
      ],
      "metadata": {
        "colab": {
          "base_uri": "https://localhost:8080/"
        },
        "id": "X74LURKGIRBI",
        "outputId": "016a1070-c409-4203-d27a-af92af05fe70"
      },
      "execution_count": null,
      "outputs": [
        {
          "output_type": "stream",
          "name": "stdout",
          "text": [
            "INFO:tensorflow:Assets written to: random_init_small/assets\n",
            "INFO:tensorflow:Assets written to: random_init_final/assets\n"
          ]
        }
      ]
    },
    {
      "cell_type": "markdown",
      "source": [
        "Creating a list to save each run performance \n",
        "\n",
        "---\n",
        "\n"
      ],
      "metadata": {
        "id": "aYK1WqLQpQUq"
      }
    },
    {
      "cell_type": "code",
      "source": [
        "results = ([])"
      ],
      "metadata": {
        "id": "Gt_1k528olg2"
      },
      "execution_count": null,
      "outputs": []
    },
    {
      "cell_type": "code",
      "source": [
        "model_small.summary()"
      ],
      "metadata": {
        "colab": {
          "base_uri": "https://localhost:8080/"
        },
        "id": "GKCco2NU0XPy",
        "outputId": "7ed796dc-1667-436a-fdb9-65b4c719681c"
      },
      "execution_count": null,
      "outputs": [
        {
          "output_type": "stream",
          "name": "stdout",
          "text": [
            "Model: \"sequential\"\n",
            "_________________________________________________________________\n",
            " Layer (type)                Output Shape              Param #   \n",
            "=================================================================\n",
            " flatten (Flatten)           (None, 784)               0         \n",
            "                                                                 \n",
            " dense (Dense)               (None, 150)               117750    \n",
            "                                                                 \n",
            " dense_1 (Dense)             (None, 80)                12080     \n",
            "                                                                 \n",
            " dense_2 (Dense)             (None, 5)                 405       \n",
            "                                                                 \n",
            "=================================================================\n",
            "Total params: 130,235\n",
            "Trainable params: 130,235\n",
            "Non-trainable params: 0\n",
            "_________________________________________________________________\n"
          ]
        }
      ]
    },
    {
      "cell_type": "code",
      "source": [
        "model = tf.keras.models.load_model(\"random_init_small\")\n",
        "from keras import backend as K\n",
        "K.set_value(model.optimizer.learning_rate, 0.01)\n",
        "scores, histories, model = evaluate_model(model, train_per_x_b1, train_per_y_b1,10,3,72)\n",
        "\n",
        "model.save(\"trained_perfect_b1\")\n",
        "\n",
        "# learning curves\n",
        "summarize_diagnostics(histories)\n",
        "# summarize estimated performance\n",
        "summarize_performance(scores)\n",
        "desc = \"Random initialized on per_b1 (0 to 4) with LR=0.01 & epoch=3\"\n",
        "results.append([desc,round(model.evaluate(train_per_x_b1, train_per_y_b1, verbose=0)[1]*100,3),round(model.evaluate(train_x_b1, train_y_b1, verbose=0)[1]*100,3)])\n",
        "print (results[len(results)-1])"
      ],
      "metadata": {
        "colab": {
          "base_uri": "https://localhost:8080/",
          "height": 1000
        },
        "id": "E8ZEbS3lb3gs",
        "outputId": "289261dc-1b5c-4de2-efea-36c8655cd9f3"
      },
      "execution_count": null,
      "outputs": [
        {
          "output_type": "stream",
          "name": "stdout",
          "text": [
            "Epoch 1/3\n",
            "3/3 [==============================] - 2s 104ms/step - loss: 1.5447 - accuracy: 0.3148 - val_loss: 0.9341 - val_accuracy: 0.6111\n",
            "Epoch 2/3\n",
            "3/3 [==============================] - 0s 13ms/step - loss: 0.7380 - accuracy: 0.8025 - val_loss: 0.3904 - val_accuracy: 0.8889\n",
            "Epoch 3/3\n",
            "3/3 [==============================] - 0s 15ms/step - loss: 0.3115 - accuracy: 0.9136 - val_loss: 0.1320 - val_accuracy: 0.9444\n",
            "1/1 [==============================] - 0s 17ms/step - loss: 0.1320 - accuracy: 0.9444\n",
            "> 94.444\n",
            "Epoch 1/3\n",
            "3/3 [==============================] - 0s 32ms/step - loss: 0.1441 - accuracy: 0.9568 - val_loss: 0.0943 - val_accuracy: 0.9444\n",
            "Epoch 2/3\n",
            "3/3 [==============================] - 0s 14ms/step - loss: 0.0500 - accuracy: 0.9691 - val_loss: 0.2061 - val_accuracy: 0.9444\n",
            "Epoch 3/3\n",
            "3/3 [==============================] - 0s 13ms/step - loss: 0.0499 - accuracy: 0.9815 - val_loss: 0.0365 - val_accuracy: 1.0000\n",
            "1/1 [==============================] - 0s 21ms/step - loss: 0.0365 - accuracy: 1.0000\n",
            "> 100.000\n",
            "Epoch 1/3\n",
            "3/3 [==============================] - 0s 28ms/step - loss: 0.0082 - accuracy: 1.0000 - val_loss: 0.0602 - val_accuracy: 1.0000\n",
            "Epoch 2/3\n",
            "3/3 [==============================] - 0s 14ms/step - loss: 0.0111 - accuracy: 1.0000 - val_loss: 0.0308 - val_accuracy: 1.0000\n",
            "Epoch 3/3\n",
            "3/3 [==============================] - 0s 13ms/step - loss: 0.0054 - accuracy: 1.0000 - val_loss: 0.0011 - val_accuracy: 1.0000\n",
            "1/1 [==============================] - 0s 20ms/step - loss: 0.0011 - accuracy: 1.0000\n",
            "> 100.000\n",
            "Epoch 1/3\n",
            "3/3 [==============================] - 0s 29ms/step - loss: 6.2825e-04 - accuracy: 1.0000 - val_loss: 1.2506e-04 - val_accuracy: 1.0000\n",
            "Epoch 2/3\n",
            "3/3 [==============================] - 0s 13ms/step - loss: 5.2769e-04 - accuracy: 1.0000 - val_loss: 2.8534e-04 - val_accuracy: 1.0000\n",
            "Epoch 3/3\n",
            "3/3 [==============================] - 0s 13ms/step - loss: 6.1858e-04 - accuracy: 1.0000 - val_loss: 5.4322e-04 - val_accuracy: 1.0000\n",
            "1/1 [==============================] - 0s 17ms/step - loss: 5.4322e-04 - accuracy: 1.0000\n",
            "> 100.000\n",
            "Epoch 1/3\n",
            "3/3 [==============================] - 0s 39ms/step - loss: 6.2603e-04 - accuracy: 1.0000 - val_loss: 8.5576e-05 - val_accuracy: 1.0000\n",
            "Epoch 2/3\n",
            "3/3 [==============================] - 0s 21ms/step - loss: 6.0184e-04 - accuracy: 1.0000 - val_loss: 6.3274e-05 - val_accuracy: 1.0000\n",
            "Epoch 3/3\n",
            "3/3 [==============================] - 0s 15ms/step - loss: 4.6689e-04 - accuracy: 1.0000 - val_loss: 4.1754e-05 - val_accuracy: 1.0000\n",
            "1/1 [==============================] - 0s 18ms/step - loss: 4.1754e-05 - accuracy: 1.0000\n",
            "> 100.000\n",
            "Epoch 1/3\n",
            "3/3 [==============================] - 0s 28ms/step - loss: 1.9902e-04 - accuracy: 1.0000 - val_loss: 4.0410e-04 - val_accuracy: 1.0000\n",
            "Epoch 2/3\n",
            "3/3 [==============================] - 0s 14ms/step - loss: 1.2744e-04 - accuracy: 1.0000 - val_loss: 2.7746e-04 - val_accuracy: 1.0000\n",
            "Epoch 3/3\n",
            "3/3 [==============================] - 0s 18ms/step - loss: 8.5924e-05 - accuracy: 1.0000 - val_loss: 2.0158e-04 - val_accuracy: 1.0000\n",
            "1/1 [==============================] - 0s 19ms/step - loss: 2.0158e-04 - accuracy: 1.0000\n",
            "> 100.000\n",
            "Epoch 1/3\n",
            "3/3 [==============================] - 0s 29ms/step - loss: 8.0870e-05 - accuracy: 1.0000 - val_loss: 1.7668e-05 - val_accuracy: 1.0000\n",
            "Epoch 2/3\n",
            "3/3 [==============================] - 0s 18ms/step - loss: 5.9126e-05 - accuracy: 1.0000 - val_loss: 1.5980e-05 - val_accuracy: 1.0000\n",
            "Epoch 3/3\n",
            "3/3 [==============================] - 0s 13ms/step - loss: 4.7652e-05 - accuracy: 1.0000 - val_loss: 1.4934e-05 - val_accuracy: 1.0000\n",
            "1/1 [==============================] - 0s 23ms/step - loss: 1.4934e-05 - accuracy: 1.0000\n",
            "> 100.000\n",
            "Epoch 1/3\n",
            "3/3 [==============================] - 0s 28ms/step - loss: 4.0646e-05 - accuracy: 1.0000 - val_loss: 4.6887e-06 - val_accuracy: 1.0000\n",
            "Epoch 2/3\n",
            "3/3 [==============================] - 0s 13ms/step - loss: 3.4716e-05 - accuracy: 1.0000 - val_loss: 4.1391e-06 - val_accuracy: 1.0000\n",
            "Epoch 3/3\n",
            "3/3 [==============================] - 0s 19ms/step - loss: 2.9931e-05 - accuracy: 1.0000 - val_loss: 3.7616e-06 - val_accuracy: 1.0000\n",
            "1/1 [==============================] - 0s 18ms/step - loss: 3.7616e-06 - accuracy: 1.0000\n",
            "> 100.000\n",
            "Epoch 1/3\n",
            "3/3 [==============================] - 0s 30ms/step - loss: 1.8538e-05 - accuracy: 1.0000 - val_loss: 7.4474e-05 - val_accuracy: 1.0000\n",
            "Epoch 2/3\n",
            "3/3 [==============================] - 0s 14ms/step - loss: 1.6911e-05 - accuracy: 1.0000 - val_loss: 6.8425e-05 - val_accuracy: 1.0000\n",
            "Epoch 3/3\n",
            "3/3 [==============================] - 0s 13ms/step - loss: 1.6050e-05 - accuracy: 1.0000 - val_loss: 6.3719e-05 - val_accuracy: 1.0000\n",
            "1/1 [==============================] - 0s 20ms/step - loss: 6.3719e-05 - accuracy: 1.0000\n",
            "> 100.000\n",
            "Epoch 1/3\n",
            "3/3 [==============================] - 0s 30ms/step - loss: 2.1208e-05 - accuracy: 1.0000 - val_loss: 9.3710e-06 - val_accuracy: 1.0000\n",
            "Epoch 2/3\n",
            "3/3 [==============================] - 0s 15ms/step - loss: 2.0000e-05 - accuracy: 1.0000 - val_loss: 9.3246e-06 - val_accuracy: 1.0000\n",
            "Epoch 3/3\n",
            "3/3 [==============================] - 0s 15ms/step - loss: 1.9147e-05 - accuracy: 1.0000 - val_loss: 9.2849e-06 - val_accuracy: 1.0000\n",
            "1/1 [==============================] - 0s 18ms/step - loss: 9.2849e-06 - accuracy: 1.0000\n",
            "> 100.000\n",
            "INFO:tensorflow:Assets written to: trained_perfect_b1/assets\n"
          ]
        },
        {
          "output_type": "stream",
          "name": "stderr",
          "text": [
            "/usr/local/lib/python3.7/dist-packages/ipykernel_launcher.py:5: MatplotlibDeprecationWarning: Adding an axes using the same arguments as a previous axes currently reuses the earlier instance.  In a future version, a new instance will always be created and returned.  Meanwhile, this warning can be suppressed, and the future behavior ensured, by passing a unique label to each axes instance.\n",
            "  \"\"\"\n",
            "/usr/local/lib/python3.7/dist-packages/ipykernel_launcher.py:10: MatplotlibDeprecationWarning: Adding an axes using the same arguments as a previous axes currently reuses the earlier instance.  In a future version, a new instance will always be created and returned.  Meanwhile, this warning can be suppressed, and the future behavior ensured, by passing a unique label to each axes instance.\n",
            "  # Remove the CWD from sys.path while we load stuff.\n"
          ]
        },
        {
          "output_type": "display_data",
          "data": {
            "text/plain": [
              "<Figure size 432x288 with 2 Axes>"
            ],
            "image/png": "[encoded data removed]"
          },
          "metadata": {
            "needs_background": "light"
          }
        },
        {
          "output_type": "stream",
          "name": "stdout",
          "text": [
            "Accuracy: mean=99.444 std=1.667, n=10\n"
          ]
        },
        {
          "output_type": "display_data",
          "data": {
            "text/plain": [
              "<Figure size 432x288 with 1 Axes>"
            ],
            "image/png": "[encoded data removed]"
          },
          "metadata": {
            "needs_background": "light"
          }
        },
        {
          "output_type": "stream",
          "name": "stdout",
          "text": [
            "['Random initialized on per_b1 (0 to 4) with LR=0.01 & epoch=3', 100.0, 64.616]\n"
          ]
        }
      ]
    },
    {
      "cell_type": "code",
      "source": [
        "trainmixX_b1 = np. concatenate((train_x_b1, train_per_x_b1), axis=0)\n",
        "trainmixy_b1 = np. concatenate((train_y_b1, train_per_y_b1), axis=0)\n",
        "print(trainmixX_b1.shape)\n",
        "print(trainmixy_b1.shape)"
      ],
      "metadata": {
        "colab": {
          "base_uri": "https://localhost:8080/"
        },
        "id": "52Nr1kkrMynP",
        "outputId": "9c938f98-2909-4486-8d63-5f52e119994f"
      },
      "execution_count": null,
      "outputs": [
        {
          "output_type": "stream",
          "name": "stdout",
          "text": [
            "(30776, 28, 28, 1)\n",
            "(30776, 5)\n"
          ]
        }
      ]
    },
    {
      "cell_type": "code",
      "source": [
        "model = tf.keras.models.load_model(\"trained_perfect_b1\")\n",
        "from keras import backend as K\n",
        "K.set_value(model.optimizer.learning_rate, 0.002)\n",
        "scores, histories, model = evaluate_model(model, trainmixX_b1, trainmixy_b1,10,3,72)\n",
        "\n",
        "model.save(\"trained_finetune_mix_b1\")\n",
        "\n",
        "# learning curves\n",
        "summarize_diagnostics(histories)\n",
        "# summarize estimated performance\n",
        "summarize_performance(scores)\n",
        "desc = \"trained_finetune_mix_b1 on mix data (0 to 4) with LR=0.002 & epoch=3\"\n",
        "results.append([desc,round(model.evaluate(train_per_x_b1, train_per_y_b1, verbose=0)[1]*100,3),round(model.evaluate(train_x_b1, train_y_b1, verbose=0)[1]*100,3)])\n",
        "print (results[len(results)-1])"
      ],
      "metadata": {
        "colab": {
          "base_uri": "https://localhost:8080/",
          "height": 1000
        },
        "id": "VAwDfYovNIIL",
        "outputId": "b998149b-3f61-418c-c65f-1e8f98cf0bc6"
      },
      "execution_count": null,
      "outputs": [
        {
          "output_type": "stream",
          "name": "stdout",
          "text": [
            "Epoch 1/3\n",
            "385/385 [==============================] - 2s 4ms/step - loss: 0.2324 - accuracy: 0.9556 - val_loss: 0.0469 - val_accuracy: 0.9857\n",
            "Epoch 2/3\n",
            "385/385 [==============================] - 1s 4ms/step - loss: 0.0457 - accuracy: 0.9851 - val_loss: 0.0370 - val_accuracy: 0.9870\n",
            "Epoch 3/3\n",
            "385/385 [==============================] - 1s 4ms/step - loss: 0.0276 - accuracy: 0.9913 - val_loss: 0.0421 - val_accuracy: 0.9873\n",
            "97/97 [==============================] - 0s 2ms/step - loss: 0.0421 - accuracy: 0.9873\n",
            "> 98.733\n",
            "Epoch 1/3\n",
            "385/385 [==============================] - 1s 3ms/step - loss: 0.0216 - accuracy: 0.9933 - val_loss: 0.0244 - val_accuracy: 0.9909\n",
            "Epoch 2/3\n",
            "385/385 [==============================] - 1s 4ms/step - loss: 0.0124 - accuracy: 0.9960 - val_loss: 0.0425 - val_accuracy: 0.9873\n",
            "Epoch 3/3\n",
            "385/385 [==============================] - 1s 4ms/step - loss: 0.0119 - accuracy: 0.9960 - val_loss: 0.0303 - val_accuracy: 0.9912\n",
            "97/97 [==============================] - 0s 2ms/step - loss: 0.0303 - accuracy: 0.9912\n",
            "> 99.123\n",
            "Epoch 1/3\n",
            "385/385 [==============================] - 1s 4ms/step - loss: 0.0148 - accuracy: 0.9953 - val_loss: 0.0329 - val_accuracy: 0.9893\n",
            "Epoch 2/3\n",
            "385/385 [==============================] - 1s 3ms/step - loss: 0.0069 - accuracy: 0.9978 - val_loss: 0.0293 - val_accuracy: 0.9912\n",
            "Epoch 3/3\n",
            "385/385 [==============================] - 1s 4ms/step - loss: 0.0104 - accuracy: 0.9962 - val_loss: 0.0219 - val_accuracy: 0.9929\n",
            "97/97 [==============================] - 0s 2ms/step - loss: 0.0219 - accuracy: 0.9929\n",
            "> 99.285\n",
            "Epoch 1/3\n",
            "385/385 [==============================] - 1s 4ms/step - loss: 0.0107 - accuracy: 0.9967 - val_loss: 0.0095 - val_accuracy: 0.9968\n",
            "Epoch 2/3\n",
            "385/385 [==============================] - 1s 3ms/step - loss: 0.0086 - accuracy: 0.9973 - val_loss: 0.0111 - val_accuracy: 0.9961\n",
            "Epoch 3/3\n",
            "385/385 [==============================] - 1s 4ms/step - loss: 0.0050 - accuracy: 0.9986 - val_loss: 0.0052 - val_accuracy: 0.9977\n",
            "97/97 [==============================] - 0s 2ms/step - loss: 0.0052 - accuracy: 0.9977\n",
            "> 99.773\n",
            "Epoch 1/3\n",
            "385/385 [==============================] - 1s 4ms/step - loss: 0.0042 - accuracy: 0.9986 - val_loss: 0.0067 - val_accuracy: 0.9977\n",
            "Epoch 2/3\n",
            "385/385 [==============================] - 1s 3ms/step - loss: 0.0037 - accuracy: 0.9990 - val_loss: 0.0142 - val_accuracy: 0.9961\n",
            "Epoch 3/3\n",
            "385/385 [==============================] - 1s 3ms/step - loss: 0.0079 - accuracy: 0.9977 - val_loss: 0.0053 - val_accuracy: 0.9981\n",
            "97/97 [==============================] - 0s 2ms/step - loss: 0.0053 - accuracy: 0.9981\n",
            "> 99.805\n",
            "Epoch 1/3\n",
            "385/385 [==============================] - 1s 4ms/step - loss: 0.0067 - accuracy: 0.9977 - val_loss: 0.0038 - val_accuracy: 0.9990\n",
            "Epoch 2/3\n",
            "385/385 [==============================] - 1s 3ms/step - loss: 0.0045 - accuracy: 0.9987 - val_loss: 0.0015 - val_accuracy: 0.9997\n",
            "Epoch 3/3\n",
            "385/385 [==============================] - 1s 3ms/step - loss: 0.0019 - accuracy: 0.9994 - val_loss: 0.0018 - val_accuracy: 0.9994\n",
            "97/97 [==============================] - 0s 2ms/step - loss: 0.0018 - accuracy: 0.9994\n",
            "> 99.935\n",
            "Epoch 1/3\n",
            "385/385 [==============================] - 1s 4ms/step - loss: 0.0061 - accuracy: 0.9981 - val_loss: 0.0069 - val_accuracy: 0.9971\n",
            "Epoch 2/3\n",
            "385/385 [==============================] - 1s 3ms/step - loss: 0.0099 - accuracy: 0.9974 - val_loss: 0.0031 - val_accuracy: 0.9990\n",
            "Epoch 3/3\n",
            "385/385 [==============================] - 1s 4ms/step - loss: 0.0016 - accuracy: 0.9994 - val_loss: 7.3924e-04 - val_accuracy: 0.9997\n",
            "97/97 [==============================] - 0s 2ms/step - loss: 7.3924e-04 - accuracy: 0.9997\n",
            "> 99.968\n",
            "Epoch 1/3\n",
            "385/385 [==============================] - 1s 4ms/step - loss: 0.0016 - accuracy: 0.9993 - val_loss: 0.0017 - val_accuracy: 0.9990\n",
            "Epoch 2/3\n",
            "385/385 [==============================] - 1s 3ms/step - loss: 3.9750e-04 - accuracy: 0.9999 - val_loss: 2.8478e-04 - val_accuracy: 1.0000\n",
            "Epoch 3/3\n",
            "385/385 [==============================] - 1s 4ms/step - loss: 3.6000e-05 - accuracy: 1.0000 - val_loss: 3.7619e-04 - val_accuracy: 0.9997\n",
            "97/97 [==============================] - 0s 2ms/step - loss: 3.7619e-04 - accuracy: 0.9997\n",
            "> 99.968\n",
            "Epoch 1/3\n",
            "385/385 [==============================] - 1s 4ms/step - loss: 6.0678e-05 - accuracy: 1.0000 - val_loss: 0.0014 - val_accuracy: 0.9994\n",
            "Epoch 2/3\n",
            "385/385 [==============================] - 1s 4ms/step - loss: 0.0114 - accuracy: 0.9971 - val_loss: 0.0101 - val_accuracy: 0.9974\n",
            "Epoch 3/3\n",
            "385/385 [==============================] - 1s 3ms/step - loss: 0.0079 - accuracy: 0.9975 - val_loss: 0.0067 - val_accuracy: 0.9977\n",
            "97/97 [==============================] - 0s 2ms/step - loss: 0.0067 - accuracy: 0.9977\n",
            "> 99.773\n",
            "Epoch 1/3\n",
            "385/385 [==============================] - 1s 3ms/step - loss: 0.0055 - accuracy: 0.9983 - val_loss: 0.0029 - val_accuracy: 0.9990\n",
            "Epoch 2/3\n",
            "385/385 [==============================] - 1s 4ms/step - loss: 0.0047 - accuracy: 0.9986 - val_loss: 0.0083 - val_accuracy: 0.9984\n",
            "Epoch 3/3\n",
            "385/385 [==============================] - 1s 3ms/step - loss: 0.0018 - accuracy: 0.9994 - val_loss: 5.0506e-04 - val_accuracy: 0.9997\n",
            "97/97 [==============================] - 0s 2ms/step - loss: 5.0506e-04 - accuracy: 0.9997\n",
            "> 99.968\n",
            "INFO:tensorflow:Assets written to: trained_finetune_mix_b1/assets\n"
          ]
        },
        {
          "output_type": "stream",
          "name": "stderr",
          "text": [
            "/usr/local/lib/python3.7/dist-packages/ipykernel_launcher.py:5: MatplotlibDeprecationWarning: Adding an axes using the same arguments as a previous axes currently reuses the earlier instance.  In a future version, a new instance will always be created and returned.  Meanwhile, this warning can be suppressed, and the future behavior ensured, by passing a unique label to each axes instance.\n",
            "  \"\"\"\n",
            "/usr/local/lib/python3.7/dist-packages/ipykernel_launcher.py:10: MatplotlibDeprecationWarning: Adding an axes using the same arguments as a previous axes currently reuses the earlier instance.  In a future version, a new instance will always be created and returned.  Meanwhile, this warning can be suppressed, and the future behavior ensured, by passing a unique label to each axes instance.\n",
            "  # Remove the CWD from sys.path while we load stuff.\n"
          ]
        },
        {
          "output_type": "display_data",
          "data": {
            "text/plain": [
              "<Figure size 432x288 with 2 Axes>"
            ],
            "image/png": "[encoded data removed]"
          },
          "metadata": {
            "needs_background": "light"
          }
        },
        {
          "output_type": "stream",
          "name": "stdout",
          "text": [
            "Accuracy: mean=99.633 std=0.411, n=10\n"
          ]
        },
        {
          "output_type": "display_data",
          "data": {
            "text/plain": [
              "<Figure size 432x288 with 1 Axes>"
            ],
            "image/png": "[encoded data removed]"
          },
          "metadata": {
            "needs_background": "light"
          }
        },
        {
          "output_type": "stream",
          "name": "stdout",
          "text": [
            "['trained_finetune_mix_b1 on mix data (0 to 4) with LR=0.002 & epoch=3', 100.0, 99.974]\n"
          ]
        }
      ]
    },
    {
      "cell_type": "markdown",
      "source": [
        "Updating random final model with weights from finetuned small size model."
      ],
      "metadata": {
        "id": "RiuvHzuvdQn-"
      }
    },
    {
      "cell_type": "code",
      "source": [
        "model_small = tf.keras.models.load_model(\"trained_finetune_mix_b1\")\n",
        "b = model_small.layers[1].get_weights()\n",
        "a = model_final.layers[1].get_weights()\n",
        "a[0][:784,:150]=b[0]\n",
        "a[1][:150]=b[1]\n",
        "model_final.layers[1].set_weights(a)\n",
        "\n",
        "b = model_small.layers[2].get_weights()\n",
        "a = model_final.layers[2].get_weights()\n",
        "a[0][:150,:80]=b[0]\n",
        "a[1][:80]=b[1]\n",
        "model_final.layers[2].set_weights(a)\n",
        "\n",
        "b = model_small.layers[3].get_weights()\n",
        "a = model_final.layers[3].get_weights()\n",
        "a[0][:80,:5]=b[0]\n",
        "a[1][:5]=b[1]\n",
        "model_final.layers[3].set_weights(a)"
      ],
      "metadata": {
        "id": "_8ec-B8PciQ5"
      },
      "execution_count": null,
      "outputs": []
    },
    {
      "cell_type": "code",
      "source": [
        "model = model_final\n",
        "model.layers[3].weights"
      ],
      "metadata": {
        "colab": {
          "base_uri": "https://localhost:8080/"
        },
        "id": "P5xh3IWI24Ug",
        "outputId": "304770d8-868e-4fad-c347-23b8ed05dd78"
      },
      "execution_count": null,
      "outputs": [
        {
          "output_type": "execute_result",
          "data": {
            "text/plain": [
              "[<tf.Variable 'dense_5/kernel:0' shape=(128, 10) dtype=float32, numpy=\n",
              " array([[ 0.10704491, -0.3751099 , -0.28861633, ..., -0.06922579,\n",
              "         -0.19368218,  0.19751208],\n",
              "        [ 0.18018271,  0.2200305 , -0.6636535 , ...,  0.06591536,\n",
              "          0.15217833, -0.18056819],\n",
              "        [-0.01373267, -0.06262822,  0.05092599, ...,  0.18087246,\n",
              "         -0.18532431, -0.02270088],\n",
              "        ...,\n",
              "        [ 0.16366221,  0.00837985, -0.18337046, ...,  0.10956176,\n",
              "         -0.04503307, -0.05266939],\n",
              "        [ 0.10026087,  0.03059287, -0.06803022, ...,  0.12525181,\n",
              "          0.14995717,  0.09157445],\n",
              "        [ 0.17736737, -0.04620978,  0.1722687 , ...,  0.05302007,\n",
              "         -0.17975482,  0.00868861]], dtype=float32)>,\n",
              " <tf.Variable 'dense_5/bias:0' shape=(10,) dtype=float32, numpy=\n",
              " array([-0.10687714, -0.41066825,  0.16213351, -0.04031408,  0.21503133,\n",
              "         0.        ,  0.        ,  0.        ,  0.        ,  0.        ],\n",
              "       dtype=float32)>]"
            ]
          },
          "metadata": {},
          "execution_count": 22
        }
      ]
    },
    {
      "cell_type": "code",
      "source": [
        "model_final.save('final_model_loaded_weights')\n",
        "desc = \"final_model_loaded_weights without training\"\n",
        "results.append([desc,round(model.evaluate(train_per_x, train_per_y, verbose=0)[1]*100,3),round(model.evaluate(trainX, trainy, verbose=0)[1]*100,3),round(model.evaluate(testX, testy, verbose=0)[1]*100,3)])\n",
        "print (results[len(results)-1])"
      ],
      "metadata": {
        "colab": {
          "base_uri": "https://localhost:8080/"
        },
        "id": "3j3L2HZUxtG7",
        "outputId": "4e2d0c8a-3f19-43fa-8cee-a7507faa0a7c"
      },
      "execution_count": null,
      "outputs": [
        {
          "output_type": "stream",
          "name": "stdout",
          "text": [
            "INFO:tensorflow:Assets written to: final_model_loaded_weights/assets\n",
            "['final_model_loaded_weights without training', 50.556, 51.053, 51.07]\n"
          ]
        }
      ]
    },
    {
      "cell_type": "code",
      "source": [
        "model.summary()"
      ],
      "metadata": {
        "colab": {
          "base_uri": "https://localhost:8080/"
        },
        "id": "BT1dIAYR0fQg",
        "outputId": "65487da2-9c04-4f1a-9b9b-8e5a67865081"
      },
      "execution_count": null,
      "outputs": [
        {
          "output_type": "stream",
          "name": "stdout",
          "text": [
            "Model: \"sequential_1\"\n",
            "_________________________________________________________________\n",
            " Layer (type)                Output Shape              Param #   \n",
            "=================================================================\n",
            " flatten_1 (Flatten)         (None, 784)               0         \n",
            "                                                                 \n",
            " dense_3 (Dense)             (None, 256)               200960    \n",
            "                                                                 \n",
            " dense_4 (Dense)             (None, 128)               32896     \n",
            "                                                                 \n",
            " dense_5 (Dense)             (None, 10)                1290      \n",
            "                                                                 \n",
            "=================================================================\n",
            "Total params: 235,146\n",
            "Trainable params: 235,146\n",
            "Non-trainable params: 0\n",
            "_________________________________________________________________\n"
          ]
        }
      ]
    },
    {
      "cell_type": "code",
      "source": [
        "trainmixX = np. concatenate((trainX, train_per_x), axis=0)\n",
        "trainmixy = np. concatenate((trainy, train_per_y), axis=0)\n",
        "print(trainmixX.shape)\n",
        "print(trainmixy.shape)"
      ],
      "metadata": {
        "colab": {
          "base_uri": "https://localhost:8080/"
        },
        "id": "_EG-czzriONO",
        "outputId": "4bdf47f6-ad94-43dd-fa08-93ae7c7f825c"
      },
      "execution_count": null,
      "outputs": [
        {
          "output_type": "stream",
          "name": "stdout",
          "text": [
            "(60360, 28, 28, 1)\n",
            "(60360, 10)\n"
          ]
        }
      ]
    },
    {
      "cell_type": "code",
      "source": [
        "model = tf.keras.models.load_model(\"final_model_loaded_weights\")\n",
        "from keras import backend as K\n",
        "K.set_value(model.optimizer.learning_rate, 0.0001)\n",
        "scores, histories, model = evaluate_model(model, trainmixX, trainmixy,10,3,144)\n",
        "\n",
        "\n",
        "\n",
        "# learning curves\n",
        "summarize_diagnostics(histories)\n",
        "# summarize estimated performance\n",
        "summarize_performance(scores)\n",
        "desc = \"final_model_loaded_weights on mix data with LR=0.0001 & epoch=3\"\n",
        "results.append([desc,round(model.evaluate(train_per_x, train_per_y, verbose=0)[1]*100,3),round(model.evaluate(trainX, trainy, verbose=0)[1]*100,3),round(model.evaluate(testX, testy, verbose=0)[1]*100,3)])\n",
        "print (results[len(results)-1])"
      ],
      "metadata": {
        "colab": {
          "base_uri": "https://localhost:8080/",
          "height": 1000
        },
        "id": "3KZOWm49efMP",
        "outputId": "6e1537a7-3660-4140-937c-fe9f02c79767"
      },
      "execution_count": null,
      "outputs": [
        {
          "output_type": "stream",
          "name": "stdout",
          "text": [
            "Epoch 1/3\n",
            "378/378 [==============================] - 3s 7ms/step - loss: 1.3248 - accuracy: 0.7460 - val_loss: 0.3562 - val_accuracy: 0.8897\n",
            "Epoch 2/3\n",
            "378/378 [==============================] - 2s 6ms/step - loss: 0.2753 - accuracy: 0.9164 - val_loss: 0.2195 - val_accuracy: 0.9314\n",
            "Epoch 3/3\n",
            "378/378 [==============================] - 3s 9ms/step - loss: 0.1899 - accuracy: 0.9425 - val_loss: 0.1741 - val_accuracy: 0.9437\n",
            "189/189 [==============================] - 0s 2ms/step - loss: 0.1741 - accuracy: 0.9437\n",
            "> 94.367\n",
            "Epoch 1/3\n",
            "378/378 [==============================] - 2s 6ms/step - loss: 0.1541 - accuracy: 0.9519 - val_loss: 0.1370 - val_accuracy: 0.9569\n",
            "Epoch 2/3\n",
            "378/378 [==============================] - 2s 6ms/step - loss: 0.1318 - accuracy: 0.9585 - val_loss: 0.1198 - val_accuracy: 0.9607\n",
            "Epoch 3/3\n",
            "378/378 [==============================] - 3s 7ms/step - loss: 0.1158 - accuracy: 0.9643 - val_loss: 0.1097 - val_accuracy: 0.9654\n",
            "189/189 [==============================] - 0s 2ms/step - loss: 0.1097 - accuracy: 0.9654\n",
            "> 96.537\n",
            "Epoch 1/3\n",
            "378/378 [==============================] - 2s 6ms/step - loss: 0.1048 - accuracy: 0.9670 - val_loss: 0.0956 - val_accuracy: 0.9717\n",
            "Epoch 2/3\n",
            "378/378 [==============================] - 2s 6ms/step - loss: 0.0945 - accuracy: 0.9704 - val_loss: 0.0917 - val_accuracy: 0.9712\n",
            "Epoch 3/3\n",
            "378/378 [==============================] - 2s 6ms/step - loss: 0.0865 - accuracy: 0.9730 - val_loss: 0.0867 - val_accuracy: 0.9735\n",
            "189/189 [==============================] - 0s 2ms/step - loss: 0.0867 - accuracy: 0.9735\n",
            "> 97.349\n",
            "Epoch 1/3\n",
            "378/378 [==============================] - 2s 6ms/step - loss: 0.0801 - accuracy: 0.9749 - val_loss: 0.0732 - val_accuracy: 0.9773\n",
            "Epoch 2/3\n",
            "378/378 [==============================] - 2s 6ms/step - loss: 0.0738 - accuracy: 0.9773 - val_loss: 0.0698 - val_accuracy: 0.9790\n",
            "Epoch 3/3\n",
            "378/378 [==============================] - 2s 6ms/step - loss: 0.0679 - accuracy: 0.9795 - val_loss: 0.0686 - val_accuracy: 0.9790\n",
            "189/189 [==============================] - 0s 2ms/step - loss: 0.0686 - accuracy: 0.9790\n",
            "> 97.896\n",
            "Epoch 1/3\n",
            "378/378 [==============================] - 2s 6ms/step - loss: 0.0627 - accuracy: 0.9810 - val_loss: 0.0667 - val_accuracy: 0.9798\n",
            "Epoch 2/3\n",
            "378/378 [==============================] - 2s 6ms/step - loss: 0.0581 - accuracy: 0.9826 - val_loss: 0.0659 - val_accuracy: 0.9788\n",
            "Epoch 3/3\n",
            "378/378 [==============================] - 2s 6ms/step - loss: 0.0537 - accuracy: 0.9843 - val_loss: 0.0638 - val_accuracy: 0.9803\n",
            "189/189 [==============================] - 0s 2ms/step - loss: 0.0638 - accuracy: 0.9803\n",
            "> 98.028\n",
            "Epoch 1/3\n",
            "378/378 [==============================] - 2s 6ms/step - loss: 0.0516 - accuracy: 0.9848 - val_loss: 0.0476 - val_accuracy: 0.9869\n",
            "Epoch 2/3\n",
            "378/378 [==============================] - 2s 6ms/step - loss: 0.0479 - accuracy: 0.9862 - val_loss: 0.0496 - val_accuracy: 0.9862\n",
            "Epoch 3/3\n",
            "378/378 [==============================] - 2s 6ms/step - loss: 0.0445 - accuracy: 0.9873 - val_loss: 0.0481 - val_accuracy: 0.9866\n",
            "189/189 [==============================] - 0s 2ms/step - loss: 0.0481 - accuracy: 0.9866\n",
            "> 98.658\n",
            "Epoch 1/3\n",
            "378/378 [==============================] - 2s 6ms/step - loss: 0.0421 - accuracy: 0.9882 - val_loss: 0.0388 - val_accuracy: 0.9884\n",
            "Epoch 2/3\n",
            "378/378 [==============================] - 2s 6ms/step - loss: 0.0390 - accuracy: 0.9889 - val_loss: 0.0401 - val_accuracy: 0.9876\n",
            "Epoch 3/3\n",
            "378/378 [==============================] - 2s 6ms/step - loss: 0.0363 - accuracy: 0.9901 - val_loss: 0.0394 - val_accuracy: 0.9882\n",
            "189/189 [==============================] - 0s 2ms/step - loss: 0.0394 - accuracy: 0.9882\n",
            "> 98.824\n",
            "Epoch 1/3\n",
            "378/378 [==============================] - 3s 7ms/step - loss: 0.0344 - accuracy: 0.9906 - val_loss: 0.0363 - val_accuracy: 0.9887\n",
            "Epoch 2/3\n",
            "378/378 [==============================] - 2s 6ms/step - loss: 0.0316 - accuracy: 0.9918 - val_loss: 0.0360 - val_accuracy: 0.9886\n",
            "Epoch 3/3\n",
            "378/378 [==============================] - 2s 6ms/step - loss: 0.0296 - accuracy: 0.9923 - val_loss: 0.0342 - val_accuracy: 0.9889\n",
            "189/189 [==============================] - 0s 2ms/step - loss: 0.0342 - accuracy: 0.9889\n",
            "> 98.890\n",
            "Epoch 1/3\n",
            "378/378 [==============================] - 2s 6ms/step - loss: 0.0283 - accuracy: 0.9925 - val_loss: 0.0274 - val_accuracy: 0.9930\n",
            "Epoch 2/3\n",
            "378/378 [==============================] - 2s 6ms/step - loss: 0.0259 - accuracy: 0.9936 - val_loss: 0.0279 - val_accuracy: 0.9920\n",
            "Epoch 3/3\n",
            "378/378 [==============================] - 2s 6ms/step - loss: 0.0240 - accuracy: 0.9941 - val_loss: 0.0286 - val_accuracy: 0.9929\n",
            "189/189 [==============================] - 0s 2ms/step - loss: 0.0286 - accuracy: 0.9929\n",
            "> 99.288\n",
            "Epoch 1/3\n",
            "378/378 [==============================] - 2s 6ms/step - loss: 0.0232 - accuracy: 0.9944 - val_loss: 0.0200 - val_accuracy: 0.9952\n",
            "Epoch 2/3\n",
            "378/378 [==============================] - 2s 6ms/step - loss: 0.0213 - accuracy: 0.9952 - val_loss: 0.0202 - val_accuracy: 0.9950\n",
            "Epoch 3/3\n",
            "378/378 [==============================] - 2s 6ms/step - loss: 0.0198 - accuracy: 0.9956 - val_loss: 0.0215 - val_accuracy: 0.9935\n",
            "189/189 [==============================] - 0s 2ms/step - loss: 0.0215 - accuracy: 0.9935\n",
            "> 99.354\n"
          ]
        },
        {
          "output_type": "stream",
          "name": "stderr",
          "text": [
            "/usr/local/lib/python3.7/dist-packages/ipykernel_launcher.py:5: MatplotlibDeprecationWarning: Adding an axes using the same arguments as a previous axes currently reuses the earlier instance.  In a future version, a new instance will always be created and returned.  Meanwhile, this warning can be suppressed, and the future behavior ensured, by passing a unique label to each axes instance.\n",
            "  \"\"\"\n",
            "/usr/local/lib/python3.7/dist-packages/ipykernel_launcher.py:10: MatplotlibDeprecationWarning: Adding an axes using the same arguments as a previous axes currently reuses the earlier instance.  In a future version, a new instance will always be created and returned.  Meanwhile, this warning can be suppressed, and the future behavior ensured, by passing a unique label to each axes instance.\n",
            "  # Remove the CWD from sys.path while we load stuff.\n"
          ]
        },
        {
          "output_type": "display_data",
          "data": {
            "text/plain": [
              "<Figure size 432x288 with 2 Axes>"
            ],
            "image/png": "[encoded data removed]"
          },
          "metadata": {
            "needs_background": "light"
          }
        },
        {
          "output_type": "stream",
          "name": "stdout",
          "text": [
            "Accuracy: mean=97.919 std=1.453, n=10\n"
          ]
        },
        {
          "output_type": "display_data",
          "data": {
            "text/plain": [
              "<Figure size 432x288 with 1 Axes>"
            ],
            "image/png": "[encoded data removed]"
          },
          "metadata": {
            "needs_background": "light"
          }
        },
        {
          "output_type": "stream",
          "name": "stdout",
          "text": [
            "['final_model_loaded_weights on mix data with LR=0.0001 & epoch=3', 100.0, 99.642, 97.71]\n"
          ]
        }
      ]
    },
    {
      "cell_type": "code",
      "source": [
        "model.layers[3].weights"
      ],
      "metadata": {
        "colab": {
          "base_uri": "https://localhost:8080/"
        },
        "id": "jo0iMy5j3xzC",
        "outputId": "dff673f7-be9e-4dc2-a9d3-cf8ce748c108"
      },
      "execution_count": null,
      "outputs": [
        {
          "output_type": "execute_result",
          "data": {
            "text/plain": [
              "[<tf.Variable 'dense_5/kernel:0' shape=(128, 10) dtype=float32, numpy=\n",
              " array([[ 0.04702131, -0.42908487, -0.33677232, ..., -0.02172291,\n",
              "         -0.25513512,  0.10466291],\n",
              "        [ 0.1934608 ,  0.19222426, -0.67050964, ...,  0.04284181,\n",
              "          0.1592738 , -0.2152883 ],\n",
              "        [ 0.00294538, -0.10456863,  0.03800384, ...,  0.15334618,\n",
              "         -0.1720101 ,  0.00577902],\n",
              "        ...,\n",
              "        [ 0.22788028,  0.02434869, -0.21619996, ...,  0.19411732,\n",
              "         -0.07592392, -0.04455773],\n",
              "        [ 0.08454202, -0.02565655, -0.10663281, ...,  0.14281687,\n",
              "          0.18275191,  0.11828249],\n",
              "        [ 0.18528861, -0.05789019,  0.20038101, ...,  0.05368187,\n",
              "         -0.26640472,  0.06304621]], dtype=float32)>,\n",
              " <tf.Variable 'dense_5/bias:0' shape=(10,) dtype=float32, numpy=\n",
              " array([-0.12429737, -0.4669374 ,  0.11963599, -0.07524107,  0.2065192 ,\n",
              "         0.01162014,  0.01194133,  0.00551102,  0.06145392,  0.01741724],\n",
              "       dtype=float32)>]"
            ]
          },
          "metadata": {},
          "execution_count": 27
        }
      ]
    },
    {
      "cell_type": "code",
      "source": [
        "model = tf.keras.models.load_model(\"final_model_loaded_weights\")\n",
        "from keras import backend as K\n",
        "K.set_value(model.optimizer.learning_rate, 0.001)\n",
        "scores, histories, model = evaluate_model(model, trainmixX, trainmixy,10,3,144)\n",
        "\n",
        "\n",
        "\n",
        "# learning curves\n",
        "summarize_diagnostics(histories)\n",
        "# summarize estimated performance\n",
        "summarize_performance(scores)\n",
        "desc = \"final_model_loaded_weights on mix data with LR=0.001 & epoch=3\"\n",
        "results.append([desc,round(model.evaluate(train_per_x, train_per_y, verbose=0)[1]*100,3),round(model.evaluate(trainX, trainy, verbose=0)[1]*100,3),round(model.evaluate(testX, testy, verbose=0)[1]*100,3)])\n",
        "print (results[len(results)-1])"
      ],
      "metadata": {
        "colab": {
          "base_uri": "https://localhost:8080/",
          "height": 1000
        },
        "id": "zEA9N5qTrdzV",
        "outputId": "d09d1c98-fbd8-439d-8dc1-c857c93df0f8"
      },
      "execution_count": null,
      "outputs": [
        {
          "output_type": "stream",
          "name": "stdout",
          "text": [
            "Epoch 1/3\n",
            "378/378 [==============================] - 3s 7ms/step - loss: 0.3049 - accuracy: 0.9220 - val_loss: 0.1159 - val_accuracy: 0.9632\n",
            "Epoch 2/3\n",
            "378/378 [==============================] - 2s 6ms/step - loss: 0.0814 - accuracy: 0.9742 - val_loss: 0.0894 - val_accuracy: 0.9717\n",
            "Epoch 3/3\n",
            "378/378 [==============================] - 2s 6ms/step - loss: 0.0527 - accuracy: 0.9835 - val_loss: 0.0748 - val_accuracy: 0.9776\n",
            "189/189 [==============================] - 0s 2ms/step - loss: 0.0748 - accuracy: 0.9776\n",
            "> 97.763\n",
            "Epoch 1/3\n",
            "378/378 [==============================] - 3s 7ms/step - loss: 0.0414 - accuracy: 0.9876 - val_loss: 0.0396 - val_accuracy: 0.9856\n",
            "Epoch 2/3\n",
            "378/378 [==============================] - 2s 6ms/step - loss: 0.0302 - accuracy: 0.9904 - val_loss: 0.0362 - val_accuracy: 0.9881\n",
            "Epoch 3/3\n",
            "378/378 [==============================] - 2s 6ms/step - loss: 0.0201 - accuracy: 0.9939 - val_loss: 0.0363 - val_accuracy: 0.9877\n",
            "189/189 [==============================] - 0s 2ms/step - loss: 0.0363 - accuracy: 0.9877\n",
            "> 98.774\n",
            "Epoch 1/3\n",
            "378/378 [==============================] - 2s 6ms/step - loss: 0.0170 - accuracy: 0.9949 - val_loss: 0.0135 - val_accuracy: 0.9970\n",
            "Epoch 2/3\n",
            "378/378 [==============================] - 2s 6ms/step - loss: 0.0120 - accuracy: 0.9963 - val_loss: 0.0153 - val_accuracy: 0.9957\n",
            "Epoch 3/3\n",
            "378/378 [==============================] - 2s 6ms/step - loss: 0.0097 - accuracy: 0.9972 - val_loss: 0.0279 - val_accuracy: 0.9914\n",
            "189/189 [==============================] - 0s 2ms/step - loss: 0.0279 - accuracy: 0.9914\n",
            "> 99.139\n",
            "Epoch 1/3\n",
            "378/378 [==============================] - 2s 6ms/step - loss: 0.0093 - accuracy: 0.9969 - val_loss: 0.0082 - val_accuracy: 0.9977\n",
            "Epoch 2/3\n",
            "378/378 [==============================] - 2s 6ms/step - loss: 0.0085 - accuracy: 0.9976 - val_loss: 0.0127 - val_accuracy: 0.9950\n",
            "Epoch 3/3\n",
            "378/378 [==============================] - 2s 6ms/step - loss: 0.0073 - accuracy: 0.9979 - val_loss: 0.0124 - val_accuracy: 0.9959\n",
            "189/189 [==============================] - 0s 2ms/step - loss: 0.0124 - accuracy: 0.9959\n",
            "> 99.586\n",
            "Epoch 1/3\n",
            "378/378 [==============================] - 2s 6ms/step - loss: 0.0086 - accuracy: 0.9972 - val_loss: 0.0074 - val_accuracy: 0.9975\n",
            "Epoch 2/3\n",
            "378/378 [==============================] - 2s 6ms/step - loss: 0.0042 - accuracy: 0.9986 - val_loss: 0.0054 - val_accuracy: 0.9982\n",
            "Epoch 3/3\n",
            "378/378 [==============================] - 2s 6ms/step - loss: 0.0030 - accuracy: 0.9993 - val_loss: 0.0131 - val_accuracy: 0.9952\n",
            "189/189 [==============================] - 0s 2ms/step - loss: 0.0131 - accuracy: 0.9952\n",
            "> 99.520\n",
            "Epoch 1/3\n",
            "378/378 [==============================] - 2s 6ms/step - loss: 0.0083 - accuracy: 0.9973 - val_loss: 0.0120 - val_accuracy: 0.9955\n",
            "Epoch 2/3\n",
            "378/378 [==============================] - 2s 6ms/step - loss: 0.0052 - accuracy: 0.9982 - val_loss: 0.0071 - val_accuracy: 0.9975\n",
            "Epoch 3/3\n",
            "378/378 [==============================] - 2s 6ms/step - loss: 0.0047 - accuracy: 0.9984 - val_loss: 0.0064 - val_accuracy: 0.9973\n",
            "189/189 [==============================] - 0s 2ms/step - loss: 0.0064 - accuracy: 0.9973\n",
            "> 99.735\n",
            "Epoch 1/3\n",
            "378/378 [==============================] - 2s 6ms/step - loss: 0.0043 - accuracy: 0.9988 - val_loss: 0.0079 - val_accuracy: 0.9969\n",
            "Epoch 2/3\n",
            "378/378 [==============================] - 2s 6ms/step - loss: 0.0026 - accuracy: 0.9992 - val_loss: 0.0035 - val_accuracy: 0.9988\n",
            "Epoch 3/3\n",
            "378/378 [==============================] - 2s 6ms/step - loss: 0.0014 - accuracy: 0.9997 - val_loss: 8.6098e-04 - val_accuracy: 0.9998\n",
            "189/189 [==============================] - 0s 2ms/step - loss: 8.6098e-04 - accuracy: 0.9998\n",
            "> 99.983\n",
            "Epoch 1/3\n",
            "378/378 [==============================] - 2s 6ms/step - loss: 5.1495e-04 - accuracy: 0.9999 - val_loss: 6.9725e-04 - val_accuracy: 0.9998\n",
            "Epoch 2/3\n",
            "378/378 [==============================] - 2s 6ms/step - loss: 0.0029 - accuracy: 0.9992 - val_loss: 0.0247 - val_accuracy: 0.9922\n",
            "Epoch 3/3\n",
            "378/378 [==============================] - 2s 6ms/step - loss: 0.0135 - accuracy: 0.9957 - val_loss: 0.0054 - val_accuracy: 0.9983\n",
            "189/189 [==============================] - 0s 2ms/step - loss: 0.0054 - accuracy: 0.9983\n",
            "> 99.834\n",
            "Epoch 1/3\n",
            "378/378 [==============================] - 2s 6ms/step - loss: 0.0043 - accuracy: 0.9985 - val_loss: 0.0052 - val_accuracy: 0.9978\n",
            "Epoch 2/3\n",
            "378/378 [==============================] - 2s 6ms/step - loss: 0.0023 - accuracy: 0.9995 - val_loss: 0.0014 - val_accuracy: 0.9995\n",
            "Epoch 3/3\n",
            "378/378 [==============================] - 2s 6ms/step - loss: 0.0014 - accuracy: 0.9996 - val_loss: 0.0051 - val_accuracy: 0.9983\n",
            "189/189 [==============================] - 0s 2ms/step - loss: 0.0051 - accuracy: 0.9983\n",
            "> 99.834\n",
            "Epoch 1/3\n",
            "378/378 [==============================] - 2s 6ms/step - loss: 7.7369e-04 - accuracy: 0.9999 - val_loss: 0.0023 - val_accuracy: 0.9995\n",
            "Epoch 2/3\n",
            "378/378 [==============================] - 2s 6ms/step - loss: 0.0073 - accuracy: 0.9978 - val_loss: 0.0040 - val_accuracy: 0.9980\n",
            "Epoch 3/3\n",
            "378/378 [==============================] - 2s 6ms/step - loss: 0.0044 - accuracy: 0.9986 - val_loss: 0.0039 - val_accuracy: 0.9983\n",
            "189/189 [==============================] - 0s 2ms/step - loss: 0.0039 - accuracy: 0.9983\n",
            "> 99.834\n"
          ]
        },
        {
          "output_type": "stream",
          "name": "stderr",
          "text": [
            "/usr/local/lib/python3.7/dist-packages/ipykernel_launcher.py:5: MatplotlibDeprecationWarning: Adding an axes using the same arguments as a previous axes currently reuses the earlier instance.  In a future version, a new instance will always be created and returned.  Meanwhile, this warning can be suppressed, and the future behavior ensured, by passing a unique label to each axes instance.\n",
            "  \"\"\"\n",
            "/usr/local/lib/python3.7/dist-packages/ipykernel_launcher.py:10: MatplotlibDeprecationWarning: Adding an axes using the same arguments as a previous axes currently reuses the earlier instance.  In a future version, a new instance will always be created and returned.  Meanwhile, this warning can be suppressed, and the future behavior ensured, by passing a unique label to each axes instance.\n",
            "  # Remove the CWD from sys.path while we load stuff.\n"
          ]
        },
        {
          "output_type": "display_data",
          "data": {
            "text/plain": [
              "<Figure size 432x288 with 2 Axes>"
            ],
            "image/png": "[encoded data removed]"
          },
          "metadata": {
            "needs_background": "light"
          }
        },
        {
          "output_type": "stream",
          "name": "stdout",
          "text": [
            "Accuracy: mean=99.400 std=0.649, n=10\n"
          ]
        },
        {
          "output_type": "display_data",
          "data": {
            "text/plain": [
              "<Figure size 432x288 with 1 Axes>"
            ],
            "image/png": "[encoded data removed]"
          },
          "metadata": {
            "needs_background": "light"
          }
        },
        {
          "output_type": "stream",
          "name": "stdout",
          "text": [
            "['final_model_loaded_weights on mix data with LR=0.001 & epoch=3', 100.0, 99.892, 98.04]\n"
          ]
        }
      ]
    },
    {
      "cell_type": "code",
      "source": [
        "model = tf.keras.models.load_model(\"final_model_loaded_weights\")\n",
        "from keras import backend as K\n",
        "K.set_value(model.optimizer.learning_rate, 0.002)\n",
        "scores, histories, model = evaluate_model(model, trainmixX, trainmixy,10,3,144)\n",
        "\n",
        "\n",
        "\n",
        "# learning curves\n",
        "summarize_diagnostics(histories)\n",
        "# summarize estimated performance\n",
        "summarize_performance(scores)\n",
        "desc = \"final_model_loaded_weights on mix data with LR=0.002 & epoch=3\"\n",
        "results.append([desc,round(model.evaluate(train_per_x, train_per_y, verbose=0)[1]*100,3),round(model.evaluate(trainX, trainy, verbose=0)[1]*100,3),round(model.evaluate(testX, testy, verbose=0)[1]*100,3)])\n",
        "print (results[len(results)-1])"
      ],
      "metadata": {
        "colab": {
          "base_uri": "https://localhost:8080/",
          "height": 1000
        },
        "id": "5J7Ti4NWs9dn",
        "outputId": "9d1ebae1-39cc-414a-aa61-bd147315b041"
      },
      "execution_count": null,
      "outputs": [
        {
          "output_type": "stream",
          "name": "stdout",
          "text": [
            "Epoch 1/3\n",
            "378/378 [==============================] - 3s 7ms/step - loss: 0.2259 - accuracy: 0.9386 - val_loss: 0.1085 - val_accuracy: 0.9669\n",
            "Epoch 2/3\n",
            "378/378 [==============================] - 2s 6ms/step - loss: 0.0680 - accuracy: 0.9786 - val_loss: 0.0849 - val_accuracy: 0.9755\n",
            "Epoch 3/3\n",
            "378/378 [==============================] - 2s 6ms/step - loss: 0.0431 - accuracy: 0.9864 - val_loss: 0.0739 - val_accuracy: 0.9771\n",
            "189/189 [==============================] - 0s 2ms/step - loss: 0.0739 - accuracy: 0.9771\n",
            "> 97.714\n",
            "Epoch 1/3\n",
            "378/378 [==============================] - 2s 6ms/step - loss: 0.0379 - accuracy: 0.9881 - val_loss: 0.0330 - val_accuracy: 0.9891\n",
            "Epoch 2/3\n",
            "378/378 [==============================] - 2s 6ms/step - loss: 0.0286 - accuracy: 0.9909 - val_loss: 0.0383 - val_accuracy: 0.9874\n",
            "Epoch 3/3\n",
            "378/378 [==============================] - 2s 6ms/step - loss: 0.0204 - accuracy: 0.9932 - val_loss: 0.0330 - val_accuracy: 0.9889\n",
            "189/189 [==============================] - 0s 2ms/step - loss: 0.0330 - accuracy: 0.9889\n",
            "> 98.890\n",
            "Epoch 1/3\n",
            "378/378 [==============================] - 2s 6ms/step - loss: 0.0183 - accuracy: 0.9941 - val_loss: 0.0150 - val_accuracy: 0.9945\n",
            "Epoch 2/3\n",
            "378/378 [==============================] - 2s 6ms/step - loss: 0.0150 - accuracy: 0.9949 - val_loss: 0.0223 - val_accuracy: 0.9930\n",
            "Epoch 3/3\n",
            "378/378 [==============================] - 2s 6ms/step - loss: 0.0113 - accuracy: 0.9960 - val_loss: 0.0200 - val_accuracy: 0.9945\n",
            "189/189 [==============================] - 0s 2ms/step - loss: 0.0200 - accuracy: 0.9945\n",
            "> 99.453\n",
            "Epoch 1/3\n",
            "378/378 [==============================] - 2s 6ms/step - loss: 0.0160 - accuracy: 0.9946 - val_loss: 0.0146 - val_accuracy: 0.9942\n",
            "Epoch 2/3\n",
            "378/378 [==============================] - 2s 6ms/step - loss: 0.0151 - accuracy: 0.9951 - val_loss: 0.0268 - val_accuracy: 0.9911\n",
            "Epoch 3/3\n",
            "378/378 [==============================] - 2s 6ms/step - loss: 0.0100 - accuracy: 0.9968 - val_loss: 0.0144 - val_accuracy: 0.9957\n",
            "189/189 [==============================] - 0s 2ms/step - loss: 0.0144 - accuracy: 0.9957\n",
            "> 99.569\n",
            "Epoch 1/3\n",
            "378/378 [==============================] - 2s 6ms/step - loss: 0.0120 - accuracy: 0.9966 - val_loss: 0.0109 - val_accuracy: 0.9962\n",
            "Epoch 2/3\n",
            "378/378 [==============================] - 2s 6ms/step - loss: 0.0092 - accuracy: 0.9966 - val_loss: 0.0174 - val_accuracy: 0.9932\n",
            "Epoch 3/3\n",
            "378/378 [==============================] - 2s 6ms/step - loss: 0.0108 - accuracy: 0.9965 - val_loss: 0.0315 - val_accuracy: 0.9909\n",
            "189/189 [==============================] - 0s 2ms/step - loss: 0.0315 - accuracy: 0.9909\n",
            "> 99.089\n",
            "Epoch 1/3\n",
            "378/378 [==============================] - 2s 6ms/step - loss: 0.0134 - accuracy: 0.9957 - val_loss: 0.0104 - val_accuracy: 0.9959\n",
            "Epoch 2/3\n",
            "378/378 [==============================] - 2s 6ms/step - loss: 0.0069 - accuracy: 0.9977 - val_loss: 0.0070 - val_accuracy: 0.9977\n",
            "Epoch 3/3\n",
            "378/378 [==============================] - 2s 6ms/step - loss: 0.0071 - accuracy: 0.9975 - val_loss: 0.0199 - val_accuracy: 0.9942\n",
            "189/189 [==============================] - 0s 2ms/step - loss: 0.0199 - accuracy: 0.9942\n",
            "> 99.420\n",
            "Epoch 1/3\n",
            "378/378 [==============================] - 2s 6ms/step - loss: 0.0104 - accuracy: 0.9965 - val_loss: 0.0163 - val_accuracy: 0.9942\n",
            "Epoch 2/3\n",
            "378/378 [==============================] - 2s 6ms/step - loss: 0.0089 - accuracy: 0.9969 - val_loss: 0.0052 - val_accuracy: 0.9977\n",
            "Epoch 3/3\n",
            "378/378 [==============================] - 2s 6ms/step - loss: 0.0045 - accuracy: 0.9984 - val_loss: 0.0073 - val_accuracy: 0.9973\n",
            "189/189 [==============================] - 0s 2ms/step - loss: 0.0073 - accuracy: 0.9973\n",
            "> 99.735\n",
            "Epoch 1/3\n",
            "378/378 [==============================] - 2s 6ms/step - loss: 0.0019 - accuracy: 0.9994 - val_loss: 0.0048 - val_accuracy: 0.9980\n",
            "Epoch 2/3\n",
            "378/378 [==============================] - 2s 6ms/step - loss: 0.0084 - accuracy: 0.9975 - val_loss: 0.0203 - val_accuracy: 0.9950\n",
            "Epoch 3/3\n",
            "378/378 [==============================] - 2s 6ms/step - loss: 0.0237 - accuracy: 0.9937 - val_loss: 0.0121 - val_accuracy: 0.9960\n",
            "189/189 [==============================] - 0s 2ms/step - loss: 0.0121 - accuracy: 0.9960\n",
            "> 99.602\n",
            "Epoch 1/3\n",
            "378/378 [==============================] - 2s 6ms/step - loss: 0.0055 - accuracy: 0.9981 - val_loss: 0.0048 - val_accuracy: 0.9982\n",
            "Epoch 2/3\n",
            "378/378 [==============================] - 2s 6ms/step - loss: 0.0036 - accuracy: 0.9990 - val_loss: 0.0102 - val_accuracy: 0.9973\n",
            "Epoch 3/3\n",
            "378/378 [==============================] - 2s 6ms/step - loss: 0.0075 - accuracy: 0.9977 - val_loss: 0.0069 - val_accuracy: 0.9972\n",
            "189/189 [==============================] - 0s 2ms/step - loss: 0.0069 - accuracy: 0.9972\n",
            "> 99.718\n",
            "Epoch 1/3\n",
            "378/378 [==============================] - 2s 6ms/step - loss: 0.0079 - accuracy: 0.9974 - val_loss: 0.0096 - val_accuracy: 0.9970\n",
            "Epoch 2/3\n",
            "378/378 [==============================] - 2s 6ms/step - loss: 0.0082 - accuracy: 0.9974 - val_loss: 0.0051 - val_accuracy: 0.9980\n",
            "Epoch 3/3\n",
            "378/378 [==============================] - 2s 6ms/step - loss: 0.0047 - accuracy: 0.9985 - val_loss: 0.0104 - val_accuracy: 0.9972\n",
            "189/189 [==============================] - 0s 2ms/step - loss: 0.0104 - accuracy: 0.9972\n",
            "> 99.718\n"
          ]
        },
        {
          "output_type": "stream",
          "name": "stderr",
          "text": [
            "/usr/local/lib/python3.7/dist-packages/ipykernel_launcher.py:5: MatplotlibDeprecationWarning: Adding an axes using the same arguments as a previous axes currently reuses the earlier instance.  In a future version, a new instance will always be created and returned.  Meanwhile, this warning can be suppressed, and the future behavior ensured, by passing a unique label to each axes instance.\n",
            "  \"\"\"\n",
            "/usr/local/lib/python3.7/dist-packages/ipykernel_launcher.py:10: MatplotlibDeprecationWarning: Adding an axes using the same arguments as a previous axes currently reuses the earlier instance.  In a future version, a new instance will always be created and returned.  Meanwhile, this warning can be suppressed, and the future behavior ensured, by passing a unique label to each axes instance.\n",
            "  # Remove the CWD from sys.path while we load stuff.\n"
          ]
        },
        {
          "output_type": "display_data",
          "data": {
            "text/plain": [
              "<Figure size 432x288 with 2 Axes>"
            ],
            "image/png": "[encoded data removed]"
          },
          "metadata": {
            "needs_background": "light"
          }
        },
        {
          "output_type": "stream",
          "name": "stdout",
          "text": [
            "Accuracy: mean=99.291 std=0.589, n=10\n"
          ]
        },
        {
          "output_type": "display_data",
          "data": {
            "text/plain": [
              "<Figure size 432x288 with 1 Axes>"
            ],
            "image/png": "[encoded data removed]"
          },
          "metadata": {
            "needs_background": "light"
          }
        },
        {
          "output_type": "stream",
          "name": "stdout",
          "text": [
            "['final_model_loaded_weights on mix data with LR=0.002 & epoch=3', 100.0, 99.873, 98.09]\n"
          ]
        }
      ]
    },
    {
      "cell_type": "markdown",
      "source": [
        "Generating reults and download data:\n",
        "\n",
        "---\n",
        "\n"
      ],
      "metadata": {
        "id": "irLfZVZGOYVg"
      }
    },
    {
      "cell_type": "code",
      "source": [
        "results"
      ],
      "metadata": {
        "colab": {
          "base_uri": "https://localhost:8080/"
        },
        "id": "_2V0GIrJ3EV7",
        "outputId": "eb92372d-1e2d-483b-de40-bcc7f7a44205"
      },
      "execution_count": null,
      "outputs": [
        {
          "output_type": "execute_result",
          "data": {
            "text/plain": [
              "[['Random initialized on per_b1 (0 to 4) with LR=0.01 & epoch=3',\n",
              "  100.0,\n",
              "  64.616],\n",
              " ['trained_finetune_mix_b1 on mix data (0 to 4) with LR=0.002 & epoch=3',\n",
              "  100.0,\n",
              "  99.974],\n",
              " ['final_model_loaded_weights without training', 50.556, 51.053, 51.07],\n",
              " ['final_model_loaded_weights on mix data with LR=0.0001 & epoch=3',\n",
              "  100.0,\n",
              "  99.642,\n",
              "  97.71],\n",
              " ['final_model_loaded_weights on mix data with LR=0.001 & epoch=3',\n",
              "  100.0,\n",
              "  99.892,\n",
              "  98.04],\n",
              " ['final_model_loaded_weights on mix data with LR=0.002 & epoch=3',\n",
              "  100.0,\n",
              "  99.873,\n",
              "  98.09]]"
            ]
          },
          "metadata": {},
          "execution_count": 30
        }
      ]
    },
    {
      "cell_type": "code",
      "source": [
        "import pandas\n",
        "df=pandas.DataFrame(results,list(range(1, len(results)+1)),[\"Description\",\"Train perfect\", \"Train MNIST\", \"Test MNIST\"])\n",
        "df"
      ],
      "metadata": {
        "colab": {
          "base_uri": "https://localhost:8080/",
          "height": 236
        },
        "id": "GR1EBs9y3up7",
        "outputId": "1bebeac5-249f-49cd-87a8-4bf16f3e7fed"
      },
      "execution_count": null,
      "outputs": [
        {
          "output_type": "execute_result",
          "data": {
            "text/plain": [
              "                                         Description  Train perfect  \\\n",
              "1  Random initialized on per_b1 (0 to 4) with LR=...        100.000   \n",
              "2  trained_finetune_mix_b1 on mix data (0 to 4) w...        100.000   \n",
              "3        final_model_loaded_weights without training         50.556   \n",
              "4  final_model_loaded_weights on mix data with LR...        100.000   \n",
              "5  final_model_loaded_weights on mix data with LR...        100.000   \n",
              "6  final_model_loaded_weights on mix data with LR...        100.000   \n",
              "\n",
              "   Train MNIST  Test MNIST  \n",
              "1       64.616         NaN  \n",
              "2       99.974         NaN  \n",
              "3       51.053       51.07  \n",
              "4       99.642       97.71  \n",
              "5       99.892       98.04  \n",
              "6       99.873       98.09  "
            ],
            "text/html": [
              "\n",
              "  <div id=\"df-3769be55-cef7-4ffe-82f5-8529e49ae188\">\n",
              "    <div class=\"colab-df-container\">\n",
              "      <div>\n",
              "<style scoped>\n",
              "    .dataframe tbody tr th:only-of-type {\n",
              "        vertical-align: middle;\n",
              "    }\n",
              "\n",
              "    .dataframe tbody tr th {\n",
              "        vertical-align: top;\n",
              "    }\n",
              "\n",
              "    .dataframe thead th {\n",
              "        text-align: right;\n",
              "    }\n",
              "</style>\n",
              "<table border=\"1\" class=\"dataframe\">\n",
              "  <thead>\n",
              "    <tr style=\"text-align: right;\">\n",
              "      <th></th>\n",
              "      <th>Description</th>\n",
              "      <th>Train perfect</th>\n",
              "      <th>Train MNIST</th>\n",
              "      <th>Test MNIST</th>\n",
              "    </tr>\n",
              "  </thead>\n",
              "  <tbody>\n",
              "    <tr>\n",
              "      <th>1</th>\n",
              "      <td>Random initialized on per_b1 (0 to 4) with LR=...</td>\n",
              "      <td>100.000</td>\n",
              "      <td>64.616</td>\n",
              "      <td>NaN</td>\n",
              "    </tr>\n",
              "    <tr>\n",
              "      <th>2</th>\n",
              "      <td>trained_finetune_mix_b1 on mix data (0 to 4) w...</td>\n",
              "      <td>100.000</td>\n",
              "      <td>99.974</td>\n",
              "      <td>NaN</td>\n",
              "    </tr>\n",
              "    <tr>\n",
              "      <th>3</th>\n",
              "      <td>final_model_loaded_weights without training</td>\n",
              "      <td>50.556</td>\n",
              "      <td>51.053</td>\n",
              "      <td>51.07</td>\n",
              "    </tr>\n",
              "    <tr>\n",
              "      <th>4</th>\n",
              "      <td>final_model_loaded_weights on mix data with LR...</td>\n",
              "      <td>100.000</td>\n",
              "      <td>99.642</td>\n",
              "      <td>97.71</td>\n",
              "    </tr>\n",
              "    <tr>\n",
              "      <th>5</th>\n",
              "      <td>final_model_loaded_weights on mix data with LR...</td>\n",
              "      <td>100.000</td>\n",
              "      <td>99.892</td>\n",
              "      <td>98.04</td>\n",
              "    </tr>\n",
              "    <tr>\n",
              "      <th>6</th>\n",
              "      <td>final_model_loaded_weights on mix data with LR...</td>\n",
              "      <td>100.000</td>\n",
              "      <td>99.873</td>\n",
              "      <td>98.09</td>\n",
              "    </tr>\n",
              "  </tbody>\n",
              "</table>\n",
              "</div>\n",
              "      <button class=\"colab-df-convert\" onclick=\"convertToInteractive('df-3769be55-cef7-4ffe-82f5-8529e49ae188')\"\n",
              "              title=\"Convert this dataframe to an interactive table.\"\n",
              "              style=\"display:none;\">\n",
              "        \n",
              "  <svg xmlns=\"http://www.w3.org/2000/svg\" height=\"24px\"viewBox=\"0 0 24 24\"\n",
              "       width=\"24px\">\n",
              "    <path d=\"M0 0h24v24H0V0z\" fill=\"none\"/>\n",
              "    <path d=\"M18.56 5.44l.94 2.06.94-2.06 2.06-.94-2.06-.94-.94-2.06-.94 2.06-2.06.94zm-11 1L8.5 8.5l.94-2.06 2.06-.94-2.06-.94L8.5 2.5l-.94 2.06-2.06.94zm10 10l.94 2.06.94-2.06 2.06-.94-2.06-.94-.94-2.06-.94 2.06-2.06.94z\"/><path d=\"M17.41 7.96l-1.37-1.37c-.4-.4-.92-.59-1.43-.59-.52 0-1.04.2-1.43.59L10.3 9.45l-7.72 7.72c-.78.78-.78 2.05 0 2.83L4 21.41c.39.39.9.59 1.41.59.51 0 1.02-.2 1.41-.59l7.78-7.78 2.81-2.81c.8-.78.8-2.07 0-2.86zM5.41 20L4 18.59l7.72-7.72 1.47 1.35L5.41 20z\"/>\n",
              "  </svg>\n",
              "      </button>\n",
              "      \n",
              "  <style>\n",
              "    .colab-df-container {\n",
              "      display:flex;\n",
              "      flex-wrap:wrap;\n",
              "      gap: 12px;\n",
              "    }\n",
              "\n",
              "    .colab-df-convert {\n",
              "      background-color: #E8F0FE;\n",
              "      border: none;\n",
              "      border-radius: 50%;\n",
              "      cursor: pointer;\n",
              "      display: none;\n",
              "      fill: #1967D2;\n",
              "      height: 32px;\n",
              "      padding: 0 0 0 0;\n",
              "      width: 32px;\n",
              "    }\n",
              "\n",
              "    .colab-df-convert:hover {\n",
              "      background-color: #E2EBFA;\n",
              "      box-shadow: 0px 1px 2px rgba(60, 64, 67, 0.3), 0px 1px 3px 1px rgba(60, 64, 67, 0.15);\n",
              "      fill: #174EA6;\n",
              "    }\n",
              "\n",
              "    [theme=dark] .colab-df-convert {\n",
              "      background-color: #3B4455;\n",
              "      fill: #D2E3FC;\n",
              "    }\n",
              "\n",
              "    [theme=dark] .colab-df-convert:hover {\n",
              "      background-color: #434B5C;\n",
              "      box-shadow: 0px 1px 3px 1px rgba(0, 0, 0, 0.15);\n",
              "      filter: drop-shadow(0px 1px 2px rgba(0, 0, 0, 0.3));\n",
              "      fill: #FFFFFF;\n",
              "    }\n",
              "  </style>\n",
              "\n",
              "      <script>\n",
              "        const buttonEl =\n",
              "          document.querySelector('#df-3769be55-cef7-4ffe-82f5-8529e49ae188 button.colab-df-convert');\n",
              "        buttonEl.style.display =\n",
              "          google.colab.kernel.accessAllowed ? 'block' : 'none';\n",
              "\n",
              "        async function convertToInteractive(key) {\n",
              "          const element = document.querySelector('#df-3769be55-cef7-4ffe-82f5-8529e49ae188');\n",
              "          const dataTable =\n",
              "            await google.colab.kernel.invokeFunction('convertToInteractive',\n",
              "                                                     [key], {});\n",
              "          if (!dataTable) return;\n",
              "\n",
              "          const docLinkHtml = 'Like what you see? Visit the ' +\n",
              "            '<a target=\"_blank\" href=https://colab.research.google.com/notebooks/data_table.ipynb>data table notebook</a>'\n",
              "            + ' to learn more about interactive tables.';\n",
              "          element.innerHTML = '';\n",
              "          dataTable['output_type'] = 'display_data';\n",
              "          await google.colab.output.renderOutput(dataTable, element);\n",
              "          const docLink = document.createElement('div');\n",
              "          docLink.innerHTML = docLinkHtml;\n",
              "          element.appendChild(docLink);\n",
              "        }\n",
              "      </script>\n",
              "    </div>\n",
              "  </div>\n",
              "  "
            ]
          },
          "metadata": {},
          "execution_count": 31
        }
      ]
    },
    {
      "cell_type": "code",
      "source": [
        "df.to_csv('results.csv', sep=',', encoding='utf-8')"
      ],
      "metadata": {
        "id": "L8WAiIdR6YQg"
      },
      "execution_count": null,
      "outputs": []
    },
    {
      "cell_type": "code",
      "source": [
        "!zip -r /content/EXPANSE_Model_Expansion_colab.zip /content"
      ],
      "metadata": {
        "colab": {
          "base_uri": "https://localhost:8080/"
        },
        "id": "XvDDofaPXqZG",
        "outputId": "192eac77-45d7-45e0-acf6-557c2e00c818"
      },
      "execution_count": null,
      "outputs": [
        {
          "output_type": "stream",
          "name": "stdout",
          "text": [
            "  adding: content/ (stored 0%)\n",
            "  adding: content/.config/ (stored 0%)\n",
            "  adding: content/.config/.feature_flags_config.yaml (deflated 23%)\n",
            "  adding: content/.config/.metricsUUID (stored 0%)\n",
            "  adding: content/.config/.last_opt_in_prompt.yaml (stored 0%)\n",
            "  adding: content/.config/logs/ (stored 0%)\n",
            "  adding: content/.config/logs/2022.03.23/ (stored 0%)\n",
            "  adding: content/.config/logs/2022.03.23/14.20.51.700340.log (deflated 90%)\n",
            "  adding: content/.config/logs/2022.03.23/14.21.47.434153.log (deflated 53%)\n",
            "  adding: content/.config/logs/2022.03.23/14.22.10.115472.log (deflated 55%)\n",
            "  adding: content/.config/logs/2022.03.23/14.22.11.024461.log (deflated 54%)\n",
            "  adding: content/.config/logs/2022.03.23/14.21.37.874736.log (deflated 86%)\n",
            "  adding: content/.config/logs/2022.03.23/14.21.15.158122.log (deflated 53%)\n",
            "  adding: content/.config/.last_survey_prompt.yaml (stored 0%)\n",
            "  adding: content/.config/configurations/ (stored 0%)\n",
            "  adding: content/.config/configurations/config_default (deflated 15%)\n",
            "  adding: content/.config/config_sentinel (stored 0%)\n",
            "  adding: content/.config/gce (stored 0%)\n",
            "  adding: content/.config/active_config (stored 0%)\n",
            "  adding: content/.config/.last_update_check.json (deflated 22%)\n",
            "  adding: content/random_init_final/ (stored 0%)\n",
            "  adding: content/random_init_final/saved_model.pb (deflated 88%)\n",
            "  adding: content/random_init_final/assets/ (stored 0%)\n",
            "  adding: content/random_init_final/variables/ (stored 0%)\n",
            "  adding: content/random_init_final/variables/variables.index (deflated 53%)\n",
            "  adding: content/random_init_final/variables/variables.data-00000-of-00001 (deflated 8%)\n",
            "  adding: content/random_init_final/keras_metadata.pb (deflated 87%)\n",
            "  adding: content/trained_finetune_mix_b1/ (stored 0%)\n",
            "  adding: content/trained_finetune_mix_b1/saved_model.pb (deflated 87%)\n",
            "  adding: content/trained_finetune_mix_b1/assets/ (stored 0%)\n",
            "  adding: content/trained_finetune_mix_b1/variables/ (stored 0%)\n",
            "  adding: content/trained_finetune_mix_b1/variables/variables.index (deflated 61%)\n",
            "  adding: content/trained_finetune_mix_b1/variables/variables.data-00000-of-00001 (deflated 20%)\n",
            "  adding: content/trained_finetune_mix_b1/keras_metadata.pb (deflated 87%)\n",
            "  adding: content/random_init_small/ (stored 0%)\n",
            "  adding: content/random_init_small/saved_model.pb (deflated 87%)\n",
            "  adding: content/random_init_small/assets/ (stored 0%)\n",
            "  adding: content/random_init_small/variables/ (stored 0%)\n",
            "  adding: content/random_init_small/variables/variables.index (deflated 52%)\n",
            "  adding: content/random_init_small/variables/variables.data-00000-of-00001 (deflated 8%)\n",
            "  adding: content/random_init_small/keras_metadata.pb (deflated 87%)\n",
            "  adding: content/final_model_loaded_weights/ (stored 0%)\n",
            "  adding: content/final_model_loaded_weights/saved_model.pb (deflated 88%)\n",
            "  adding: content/final_model_loaded_weights/assets/ (stored 0%)\n",
            "  adding: content/final_model_loaded_weights/variables/ (stored 0%)\n",
            "  adding: content/final_model_loaded_weights/variables/variables.index (deflated 53%)\n",
            "  adding: content/final_model_loaded_weights/variables/variables.data-00000-of-00001 (deflated 7%)\n",
            "  adding: content/final_model_loaded_weights/keras_metadata.pb (deflated 87%)\n",
            "  adding: content/results.csv (deflated 55%)\n",
            "  adding: content/.ipynb_checkpoints/ (stored 0%)\n",
            "  adding: content/perfect_digits.png (deflated 1%)\n",
            "  adding: content/trained_perfect_b1/ (stored 0%)\n",
            "  adding: content/trained_perfect_b1/saved_model.pb (deflated 88%)\n",
            "  adding: content/trained_perfect_b1/assets/ (stored 0%)\n",
            "  adding: content/trained_perfect_b1/variables/ (stored 0%)\n",
            "  adding: content/trained_perfect_b1/variables/variables.index (deflated 61%)\n",
            "  adding: content/trained_perfect_b1/variables/variables.data-00000-of-00001 (deflated 39%)\n",
            "  adding: content/trained_perfect_b1/keras_metadata.pb (deflated 87%)\n",
            "  adding: content/sample_data/ (stored 0%)\n",
            "  adding: content/sample_data/README.md (deflated 42%)\n",
            "  adding: content/sample_data/anscombe.json (deflated 83%)\n",
            "  adding: content/sample_data/mnist_train_small.csv (deflated 88%)\n",
            "  adding: content/sample_data/california_housing_test.csv (deflated 76%)\n",
            "  adding: content/sample_data/california_housing_train.csv (deflated 79%)\n",
            "  adding: content/sample_data/mnist_test.csv (deflated 88%)\n"
          ]
        }
      ]
    },
    {
      "cell_type": "code",
      "source": [
        "files.download('results.csv') \n",
        "files.download('EXPANSE_Model_Expansion_colab.zip') "
      ],
      "metadata": {
        "colab": {
          "base_uri": "https://localhost:8080/",
          "height": 17
        },
        "id": "Q-ZIucOMKBQ5",
        "outputId": "4b380d6e-e96f-4a45-a6b2-0fd823ec504c"
      },
      "execution_count": null,
      "outputs": [
        {
          "output_type": "display_data",
          "data": {
            "text/plain": [
              "<IPython.core.display.Javascript object>"
            ],
            "application/javascript": [
              "\n",
              "    async function download(id, filename, size) {\n",
              "      if (!google.colab.kernel.accessAllowed) {\n",
              "        return;\n",
              "      }\n",
              "      const div = document.createElement('div');\n",
              "      const label = document.createElement('label');\n",
              "      label.textContent = `Downloading \"${filename}\": `;\n",
              "      div.appendChild(label);\n",
              "      const progress = document.createElement('progress');\n",
              "      progress.max = size;\n",
              "      div.appendChild(progress);\n",
              "      document.body.appendChild(div);\n",
              "\n",
              "      const buffers = [];\n",
              "      let downloaded = 0;\n",
              "\n",
              "      const channel = await google.colab.kernel.comms.open(id);\n",
              "      // Send a message to notify the kernel that we're ready.\n",
              "      channel.send({})\n",
              "\n",
              "      for await (const message of channel.messages) {\n",
              "        // Send a message to notify the kernel that we're ready.\n",
              "        channel.send({})\n",
              "        if (message.buffers) {\n",
              "          for (const buffer of message.buffers) {\n",
              "            buffers.push(buffer);\n",
              "            downloaded += buffer.byteLength;\n",
              "            progress.value = downloaded;\n",
              "          }\n",
              "        }\n",
              "      }\n",
              "      const blob = new Blob(buffers, {type: 'application/binary'});\n",
              "      const a = document.createElement('a');\n",
              "      a.href = window.URL.createObjectURL(blob);\n",
              "      a.download = filename;\n",
              "      div.appendChild(a);\n",
              "      a.click();\n",
              "      div.remove();\n",
              "    }\n",
              "  "
            ]
          },
          "metadata": {}
        },
        {
          "output_type": "display_data",
          "data": {
            "text/plain": [
              "<IPython.core.display.Javascript object>"
            ],
            "application/javascript": [
              "download(\"download_999690c5-6989-412d-b0b2-867c1391037a\", \"results.csv\", 531)"
            ]
          },
          "metadata": {}
        },
        {
          "output_type": "display_data",
          "data": {
            "text/plain": [
              "<IPython.core.display.Javascript object>"
            ],
            "application/javascript": [
              "\n",
              "    async function download(id, filename, size) {\n",
              "      if (!google.colab.kernel.accessAllowed) {\n",
              "        return;\n",
              "      }\n",
              "      const div = document.createElement('div');\n",
              "      const label = document.createElement('label');\n",
              "      label.textContent = `Downloading \"${filename}\": `;\n",
              "      div.appendChild(label);\n",
              "      const progress = document.createElement('progress');\n",
              "      progress.max = size;\n",
              "      div.appendChild(progress);\n",
              "      document.body.appendChild(div);\n",
              "\n",
              "      const buffers = [];\n",
              "      let downloaded = 0;\n",
              "\n",
              "      const channel = await google.colab.kernel.comms.open(id);\n",
              "      // Send a message to notify the kernel that we're ready.\n",
              "      channel.send({})\n",
              "\n",
              "      for await (const message of channel.messages) {\n",
              "        // Send a message to notify the kernel that we're ready.\n",
              "        channel.send({})\n",
              "        if (message.buffers) {\n",
              "          for (const buffer of message.buffers) {\n",
              "            buffers.push(buffer);\n",
              "            downloaded += buffer.byteLength;\n",
              "            progress.value = downloaded;\n",
              "          }\n",
              "        }\n",
              "      }\n",
              "      const blob = new Blob(buffers, {type: 'application/binary'});\n",
              "      const a = document.createElement('a');\n",
              "      a.href = window.URL.createObjectURL(blob);\n",
              "      a.download = filename;\n",
              "      div.appendChild(a);\n",
              "      a.click();\n",
              "      div.remove();\n",
              "    }\n",
              "  "
            ]
          },
          "metadata": {}
        },
        {
          "output_type": "display_data",
          "data": {
            "text/plain": [
              "<IPython.core.display.Javascript object>"
            ],
            "application/javascript": [
              "download(\"download_fd67efa2-3826-415b-839b-e50f17a1da6d\", \"EXPANSE_Model_Expansion_colab.zip\", 11593955)"
            ]
          },
          "metadata": {}
        }
      ]
    },
    {
      "cell_type": "code",
      "source": [
        "import platform,socket,re,uuid,json,psutil,logging\n",
        "\n",
        "def getSystemInfo():\n",
        "    try:\n",
        "        info={}\n",
        "        info['platform']=platform.system()\n",
        "        info['platform-release']=platform.release()\n",
        "        info['platform-version']=platform.version()\n",
        "        info['architecture']=platform.machine()\n",
        "        info['hostname']=socket.gethostname()\n",
        "        info['ip-address']=socket.gethostbyname(socket.gethostname())\n",
        "        info['mac-address']=':'.join(re.findall('..', '%012x' % uuid.getnode()))\n",
        "        info['processor']=platform.processor()\n",
        "        info['ram']=str(round(psutil.virtual_memory().total / (1024.0 **3)))+\" GB\"\n",
        "        return json.dumps(info)\n",
        "    except Exception as e:\n",
        "        logging.exception(e)\n",
        "\n",
        "json.loads(getSystemInfo())"
      ],
      "metadata": {
        "colab": {
          "base_uri": "https://localhost:8080/"
        },
        "id": "JWnCqVmQP0UE",
        "outputId": "e94e3631-1d53-479b-d6db-562f7c94e69b"
      },
      "execution_count": null,
      "outputs": [
        {
          "output_type": "execute_result",
          "data": {
            "text/plain": [
              "{'architecture': 'x86_64',\n",
              " 'hostname': '22d054318bde',\n",
              " 'ip-address': '172.28.0.2',\n",
              " 'mac-address': '02:42:ac:1c:00:02',\n",
              " 'platform': 'Linux',\n",
              " 'platform-release': '5.4.144+',\n",
              " 'platform-version': '#1 SMP Tue Dec 7 09:58:10 PST 2021',\n",
              " 'processor': 'x86_64',\n",
              " 'ram': '13 GB'}"
            ]
          },
          "metadata": {},
          "execution_count": 37
        }
      ]
    }
  ]
}